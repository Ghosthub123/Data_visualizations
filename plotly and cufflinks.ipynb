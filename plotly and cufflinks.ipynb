{
 "cells": [
  {
   "cell_type": "code",
   "execution_count": 1,
   "metadata": {},
   "outputs": [],
   "source": [
    "#USiNG plotly and cufflinks"
   ]
  },
  {
   "cell_type": "code",
   "execution_count": 21,
   "metadata": {},
   "outputs": [],
   "source": [
    "import pandas as pd\n",
    "from pandas import Series,DataFrame\n",
    "import numpy as np\n",
    "import matplotlib.pyplot as plt\n",
    "%matplotlib inline"
   ]
  },
  {
   "cell_type": "code",
   "execution_count": 14,
   "metadata": {},
   "outputs": [],
   "source": [
    "from plotly import __version__"
   ]
  },
  {
   "cell_type": "code",
   "execution_count": 15,
   "metadata": {},
   "outputs": [
    {
     "name": "stdout",
     "output_type": "stream",
     "text": [
      "4.11.0\n"
     ]
    }
   ],
   "source": [
    "print(__version__)"
   ]
  },
  {
   "cell_type": "code",
   "execution_count": 16,
   "metadata": {},
   "outputs": [],
   "source": [
    "import cufflinks as cf"
   ]
  },
  {
   "cell_type": "code",
   "execution_count": 17,
   "metadata": {},
   "outputs": [],
   "source": [
    "from plotly.offline import download_plotlyjs,init_notebook_mode,plot,iplot"
   ]
  },
  {
   "cell_type": "code",
   "execution_count": 18,
   "metadata": {},
   "outputs": [
    {
     "data": {
      "text/html": [
       "        <script type=\"text/javascript\">\n",
       "        window.PlotlyConfig = {MathJaxConfig: 'local'};\n",
       "        if (window.MathJax) {MathJax.Hub.Config({SVG: {font: \"STIX-Web\"}});}\n",
       "        if (typeof require !== 'undefined') {\n",
       "        require.undef(\"plotly\");\n",
       "        requirejs.config({\n",
       "            paths: {\n",
       "                'plotly': ['https://cdn.plot.ly/plotly-latest.min']\n",
       "            }\n",
       "        });\n",
       "        require(['plotly'], function(Plotly) {\n",
       "            window._Plotly = Plotly;\n",
       "        });\n",
       "        }\n",
       "        </script>\n",
       "        "
      ]
     },
     "metadata": {},
     "output_type": "display_data"
    }
   ],
   "source": [
    "init_notebook_mode(connected=True)"
   ]
  },
  {
   "cell_type": "code",
   "execution_count": 19,
   "metadata": {},
   "outputs": [
    {
     "data": {
      "text/html": [
       "        <script type=\"text/javascript\">\n",
       "        window.PlotlyConfig = {MathJaxConfig: 'local'};\n",
       "        if (window.MathJax) {MathJax.Hub.Config({SVG: {font: \"STIX-Web\"}});}\n",
       "        if (typeof require !== 'undefined') {\n",
       "        require.undef(\"plotly\");\n",
       "        requirejs.config({\n",
       "            paths: {\n",
       "                'plotly': ['https://cdn.plot.ly/plotly-latest.min']\n",
       "            }\n",
       "        });\n",
       "        require(['plotly'], function(Plotly) {\n",
       "            window._Plotly = Plotly;\n",
       "        });\n",
       "        }\n",
       "        </script>\n",
       "        "
      ]
     },
     "metadata": {},
     "output_type": "display_data"
    }
   ],
   "source": [
    "cf.go_offline()"
   ]
  },
  {
   "cell_type": "code",
   "execution_count": 20,
   "metadata": {},
   "outputs": [],
   "source": [
    "#DATA"
   ]
  },
  {
   "cell_type": "code",
   "execution_count": 26,
   "metadata": {},
   "outputs": [],
   "source": [
    "df = DataFrame(np.random.randn(100,4),columns = 'A B C D'.split())"
   ]
  },
  {
   "cell_type": "code",
   "execution_count": 27,
   "metadata": {},
   "outputs": [
    {
     "data": {
      "text/html": [
       "<div>\n",
       "<style scoped>\n",
       "    .dataframe tbody tr th:only-of-type {\n",
       "        vertical-align: middle;\n",
       "    }\n",
       "\n",
       "    .dataframe tbody tr th {\n",
       "        vertical-align: top;\n",
       "    }\n",
       "\n",
       "    .dataframe thead th {\n",
       "        text-align: right;\n",
       "    }\n",
       "</style>\n",
       "<table border=\"1\" class=\"dataframe\">\n",
       "  <thead>\n",
       "    <tr style=\"text-align: right;\">\n",
       "      <th></th>\n",
       "      <th>A</th>\n",
       "      <th>B</th>\n",
       "      <th>C</th>\n",
       "      <th>D</th>\n",
       "    </tr>\n",
       "  </thead>\n",
       "  <tbody>\n",
       "    <tr>\n",
       "      <th>0</th>\n",
       "      <td>2.456864</td>\n",
       "      <td>0.758571</td>\n",
       "      <td>-0.210975</td>\n",
       "      <td>1.411758</td>\n",
       "    </tr>\n",
       "    <tr>\n",
       "      <th>1</th>\n",
       "      <td>-2.252724</td>\n",
       "      <td>0.936951</td>\n",
       "      <td>-1.010386</td>\n",
       "      <td>0.515881</td>\n",
       "    </tr>\n",
       "    <tr>\n",
       "      <th>2</th>\n",
       "      <td>-2.292942</td>\n",
       "      <td>2.878638</td>\n",
       "      <td>1.274983</td>\n",
       "      <td>-0.056330</td>\n",
       "    </tr>\n",
       "    <tr>\n",
       "      <th>3</th>\n",
       "      <td>0.356852</td>\n",
       "      <td>-0.975373</td>\n",
       "      <td>-0.015984</td>\n",
       "      <td>3.033118</td>\n",
       "    </tr>\n",
       "    <tr>\n",
       "      <th>4</th>\n",
       "      <td>-0.250276</td>\n",
       "      <td>-1.973314</td>\n",
       "      <td>-1.474679</td>\n",
       "      <td>2.251571</td>\n",
       "    </tr>\n",
       "  </tbody>\n",
       "</table>\n",
       "</div>"
      ],
      "text/plain": [
       "          A         B         C         D\n",
       "0  2.456864  0.758571 -0.210975  1.411758\n",
       "1 -2.252724  0.936951 -1.010386  0.515881\n",
       "2 -2.292942  2.878638  1.274983 -0.056330\n",
       "3  0.356852 -0.975373 -0.015984  3.033118\n",
       "4 -0.250276 -1.973314 -1.474679  2.251571"
      ]
     },
     "execution_count": 27,
     "metadata": {},
     "output_type": "execute_result"
    }
   ],
   "source": [
    "df.head()"
   ]
  },
  {
   "cell_type": "code",
   "execution_count": 30,
   "metadata": {},
   "outputs": [],
   "source": [
    "df2 = DataFrame({'Category':['A','B','C'],'Values':[32,45,68]})"
   ]
  },
  {
   "cell_type": "code",
   "execution_count": 32,
   "metadata": {},
   "outputs": [
    {
     "data": {
      "text/html": [
       "<div>\n",
       "<style scoped>\n",
       "    .dataframe tbody tr th:only-of-type {\n",
       "        vertical-align: middle;\n",
       "    }\n",
       "\n",
       "    .dataframe tbody tr th {\n",
       "        vertical-align: top;\n",
       "    }\n",
       "\n",
       "    .dataframe thead th {\n",
       "        text-align: right;\n",
       "    }\n",
       "</style>\n",
       "<table border=\"1\" class=\"dataframe\">\n",
       "  <thead>\n",
       "    <tr style=\"text-align: right;\">\n",
       "      <th></th>\n",
       "      <th>Category</th>\n",
       "      <th>Values</th>\n",
       "    </tr>\n",
       "  </thead>\n",
       "  <tbody>\n",
       "    <tr>\n",
       "      <th>0</th>\n",
       "      <td>A</td>\n",
       "      <td>32</td>\n",
       "    </tr>\n",
       "    <tr>\n",
       "      <th>1</th>\n",
       "      <td>B</td>\n",
       "      <td>45</td>\n",
       "    </tr>\n",
       "    <tr>\n",
       "      <th>2</th>\n",
       "      <td>C</td>\n",
       "      <td>68</td>\n",
       "    </tr>\n",
       "  </tbody>\n",
       "</table>\n",
       "</div>"
      ],
      "text/plain": [
       "  Category  Values\n",
       "0        A      32\n",
       "1        B      45\n",
       "2        C      68"
      ]
     },
     "execution_count": 32,
     "metadata": {},
     "output_type": "execute_result"
    }
   ],
   "source": [
    "df2"
   ]
  },
  {
   "cell_type": "code",
   "execution_count": 35,
   "metadata": {},
   "outputs": [
    {
     "data": {
      "text/plain": [
       "<matplotlib.axes._subplots.AxesSubplot at 0x1137e4a9208>"
      ]
     },
     "execution_count": 35,
     "metadata": {},
     "output_type": "execute_result"
    },
    {
     "data": {
      "image/png": "[encoded data removed]",
      "text/plain": [
       "<Figure size 432x288 with 1 Axes>"
      ]
     },
     "metadata": {
      "needs_background": "light"
     },
     "output_type": "display_data"
    }
   ],
   "source": [
    "df.plot()# NORMAL MATPLOTLIB"
   ]
  },
  {
   "cell_type": "code",
   "execution_count": 38,
   "metadata": {},
   "outputs": [
    {
     "data": {
      "application/vnd.plotly.v1+json": {
       "config": {
        "linkText": "Export to plot.ly",
        "plotlyServerURL": "https://plot.ly",
        "showLink": true
       },
       "data": [
        {
         "line": {
          "color": "rgba(255, 153, 51, 1.0)",
          "dash": "solid",
          "shape": "linear",
          "width": 1.3
         },
         "mode": "lines",
         "name": "A",
         "text": "",
         "type": "scatter",
         "x": [
          0,
          1,
          2,
          3,
          4,
          5,
          6,
          7,
          8,
          9,
          10,
          11,
          12,
          13,
          14,
          15,
          16,
          17,
          18,
          19,
          20,
          21,
          22,
          23,
          24,
          25,
          26,
          27,
          28,
          29,
          30,
          31,
          32,
          33,
          34,
          35,
          36,
          37,
          38,
          39,
          40,
          41,
          42,
          43,
          44,
          45,
          46,
          47,
          48,
          49,
          50,
          51,
          52,
          53,
          54,
          55,
          56,
          57,
          58,
          59,
          60,
          61,
          62,
          63,
          64,
          65,
          66,
          67,
          68,
          69,
          70,
          71,
          72,
          73,
          74,
          75,
          76,
          77,
          78,
          79,
          80,
          81,
          82,
          83,
          84,
          85,
          86,
          87,
          88,
          89,
          90,
          91,
          92,
          93,
          94,
          95,
          96,
          97,
          98,
          99
         ],
         "y": [
          2.456864478612622,
          -2.2527239798611314,
          -2.2929421848992426,
          0.356852081716104,
          -0.25027565803004814,
          -0.4352308180980923,
          -1.7870622081171643,
          -0.4231246753923552,
          0.9739696613755218,
          0.3992265559510478,
          -0.23910651236066105,
          0.23931071399692622,
          0.09131078371117889,
          0.18231030225450318,
          -1.6770467131592837,
          0.6723336270661157,
          0.24807428163009063,
          -0.7626192979780793,
          -1.485650151616024,
          -2.068322142166952,
          -0.816661798988874,
          -0.4390293659026417,
          -0.17638692762077884,
          1.3693036243446226,
          -0.8838873911315334,
          1.4781184141206263,
          1.0204354409755043,
          0.6677895888357839,
          1.307300361914305,
          0.381526666995544,
          0.6990207531066948,
          -0.19170954656039826,
          -1.6176627483135664,
          -1.4378015404747206,
          -0.3089839408391603,
          -0.7042330548807497,
          0.1686533561355506,
          -0.2719197995344573,
          0.5554967812631001,
          0.9774118356605086,
          -0.5675670254061104,
          1.8147360416350493,
          -0.2076775115236604,
          1.396211557548168,
          -0.2196247534199206,
          1.257667737581909,
          0.09999079328644785,
          0.40953832839299614,
          0.5181168335779327,
          -0.6408375541457859,
          0.9059451776285394,
          0.6233470810053362,
          -0.4067115357546892,
          0.01083130229600319,
          0.5789254579976282,
          0.04246809985210584,
          1.2652109502899274,
          0.05171788485414968,
          -0.678433959764289,
          -0.6715016710873373,
          1.1674003643390756,
          0.6963027212152043,
          -0.6872552716565266,
          0.35043630517555296,
          1.697039109276328,
          -0.16517053629799128,
          0.23807020983462962,
          1.036859207986987,
          -1.0626416110243735,
          -0.5436189635055533,
          -1.0935424145198833,
          0.31040749316377236,
          -0.19753243030570042,
          -2.7090402836025933,
          -1.5646909709019092,
          0.521645062440777,
          -0.5002630539043543,
          -0.2690104841331373,
          1.3310061232297976,
          -1.5183182964218291,
          0.48398557607624765,
          -1.6832106492361594,
          -0.40954112536213994,
          0.4724488127081655,
          2.1196763199373585,
          0.19754555336208063,
          -0.9074605490975094,
          0.15313865789208797,
          1.351762250817329,
          -0.396385824284584,
          1.1476851047106436,
          0.5740494843237829,
          1.0697578479613916,
          -0.046560497298113845,
          -0.2897030805682362,
          0.1679496946692134,
          -1.3517488543120035,
          0.4667484204157006,
          0.2629850168256431,
          -0.6432433834067868
         ]
        },
        {
         "line": {
          "color": "rgba(55, 128, 191, 1.0)",
          "dash": "solid",
          "shape": "linear",
          "width": 1.3
         },
         "mode": "lines",
         "name": "B",
         "text": "",
         "type": "scatter",
         "x": [
          0,
          1,
          2,
          3,
          4,
          5,
          6,
          7,
          8,
          9,
          10,
          11,
          12,
          13,
          14,
          15,
          16,
          17,
          18,
          19,
          20,
          21,
          22,
          23,
          24,
          25,
          26,
          27,
          28,
          29,
          30,
          31,
          32,
          33,
          34,
          35,
          36,
          37,
          38,
          39,
          40,
          41,
          42,
          43,
          44,
          45,
          46,
          47,
          48,
          49,
          50,
          51,
          52,
          53,
          54,
          55,
          56,
          57,
          58,
          59,
          60,
          61,
          62,
          63,
          64,
          65,
          66,
          67,
          68,
          69,
          70,
          71,
          72,
          73,
          74,
          75,
          76,
          77,
          78,
          79,
          80,
          81,
          82,
          83,
          84,
          85,
          86,
          87,
          88,
          89,
          90,
          91,
          92,
          93,
          94,
          95,
          96,
          97,
          98,
          99
         ],
         "y": [
          0.7585713004881539,
          0.9369508008274443,
          2.8786377067420803,
          -0.9753733963764035,
          -1.973314268207836,
          -1.1926729745541216,
          1.7788975258488893,
          -2.739702907163809,
          0.7818386057295666,
          0.5557853197699847,
          1.1308138994045913,
          -0.03394713504751146,
          -0.24674661567520484,
          0.9048576983121975,
          -0.06399742714620238,
          -0.29553159925198297,
          1.4480226716018347,
          -0.9287181429895608,
          -1.1584119641019608,
          0.32889625773459297,
          0.007753273055508445,
          -0.05820317171635984,
          -0.15155706936588884,
          0.19472617657474028,
          -0.7964170541897511,
          -0.4322192069305809,
          -0.9445672117722083,
          0.014770905297994949,
          -0.35176557796450886,
          1.0195066876159382,
          0.784707646326061,
          -0.3250669031761666,
          0.9277017170808991,
          0.7600764488098469,
          1.758123577307258,
          0.1842424508247556,
          0.8128516170296418,
          1.0898631416458546,
          1.2891007860044672,
          -0.8697391961812799,
          -0.45653154226280335,
          -1.0361046760709498,
          0.7559270918670371,
          -2.061501740649847,
          1.4092710565201825,
          -0.256631908090931,
          -1.5750591677500945,
          0.9245690218077082,
          -0.9061675814715107,
          0.37584618766234756,
          -1.2415901387761887,
          1.1957546846050047,
          1.959991039843966,
          -0.8996322472799549,
          -1.0475054321530737,
          -0.6490377881974029,
          0.3837783651423651,
          -0.037591221147904176,
          0.3264691997676207,
          0.8351240175627819,
          1.3407659055312469,
          0.7664492600505355,
          0.34707865407662625,
          0.4374355620108727,
          0.4206434136296037,
          0.11449523490312948,
          0.050628931196152235,
          1.7227632992759434,
          -0.02044643276147327,
          -0.4372433743237419,
          -1.6823925218882394,
          0.059972603940122146,
          1.586091742340369,
          -0.611607758287968,
          -0.4515418116623536,
          0.6764102158345765,
          -1.5778251431922758,
          0.531490498101667,
          0.29467461455975935,
          -0.4096067239508892,
          -1.928942981094565,
          -0.10329196872552136,
          0.7700000706766272,
          0.4424794882193026,
          -0.3296786777745359,
          -1.4801841351888587,
          0.39132986150267235,
          1.187930182494079,
          -1.2766734843288627,
          -0.502946174955512,
          0.3430738507677682,
          0.39802770458241576,
          -1.6533098903298877,
          -0.5168646022711108,
          0.38758251120651555,
          -0.291875675770869,
          -1.164864245517917,
          1.3999539696360548,
          -1.9115176187985556,
          0.4970235858917134
         ]
        },
        {
         "line": {
          "color": "rgba(50, 171, 96, 1.0)",
          "dash": "solid",
          "shape": "linear",
          "width": 1.3
         },
         "mode": "lines",
         "name": "C",
         "text": "",
         "type": "scatter",
         "x": [
          0,
          1,
          2,
          3,
          4,
          5,
          6,
          7,
          8,
          9,
          10,
          11,
          12,
          13,
          14,
          15,
          16,
          17,
          18,
          19,
          20,
          21,
          22,
          23,
          24,
          25,
          26,
          27,
          28,
          29,
          30,
          31,
          32,
          33,
          34,
          35,
          36,
          37,
          38,
          39,
          40,
          41,
          42,
          43,
          44,
          45,
          46,
          47,
          48,
          49,
          50,
          51,
          52,
          53,
          54,
          55,
          56,
          57,
          58,
          59,
          60,
          61,
          62,
          63,
          64,
          65,
          66,
          67,
          68,
          69,
          70,
          71,
          72,
          73,
          74,
          75,
          76,
          77,
          78,
          79,
          80,
          81,
          82,
          83,
          84,
          85,
          86,
          87,
          88,
          89,
          90,
          91,
          92,
          93,
          94,
          95,
          96,
          97,
          98,
          99
         ],
         "y": [
          -0.21097545106115867,
          -1.010385952727178,
          1.2749827146362012,
          -0.015983506020842593,
          -1.4746786667388705,
          0.179830423867175,
          -1.7462619033123765,
          1.0464112123438396,
          -1.026390859731597,
          -1.5943918528495928,
          0.27066796628353124,
          1.684858393324544,
          -0.8691937549317699,
          1.0663471476085131,
          -0.27768437726852435,
          1.4540051135513614,
          -0.26883009252392337,
          -0.9033424846816914,
          -0.9747627063168453,
          -0.02899475056819844,
          -2.1091287389590594,
          -0.8173521305308596,
          -0.5458075875412067,
          0.1408257779445167,
          1.0469267961676325,
          -0.1274706826923543,
          -0.4135280276220017,
          -2.504998932310551,
          -0.31393716699687946,
          -0.27885332707301097,
          -0.10489987978738426,
          -0.311979337731574,
          0.8323164989952668,
          1.141533340091098,
          0.13831170926493636,
          0.4082224185595173,
          -1.215204703217632,
          -0.9242699464629253,
          -0.7808708848307961,
          -0.4087507562011927,
          0.5384793601336588,
          -0.894570347749724,
          -1.9064362065808225,
          0.4457683343762501,
          1.4908864825098789,
          1.0693654725823765,
          -0.7275095732282226,
          -0.8979976610014719,
          -0.5568820823956494,
          -3.120217014727852,
          -1.0643984188092965,
          0.481779811826849,
          -2.1582565399941807,
          0.674790921329094,
          -0.8034916966642305,
          -0.18546152762405013,
          0.3701522485642225,
          -0.4268835316362451,
          0.7190516944973412,
          1.4186235615644138,
          0.6233755088238365,
          0.451150747092287,
          0.09196690808838238,
          0.17208166858829033,
          0.31266042146240636,
          0.19012493289956234,
          -0.6033882671133812,
          -0.3528222705784352,
          -1.029664931473673,
          -1.789717664094481,
          1.729908802810119,
          1.8872430463151544,
          1.3780986797462649,
          -0.12991924339436525,
          -2.6283925699063895,
          -0.45255088777254926,
          0.26223069515618097,
          0.47620185627593864,
          -0.8154834212117086,
          0.4518383967003741,
          1.680930268015079,
          -0.6185203445333183,
          0.3503940349241752,
          0.726458825053681,
          0.03463182841395179,
          -0.16540845309937308,
          1.4483176986472721,
          -1.1154223385895445,
          -0.09404226600003875,
          -1.9554368262281228,
          0.4048604122456422,
          0.07250754014594887,
          0.14321259166825573,
          0.7358098587718248,
          -1.6902281014428777,
          1.1306991593957962,
          -0.1099648790423635,
          -0.22666075417092854,
          0.049843414740093135,
          1.7189847338915771
         ]
        },
        {
         "line": {
          "color": "rgba(128, 0, 128, 1.0)",
          "dash": "solid",
          "shape": "linear",
          "width": 1.3
         },
         "mode": "lines",
         "name": "D",
         "text": "",
         "type": "scatter",
         "x": [
          0,
          1,
          2,
          3,
          4,
          5,
          6,
          7,
          8,
          9,
          10,
          11,
          12,
          13,
          14,
          15,
          16,
          17,
          18,
          19,
          20,
          21,
          22,
          23,
          24,
          25,
          26,
          27,
          28,
          29,
          30,
          31,
          32,
          33,
          34,
          35,
          36,
          37,
          38,
          39,
          40,
          41,
          42,
          43,
          44,
          45,
          46,
          47,
          48,
          49,
          50,
          51,
          52,
          53,
          54,
          55,
          56,
          57,
          58,
          59,
          60,
          61,
          62,
          63,
          64,
          65,
          66,
          67,
          68,
          69,
          70,
          71,
          72,
          73,
          74,
          75,
          76,
          77,
          78,
          79,
          80,
          81,
          82,
          83,
          84,
          85,
          86,
          87,
          88,
          89,
          90,
          91,
          92,
          93,
          94,
          95,
          96,
          97,
          98,
          99
         ],
         "y": [
          1.4117582400459063,
          0.5158806040582149,
          -0.056329725916821824,
          3.0331176288045154,
          2.251571432677742,
          -0.7244537895757376,
          1.2757216021545035,
          0.5245256765181753,
          -2.167648381947332,
          -0.4696805838248369,
          -0.7485430338440984,
          1.5433238587038358,
          -1.1301871150538845,
          -0.8509439519643706,
          0.9802881962901107,
          0.5573549233360873,
          1.3924631528411737,
          -0.292843525425006,
          -0.28957625229621475,
          -1.2848236294066253,
          1.2280302498116678,
          -1.8612347534410665,
          -0.7879333821927236,
          -1.1291458198297768,
          0.9209652308913361,
          0.26972013558638086,
          -1.4698105580627052,
          0.5186966764631051,
          -0.25514350367859234,
          0.664752381529209,
          0.3096208618182506,
          -0.5039365347815075,
          -0.4089033909019008,
          1.2941177250485878,
          0.6166150565287175,
          -1.1472542509270691,
          0.2505258246975447,
          -0.7584439760541246,
          -0.23747358583319064,
          -1.595523305990587,
          -0.3418769665943945,
          0.2818531578350275,
          -0.5555095528498177,
          0.3239429982070741,
          -0.7258768991770973,
          -0.9261661539974302,
          0.5611160523629165,
          -1.3792408529525848,
          -2.825545670103279,
          0.27493797297484407,
          -0.5321004469147166,
          -0.6143052576424726,
          -2.0180202882435245,
          -1.3954363627502746,
          -0.8759893988017698,
          0.37356556439978833,
          0.7160956305449683,
          0.06937507216314834,
          -0.6552479976721832,
          0.43343928702505524,
          0.2455584618258172,
          0.42126667865391876,
          1.1619913270267297,
          -0.8032146674707702,
          -0.5890226399059743,
          0.6458359767000308,
          0.4360332745112395,
          0.599788673353237,
          -0.722948223582799,
          -1.030606401238794,
          1.9700941532056162,
          0.7791070160905508,
          -0.6959015496296476,
          -0.3825212064430439,
          -0.059171058813391623,
          -1.9504072192912345,
          1.778253100110659,
          1.1330032162375292,
          -0.3703874521409308,
          1.4917910877624783,
          -0.39446169568001704,
          1.3224359705441946,
          0.9956777417992919,
          1.2675161076205903,
          -1.3566847734767353,
          0.40309061690454584,
          -1.0419272570013405,
          0.23569775255301098,
          -0.02792794107762883,
          -0.9036568645096051,
          -0.7357079424723857,
          -0.36096085535421085,
          2.053305244643362,
          -1.1928816331796919,
          2.198658821091295,
          -1.0327304619564042,
          -0.8835906856693826,
          0.03346181036648316,
          -2.025627489159471,
          -0.4081320108627518
         ]
        }
       ],
       "layout": {
        "legend": {
         "bgcolor": "#F5F6F9",
         "font": {
          "color": "#4D5663"
         }
        },
        "paper_bgcolor": "#F5F6F9",
        "plot_bgcolor": "#F5F6F9",
        "template": {
         "data": {
          "bar": [
           {
            "error_x": {
             "color": "#2a3f5f"
            },
            "error_y": {
             "color": "#2a3f5f"
            },
            "marker": {
             "line": {
              "color": "#E5ECF6",
              "width": 0.5
             }
            },
            "type": "bar"
           }
          ],
          "barpolar": [
           {
            "marker": {
             "line": {
              "color": "#E5ECF6",
              "width": 0.5
             }
            },
            "type": "barpolar"
           }
          ],
          "carpet": [
           {
            "aaxis": {
             "endlinecolor": "#2a3f5f",
             "gridcolor": "white",
             "linecolor": "white",
             "minorgridcolor": "white",
             "startlinecolor": "#2a3f5f"
            },
            "baxis": {
             "endlinecolor": "#2a3f5f",
             "gridcolor": "white",
             "linecolor": "white",
             "minorgridcolor": "white",
             "startlinecolor": "#2a3f5f"
            },
            "type": "carpet"
           }
          ],
          "choropleth": [
           {
            "colorbar": {
             "outlinewidth": 0,
             "ticks": ""
            },
            "type": "choropleth"
           }
          ],
          "contour": [
           {
            "colorbar": {
             "outlinewidth": 0,
             "ticks": ""
            },
            "colorscale": [
             [
              0,
              "#0d0887"
             ],
             [
              0.1111111111111111,
              "#46039f"
             ],
             [
              0.2222222222222222,
              "#7201a8"
             ],
             [
              0.3333333333333333,
              "#9c179e"
             ],
             [
              0.4444444444444444,
              "#bd3786"
             ],
             [
              0.5555555555555556,
              "#d8576b"
             ],
             [
              0.6666666666666666,
              "#ed7953"
             ],
             [
              0.7777777777777778,
              "#fb9f3a"
             ],
             [
              0.8888888888888888,
              "#fdca26"
             ],
             [
              1,
              "#f0f921"
             ]
            ],
            "type": "contour"
           }
          ],
          "contourcarpet": [
           {
            "colorbar": {
             "outlinewidth": 0,
             "ticks": ""
            },
            "type": "contourcarpet"
           }
          ],
          "heatmap": [
           {
            "colorbar": {
             "outlinewidth": 0,
             "ticks": ""
            },
            "colorscale": [
             [
              0,
              "#0d0887"
             ],
             [
              0.1111111111111111,
              "#46039f"
             ],
             [
              0.2222222222222222,
              "#7201a8"
             ],
             [
              0.3333333333333333,
              "#9c179e"
             ],
             [
              0.4444444444444444,
              "#bd3786"
             ],
             [
              0.5555555555555556,
              "#d8576b"
             ],
             [
              0.6666666666666666,
              "#ed7953"
             ],
             [
              0.7777777777777778,
              "#fb9f3a"
             ],
             [
              0.8888888888888888,
              "#fdca26"
             ],
             [
              1,
              "#f0f921"
             ]
            ],
            "type": "heatmap"
           }
          ],
          "heatmapgl": [
           {
            "colorbar": {
             "outlinewidth": 0,
             "ticks": ""
            },
            "colorscale": [
             [
              0,
              "#0d0887"
             ],
             [
              0.1111111111111111,
              "#46039f"
             ],
             [
              0.2222222222222222,
              "#7201a8"
             ],
             [
              0.3333333333333333,
              "#9c179e"
             ],
             [
              0.4444444444444444,
              "#bd3786"
             ],
             [
              0.5555555555555556,
              "#d8576b"
             ],
             [
              0.6666666666666666,
              "#ed7953"
             ],
             [
              0.7777777777777778,
              "#fb9f3a"
             ],
             [
              0.8888888888888888,
              "#fdca26"
             ],
             [
              1,
              "#f0f921"
             ]
            ],
            "type": "heatmapgl"
           }
          ],
          "histogram": [
           {
            "marker": {
             "colorbar": {
              "outlinewidth": 0,
              "ticks": ""
             }
            },
            "type": "histogram"
           }
          ],
          "histogram2d": [
           {
            "colorbar": {
             "outlinewidth": 0,
             "ticks": ""
            },
            "colorscale": [
             [
              0,
              "#0d0887"
             ],
             [
              0.1111111111111111,
              "#46039f"
             ],
             [
              0.2222222222222222,
              "#7201a8"
             ],
             [
              0.3333333333333333,
              "#9c179e"
             ],
             [
              0.4444444444444444,
              "#bd3786"
             ],
             [
              0.5555555555555556,
              "#d8576b"
             ],
             [
              0.6666666666666666,
              "#ed7953"
             ],
             [
              0.7777777777777778,
              "#fb9f3a"
             ],
             [
              0.8888888888888888,
              "#fdca26"
             ],
             [
              1,
              "#f0f921"
             ]
            ],
            "type": "histogram2d"
           }
          ],
          "histogram2dcontour": [
           {
            "colorbar": {
             "outlinewidth": 0,
             "ticks": ""
            },
            "colorscale": [
             [
              0,
              "#0d0887"
             ],
             [
              0.1111111111111111,
              "#46039f"
             ],
             [
              0.2222222222222222,
              "#7201a8"
             ],
             [
              0.3333333333333333,
              "#9c179e"
             ],
             [
              0.4444444444444444,
              "#bd3786"
             ],
             [
              0.5555555555555556,
              "#d8576b"
             ],
             [
              0.6666666666666666,
              "#ed7953"
             ],
             [
              0.7777777777777778,
              "#fb9f3a"
             ],
             [
              0.8888888888888888,
              "#fdca26"
             ],
             [
              1,
              "#f0f921"
             ]
            ],
            "type": "histogram2dcontour"
           }
          ],
          "mesh3d": [
           {
            "colorbar": {
             "outlinewidth": 0,
             "ticks": ""
            },
            "type": "mesh3d"
           }
          ],
          "parcoords": [
           {
            "line": {
             "colorbar": {
              "outlinewidth": 0,
              "ticks": ""
             }
            },
            "type": "parcoords"
           }
          ],
          "pie": [
           {
            "automargin": true,
            "type": "pie"
           }
          ],
          "scatter": [
           {
            "marker": {
             "colorbar": {
              "outlinewidth": 0,
              "ticks": ""
             }
            },
            "type": "scatter"
           }
          ],
          "scatter3d": [
           {
            "line": {
             "colorbar": {
              "outlinewidth": 0,
              "ticks": ""
             }
            },
            "marker": {
             "colorbar": {
              "outlinewidth": 0,
              "ticks": ""
             }
            },
            "type": "scatter3d"
           }
          ],
          "scattercarpet": [
           {
            "marker": {
             "colorbar": {
              "outlinewidth": 0,
              "ticks": ""
             }
            },
            "type": "scattercarpet"
           }
          ],
          "scattergeo": [
           {
            "marker": {
             "colorbar": {
              "outlinewidth": 0,
              "ticks": ""
             }
            },
            "type": "scattergeo"
           }
          ],
          "scattergl": [
           {
            "marker": {
             "colorbar": {
              "outlinewidth": 0,
              "ticks": ""
             }
            },
            "type": "scattergl"
           }
          ],
          "scattermapbox": [
           {
            "marker": {
             "colorbar": {
              "outlinewidth": 0,
              "ticks": ""
             }
            },
            "type": "scattermapbox"
           }
          ],
          "scatterpolar": [
           {
            "marker": {
             "colorbar": {
              "outlinewidth": 0,
              "ticks": ""
             }
            },
            "type": "scatterpolar"
           }
          ],
          "scatterpolargl": [
           {
            "marker": {
             "colorbar": {
              "outlinewidth": 0,
              "ticks": ""
             }
            },
            "type": "scatterpolargl"
           }
          ],
          "scatterternary": [
           {
            "marker": {
             "colorbar": {
              "outlinewidth": 0,
              "ticks": ""
             }
            },
            "type": "scatterternary"
           }
          ],
          "surface": [
           {
            "colorbar": {
             "outlinewidth": 0,
             "ticks": ""
            },
            "colorscale": [
             [
              0,
              "#0d0887"
             ],
             [
              0.1111111111111111,
              "#46039f"
             ],
             [
              0.2222222222222222,
              "#7201a8"
             ],
             [
              0.3333333333333333,
              "#9c179e"
             ],
             [
              0.4444444444444444,
              "#bd3786"
             ],
             [
              0.5555555555555556,
              "#d8576b"
             ],
             [
              0.6666666666666666,
              "#ed7953"
             ],
             [
              0.7777777777777778,
              "#fb9f3a"
             ],
             [
              0.8888888888888888,
              "#fdca26"
             ],
             [
              1,
              "#f0f921"
             ]
            ],
            "type": "surface"
           }
          ],
          "table": [
           {
            "cells": {
             "fill": {
              "color": "#EBF0F8"
             },
             "line": {
              "color": "white"
             }
            },
            "header": {
             "fill": {
              "color": "#C8D4E3"
             },
             "line": {
              "color": "white"
             }
            },
            "type": "table"
           }
          ]
         },
         "layout": {
          "annotationdefaults": {
           "arrowcolor": "#2a3f5f",
           "arrowhead": 0,
           "arrowwidth": 1
          },
          "coloraxis": {
           "colorbar": {
            "outlinewidth": 0,
            "ticks": ""
           }
          },
          "colorscale": {
           "diverging": [
            [
             0,
             "#8e0152"
            ],
            [
             0.1,
             "#c51b7d"
            ],
            [
             0.2,
             "#de77ae"
            ],
            [
             0.3,
             "#f1b6da"
            ],
            [
             0.4,
             "#fde0ef"
            ],
            [
             0.5,
             "#f7f7f7"
            ],
            [
             0.6,
             "#e6f5d0"
            ],
            [
             0.7,
             "#b8e186"
            ],
            [
             0.8,
             "#7fbc41"
            ],
            [
             0.9,
             "#4d9221"
            ],
            [
             1,
             "#276419"
            ]
           ],
           "sequential": [
            [
             0,
             "#0d0887"
            ],
            [
             0.1111111111111111,
             "#46039f"
            ],
            [
             0.2222222222222222,
             "#7201a8"
            ],
            [
             0.3333333333333333,
             "#9c179e"
            ],
            [
             0.4444444444444444,
             "#bd3786"
            ],
            [
             0.5555555555555556,
             "#d8576b"
            ],
            [
             0.6666666666666666,
             "#ed7953"
            ],
            [
             0.7777777777777778,
             "#fb9f3a"
            ],
            [
             0.8888888888888888,
             "#fdca26"
            ],
            [
             1,
             "#f0f921"
            ]
           ],
           "sequentialminus": [
            [
             0,
             "#0d0887"
            ],
            [
             0.1111111111111111,
             "#46039f"
            ],
            [
             0.2222222222222222,
             "#7201a8"
            ],
            [
             0.3333333333333333,
             "#9c179e"
            ],
            [
             0.4444444444444444,
             "#bd3786"
            ],
            [
             0.5555555555555556,
             "#d8576b"
            ],
            [
             0.6666666666666666,
             "#ed7953"
            ],
            [
             0.7777777777777778,
             "#fb9f3a"
            ],
            [
             0.8888888888888888,
             "#fdca26"
            ],
            [
             1,
             "#f0f921"
            ]
           ]
          },
          "colorway": [
           "#636efa",
           "#EF553B",
           "#00cc96",
           "#ab63fa",
           "#FFA15A",
           "#19d3f3",
           "#FF6692",
           "#B6E880",
           "#FF97FF",
           "#FECB52"
          ],
          "font": {
           "color": "#2a3f5f"
          },
          "geo": {
           "bgcolor": "white",
           "lakecolor": "white",
           "landcolor": "#E5ECF6",
           "showlakes": true,
           "showland": true,
           "subunitcolor": "white"
          },
          "hoverlabel": {
           "align": "left"
          },
          "hovermode": "closest",
          "mapbox": {
           "style": "light"
          },
          "paper_bgcolor": "white",
          "plot_bgcolor": "#E5ECF6",
          "polar": {
           "angularaxis": {
            "gridcolor": "white",
            "linecolor": "white",
            "ticks": ""
           },
           "bgcolor": "#E5ECF6",
           "radialaxis": {
            "gridcolor": "white",
            "linecolor": "white",
            "ticks": ""
           }
          },
          "scene": {
           "xaxis": {
            "backgroundcolor": "#E5ECF6",
            "gridcolor": "white",
            "gridwidth": 2,
            "linecolor": "white",
            "showbackground": true,
            "ticks": "",
            "zerolinecolor": "white"
           },
           "yaxis": {
            "backgroundcolor": "#E5ECF6",
            "gridcolor": "white",
            "gridwidth": 2,
            "linecolor": "white",
            "showbackground": true,
            "ticks": "",
            "zerolinecolor": "white"
           },
           "zaxis": {
            "backgroundcolor": "#E5ECF6",
            "gridcolor": "white",
            "gridwidth": 2,
            "linecolor": "white",
            "showbackground": true,
            "ticks": "",
            "zerolinecolor": "white"
           }
          },
          "shapedefaults": {
           "line": {
            "color": "#2a3f5f"
           }
          },
          "ternary": {
           "aaxis": {
            "gridcolor": "white",
            "linecolor": "white",
            "ticks": ""
           },
           "baxis": {
            "gridcolor": "white",
            "linecolor": "white",
            "ticks": ""
           },
           "bgcolor": "#E5ECF6",
           "caxis": {
            "gridcolor": "white",
            "linecolor": "white",
            "ticks": ""
           }
          },
          "title": {
           "x": 0.05
          },
          "xaxis": {
           "automargin": true,
           "gridcolor": "white",
           "linecolor": "white",
           "ticks": "",
           "title": {
            "standoff": 15
           },
           "zerolinecolor": "white",
           "zerolinewidth": 2
          },
          "yaxis": {
           "automargin": true,
           "gridcolor": "white",
           "linecolor": "white",
           "ticks": "",
           "title": {
            "standoff": 15
           },
           "zerolinecolor": "white",
           "zerolinewidth": 2
          }
         }
        },
        "title": {
         "font": {
          "color": "#4D5663"
         }
        },
        "xaxis": {
         "gridcolor": "#E1E5ED",
         "showgrid": true,
         "tickfont": {
          "color": "#4D5663"
         },
         "title": {
          "font": {
           "color": "#4D5663"
          },
          "text": ""
         },
         "zerolinecolor": "#E1E5ED"
        },
        "yaxis": {
         "gridcolor": "#E1E5ED",
         "showgrid": true,
         "tickfont": {
          "color": "#4D5663"
         },
         "title": {
          "font": {
           "color": "#4D5663"
          },
          "text": ""
         },
         "zerolinecolor": "#E1E5ED"
        }
       }
      },
      "text/html": [
       "<div>                            <div id=\"1160d043-8c3c-4da4-820f-8653e55e40af\" class=\"plotly-graph-div\" style=\"height:525px; width:100%;\"></div>            <script type=\"text/javascript\">                require([\"plotly\"], function(Plotly) {                    window.PLOTLYENV=window.PLOTLYENV || {};\n",
       "                    window.PLOTLYENV.BASE_URL='https://plot.ly';                                    if (document.getElementById(\"1160d043-8c3c-4da4-820f-8653e55e40af\")) {                    Plotly.newPlot(                        \"1160d043-8c3c-4da4-820f-8653e55e40af\",                        [{\"line\": {\"color\": \"rgba(255, 153, 51, 1.0)\", \"dash\": \"solid\", \"shape\": \"linear\", \"width\": 1.3}, \"mode\": \"lines\", \"name\": \"A\", \"text\": \"\", \"type\": \"scatter\", \"x\": [0, 1, 2, 3, 4, 5, 6, 7, 8, 9, 10, 11, 12, 13, 14, 15, 16, 17, 18, 19, 20, 21, 22, 23, 24, 25, 26, 27, 28, 29, 30, 31, 32, 33, 34, 35, 36, 37, 38, 39, 40, 41, 42, 43, 44, 45, 46, 47, 48, 49, 50, 51, 52, 53, 54, 55, 56, 57, 58, 59, 60, 61, 62, 63, 64, 65, 66, 67, 68, 69, 70, 71, 72, 73, 74, 75, 76, 77, 78, 79, 80, 81, 82, 83, 84, 85, 86, 87, 88, 89, 90, 91, 92, 93, 94, 95, 96, 97, 98, 99], \"y\": [2.456864478612622, -2.2527239798611314, -2.2929421848992426, 0.356852081716104, -0.25027565803004814, -0.4352308180980923, -1.7870622081171643, -0.4231246753923552, 0.9739696613755218, 0.3992265559510478, -0.23910651236066105, 0.23931071399692622, 0.09131078371117889, 0.18231030225450318, -1.6770467131592837, 0.6723336270661157, 0.24807428163009063, -0.7626192979780793, -1.485650151616024, -2.068322142166952, -0.816661798988874, -0.4390293659026417, -0.17638692762077884, 1.3693036243446226, -0.8838873911315334, 1.4781184141206263, 1.0204354409755043, 0.6677895888357839, 1.307300361914305, 0.381526666995544, 0.6990207531066948, -0.19170954656039826, -1.6176627483135664, -1.4378015404747206, -0.3089839408391603, -0.7042330548807497, 0.1686533561355506, -0.2719197995344573, 0.5554967812631001, 0.9774118356605086, -0.5675670254061104, 1.8147360416350493, -0.2076775115236604, 1.396211557548168, -0.2196247534199206, 1.257667737581909, 0.09999079328644785, 0.40953832839299614, 0.5181168335779327, -0.6408375541457859, 0.9059451776285394, 0.6233470810053362, -0.4067115357546892, 0.01083130229600319, 0.5789254579976282, 0.04246809985210584, 1.2652109502899274, 0.05171788485414968, -0.678433959764289, -0.6715016710873373, 1.1674003643390756, 0.6963027212152043, -0.6872552716565266, 0.35043630517555296, 1.697039109276328, -0.16517053629799128, 0.23807020983462962, 1.036859207986987, -1.0626416110243735, -0.5436189635055533, -1.0935424145198833, 0.31040749316377236, -0.19753243030570042, -2.7090402836025933, -1.5646909709019092, 0.521645062440777, -0.5002630539043543, -0.2690104841331373, 1.3310061232297976, -1.5183182964218291, 0.48398557607624765, -1.6832106492361594, -0.40954112536213994, 0.4724488127081655, 2.1196763199373585, 0.19754555336208063, -0.9074605490975094, 0.15313865789208797, 1.351762250817329, -0.396385824284584, 1.1476851047106436, 0.5740494843237829, 1.0697578479613916, -0.046560497298113845, -0.2897030805682362, 0.1679496946692134, -1.3517488543120035, 0.4667484204157006, 0.2629850168256431, -0.6432433834067868]}, {\"line\": {\"color\": \"rgba(55, 128, 191, 1.0)\", \"dash\": \"solid\", \"shape\": \"linear\", \"width\": 1.3}, \"mode\": \"lines\", \"name\": \"B\", \"text\": \"\", \"type\": \"scatter\", \"x\": [0, 1, 2, 3, 4, 5, 6, 7, 8, 9, 10, 11, 12, 13, 14, 15, 16, 17, 18, 19, 20, 21, 22, 23, 24, 25, 26, 27, 28, 29, 30, 31, 32, 33, 34, 35, 36, 37, 38, 39, 40, 41, 42, 43, 44, 45, 46, 47, 48, 49, 50, 51, 52, 53, 54, 55, 56, 57, 58, 59, 60, 61, 62, 63, 64, 65, 66, 67, 68, 69, 70, 71, 72, 73, 74, 75, 76, 77, 78, 79, 80, 81, 82, 83, 84, 85, 86, 87, 88, 89, 90, 91, 92, 93, 94, 95, 96, 97, 98, 99], \"y\": [0.7585713004881539, 0.9369508008274443, 2.8786377067420803, -0.9753733963764035, -1.973314268207836, -1.1926729745541216, 1.7788975258488893, -2.739702907163809, 0.7818386057295666, 0.5557853197699847, 1.1308138994045913, -0.03394713504751146, -0.24674661567520484, 0.9048576983121975, -0.06399742714620238, -0.29553159925198297, 1.4480226716018347, -0.9287181429895608, -1.1584119641019608, 0.32889625773459297, 0.007753273055508445, -0.05820317171635984, -0.15155706936588884, 0.19472617657474028, -0.7964170541897511, -0.4322192069305809, -0.9445672117722083, 0.014770905297994949, -0.35176557796450886, 1.0195066876159382, 0.784707646326061, -0.3250669031761666, 0.9277017170808991, 0.7600764488098469, 1.758123577307258, 0.1842424508247556, 0.8128516170296418, 1.0898631416458546, 1.2891007860044672, -0.8697391961812799, -0.45653154226280335, -1.0361046760709498, 0.7559270918670371, -2.061501740649847, 1.4092710565201825, -0.256631908090931, -1.5750591677500945, 0.9245690218077082, -0.9061675814715107, 0.37584618766234756, -1.2415901387761887, 1.1957546846050047, 1.959991039843966, -0.8996322472799549, -1.0475054321530737, -0.6490377881974029, 0.3837783651423651, -0.037591221147904176, 0.3264691997676207, 0.8351240175627819, 1.3407659055312469, 0.7664492600505355, 0.34707865407662625, 0.4374355620108727, 0.4206434136296037, 0.11449523490312948, 0.050628931196152235, 1.7227632992759434, -0.02044643276147327, -0.4372433743237419, -1.6823925218882394, 0.059972603940122146, 1.586091742340369, -0.611607758287968, -0.4515418116623536, 0.6764102158345765, -1.5778251431922758, 0.531490498101667, 0.29467461455975935, -0.4096067239508892, -1.928942981094565, -0.10329196872552136, 0.7700000706766272, 0.4424794882193026, -0.3296786777745359, -1.4801841351888587, 0.39132986150267235, 1.187930182494079, -1.2766734843288627, -0.502946174955512, 0.3430738507677682, 0.39802770458241576, -1.6533098903298877, -0.5168646022711108, 0.38758251120651555, -0.291875675770869, -1.164864245517917, 1.3999539696360548, -1.9115176187985556, 0.4970235858917134]}, {\"line\": {\"color\": \"rgba(50, 171, 96, 1.0)\", \"dash\": \"solid\", \"shape\": \"linear\", \"width\": 1.3}, \"mode\": \"lines\", \"name\": \"C\", \"text\": \"\", \"type\": \"scatter\", \"x\": [0, 1, 2, 3, 4, 5, 6, 7, 8, 9, 10, 11, 12, 13, 14, 15, 16, 17, 18, 19, 20, 21, 22, 23, 24, 25, 26, 27, 28, 29, 30, 31, 32, 33, 34, 35, 36, 37, 38, 39, 40, 41, 42, 43, 44, 45, 46, 47, 48, 49, 50, 51, 52, 53, 54, 55, 56, 57, 58, 59, 60, 61, 62, 63, 64, 65, 66, 67, 68, 69, 70, 71, 72, 73, 74, 75, 76, 77, 78, 79, 80, 81, 82, 83, 84, 85, 86, 87, 88, 89, 90, 91, 92, 93, 94, 95, 96, 97, 98, 99], \"y\": [-0.21097545106115867, -1.010385952727178, 1.2749827146362012, -0.015983506020842593, -1.4746786667388705, 0.179830423867175, -1.7462619033123765, 1.0464112123438396, -1.026390859731597, -1.5943918528495928, 0.27066796628353124, 1.684858393324544, -0.8691937549317699, 1.0663471476085131, -0.27768437726852435, 1.4540051135513614, -0.26883009252392337, -0.9033424846816914, -0.9747627063168453, -0.02899475056819844, -2.1091287389590594, -0.8173521305308596, -0.5458075875412067, 0.1408257779445167, 1.0469267961676325, -0.1274706826923543, -0.4135280276220017, -2.504998932310551, -0.31393716699687946, -0.27885332707301097, -0.10489987978738426, -0.311979337731574, 0.8323164989952668, 1.141533340091098, 0.13831170926493636, 0.4082224185595173, -1.215204703217632, -0.9242699464629253, -0.7808708848307961, -0.4087507562011927, 0.5384793601336588, -0.894570347749724, -1.9064362065808225, 0.4457683343762501, 1.4908864825098789, 1.0693654725823765, -0.7275095732282226, -0.8979976610014719, -0.5568820823956494, -3.120217014727852, -1.0643984188092965, 0.481779811826849, -2.1582565399941807, 0.674790921329094, -0.8034916966642305, -0.18546152762405013, 0.3701522485642225, -0.4268835316362451, 0.7190516944973412, 1.4186235615644138, 0.6233755088238365, 0.451150747092287, 0.09196690808838238, 0.17208166858829033, 0.31266042146240636, 0.19012493289956234, -0.6033882671133812, -0.3528222705784352, -1.029664931473673, -1.789717664094481, 1.729908802810119, 1.8872430463151544, 1.3780986797462649, -0.12991924339436525, -2.6283925699063895, -0.45255088777254926, 0.26223069515618097, 0.47620185627593864, -0.8154834212117086, 0.4518383967003741, 1.680930268015079, -0.6185203445333183, 0.3503940349241752, 0.726458825053681, 0.03463182841395179, -0.16540845309937308, 1.4483176986472721, -1.1154223385895445, -0.09404226600003875, -1.9554368262281228, 0.4048604122456422, 0.07250754014594887, 0.14321259166825573, 0.7358098587718248, -1.6902281014428777, 1.1306991593957962, -0.1099648790423635, -0.22666075417092854, 0.049843414740093135, 1.7189847338915771]}, {\"line\": {\"color\": \"rgba(128, 0, 128, 1.0)\", \"dash\": \"solid\", \"shape\": \"linear\", \"width\": 1.3}, \"mode\": \"lines\", \"name\": \"D\", \"text\": \"\", \"type\": \"scatter\", \"x\": [0, 1, 2, 3, 4, 5, 6, 7, 8, 9, 10, 11, 12, 13, 14, 15, 16, 17, 18, 19, 20, 21, 22, 23, 24, 25, 26, 27, 28, 29, 30, 31, 32, 33, 34, 35, 36, 37, 38, 39, 40, 41, 42, 43, 44, 45, 46, 47, 48, 49, 50, 51, 52, 53, 54, 55, 56, 57, 58, 59, 60, 61, 62, 63, 64, 65, 66, 67, 68, 69, 70, 71, 72, 73, 74, 75, 76, 77, 78, 79, 80, 81, 82, 83, 84, 85, 86, 87, 88, 89, 90, 91, 92, 93, 94, 95, 96, 97, 98, 99], \"y\": [1.4117582400459063, 0.5158806040582149, -0.056329725916821824, 3.0331176288045154, 2.251571432677742, -0.7244537895757376, 1.2757216021545035, 0.5245256765181753, -2.167648381947332, -0.4696805838248369, -0.7485430338440984, 1.5433238587038358, -1.1301871150538845, -0.8509439519643706, 0.9802881962901107, 0.5573549233360873, 1.3924631528411737, -0.292843525425006, -0.28957625229621475, -1.2848236294066253, 1.2280302498116678, -1.8612347534410665, -0.7879333821927236, -1.1291458198297768, 0.9209652308913361, 0.26972013558638086, -1.4698105580627052, 0.5186966764631051, -0.25514350367859234, 0.664752381529209, 0.3096208618182506, -0.5039365347815075, -0.4089033909019008, 1.2941177250485878, 0.6166150565287175, -1.1472542509270691, 0.2505258246975447, -0.7584439760541246, -0.23747358583319064, -1.595523305990587, -0.3418769665943945, 0.2818531578350275, -0.5555095528498177, 0.3239429982070741, -0.7258768991770973, -0.9261661539974302, 0.5611160523629165, -1.3792408529525848, -2.825545670103279, 0.27493797297484407, -0.5321004469147166, -0.6143052576424726, -2.0180202882435245, -1.3954363627502746, -0.8759893988017698, 0.37356556439978833, 0.7160956305449683, 0.06937507216314834, -0.6552479976721832, 0.43343928702505524, 0.2455584618258172, 0.42126667865391876, 1.1619913270267297, -0.8032146674707702, -0.5890226399059743, 0.6458359767000308, 0.4360332745112395, 0.599788673353237, -0.722948223582799, -1.030606401238794, 1.9700941532056162, 0.7791070160905508, -0.6959015496296476, -0.3825212064430439, -0.059171058813391623, -1.9504072192912345, 1.778253100110659, 1.1330032162375292, -0.3703874521409308, 1.4917910877624783, -0.39446169568001704, 1.3224359705441946, 0.9956777417992919, 1.2675161076205903, -1.3566847734767353, 0.40309061690454584, -1.0419272570013405, 0.23569775255301098, -0.02792794107762883, -0.9036568645096051, -0.7357079424723857, -0.36096085535421085, 2.053305244643362, -1.1928816331796919, 2.198658821091295, -1.0327304619564042, -0.8835906856693826, 0.03346181036648316, -2.025627489159471, -0.4081320108627518]}],                        {\"legend\": {\"bgcolor\": \"#F5F6F9\", \"font\": {\"color\": \"#4D5663\"}}, \"paper_bgcolor\": \"#F5F6F9\", \"plot_bgcolor\": \"#F5F6F9\", \"template\": {\"data\": {\"bar\": [{\"error_x\": {\"color\": \"#2a3f5f\"}, \"error_y\": {\"color\": \"#2a3f5f\"}, \"marker\": {\"line\": {\"color\": \"#E5ECF6\", \"width\": 0.5}}, \"type\": \"bar\"}], \"barpolar\": [{\"marker\": {\"line\": {\"color\": \"#E5ECF6\", \"width\": 0.5}}, \"type\": \"barpolar\"}], \"carpet\": [{\"aaxis\": {\"endlinecolor\": \"#2a3f5f\", \"gridcolor\": \"white\", \"linecolor\": \"white\", \"minorgridcolor\": \"white\", \"startlinecolor\": \"#2a3f5f\"}, \"baxis\": {\"endlinecolor\": \"#2a3f5f\", \"gridcolor\": \"white\", \"linecolor\": \"white\", \"minorgridcolor\": \"white\", \"startlinecolor\": \"#2a3f5f\"}, \"type\": \"carpet\"}], \"choropleth\": [{\"colorbar\": {\"outlinewidth\": 0, \"ticks\": \"\"}, \"type\": \"choropleth\"}], \"contour\": [{\"colorbar\": {\"outlinewidth\": 0, \"ticks\": \"\"}, \"colorscale\": [[0.0, \"#0d0887\"], [0.1111111111111111, \"#46039f\"], [0.2222222222222222, \"#7201a8\"], [0.3333333333333333, \"#9c179e\"], [0.4444444444444444, \"#bd3786\"], [0.5555555555555556, \"#d8576b\"], [0.6666666666666666, \"#ed7953\"], [0.7777777777777778, \"#fb9f3a\"], [0.8888888888888888, \"#fdca26\"], [1.0, \"#f0f921\"]], \"type\": \"contour\"}], \"contourcarpet\": [{\"colorbar\": {\"outlinewidth\": 0, \"ticks\": \"\"}, \"type\": \"contourcarpet\"}], \"heatmap\": [{\"colorbar\": {\"outlinewidth\": 0, \"ticks\": \"\"}, \"colorscale\": [[0.0, \"#0d0887\"], [0.1111111111111111, \"#46039f\"], [0.2222222222222222, \"#7201a8\"], [0.3333333333333333, \"#9c179e\"], [0.4444444444444444, \"#bd3786\"], [0.5555555555555556, \"#d8576b\"], [0.6666666666666666, \"#ed7953\"], [0.7777777777777778, \"#fb9f3a\"], [0.8888888888888888, \"#fdca26\"], [1.0, \"#f0f921\"]], \"type\": \"heatmap\"}], \"heatmapgl\": [{\"colorbar\": {\"outlinewidth\": 0, \"ticks\": \"\"}, \"colorscale\": [[0.0, \"#0d0887\"], [0.1111111111111111, \"#46039f\"], [0.2222222222222222, \"#7201a8\"], [0.3333333333333333, \"#9c179e\"], [0.4444444444444444, \"#bd3786\"], [0.5555555555555556, \"#d8576b\"], [0.6666666666666666, \"#ed7953\"], [0.7777777777777778, \"#fb9f3a\"], [0.8888888888888888, \"#fdca26\"], [1.0, \"#f0f921\"]], \"type\": \"heatmapgl\"}], \"histogram\": [{\"marker\": {\"colorbar\": {\"outlinewidth\": 0, \"ticks\": \"\"}}, \"type\": \"histogram\"}], \"histogram2d\": [{\"colorbar\": {\"outlinewidth\": 0, \"ticks\": \"\"}, \"colorscale\": [[0.0, \"#0d0887\"], [0.1111111111111111, \"#46039f\"], [0.2222222222222222, \"#7201a8\"], [0.3333333333333333, \"#9c179e\"], [0.4444444444444444, \"#bd3786\"], [0.5555555555555556, \"#d8576b\"], [0.6666666666666666, \"#ed7953\"], [0.7777777777777778, \"#fb9f3a\"], [0.8888888888888888, \"#fdca26\"], [1.0, \"#f0f921\"]], \"type\": \"histogram2d\"}], \"histogram2dcontour\": [{\"colorbar\": {\"outlinewidth\": 0, \"ticks\": \"\"}, \"colorscale\": [[0.0, \"#0d0887\"], [0.1111111111111111, \"#46039f\"], [0.2222222222222222, \"#7201a8\"], [0.3333333333333333, \"#9c179e\"], [0.4444444444444444, \"#bd3786\"], [0.5555555555555556, \"#d8576b\"], [0.6666666666666666, \"#ed7953\"], [0.7777777777777778, \"#fb9f3a\"], [0.8888888888888888, \"#fdca26\"], [1.0, \"#f0f921\"]], \"type\": \"histogram2dcontour\"}], \"mesh3d\": [{\"colorbar\": {\"outlinewidth\": 0, \"ticks\": \"\"}, \"type\": \"mesh3d\"}], \"parcoords\": [{\"line\": {\"colorbar\": {\"outlinewidth\": 0, \"ticks\": \"\"}}, \"type\": \"parcoords\"}], \"pie\": [{\"automargin\": true, \"type\": \"pie\"}], \"scatter\": [{\"marker\": {\"colorbar\": {\"outlinewidth\": 0, \"ticks\": \"\"}}, \"type\": \"scatter\"}], \"scatter3d\": [{\"line\": {\"colorbar\": {\"outlinewidth\": 0, \"ticks\": \"\"}}, \"marker\": {\"colorbar\": {\"outlinewidth\": 0, \"ticks\": \"\"}}, \"type\": \"scatter3d\"}], \"scattercarpet\": [{\"marker\": {\"colorbar\": {\"outlinewidth\": 0, \"ticks\": \"\"}}, \"type\": \"scattercarpet\"}], \"scattergeo\": [{\"marker\": {\"colorbar\": {\"outlinewidth\": 0, \"ticks\": \"\"}}, \"type\": \"scattergeo\"}], \"scattergl\": [{\"marker\": {\"colorbar\": {\"outlinewidth\": 0, \"ticks\": \"\"}}, \"type\": \"scattergl\"}], \"scattermapbox\": [{\"marker\": {\"colorbar\": {\"outlinewidth\": 0, \"ticks\": \"\"}}, \"type\": \"scattermapbox\"}], \"scatterpolar\": [{\"marker\": {\"colorbar\": {\"outlinewidth\": 0, \"ticks\": \"\"}}, \"type\": \"scatterpolar\"}], \"scatterpolargl\": [{\"marker\": {\"colorbar\": {\"outlinewidth\": 0, \"ticks\": \"\"}}, \"type\": \"scatterpolargl\"}], \"scatterternary\": [{\"marker\": {\"colorbar\": {\"outlinewidth\": 0, \"ticks\": \"\"}}, \"type\": \"scatterternary\"}], \"surface\": [{\"colorbar\": {\"outlinewidth\": 0, \"ticks\": \"\"}, \"colorscale\": [[0.0, \"#0d0887\"], [0.1111111111111111, \"#46039f\"], [0.2222222222222222, \"#7201a8\"], [0.3333333333333333, \"#9c179e\"], [0.4444444444444444, \"#bd3786\"], [0.5555555555555556, \"#d8576b\"], [0.6666666666666666, \"#ed7953\"], [0.7777777777777778, \"#fb9f3a\"], [0.8888888888888888, \"#fdca26\"], [1.0, \"#f0f921\"]], \"type\": \"surface\"}], \"table\": [{\"cells\": {\"fill\": {\"color\": \"#EBF0F8\"}, \"line\": {\"color\": \"white\"}}, \"header\": {\"fill\": {\"color\": \"#C8D4E3\"}, \"line\": {\"color\": \"white\"}}, \"type\": \"table\"}]}, \"layout\": {\"annotationdefaults\": {\"arrowcolor\": \"#2a3f5f\", \"arrowhead\": 0, \"arrowwidth\": 1}, \"coloraxis\": {\"colorbar\": {\"outlinewidth\": 0, \"ticks\": \"\"}}, \"colorscale\": {\"diverging\": [[0, \"#8e0152\"], [0.1, \"#c51b7d\"], [0.2, \"#de77ae\"], [0.3, \"#f1b6da\"], [0.4, \"#fde0ef\"], [0.5, \"#f7f7f7\"], [0.6, \"#e6f5d0\"], [0.7, \"#b8e186\"], [0.8, \"#7fbc41\"], [0.9, \"#4d9221\"], [1, \"#276419\"]], \"sequential\": [[0.0, \"#0d0887\"], [0.1111111111111111, \"#46039f\"], [0.2222222222222222, \"#7201a8\"], [0.3333333333333333, \"#9c179e\"], [0.4444444444444444, \"#bd3786\"], [0.5555555555555556, \"#d8576b\"], [0.6666666666666666, \"#ed7953\"], [0.7777777777777778, \"#fb9f3a\"], [0.8888888888888888, \"#fdca26\"], [1.0, \"#f0f921\"]], \"sequentialminus\": [[0.0, \"#0d0887\"], [0.1111111111111111, \"#46039f\"], [0.2222222222222222, \"#7201a8\"], [0.3333333333333333, \"#9c179e\"], [0.4444444444444444, \"#bd3786\"], [0.5555555555555556, \"#d8576b\"], [0.6666666666666666, \"#ed7953\"], [0.7777777777777778, \"#fb9f3a\"], [0.8888888888888888, \"#fdca26\"], [1.0, \"#f0f921\"]]}, \"colorway\": [\"#636efa\", \"#EF553B\", \"#00cc96\", \"#ab63fa\", \"#FFA15A\", \"#19d3f3\", \"#FF6692\", \"#B6E880\", \"#FF97FF\", \"#FECB52\"], \"font\": {\"color\": \"#2a3f5f\"}, \"geo\": {\"bgcolor\": \"white\", \"lakecolor\": \"white\", \"landcolor\": \"#E5ECF6\", \"showlakes\": true, \"showland\": true, \"subunitcolor\": \"white\"}, \"hoverlabel\": {\"align\": \"left\"}, \"hovermode\": \"closest\", \"mapbox\": {\"style\": \"light\"}, \"paper_bgcolor\": \"white\", \"plot_bgcolor\": \"#E5ECF6\", \"polar\": {\"angularaxis\": {\"gridcolor\": \"white\", \"linecolor\": \"white\", \"ticks\": \"\"}, \"bgcolor\": \"#E5ECF6\", \"radialaxis\": {\"gridcolor\": \"white\", \"linecolor\": \"white\", \"ticks\": \"\"}}, \"scene\": {\"xaxis\": {\"backgroundcolor\": \"#E5ECF6\", \"gridcolor\": \"white\", \"gridwidth\": 2, \"linecolor\": \"white\", \"showbackground\": true, \"ticks\": \"\", \"zerolinecolor\": \"white\"}, \"yaxis\": {\"backgroundcolor\": \"#E5ECF6\", \"gridcolor\": \"white\", \"gridwidth\": 2, \"linecolor\": \"white\", \"showbackground\": true, \"ticks\": \"\", \"zerolinecolor\": \"white\"}, \"zaxis\": {\"backgroundcolor\": \"#E5ECF6\", \"gridcolor\": \"white\", \"gridwidth\": 2, \"linecolor\": \"white\", \"showbackground\": true, \"ticks\": \"\", \"zerolinecolor\": \"white\"}}, \"shapedefaults\": {\"line\": {\"color\": \"#2a3f5f\"}}, \"ternary\": {\"aaxis\": {\"gridcolor\": \"white\", \"linecolor\": \"white\", \"ticks\": \"\"}, \"baxis\": {\"gridcolor\": \"white\", \"linecolor\": \"white\", \"ticks\": \"\"}, \"bgcolor\": \"#E5ECF6\", \"caxis\": {\"gridcolor\": \"white\", \"linecolor\": \"white\", \"ticks\": \"\"}}, \"title\": {\"x\": 0.05}, \"xaxis\": {\"automargin\": true, \"gridcolor\": \"white\", \"linecolor\": \"white\", \"ticks\": \"\", \"title\": {\"standoff\": 15}, \"zerolinecolor\": \"white\", \"zerolinewidth\": 2}, \"yaxis\": {\"automargin\": true, \"gridcolor\": \"white\", \"linecolor\": \"white\", \"ticks\": \"\", \"title\": {\"standoff\": 15}, \"zerolinecolor\": \"white\", \"zerolinewidth\": 2}}}, \"title\": {\"font\": {\"color\": \"#4D5663\"}}, \"xaxis\": {\"gridcolor\": \"#E1E5ED\", \"showgrid\": true, \"tickfont\": {\"color\": \"#4D5663\"}, \"title\": {\"font\": {\"color\": \"#4D5663\"}, \"text\": \"\"}, \"zerolinecolor\": \"#E1E5ED\"}, \"yaxis\": {\"gridcolor\": \"#E1E5ED\", \"showgrid\": true, \"tickfont\": {\"color\": \"#4D5663\"}, \"title\": {\"font\": {\"color\": \"#4D5663\"}, \"text\": \"\"}, \"zerolinecolor\": \"#E1E5ED\"}},                        {\"showLink\": true, \"linkText\": \"Export to plot.ly\", \"plotlyServerURL\": \"https://plot.ly\", \"responsive\": true}                    ).then(function(){\n",
       "                            \n",
       "var gd = document.getElementById('1160d043-8c3c-4da4-820f-8653e55e40af');\n",
       "var x = new MutationObserver(function (mutations, observer) {{\n",
       "        var display = window.getComputedStyle(gd).display;\n",
       "        if (!display || display === 'none') {{\n",
       "            console.log([gd, 'removed!']);\n",
       "            Plotly.purge(gd);\n",
       "            observer.disconnect();\n",
       "        }}\n",
       "}});\n",
       "\n",
       "// Listen for the removal of the full notebook cells\n",
       "var notebookContainer = gd.closest('#notebook-container');\n",
       "if (notebookContainer) {{\n",
       "    x.observe(notebookContainer, {childList: true});\n",
       "}}\n",
       "\n",
       "// Listen for the clearing of the current output cell\n",
       "var outputEl = gd.closest('.output');\n",
       "if (outputEl) {{\n",
       "    x.observe(outputEl, {childList: true});\n",
       "}}\n",
       "\n",
       "                        })                };                });            </script>        </div>"
      ]
     },
     "metadata": {},
     "output_type": "display_data"
    }
   ],
   "source": [
    "df.iplot()#INTERACTIVE PLOT BY IPLOT `"
   ]
  },
  {
   "cell_type": "code",
   "execution_count": 41,
   "metadata": {},
   "outputs": [
    {
     "data": {
      "application/vnd.plotly.v1+json": {
       "config": {
        "linkText": "Export to plot.ly",
        "plotlyServerURL": "https://plot.ly",
        "showLink": true
       },
       "data": [
        {
         "marker": {
          "color": "rgba(255, 153, 51, 0.6)",
          "line": {
           "color": "rgba(255, 153, 51, 1.0)",
           "width": 1
          }
         },
         "name": "Values",
         "orientation": "v",
         "text": "",
         "type": "bar",
         "x": [
          "A",
          "B",
          "C"
         ],
         "y": [
          32,
          45,
          68
         ]
        }
       ],
       "layout": {
        "legend": {
         "bgcolor": "#F5F6F9",
         "font": {
          "color": "#4D5663"
         }
        },
        "paper_bgcolor": "#F5F6F9",
        "plot_bgcolor": "#F5F6F9",
        "template": {
         "data": {
          "bar": [
           {
            "error_x": {
             "color": "#2a3f5f"
            },
            "error_y": {
             "color": "#2a3f5f"
            },
            "marker": {
             "line": {
              "color": "#E5ECF6",
              "width": 0.5
             }
            },
            "type": "bar"
           }
          ],
          "barpolar": [
           {
            "marker": {
             "line": {
              "color": "#E5ECF6",
              "width": 0.5
             }
            },
            "type": "barpolar"
           }
          ],
          "carpet": [
           {
            "aaxis": {
             "endlinecolor": "#2a3f5f",
             "gridcolor": "white",
             "linecolor": "white",
             "minorgridcolor": "white",
             "startlinecolor": "#2a3f5f"
            },
            "baxis": {
             "endlinecolor": "#2a3f5f",
             "gridcolor": "white",
             "linecolor": "white",
             "minorgridcolor": "white",
             "startlinecolor": "#2a3f5f"
            },
            "type": "carpet"
           }
          ],
          "choropleth": [
           {
            "colorbar": {
             "outlinewidth": 0,
             "ticks": ""
            },
            "type": "choropleth"
           }
          ],
          "contour": [
           {
            "colorbar": {
             "outlinewidth": 0,
             "ticks": ""
            },
            "colorscale": [
             [
              0,
              "#0d0887"
             ],
             [
              0.1111111111111111,
              "#46039f"
             ],
             [
              0.2222222222222222,
              "#7201a8"
             ],
             [
              0.3333333333333333,
              "#9c179e"
             ],
             [
              0.4444444444444444,
              "#bd3786"
             ],
             [
              0.5555555555555556,
              "#d8576b"
             ],
             [
              0.6666666666666666,
              "#ed7953"
             ],
             [
              0.7777777777777778,
              "#fb9f3a"
             ],
             [
              0.8888888888888888,
              "#fdca26"
             ],
             [
              1,
              "#f0f921"
             ]
            ],
            "type": "contour"
           }
          ],
          "contourcarpet": [
           {
            "colorbar": {
             "outlinewidth": 0,
             "ticks": ""
            },
            "type": "contourcarpet"
           }
          ],
          "heatmap": [
           {
            "colorbar": {
             "outlinewidth": 0,
             "ticks": ""
            },
            "colorscale": [
             [
              0,
              "#0d0887"
             ],
             [
              0.1111111111111111,
              "#46039f"
             ],
             [
              0.2222222222222222,
              "#7201a8"
             ],
             [
              0.3333333333333333,
              "#9c179e"
             ],
             [
              0.4444444444444444,
              "#bd3786"
             ],
             [
              0.5555555555555556,
              "#d8576b"
             ],
             [
              0.6666666666666666,
              "#ed7953"
             ],
             [
              0.7777777777777778,
              "#fb9f3a"
             ],
             [
              0.8888888888888888,
              "#fdca26"
             ],
             [
              1,
              "#f0f921"
             ]
            ],
            "type": "heatmap"
           }
          ],
          "heatmapgl": [
           {
            "colorbar": {
             "outlinewidth": 0,
             "ticks": ""
            },
            "colorscale": [
             [
              0,
              "#0d0887"
             ],
             [
              0.1111111111111111,
              "#46039f"
             ],
             [
              0.2222222222222222,
              "#7201a8"
             ],
             [
              0.3333333333333333,
              "#9c179e"
             ],
             [
              0.4444444444444444,
              "#bd3786"
             ],
             [
              0.5555555555555556,
              "#d8576b"
             ],
             [
              0.6666666666666666,
              "#ed7953"
             ],
             [
              0.7777777777777778,
              "#fb9f3a"
             ],
             [
              0.8888888888888888,
              "#fdca26"
             ],
             [
              1,
              "#f0f921"
             ]
            ],
            "type": "heatmapgl"
           }
          ],
          "histogram": [
           {
            "marker": {
             "colorbar": {
              "outlinewidth": 0,
              "ticks": ""
             }
            },
            "type": "histogram"
           }
          ],
          "histogram2d": [
           {
            "colorbar": {
             "outlinewidth": 0,
             "ticks": ""
            },
            "colorscale": [
             [
              0,
              "#0d0887"
             ],
             [
              0.1111111111111111,
              "#46039f"
             ],
             [
              0.2222222222222222,
              "#7201a8"
             ],
             [
              0.3333333333333333,
              "#9c179e"
             ],
             [
              0.4444444444444444,
              "#bd3786"
             ],
             [
              0.5555555555555556,
              "#d8576b"
             ],
             [
              0.6666666666666666,
              "#ed7953"
             ],
             [
              0.7777777777777778,
              "#fb9f3a"
             ],
             [
              0.8888888888888888,
              "#fdca26"
             ],
             [
              1,
              "#f0f921"
             ]
            ],
            "type": "histogram2d"
           }
          ],
          "histogram2dcontour": [
           {
            "colorbar": {
             "outlinewidth": 0,
             "ticks": ""
            },
            "colorscale": [
             [
              0,
              "#0d0887"
             ],
             [
              0.1111111111111111,
              "#46039f"
             ],
             [
              0.2222222222222222,
              "#7201a8"
             ],
             [
              0.3333333333333333,
              "#9c179e"
             ],
             [
              0.4444444444444444,
              "#bd3786"
             ],
             [
              0.5555555555555556,
              "#d8576b"
             ],
             [
              0.6666666666666666,
              "#ed7953"
             ],
             [
              0.7777777777777778,
              "#fb9f3a"
             ],
             [
              0.8888888888888888,
              "#fdca26"
             ],
             [
              1,
              "#f0f921"
             ]
            ],
            "type": "histogram2dcontour"
           }
          ],
          "mesh3d": [
           {
            "colorbar": {
             "outlinewidth": 0,
             "ticks": ""
            },
            "type": "mesh3d"
           }
          ],
          "parcoords": [
           {
            "line": {
             "colorbar": {
              "outlinewidth": 0,
              "ticks": ""
             }
            },
            "type": "parcoords"
           }
          ],
          "pie": [
           {
            "automargin": true,
            "type": "pie"
           }
          ],
          "scatter": [
           {
            "marker": {
             "colorbar": {
              "outlinewidth": 0,
              "ticks": ""
             }
            },
            "type": "scatter"
           }
          ],
          "scatter3d": [
           {
            "line": {
             "colorbar": {
              "outlinewidth": 0,
              "ticks": ""
             }
            },
            "marker": {
             "colorbar": {
              "outlinewidth": 0,
              "ticks": ""
             }
            },
            "type": "scatter3d"
           }
          ],
          "scattercarpet": [
           {
            "marker": {
             "colorbar": {
              "outlinewidth": 0,
              "ticks": ""
             }
            },
            "type": "scattercarpet"
           }
          ],
          "scattergeo": [
           {
            "marker": {
             "colorbar": {
              "outlinewidth": 0,
              "ticks": ""
             }
            },
            "type": "scattergeo"
           }
          ],
          "scattergl": [
           {
            "marker": {
             "colorbar": {
              "outlinewidth": 0,
              "ticks": ""
             }
            },
            "type": "scattergl"
           }
          ],
          "scattermapbox": [
           {
            "marker": {
             "colorbar": {
              "outlinewidth": 0,
              "ticks": ""
             }
            },
            "type": "scattermapbox"
           }
          ],
          "scatterpolar": [
           {
            "marker": {
             "colorbar": {
              "outlinewidth": 0,
              "ticks": ""
             }
            },
            "type": "scatterpolar"
           }
          ],
          "scatterpolargl": [
           {
            "marker": {
             "colorbar": {
              "outlinewidth": 0,
              "ticks": ""
             }
            },
            "type": "scatterpolargl"
           }
          ],
          "scatterternary": [
           {
            "marker": {
             "colorbar": {
              "outlinewidth": 0,
              "ticks": ""
             }
            },
            "type": "scatterternary"
           }
          ],
          "surface": [
           {
            "colorbar": {
             "outlinewidth": 0,
             "ticks": ""
            },
            "colorscale": [
             [
              0,
              "#0d0887"
             ],
             [
              0.1111111111111111,
              "#46039f"
             ],
             [
              0.2222222222222222,
              "#7201a8"
             ],
             [
              0.3333333333333333,
              "#9c179e"
             ],
             [
              0.4444444444444444,
              "#bd3786"
             ],
             [
              0.5555555555555556,
              "#d8576b"
             ],
             [
              0.6666666666666666,
              "#ed7953"
             ],
             [
              0.7777777777777778,
              "#fb9f3a"
             ],
             [
              0.8888888888888888,
              "#fdca26"
             ],
             [
              1,
              "#f0f921"
             ]
            ],
            "type": "surface"
           }
          ],
          "table": [
           {
            "cells": {
             "fill": {
              "color": "#EBF0F8"
             },
             "line": {
              "color": "white"
             }
            },
            "header": {
             "fill": {
              "color": "#C8D4E3"
             },
             "line": {
              "color": "white"
             }
            },
            "type": "table"
           }
          ]
         },
         "layout": {
          "annotationdefaults": {
           "arrowcolor": "#2a3f5f",
           "arrowhead": 0,
           "arrowwidth": 1
          },
          "coloraxis": {
           "colorbar": {
            "outlinewidth": 0,
            "ticks": ""
           }
          },
          "colorscale": {
           "diverging": [
            [
             0,
             "#8e0152"
            ],
            [
             0.1,
             "#c51b7d"
            ],
            [
             0.2,
             "#de77ae"
            ],
            [
             0.3,
             "#f1b6da"
            ],
            [
             0.4,
             "#fde0ef"
            ],
            [
             0.5,
             "#f7f7f7"
            ],
            [
             0.6,
             "#e6f5d0"
            ],
            [
             0.7,
             "#b8e186"
            ],
            [
             0.8,
             "#7fbc41"
            ],
            [
             0.9,
             "#4d9221"
            ],
            [
             1,
             "#276419"
            ]
           ],
           "sequential": [
            [
             0,
             "#0d0887"
            ],
            [
             0.1111111111111111,
             "#46039f"
            ],
            [
             0.2222222222222222,
             "#7201a8"
            ],
            [
             0.3333333333333333,
             "#9c179e"
            ],
            [
             0.4444444444444444,
             "#bd3786"
            ],
            [
             0.5555555555555556,
             "#d8576b"
            ],
            [
             0.6666666666666666,
             "#ed7953"
            ],
            [
             0.7777777777777778,
             "#fb9f3a"
            ],
            [
             0.8888888888888888,
             "#fdca26"
            ],
            [
             1,
             "#f0f921"
            ]
           ],
           "sequentialminus": [
            [
             0,
             "#0d0887"
            ],
            [
             0.1111111111111111,
             "#46039f"
            ],
            [
             0.2222222222222222,
             "#7201a8"
            ],
            [
             0.3333333333333333,
             "#9c179e"
            ],
            [
             0.4444444444444444,
             "#bd3786"
            ],
            [
             0.5555555555555556,
             "#d8576b"
            ],
            [
             0.6666666666666666,
             "#ed7953"
            ],
            [
             0.7777777777777778,
             "#fb9f3a"
            ],
            [
             0.8888888888888888,
             "#fdca26"
            ],
            [
             1,
             "#f0f921"
            ]
           ]
          },
          "colorway": [
           "#636efa",
           "#EF553B",
           "#00cc96",
           "#ab63fa",
           "#FFA15A",
           "#19d3f3",
           "#FF6692",
           "#B6E880",
           "#FF97FF",
           "#FECB52"
          ],
          "font": {
           "color": "#2a3f5f"
          },
          "geo": {
           "bgcolor": "white",
           "lakecolor": "white",
           "landcolor": "#E5ECF6",
           "showlakes": true,
           "showland": true,
           "subunitcolor": "white"
          },
          "hoverlabel": {
           "align": "left"
          },
          "hovermode": "closest",
          "mapbox": {
           "style": "light"
          },
          "paper_bgcolor": "white",
          "plot_bgcolor": "#E5ECF6",
          "polar": {
           "angularaxis": {
            "gridcolor": "white",
            "linecolor": "white",
            "ticks": ""
           },
           "bgcolor": "#E5ECF6",
           "radialaxis": {
            "gridcolor": "white",
            "linecolor": "white",
            "ticks": ""
           }
          },
          "scene": {
           "xaxis": {
            "backgroundcolor": "#E5ECF6",
            "gridcolor": "white",
            "gridwidth": 2,
            "linecolor": "white",
            "showbackground": true,
            "ticks": "",
            "zerolinecolor": "white"
           },
           "yaxis": {
            "backgroundcolor": "#E5ECF6",
            "gridcolor": "white",
            "gridwidth": 2,
            "linecolor": "white",
            "showbackground": true,
            "ticks": "",
            "zerolinecolor": "white"
           },
           "zaxis": {
            "backgroundcolor": "#E5ECF6",
            "gridcolor": "white",
            "gridwidth": 2,
            "linecolor": "white",
            "showbackground": true,
            "ticks": "",
            "zerolinecolor": "white"
           }
          },
          "shapedefaults": {
           "line": {
            "color": "#2a3f5f"
           }
          },
          "ternary": {
           "aaxis": {
            "gridcolor": "white",
            "linecolor": "white",
            "ticks": ""
           },
           "baxis": {
            "gridcolor": "white",
            "linecolor": "white",
            "ticks": ""
           },
           "bgcolor": "#E5ECF6",
           "caxis": {
            "gridcolor": "white",
            "linecolor": "white",
            "ticks": ""
           }
          },
          "title": {
           "x": 0.05
          },
          "xaxis": {
           "automargin": true,
           "gridcolor": "white",
           "linecolor": "white",
           "ticks": "",
           "title": {
            "standoff": 15
           },
           "zerolinecolor": "white",
           "zerolinewidth": 2
          },
          "yaxis": {
           "automargin": true,
           "gridcolor": "white",
           "linecolor": "white",
           "ticks": "",
           "title": {
            "standoff": 15
           },
           "zerolinecolor": "white",
           "zerolinewidth": 2
          }
         }
        },
        "title": {
         "font": {
          "color": "#4D5663"
         }
        },
        "xaxis": {
         "gridcolor": "#E1E5ED",
         "showgrid": true,
         "tickfont": {
          "color": "#4D5663"
         },
         "title": {
          "font": {
           "color": "#4D5663"
          },
          "text": ""
         },
         "zerolinecolor": "#E1E5ED"
        },
        "yaxis": {
         "gridcolor": "#E1E5ED",
         "showgrid": true,
         "tickfont": {
          "color": "#4D5663"
         },
         "title": {
          "font": {
           "color": "#4D5663"
          },
          "text": ""
         },
         "zerolinecolor": "#E1E5ED"
        }
       }
      },
      "text/html": [
       "<div>                            <div id=\"2a04dac0-4af8-43cc-941c-9fdfd619a513\" class=\"plotly-graph-div\" style=\"height:525px; width:100%;\"></div>            <script type=\"text/javascript\">                require([\"plotly\"], function(Plotly) {                    window.PLOTLYENV=window.PLOTLYENV || {};\n",
       "                    window.PLOTLYENV.BASE_URL='https://plot.ly';                                    if (document.getElementById(\"2a04dac0-4af8-43cc-941c-9fdfd619a513\")) {                    Plotly.newPlot(                        \"2a04dac0-4af8-43cc-941c-9fdfd619a513\",                        [{\"marker\": {\"color\": \"rgba(255, 153, 51, 0.6)\", \"line\": {\"color\": \"rgba(255, 153, 51, 1.0)\", \"width\": 1}}, \"name\": \"Values\", \"orientation\": \"v\", \"text\": \"\", \"type\": \"bar\", \"x\": [\"A\", \"B\", \"C\"], \"y\": [32, 45, 68]}],                        {\"legend\": {\"bgcolor\": \"#F5F6F9\", \"font\": {\"color\": \"#4D5663\"}}, \"paper_bgcolor\": \"#F5F6F9\", \"plot_bgcolor\": \"#F5F6F9\", \"template\": {\"data\": {\"bar\": [{\"error_x\": {\"color\": \"#2a3f5f\"}, \"error_y\": {\"color\": \"#2a3f5f\"}, \"marker\": {\"line\": {\"color\": \"#E5ECF6\", \"width\": 0.5}}, \"type\": \"bar\"}], \"barpolar\": [{\"marker\": {\"line\": {\"color\": \"#E5ECF6\", \"width\": 0.5}}, \"type\": \"barpolar\"}], \"carpet\": [{\"aaxis\": {\"endlinecolor\": \"#2a3f5f\", \"gridcolor\": \"white\", \"linecolor\": \"white\", \"minorgridcolor\": \"white\", \"startlinecolor\": \"#2a3f5f\"}, \"baxis\": {\"endlinecolor\": \"#2a3f5f\", \"gridcolor\": \"white\", \"linecolor\": \"white\", \"minorgridcolor\": \"white\", \"startlinecolor\": \"#2a3f5f\"}, \"type\": \"carpet\"}], \"choropleth\": [{\"colorbar\": {\"outlinewidth\": 0, \"ticks\": \"\"}, \"type\": \"choropleth\"}], \"contour\": [{\"colorbar\": {\"outlinewidth\": 0, \"ticks\": \"\"}, \"colorscale\": [[0.0, \"#0d0887\"], [0.1111111111111111, \"#46039f\"], [0.2222222222222222, \"#7201a8\"], [0.3333333333333333, \"#9c179e\"], [0.4444444444444444, \"#bd3786\"], [0.5555555555555556, \"#d8576b\"], [0.6666666666666666, \"#ed7953\"], [0.7777777777777778, \"#fb9f3a\"], [0.8888888888888888, \"#fdca26\"], [1.0, \"#f0f921\"]], \"type\": \"contour\"}], \"contourcarpet\": [{\"colorbar\": {\"outlinewidth\": 0, \"ticks\": \"\"}, \"type\": \"contourcarpet\"}], \"heatmap\": [{\"colorbar\": {\"outlinewidth\": 0, \"ticks\": \"\"}, \"colorscale\": [[0.0, \"#0d0887\"], [0.1111111111111111, \"#46039f\"], [0.2222222222222222, \"#7201a8\"], [0.3333333333333333, \"#9c179e\"], [0.4444444444444444, \"#bd3786\"], [0.5555555555555556, \"#d8576b\"], [0.6666666666666666, \"#ed7953\"], [0.7777777777777778, \"#fb9f3a\"], [0.8888888888888888, \"#fdca26\"], [1.0, \"#f0f921\"]], \"type\": \"heatmap\"}], \"heatmapgl\": [{\"colorbar\": {\"outlinewidth\": 0, \"ticks\": \"\"}, \"colorscale\": [[0.0, \"#0d0887\"], [0.1111111111111111, \"#46039f\"], [0.2222222222222222, \"#7201a8\"], [0.3333333333333333, \"#9c179e\"], [0.4444444444444444, \"#bd3786\"], [0.5555555555555556, \"#d8576b\"], [0.6666666666666666, \"#ed7953\"], [0.7777777777777778, \"#fb9f3a\"], [0.8888888888888888, \"#fdca26\"], [1.0, \"#f0f921\"]], \"type\": \"heatmapgl\"}], \"histogram\": [{\"marker\": {\"colorbar\": {\"outlinewidth\": 0, \"ticks\": \"\"}}, \"type\": \"histogram\"}], \"histogram2d\": [{\"colorbar\": {\"outlinewidth\": 0, \"ticks\": \"\"}, \"colorscale\": [[0.0, \"#0d0887\"], [0.1111111111111111, \"#46039f\"], [0.2222222222222222, \"#7201a8\"], [0.3333333333333333, \"#9c179e\"], [0.4444444444444444, \"#bd3786\"], [0.5555555555555556, \"#d8576b\"], [0.6666666666666666, \"#ed7953\"], [0.7777777777777778, \"#fb9f3a\"], [0.8888888888888888, \"#fdca26\"], [1.0, \"#f0f921\"]], \"type\": \"histogram2d\"}], \"histogram2dcontour\": [{\"colorbar\": {\"outlinewidth\": 0, \"ticks\": \"\"}, \"colorscale\": [[0.0, \"#0d0887\"], [0.1111111111111111, \"#46039f\"], [0.2222222222222222, \"#7201a8\"], [0.3333333333333333, \"#9c179e\"], [0.4444444444444444, \"#bd3786\"], [0.5555555555555556, \"#d8576b\"], [0.6666666666666666, \"#ed7953\"], [0.7777777777777778, \"#fb9f3a\"], [0.8888888888888888, \"#fdca26\"], [1.0, \"#f0f921\"]], \"type\": \"histogram2dcontour\"}], \"mesh3d\": [{\"colorbar\": {\"outlinewidth\": 0, \"ticks\": \"\"}, \"type\": \"mesh3d\"}], \"parcoords\": [{\"line\": {\"colorbar\": {\"outlinewidth\": 0, \"ticks\": \"\"}}, \"type\": \"parcoords\"}], \"pie\": [{\"automargin\": true, \"type\": \"pie\"}], \"scatter\": [{\"marker\": {\"colorbar\": {\"outlinewidth\": 0, \"ticks\": \"\"}}, \"type\": \"scatter\"}], \"scatter3d\": [{\"line\": {\"colorbar\": {\"outlinewidth\": 0, \"ticks\": \"\"}}, \"marker\": {\"colorbar\": {\"outlinewidth\": 0, \"ticks\": \"\"}}, \"type\": \"scatter3d\"}], \"scattercarpet\": [{\"marker\": {\"colorbar\": {\"outlinewidth\": 0, \"ticks\": \"\"}}, \"type\": \"scattercarpet\"}], \"scattergeo\": [{\"marker\": {\"colorbar\": {\"outlinewidth\": 0, \"ticks\": \"\"}}, \"type\": \"scattergeo\"}], \"scattergl\": [{\"marker\": {\"colorbar\": {\"outlinewidth\": 0, \"ticks\": \"\"}}, \"type\": \"scattergl\"}], \"scattermapbox\": [{\"marker\": {\"colorbar\": {\"outlinewidth\": 0, \"ticks\": \"\"}}, \"type\": \"scattermapbox\"}], \"scatterpolar\": [{\"marker\": {\"colorbar\": {\"outlinewidth\": 0, \"ticks\": \"\"}}, \"type\": \"scatterpolar\"}], \"scatterpolargl\": [{\"marker\": {\"colorbar\": {\"outlinewidth\": 0, \"ticks\": \"\"}}, \"type\": \"scatterpolargl\"}], \"scatterternary\": [{\"marker\": {\"colorbar\": {\"outlinewidth\": 0, \"ticks\": \"\"}}, \"type\": \"scatterternary\"}], \"surface\": [{\"colorbar\": {\"outlinewidth\": 0, \"ticks\": \"\"}, \"colorscale\": [[0.0, \"#0d0887\"], [0.1111111111111111, \"#46039f\"], [0.2222222222222222, \"#7201a8\"], [0.3333333333333333, \"#9c179e\"], [0.4444444444444444, \"#bd3786\"], [0.5555555555555556, \"#d8576b\"], [0.6666666666666666, \"#ed7953\"], [0.7777777777777778, \"#fb9f3a\"], [0.8888888888888888, \"#fdca26\"], [1.0, \"#f0f921\"]], \"type\": \"surface\"}], \"table\": [{\"cells\": {\"fill\": {\"color\": \"#EBF0F8\"}, \"line\": {\"color\": \"white\"}}, \"header\": {\"fill\": {\"color\": \"#C8D4E3\"}, \"line\": {\"color\": \"white\"}}, \"type\": \"table\"}]}, \"layout\": {\"annotationdefaults\": {\"arrowcolor\": \"#2a3f5f\", \"arrowhead\": 0, \"arrowwidth\": 1}, \"coloraxis\": {\"colorbar\": {\"outlinewidth\": 0, \"ticks\": \"\"}}, \"colorscale\": {\"diverging\": [[0, \"#8e0152\"], [0.1, \"#c51b7d\"], [0.2, \"#de77ae\"], [0.3, \"#f1b6da\"], [0.4, \"#fde0ef\"], [0.5, \"#f7f7f7\"], [0.6, \"#e6f5d0\"], [0.7, \"#b8e186\"], [0.8, \"#7fbc41\"], [0.9, \"#4d9221\"], [1, \"#276419\"]], \"sequential\": [[0.0, \"#0d0887\"], [0.1111111111111111, \"#46039f\"], [0.2222222222222222, \"#7201a8\"], [0.3333333333333333, \"#9c179e\"], [0.4444444444444444, \"#bd3786\"], [0.5555555555555556, \"#d8576b\"], [0.6666666666666666, \"#ed7953\"], [0.7777777777777778, \"#fb9f3a\"], [0.8888888888888888, \"#fdca26\"], [1.0, \"#f0f921\"]], \"sequentialminus\": [[0.0, \"#0d0887\"], [0.1111111111111111, \"#46039f\"], [0.2222222222222222, \"#7201a8\"], [0.3333333333333333, \"#9c179e\"], [0.4444444444444444, \"#bd3786\"], [0.5555555555555556, \"#d8576b\"], [0.6666666666666666, \"#ed7953\"], [0.7777777777777778, \"#fb9f3a\"], [0.8888888888888888, \"#fdca26\"], [1.0, \"#f0f921\"]]}, \"colorway\": [\"#636efa\", \"#EF553B\", \"#00cc96\", \"#ab63fa\", \"#FFA15A\", \"#19d3f3\", \"#FF6692\", \"#B6E880\", \"#FF97FF\", \"#FECB52\"], \"font\": {\"color\": \"#2a3f5f\"}, \"geo\": {\"bgcolor\": \"white\", \"lakecolor\": \"white\", \"landcolor\": \"#E5ECF6\", \"showlakes\": true, \"showland\": true, \"subunitcolor\": \"white\"}, \"hoverlabel\": {\"align\": \"left\"}, \"hovermode\": \"closest\", \"mapbox\": {\"style\": \"light\"}, \"paper_bgcolor\": \"white\", \"plot_bgcolor\": \"#E5ECF6\", \"polar\": {\"angularaxis\": {\"gridcolor\": \"white\", \"linecolor\": \"white\", \"ticks\": \"\"}, \"bgcolor\": \"#E5ECF6\", \"radialaxis\": {\"gridcolor\": \"white\", \"linecolor\": \"white\", \"ticks\": \"\"}}, \"scene\": {\"xaxis\": {\"backgroundcolor\": \"#E5ECF6\", \"gridcolor\": \"white\", \"gridwidth\": 2, \"linecolor\": \"white\", \"showbackground\": true, \"ticks\": \"\", \"zerolinecolor\": \"white\"}, \"yaxis\": {\"backgroundcolor\": \"#E5ECF6\", \"gridcolor\": \"white\", \"gridwidth\": 2, \"linecolor\": \"white\", \"showbackground\": true, \"ticks\": \"\", \"zerolinecolor\": \"white\"}, \"zaxis\": {\"backgroundcolor\": \"#E5ECF6\", \"gridcolor\": \"white\", \"gridwidth\": 2, \"linecolor\": \"white\", \"showbackground\": true, \"ticks\": \"\", \"zerolinecolor\": \"white\"}}, \"shapedefaults\": {\"line\": {\"color\": \"#2a3f5f\"}}, \"ternary\": {\"aaxis\": {\"gridcolor\": \"white\", \"linecolor\": \"white\", \"ticks\": \"\"}, \"baxis\": {\"gridcolor\": \"white\", \"linecolor\": \"white\", \"ticks\": \"\"}, \"bgcolor\": \"#E5ECF6\", \"caxis\": {\"gridcolor\": \"white\", \"linecolor\": \"white\", \"ticks\": \"\"}}, \"title\": {\"x\": 0.05}, \"xaxis\": {\"automargin\": true, \"gridcolor\": \"white\", \"linecolor\": \"white\", \"ticks\": \"\", \"title\": {\"standoff\": 15}, \"zerolinecolor\": \"white\", \"zerolinewidth\": 2}, \"yaxis\": {\"automargin\": true, \"gridcolor\": \"white\", \"linecolor\": \"white\", \"ticks\": \"\", \"title\": {\"standoff\": 15}, \"zerolinecolor\": \"white\", \"zerolinewidth\": 2}}}, \"title\": {\"font\": {\"color\": \"#4D5663\"}}, \"xaxis\": {\"gridcolor\": \"#E1E5ED\", \"showgrid\": true, \"tickfont\": {\"color\": \"#4D5663\"}, \"title\": {\"font\": {\"color\": \"#4D5663\"}, \"text\": \"\"}, \"zerolinecolor\": \"#E1E5ED\"}, \"yaxis\": {\"gridcolor\": \"#E1E5ED\", \"showgrid\": true, \"tickfont\": {\"color\": \"#4D5663\"}, \"title\": {\"font\": {\"color\": \"#4D5663\"}, \"text\": \"\"}, \"zerolinecolor\": \"#E1E5ED\"}},                        {\"showLink\": true, \"linkText\": \"Export to plot.ly\", \"plotlyServerURL\": \"https://plot.ly\", \"responsive\": true}                    ).then(function(){\n",
       "                            \n",
       "var gd = document.getElementById('2a04dac0-4af8-43cc-941c-9fdfd619a513');\n",
       "var x = new MutationObserver(function (mutations, observer) {{\n",
       "        var display = window.getComputedStyle(gd).display;\n",
       "        if (!display || display === 'none') {{\n",
       "            console.log([gd, 'removed!']);\n",
       "            Plotly.purge(gd);\n",
       "            observer.disconnect();\n",
       "        }}\n",
       "}});\n",
       "\n",
       "// Listen for the removal of the full notebook cells\n",
       "var notebookContainer = gd.closest('#notebook-container');\n",
       "if (notebookContainer) {{\n",
       "    x.observe(notebookContainer, {childList: true});\n",
       "}}\n",
       "\n",
       "// Listen for the clearing of the current output cell\n",
       "var outputEl = gd.closest('.output');\n",
       "if (outputEl) {{\n",
       "    x.observe(outputEl, {childList: true});\n",
       "}}\n",
       "\n",
       "                        })                };                });            </script>        </div>"
      ]
     },
     "metadata": {},
     "output_type": "display_data"
    }
   ],
   "source": [
    "df2.iplot(kind = 'bar',x = 'Category',y ='Values' )"
   ]
  },
  {
   "cell_type": "code",
   "execution_count": 48,
   "metadata": {},
   "outputs": [
    {
     "data": {
      "application/vnd.plotly.v1+json": {
       "config": {
        "linkText": "Export to plot.ly",
        "plotlyServerURL": "https://plot.ly",
        "showLink": true
       },
       "data": [
        {
         "line": {
          "color": "rgba(255, 153, 51, 1.0)",
          "dash": "solid",
          "shape": "linear",
          "width": 1.3
         },
         "mode": "lines",
         "name": "A",
         "text": "",
         "type": "scatter",
         "x": [
          0,
          1,
          2,
          3,
          4,
          5,
          6,
          7,
          8,
          9,
          10,
          11,
          12,
          13,
          14,
          15,
          16,
          17,
          18,
          19,
          20,
          21,
          22,
          23,
          24,
          25,
          26,
          27,
          28,
          29,
          30,
          31,
          32,
          33,
          34,
          35,
          36,
          37,
          38,
          39,
          40,
          41,
          42,
          43,
          44,
          45,
          46,
          47,
          48,
          49,
          50,
          51,
          52,
          53,
          54,
          55,
          56,
          57,
          58,
          59,
          60,
          61,
          62,
          63,
          64,
          65,
          66,
          67,
          68,
          69,
          70,
          71,
          72,
          73,
          74,
          75,
          76,
          77,
          78,
          79,
          80,
          81,
          82,
          83,
          84,
          85,
          86,
          87,
          88,
          89,
          90,
          91,
          92,
          93,
          94,
          95,
          96,
          97,
          98,
          99
         ],
         "y": [
          2.456864478612622,
          -2.2527239798611314,
          -2.2929421848992426,
          0.356852081716104,
          -0.25027565803004814,
          -0.4352308180980923,
          -1.7870622081171643,
          -0.4231246753923552,
          0.9739696613755218,
          0.3992265559510478,
          -0.23910651236066105,
          0.23931071399692622,
          0.09131078371117889,
          0.18231030225450318,
          -1.6770467131592837,
          0.6723336270661157,
          0.24807428163009063,
          -0.7626192979780793,
          -1.485650151616024,
          -2.068322142166952,
          -0.816661798988874,
          -0.4390293659026417,
          -0.17638692762077884,
          1.3693036243446226,
          -0.8838873911315334,
          1.4781184141206263,
          1.0204354409755043,
          0.6677895888357839,
          1.307300361914305,
          0.381526666995544,
          0.6990207531066948,
          -0.19170954656039826,
          -1.6176627483135664,
          -1.4378015404747206,
          -0.3089839408391603,
          -0.7042330548807497,
          0.1686533561355506,
          -0.2719197995344573,
          0.5554967812631001,
          0.9774118356605086,
          -0.5675670254061104,
          1.8147360416350493,
          -0.2076775115236604,
          1.396211557548168,
          -0.2196247534199206,
          1.257667737581909,
          0.09999079328644785,
          0.40953832839299614,
          0.5181168335779327,
          -0.6408375541457859,
          0.9059451776285394,
          0.6233470810053362,
          -0.4067115357546892,
          0.01083130229600319,
          0.5789254579976282,
          0.04246809985210584,
          1.2652109502899274,
          0.05171788485414968,
          -0.678433959764289,
          -0.6715016710873373,
          1.1674003643390756,
          0.6963027212152043,
          -0.6872552716565266,
          0.35043630517555296,
          1.697039109276328,
          -0.16517053629799128,
          0.23807020983462962,
          1.036859207986987,
          -1.0626416110243735,
          -0.5436189635055533,
          -1.0935424145198833,
          0.31040749316377236,
          -0.19753243030570042,
          -2.7090402836025933,
          -1.5646909709019092,
          0.521645062440777,
          -0.5002630539043543,
          -0.2690104841331373,
          1.3310061232297976,
          -1.5183182964218291,
          0.48398557607624765,
          -1.6832106492361594,
          -0.40954112536213994,
          0.4724488127081655,
          2.1196763199373585,
          0.19754555336208063,
          -0.9074605490975094,
          0.15313865789208797,
          1.351762250817329,
          -0.396385824284584,
          1.1476851047106436,
          0.5740494843237829,
          1.0697578479613916,
          -0.046560497298113845,
          -0.2897030805682362,
          0.1679496946692134,
          -1.3517488543120035,
          0.4667484204157006,
          0.2629850168256431,
          -0.6432433834067868
         ]
        },
        {
         "line": {
          "color": "rgba(55, 128, 191, 1.0)",
          "dash": "solid",
          "shape": "linear",
          "width": 1.3
         },
         "mode": "lines",
         "name": "B",
         "text": "",
         "type": "scatter",
         "x": [
          0,
          1,
          2,
          3,
          4,
          5,
          6,
          7,
          8,
          9,
          10,
          11,
          12,
          13,
          14,
          15,
          16,
          17,
          18,
          19,
          20,
          21,
          22,
          23,
          24,
          25,
          26,
          27,
          28,
          29,
          30,
          31,
          32,
          33,
          34,
          35,
          36,
          37,
          38,
          39,
          40,
          41,
          42,
          43,
          44,
          45,
          46,
          47,
          48,
          49,
          50,
          51,
          52,
          53,
          54,
          55,
          56,
          57,
          58,
          59,
          60,
          61,
          62,
          63,
          64,
          65,
          66,
          67,
          68,
          69,
          70,
          71,
          72,
          73,
          74,
          75,
          76,
          77,
          78,
          79,
          80,
          81,
          82,
          83,
          84,
          85,
          86,
          87,
          88,
          89,
          90,
          91,
          92,
          93,
          94,
          95,
          96,
          97,
          98,
          99
         ],
         "y": [
          0.7585713004881539,
          0.9369508008274443,
          2.8786377067420803,
          -0.9753733963764035,
          -1.973314268207836,
          -1.1926729745541216,
          1.7788975258488893,
          -2.739702907163809,
          0.7818386057295666,
          0.5557853197699847,
          1.1308138994045913,
          -0.03394713504751146,
          -0.24674661567520484,
          0.9048576983121975,
          -0.06399742714620238,
          -0.29553159925198297,
          1.4480226716018347,
          -0.9287181429895608,
          -1.1584119641019608,
          0.32889625773459297,
          0.007753273055508445,
          -0.05820317171635984,
          -0.15155706936588884,
          0.19472617657474028,
          -0.7964170541897511,
          -0.4322192069305809,
          -0.9445672117722083,
          0.014770905297994949,
          -0.35176557796450886,
          1.0195066876159382,
          0.784707646326061,
          -0.3250669031761666,
          0.9277017170808991,
          0.7600764488098469,
          1.758123577307258,
          0.1842424508247556,
          0.8128516170296418,
          1.0898631416458546,
          1.2891007860044672,
          -0.8697391961812799,
          -0.45653154226280335,
          -1.0361046760709498,
          0.7559270918670371,
          -2.061501740649847,
          1.4092710565201825,
          -0.256631908090931,
          -1.5750591677500945,
          0.9245690218077082,
          -0.9061675814715107,
          0.37584618766234756,
          -1.2415901387761887,
          1.1957546846050047,
          1.959991039843966,
          -0.8996322472799549,
          -1.0475054321530737,
          -0.6490377881974029,
          0.3837783651423651,
          -0.037591221147904176,
          0.3264691997676207,
          0.8351240175627819,
          1.3407659055312469,
          0.7664492600505355,
          0.34707865407662625,
          0.4374355620108727,
          0.4206434136296037,
          0.11449523490312948,
          0.050628931196152235,
          1.7227632992759434,
          -0.02044643276147327,
          -0.4372433743237419,
          -1.6823925218882394,
          0.059972603940122146,
          1.586091742340369,
          -0.611607758287968,
          -0.4515418116623536,
          0.6764102158345765,
          -1.5778251431922758,
          0.531490498101667,
          0.29467461455975935,
          -0.4096067239508892,
          -1.928942981094565,
          -0.10329196872552136,
          0.7700000706766272,
          0.4424794882193026,
          -0.3296786777745359,
          -1.4801841351888587,
          0.39132986150267235,
          1.187930182494079,
          -1.2766734843288627,
          -0.502946174955512,
          0.3430738507677682,
          0.39802770458241576,
          -1.6533098903298877,
          -0.5168646022711108,
          0.38758251120651555,
          -0.291875675770869,
          -1.164864245517917,
          1.3999539696360548,
          -1.9115176187985556,
          0.4970235858917134
         ]
        },
        {
         "connectgaps": false,
         "fill": "tozeroy",
         "line": {
          "color": "green",
          "dash": "solid",
          "shape": "linear",
          "width": 0.5
         },
         "mode": "lines",
         "name": "Spread",
         "showlegend": false,
         "type": "scatter",
         "x": [
          0,
          1,
          2,
          3,
          4,
          5,
          6,
          7,
          8,
          9,
          10,
          11,
          12,
          13,
          14,
          15,
          16,
          17,
          18,
          19,
          20,
          21,
          22,
          23,
          24,
          25,
          26,
          27,
          28,
          29,
          30,
          31,
          32,
          33,
          34,
          35,
          36,
          37,
          38,
          39,
          40,
          41,
          42,
          43,
          44,
          45,
          46,
          47,
          48,
          49,
          50,
          51,
          52,
          53,
          54,
          55,
          56,
          57,
          58,
          59,
          60,
          61,
          62,
          63,
          64,
          65,
          66,
          67,
          68,
          69,
          70,
          71,
          72,
          73,
          74,
          75,
          76,
          77,
          78,
          79,
          80,
          81,
          82,
          83,
          84,
          85,
          86,
          87,
          88,
          89,
          90,
          91,
          92,
          93,
          94,
          95,
          96,
          97,
          98,
          99
         ],
         "xaxis": "x2",
         "y": [
          1.6982931781244681,
          "",
          "",
          1.3322254780925076,
          1.7230386101777877,
          0.7574421564560293,
          "",
          2.3165782317714534,
          0.19213105564595512,
          "",
          "",
          0.2732578490444377,
          0.33805739938638374,
          "",
          "",
          0.9678652263180987,
          "",
          0.16609884501148153,
          "",
          "",
          "",
          "",
          "",
          1.1745774477698823,
          "",
          1.910337621051207,
          1.9650026527477125,
          0.6530186835377889,
          1.659065939878814,
          "",
          "",
          0.13335735661576834,
          "",
          "",
          "",
          "",
          "",
          "",
          "",
          1.8471510318417885,
          "",
          2.8508407177059993,
          "",
          3.4577132981980148,
          "",
          1.51429964567284,
          1.6750499610365424,
          "",
          1.4242844150494434,
          "",
          2.147535316404728,
          "",
          "",
          0.9104635495759581,
          1.6264308901507019,
          0.6915058880495087,
          0.8814325851475623,
          0.08930910600205386,
          "",
          "",
          "",
          "",
          "",
          "",
          1.2763956956467242,
          "",
          0.18744127863847737,
          "",
          "",
          "",
          0.5888501073683561,
          0.2504348892236502,
          "",
          "",
          "",
          "",
          1.0775620892879214,
          "",
          1.0363315086700382,
          "",
          2.4129285571708126,
          "",
          "",
          0.029969324488862914,
          2.4493549977118945,
          1.6777296885509394,
          "",
          "",
          2.6284357351461916,
          0.10656035067092795,
          0.8046112539428754,
          0.17602177974136712,
          2.723067738291279,
          0.4703041049729969,
          "",
          0.45982537044008237,
          "",
          "",
          2.174502635624199,
          ""
         ],
         "yaxis": "y2"
        },
        {
         "connectgaps": false,
         "fill": "tozeroy",
         "line": {
          "color": "red",
          "dash": "solid",
          "shape": "linear",
          "width": 0.5
         },
         "mode": "lines",
         "name": "Spread",
         "showlegend": false,
         "type": "scatter",
         "x": [
          0,
          1,
          2,
          3,
          4,
          5,
          6,
          7,
          8,
          9,
          10,
          11,
          12,
          13,
          14,
          15,
          16,
          17,
          18,
          19,
          20,
          21,
          22,
          23,
          24,
          25,
          26,
          27,
          28,
          29,
          30,
          31,
          32,
          33,
          34,
          35,
          36,
          37,
          38,
          39,
          40,
          41,
          42,
          43,
          44,
          45,
          46,
          47,
          48,
          49,
          50,
          51,
          52,
          53,
          54,
          55,
          56,
          57,
          58,
          59,
          60,
          61,
          62,
          63,
          64,
          65,
          66,
          67,
          68,
          69,
          70,
          71,
          72,
          73,
          74,
          75,
          76,
          77,
          78,
          79,
          80,
          81,
          82,
          83,
          84,
          85,
          86,
          87,
          88,
          89,
          90,
          91,
          92,
          93,
          94,
          95,
          96,
          97,
          98,
          99
         ],
         "xaxis": "x2",
         "y": [
          "",
          -3.1896747806885757,
          -5.171579891641323,
          "",
          "",
          "",
          -3.5659597339660536,
          "",
          "",
          -0.1565587638189369,
          -1.3699204117652524,
          "",
          "",
          -0.7225473960576944,
          -1.6130492860130814,
          "",
          -1.199948389971744,
          "",
          -0.3272381875140633,
          -2.3972183999015453,
          -0.8244150720443825,
          -0.38082619418628183,
          -0.024829858254890008,
          "",
          -0.0874703369417823,
          "",
          "",
          "",
          "",
          -0.6379800206203943,
          -0.08568689321936629,
          "",
          -2.5453644653944654,
          -2.1978779892845677,
          -2.0671075181464182,
          -0.8884755057055054,
          -0.6441982608940913,
          -1.361782941180312,
          -0.7336040047413671,
          "",
          -0.11103548314330702,
          "",
          -0.9636046033906975,
          "",
          -1.628895809940103,
          "",
          "",
          -0.515030693414712,
          "",
          -1.0166837418081336,
          "",
          -0.5724076035996685,
          -2.366702575598655,
          "",
          "",
          "",
          "",
          "",
          -1.0049031595319096,
          -1.5066256886501193,
          -0.1733655411921713,
          -0.07014653883533117,
          -1.0343339257331527,
          -0.08699925683531973,
          "",
          -0.27966577120112074,
          "",
          -0.6859040912889565,
          -1.0421951782629002,
          -0.10637558918181139,
          "",
          "",
          -1.7836241726460695,
          -2.097432525314625,
          -1.1131491592395557,
          -0.15476515339379948,
          "",
          -0.8005009822348044,
          "",
          -1.10871157247094,
          "",
          -1.579918680510638,
          -1.1795411960387672,
          "",
          "",
          "",
          -1.2987904106001817,
          -1.034791524601991,
          "",
          "",
          "",
          "",
          "",
          "",
          -0.6772855917747518,
          "",
          -0.18688460879408653,
          -0.9332055492203541,
          "",
          -1.1402669692985001
         ],
         "yaxis": "y2"
        }
       ],
       "layout": {
        "hovermode": "x",
        "legend": {
         "bgcolor": "#F5F6F9",
         "font": {
          "color": "#4D5663"
         }
        },
        "paper_bgcolor": "#F5F6F9",
        "plot_bgcolor": "#F5F6F9",
        "template": {
         "data": {
          "bar": [
           {
            "error_x": {
             "color": "#2a3f5f"
            },
            "error_y": {
             "color": "#2a3f5f"
            },
            "marker": {
             "line": {
              "color": "#E5ECF6",
              "width": 0.5
             }
            },
            "type": "bar"
           }
          ],
          "barpolar": [
           {
            "marker": {
             "line": {
              "color": "#E5ECF6",
              "width": 0.5
             }
            },
            "type": "barpolar"
           }
          ],
          "carpet": [
           {
            "aaxis": {
             "endlinecolor": "#2a3f5f",
             "gridcolor": "white",
             "linecolor": "white",
             "minorgridcolor": "white",
             "startlinecolor": "#2a3f5f"
            },
            "baxis": {
             "endlinecolor": "#2a3f5f",
             "gridcolor": "white",
             "linecolor": "white",
             "minorgridcolor": "white",
             "startlinecolor": "#2a3f5f"
            },
            "type": "carpet"
           }
          ],
          "choropleth": [
           {
            "colorbar": {
             "outlinewidth": 0,
             "ticks": ""
            },
            "type": "choropleth"
           }
          ],
          "contour": [
           {
            "colorbar": {
             "outlinewidth": 0,
             "ticks": ""
            },
            "colorscale": [
             [
              0,
              "#0d0887"
             ],
             [
              0.1111111111111111,
              "#46039f"
             ],
             [
              0.2222222222222222,
              "#7201a8"
             ],
             [
              0.3333333333333333,
              "#9c179e"
             ],
             [
              0.4444444444444444,
              "#bd3786"
             ],
             [
              0.5555555555555556,
              "#d8576b"
             ],
             [
              0.6666666666666666,
              "#ed7953"
             ],
             [
              0.7777777777777778,
              "#fb9f3a"
             ],
             [
              0.8888888888888888,
              "#fdca26"
             ],
             [
              1,
              "#f0f921"
             ]
            ],
            "type": "contour"
           }
          ],
          "contourcarpet": [
           {
            "colorbar": {
             "outlinewidth": 0,
             "ticks": ""
            },
            "type": "contourcarpet"
           }
          ],
          "heatmap": [
           {
            "colorbar": {
             "outlinewidth": 0,
             "ticks": ""
            },
            "colorscale": [
             [
              0,
              "#0d0887"
             ],
             [
              0.1111111111111111,
              "#46039f"
             ],
             [
              0.2222222222222222,
              "#7201a8"
             ],
             [
              0.3333333333333333,
              "#9c179e"
             ],
             [
              0.4444444444444444,
              "#bd3786"
             ],
             [
              0.5555555555555556,
              "#d8576b"
             ],
             [
              0.6666666666666666,
              "#ed7953"
             ],
             [
              0.7777777777777778,
              "#fb9f3a"
             ],
             [
              0.8888888888888888,
              "#fdca26"
             ],
             [
              1,
              "#f0f921"
             ]
            ],
            "type": "heatmap"
           }
          ],
          "heatmapgl": [
           {
            "colorbar": {
             "outlinewidth": 0,
             "ticks": ""
            },
            "colorscale": [
             [
              0,
              "#0d0887"
             ],
             [
              0.1111111111111111,
              "#46039f"
             ],
             [
              0.2222222222222222,
              "#7201a8"
             ],
             [
              0.3333333333333333,
              "#9c179e"
             ],
             [
              0.4444444444444444,
              "#bd3786"
             ],
             [
              0.5555555555555556,
              "#d8576b"
             ],
             [
              0.6666666666666666,
              "#ed7953"
             ],
             [
              0.7777777777777778,
              "#fb9f3a"
             ],
             [
              0.8888888888888888,
              "#fdca26"
             ],
             [
              1,
              "#f0f921"
             ]
            ],
            "type": "heatmapgl"
           }
          ],
          "histogram": [
           {
            "marker": {
             "colorbar": {
              "outlinewidth": 0,
              "ticks": ""
             }
            },
            "type": "histogram"
           }
          ],
          "histogram2d": [
           {
            "colorbar": {
             "outlinewidth": 0,
             "ticks": ""
            },
            "colorscale": [
             [
              0,
              "#0d0887"
             ],
             [
              0.1111111111111111,
              "#46039f"
             ],
             [
              0.2222222222222222,
              "#7201a8"
             ],
             [
              0.3333333333333333,
              "#9c179e"
             ],
             [
              0.4444444444444444,
              "#bd3786"
             ],
             [
              0.5555555555555556,
              "#d8576b"
             ],
             [
              0.6666666666666666,
              "#ed7953"
             ],
             [
              0.7777777777777778,
              "#fb9f3a"
             ],
             [
              0.8888888888888888,
              "#fdca26"
             ],
             [
              1,
              "#f0f921"
             ]
            ],
            "type": "histogram2d"
           }
          ],
          "histogram2dcontour": [
           {
            "colorbar": {
             "outlinewidth": 0,
             "ticks": ""
            },
            "colorscale": [
             [
              0,
              "#0d0887"
             ],
             [
              0.1111111111111111,
              "#46039f"
             ],
             [
              0.2222222222222222,
              "#7201a8"
             ],
             [
              0.3333333333333333,
              "#9c179e"
             ],
             [
              0.4444444444444444,
              "#bd3786"
             ],
             [
              0.5555555555555556,
              "#d8576b"
             ],
             [
              0.6666666666666666,
              "#ed7953"
             ],
             [
              0.7777777777777778,
              "#fb9f3a"
             ],
             [
              0.8888888888888888,
              "#fdca26"
             ],
             [
              1,
              "#f0f921"
             ]
            ],
            "type": "histogram2dcontour"
           }
          ],
          "mesh3d": [
           {
            "colorbar": {
             "outlinewidth": 0,
             "ticks": ""
            },
            "type": "mesh3d"
           }
          ],
          "parcoords": [
           {
            "line": {
             "colorbar": {
              "outlinewidth": 0,
              "ticks": ""
             }
            },
            "type": "parcoords"
           }
          ],
          "pie": [
           {
            "automargin": true,
            "type": "pie"
           }
          ],
          "scatter": [
           {
            "marker": {
             "colorbar": {
              "outlinewidth": 0,
              "ticks": ""
             }
            },
            "type": "scatter"
           }
          ],
          "scatter3d": [
           {
            "line": {
             "colorbar": {
              "outlinewidth": 0,
              "ticks": ""
             }
            },
            "marker": {
             "colorbar": {
              "outlinewidth": 0,
              "ticks": ""
             }
            },
            "type": "scatter3d"
           }
          ],
          "scattercarpet": [
           {
            "marker": {
             "colorbar": {
              "outlinewidth": 0,
              "ticks": ""
             }
            },
            "type": "scattercarpet"
           }
          ],
          "scattergeo": [
           {
            "marker": {
             "colorbar": {
              "outlinewidth": 0,
              "ticks": ""
             }
            },
            "type": "scattergeo"
           }
          ],
          "scattergl": [
           {
            "marker": {
             "colorbar": {
              "outlinewidth": 0,
              "ticks": ""
             }
            },
            "type": "scattergl"
           }
          ],
          "scattermapbox": [
           {
            "marker": {
             "colorbar": {
              "outlinewidth": 0,
              "ticks": ""
             }
            },
            "type": "scattermapbox"
           }
          ],
          "scatterpolar": [
           {
            "marker": {
             "colorbar": {
              "outlinewidth": 0,
              "ticks": ""
             }
            },
            "type": "scatterpolar"
           }
          ],
          "scatterpolargl": [
           {
            "marker": {
             "colorbar": {
              "outlinewidth": 0,
              "ticks": ""
             }
            },
            "type": "scatterpolargl"
           }
          ],
          "scatterternary": [
           {
            "marker": {
             "colorbar": {
              "outlinewidth": 0,
              "ticks": ""
             }
            },
            "type": "scatterternary"
           }
          ],
          "surface": [
           {
            "colorbar": {
             "outlinewidth": 0,
             "ticks": ""
            },
            "colorscale": [
             [
              0,
              "#0d0887"
             ],
             [
              0.1111111111111111,
              "#46039f"
             ],
             [
              0.2222222222222222,
              "#7201a8"
             ],
             [
              0.3333333333333333,
              "#9c179e"
             ],
             [
              0.4444444444444444,
              "#bd3786"
             ],
             [
              0.5555555555555556,
              "#d8576b"
             ],
             [
              0.6666666666666666,
              "#ed7953"
             ],
             [
              0.7777777777777778,
              "#fb9f3a"
             ],
             [
              0.8888888888888888,
              "#fdca26"
             ],
             [
              1,
              "#f0f921"
             ]
            ],
            "type": "surface"
           }
          ],
          "table": [
           {
            "cells": {
             "fill": {
              "color": "#EBF0F8"
             },
             "line": {
              "color": "white"
             }
            },
            "header": {
             "fill": {
              "color": "#C8D4E3"
             },
             "line": {
              "color": "white"
             }
            },
            "type": "table"
           }
          ]
         },
         "layout": {
          "annotationdefaults": {
           "arrowcolor": "#2a3f5f",
           "arrowhead": 0,
           "arrowwidth": 1
          },
          "coloraxis": {
           "colorbar": {
            "outlinewidth": 0,
            "ticks": ""
           }
          },
          "colorscale": {
           "diverging": [
            [
             0,
             "#8e0152"
            ],
            [
             0.1,
             "#c51b7d"
            ],
            [
             0.2,
             "#de77ae"
            ],
            [
             0.3,
             "#f1b6da"
            ],
            [
             0.4,
             "#fde0ef"
            ],
            [
             0.5,
             "#f7f7f7"
            ],
            [
             0.6,
             "#e6f5d0"
            ],
            [
             0.7,
             "#b8e186"
            ],
            [
             0.8,
             "#7fbc41"
            ],
            [
             0.9,
             "#4d9221"
            ],
            [
             1,
             "#276419"
            ]
           ],
           "sequential": [
            [
             0,
             "#0d0887"
            ],
            [
             0.1111111111111111,
             "#46039f"
            ],
            [
             0.2222222222222222,
             "#7201a8"
            ],
            [
             0.3333333333333333,
             "#9c179e"
            ],
            [
             0.4444444444444444,
             "#bd3786"
            ],
            [
             0.5555555555555556,
             "#d8576b"
            ],
            [
             0.6666666666666666,
             "#ed7953"
            ],
            [
             0.7777777777777778,
             "#fb9f3a"
            ],
            [
             0.8888888888888888,
             "#fdca26"
            ],
            [
             1,
             "#f0f921"
            ]
           ],
           "sequentialminus": [
            [
             0,
             "#0d0887"
            ],
            [
             0.1111111111111111,
             "#46039f"
            ],
            [
             0.2222222222222222,
             "#7201a8"
            ],
            [
             0.3333333333333333,
             "#9c179e"
            ],
            [
             0.4444444444444444,
             "#bd3786"
            ],
            [
             0.5555555555555556,
             "#d8576b"
            ],
            [
             0.6666666666666666,
             "#ed7953"
            ],
            [
             0.7777777777777778,
             "#fb9f3a"
            ],
            [
             0.8888888888888888,
             "#fdca26"
            ],
            [
             1,
             "#f0f921"
            ]
           ]
          },
          "colorway": [
           "#636efa",
           "#EF553B",
           "#00cc96",
           "#ab63fa",
           "#FFA15A",
           "#19d3f3",
           "#FF6692",
           "#B6E880",
           "#FF97FF",
           "#FECB52"
          ],
          "font": {
           "color": "#2a3f5f"
          },
          "geo": {
           "bgcolor": "white",
           "lakecolor": "white",
           "landcolor": "#E5ECF6",
           "showlakes": true,
           "showland": true,
           "subunitcolor": "white"
          },
          "hoverlabel": {
           "align": "left"
          },
          "hovermode": "closest",
          "mapbox": {
           "style": "light"
          },
          "paper_bgcolor": "white",
          "plot_bgcolor": "#E5ECF6",
          "polar": {
           "angularaxis": {
            "gridcolor": "white",
            "linecolor": "white",
            "ticks": ""
           },
           "bgcolor": "#E5ECF6",
           "radialaxis": {
            "gridcolor": "white",
            "linecolor": "white",
            "ticks": ""
           }
          },
          "scene": {
           "xaxis": {
            "backgroundcolor": "#E5ECF6",
            "gridcolor": "white",
            "gridwidth": 2,
            "linecolor": "white",
            "showbackground": true,
            "ticks": "",
            "zerolinecolor": "white"
           },
           "yaxis": {
            "backgroundcolor": "#E5ECF6",
            "gridcolor": "white",
            "gridwidth": 2,
            "linecolor": "white",
            "showbackground": true,
            "ticks": "",
            "zerolinecolor": "white"
           },
           "zaxis": {
            "backgroundcolor": "#E5ECF6",
            "gridcolor": "white",
            "gridwidth": 2,
            "linecolor": "white",
            "showbackground": true,
            "ticks": "",
            "zerolinecolor": "white"
           }
          },
          "shapedefaults": {
           "line": {
            "color": "#2a3f5f"
           }
          },
          "ternary": {
           "aaxis": {
            "gridcolor": "white",
            "linecolor": "white",
            "ticks": ""
           },
           "baxis": {
            "gridcolor": "white",
            "linecolor": "white",
            "ticks": ""
           },
           "bgcolor": "#E5ECF6",
           "caxis": {
            "gridcolor": "white",
            "linecolor": "white",
            "ticks": ""
           }
          },
          "title": {
           "x": 0.05
          },
          "xaxis": {
           "automargin": true,
           "gridcolor": "white",
           "linecolor": "white",
           "ticks": "",
           "title": {
            "standoff": 15
           },
           "zerolinecolor": "white",
           "zerolinewidth": 2
          },
          "yaxis": {
           "automargin": true,
           "gridcolor": "white",
           "linecolor": "white",
           "ticks": "",
           "title": {
            "standoff": 15
           },
           "zerolinecolor": "white",
           "zerolinewidth": 2
          }
         }
        },
        "title": {
         "font": {
          "color": "#4D5663"
         }
        },
        "xaxis": {
         "gridcolor": "#E1E5ED",
         "showgrid": true,
         "tickfont": {
          "color": "#4D5663"
         },
         "title": {
          "font": {
           "color": "#4D5663"
          },
          "text": ""
         },
         "zerolinecolor": "#E1E5ED"
        },
        "xaxis2": {
         "anchor": "y2",
         "gridcolor": "#E1E5ED",
         "showgrid": true,
         "showticklabels": false,
         "tickfont": {
          "color": "#4D5663"
         },
         "title": {
          "font": {
           "color": "#4D5663"
          },
          "text": ""
         },
         "zerolinecolor": "#E1E5ED"
        },
        "yaxis": {
         "domain": [
          0.3,
          1
         ],
         "gridcolor": "#E1E5ED",
         "showgrid": true,
         "tickfont": {
          "color": "#4D5663"
         },
         "title": {
          "font": {
           "color": "#4D5663"
          },
          "text": ""
         },
         "zerolinecolor": "#E1E5ED"
        },
        "yaxis2": {
         "domain": [
          0,
          0.25
         ],
         "gridcolor": "#E1E5ED",
         "showgrid": true,
         "tickfont": {
          "color": "#4D5663"
         },
         "title": {
          "font": {
           "color": "#4D5663"
          },
          "text": "Spread"
         },
         "zerolinecolor": "#E1E5ED"
        }
       }
      },
      "text/html": [
       "<div>                            <div id=\"2abf220f-a967-4f55-810f-2283a3227e3e\" class=\"plotly-graph-div\" style=\"height:525px; width:100%;\"></div>            <script type=\"text/javascript\">                require([\"plotly\"], function(Plotly) {                    window.PLOTLYENV=window.PLOTLYENV || {};\n",
       "                    window.PLOTLYENV.BASE_URL='https://plot.ly';                                    if (document.getElementById(\"2abf220f-a967-4f55-810f-2283a3227e3e\")) {                    Plotly.newPlot(                        \"2abf220f-a967-4f55-810f-2283a3227e3e\",                        [{\"line\": {\"color\": \"rgba(255, 153, 51, 1.0)\", \"dash\": \"solid\", \"shape\": \"linear\", \"width\": 1.3}, \"mode\": \"lines\", \"name\": \"A\", \"text\": \"\", \"type\": \"scatter\", \"x\": [0, 1, 2, 3, 4, 5, 6, 7, 8, 9, 10, 11, 12, 13, 14, 15, 16, 17, 18, 19, 20, 21, 22, 23, 24, 25, 26, 27, 28, 29, 30, 31, 32, 33, 34, 35, 36, 37, 38, 39, 40, 41, 42, 43, 44, 45, 46, 47, 48, 49, 50, 51, 52, 53, 54, 55, 56, 57, 58, 59, 60, 61, 62, 63, 64, 65, 66, 67, 68, 69, 70, 71, 72, 73, 74, 75, 76, 77, 78, 79, 80, 81, 82, 83, 84, 85, 86, 87, 88, 89, 90, 91, 92, 93, 94, 95, 96, 97, 98, 99], \"y\": [2.456864478612622, -2.2527239798611314, -2.2929421848992426, 0.356852081716104, -0.25027565803004814, -0.4352308180980923, -1.7870622081171643, -0.4231246753923552, 0.9739696613755218, 0.3992265559510478, -0.23910651236066105, 0.23931071399692622, 0.09131078371117889, 0.18231030225450318, -1.6770467131592837, 0.6723336270661157, 0.24807428163009063, -0.7626192979780793, -1.485650151616024, -2.068322142166952, -0.816661798988874, -0.4390293659026417, -0.17638692762077884, 1.3693036243446226, -0.8838873911315334, 1.4781184141206263, 1.0204354409755043, 0.6677895888357839, 1.307300361914305, 0.381526666995544, 0.6990207531066948, -0.19170954656039826, -1.6176627483135664, -1.4378015404747206, -0.3089839408391603, -0.7042330548807497, 0.1686533561355506, -0.2719197995344573, 0.5554967812631001, 0.9774118356605086, -0.5675670254061104, 1.8147360416350493, -0.2076775115236604, 1.396211557548168, -0.2196247534199206, 1.257667737581909, 0.09999079328644785, 0.40953832839299614, 0.5181168335779327, -0.6408375541457859, 0.9059451776285394, 0.6233470810053362, -0.4067115357546892, 0.01083130229600319, 0.5789254579976282, 0.04246809985210584, 1.2652109502899274, 0.05171788485414968, -0.678433959764289, -0.6715016710873373, 1.1674003643390756, 0.6963027212152043, -0.6872552716565266, 0.35043630517555296, 1.697039109276328, -0.16517053629799128, 0.23807020983462962, 1.036859207986987, -1.0626416110243735, -0.5436189635055533, -1.0935424145198833, 0.31040749316377236, -0.19753243030570042, -2.7090402836025933, -1.5646909709019092, 0.521645062440777, -0.5002630539043543, -0.2690104841331373, 1.3310061232297976, -1.5183182964218291, 0.48398557607624765, -1.6832106492361594, -0.40954112536213994, 0.4724488127081655, 2.1196763199373585, 0.19754555336208063, -0.9074605490975094, 0.15313865789208797, 1.351762250817329, -0.396385824284584, 1.1476851047106436, 0.5740494843237829, 1.0697578479613916, -0.046560497298113845, -0.2897030805682362, 0.1679496946692134, -1.3517488543120035, 0.4667484204157006, 0.2629850168256431, -0.6432433834067868]}, {\"line\": {\"color\": \"rgba(55, 128, 191, 1.0)\", \"dash\": \"solid\", \"shape\": \"linear\", \"width\": 1.3}, \"mode\": \"lines\", \"name\": \"B\", \"text\": \"\", \"type\": \"scatter\", \"x\": [0, 1, 2, 3, 4, 5, 6, 7, 8, 9, 10, 11, 12, 13, 14, 15, 16, 17, 18, 19, 20, 21, 22, 23, 24, 25, 26, 27, 28, 29, 30, 31, 32, 33, 34, 35, 36, 37, 38, 39, 40, 41, 42, 43, 44, 45, 46, 47, 48, 49, 50, 51, 52, 53, 54, 55, 56, 57, 58, 59, 60, 61, 62, 63, 64, 65, 66, 67, 68, 69, 70, 71, 72, 73, 74, 75, 76, 77, 78, 79, 80, 81, 82, 83, 84, 85, 86, 87, 88, 89, 90, 91, 92, 93, 94, 95, 96, 97, 98, 99], \"y\": [0.7585713004881539, 0.9369508008274443, 2.8786377067420803, -0.9753733963764035, -1.973314268207836, -1.1926729745541216, 1.7788975258488893, -2.739702907163809, 0.7818386057295666, 0.5557853197699847, 1.1308138994045913, -0.03394713504751146, -0.24674661567520484, 0.9048576983121975, -0.06399742714620238, -0.29553159925198297, 1.4480226716018347, -0.9287181429895608, -1.1584119641019608, 0.32889625773459297, 0.007753273055508445, -0.05820317171635984, -0.15155706936588884, 0.19472617657474028, -0.7964170541897511, -0.4322192069305809, -0.9445672117722083, 0.014770905297994949, -0.35176557796450886, 1.0195066876159382, 0.784707646326061, -0.3250669031761666, 0.9277017170808991, 0.7600764488098469, 1.758123577307258, 0.1842424508247556, 0.8128516170296418, 1.0898631416458546, 1.2891007860044672, -0.8697391961812799, -0.45653154226280335, -1.0361046760709498, 0.7559270918670371, -2.061501740649847, 1.4092710565201825, -0.256631908090931, -1.5750591677500945, 0.9245690218077082, -0.9061675814715107, 0.37584618766234756, -1.2415901387761887, 1.1957546846050047, 1.959991039843966, -0.8996322472799549, -1.0475054321530737, -0.6490377881974029, 0.3837783651423651, -0.037591221147904176, 0.3264691997676207, 0.8351240175627819, 1.3407659055312469, 0.7664492600505355, 0.34707865407662625, 0.4374355620108727, 0.4206434136296037, 0.11449523490312948, 0.050628931196152235, 1.7227632992759434, -0.02044643276147327, -0.4372433743237419, -1.6823925218882394, 0.059972603940122146, 1.586091742340369, -0.611607758287968, -0.4515418116623536, 0.6764102158345765, -1.5778251431922758, 0.531490498101667, 0.29467461455975935, -0.4096067239508892, -1.928942981094565, -0.10329196872552136, 0.7700000706766272, 0.4424794882193026, -0.3296786777745359, -1.4801841351888587, 0.39132986150267235, 1.187930182494079, -1.2766734843288627, -0.502946174955512, 0.3430738507677682, 0.39802770458241576, -1.6533098903298877, -0.5168646022711108, 0.38758251120651555, -0.291875675770869, -1.164864245517917, 1.3999539696360548, -1.9115176187985556, 0.4970235858917134]}, {\"connectgaps\": false, \"fill\": \"tozeroy\", \"line\": {\"color\": \"green\", \"dash\": \"solid\", \"shape\": \"linear\", \"width\": 0.5}, \"mode\": \"lines\", \"name\": \"Spread\", \"showlegend\": false, \"type\": \"scatter\", \"x\": [0, 1, 2, 3, 4, 5, 6, 7, 8, 9, 10, 11, 12, 13, 14, 15, 16, 17, 18, 19, 20, 21, 22, 23, 24, 25, 26, 27, 28, 29, 30, 31, 32, 33, 34, 35, 36, 37, 38, 39, 40, 41, 42, 43, 44, 45, 46, 47, 48, 49, 50, 51, 52, 53, 54, 55, 56, 57, 58, 59, 60, 61, 62, 63, 64, 65, 66, 67, 68, 69, 70, 71, 72, 73, 74, 75, 76, 77, 78, 79, 80, 81, 82, 83, 84, 85, 86, 87, 88, 89, 90, 91, 92, 93, 94, 95, 96, 97, 98, 99], \"xaxis\": \"x2\", \"y\": [1.6982931781244681, \"\", \"\", 1.3322254780925076, 1.7230386101777877, 0.7574421564560293, \"\", 2.3165782317714534, 0.19213105564595512, \"\", \"\", 0.2732578490444377, 0.33805739938638374, \"\", \"\", 0.9678652263180987, \"\", 0.16609884501148153, \"\", \"\", \"\", \"\", \"\", 1.1745774477698823, \"\", 1.910337621051207, 1.9650026527477125, 0.6530186835377889, 1.659065939878814, \"\", \"\", 0.13335735661576834, \"\", \"\", \"\", \"\", \"\", \"\", \"\", 1.8471510318417885, \"\", 2.8508407177059993, \"\", 3.4577132981980148, \"\", 1.51429964567284, 1.6750499610365424, \"\", 1.4242844150494434, \"\", 2.147535316404728, \"\", \"\", 0.9104635495759581, 1.6264308901507019, 0.6915058880495087, 0.8814325851475623, 0.08930910600205386, \"\", \"\", \"\", \"\", \"\", \"\", 1.2763956956467242, \"\", 0.18744127863847737, \"\", \"\", \"\", 0.5888501073683561, 0.2504348892236502, \"\", \"\", \"\", \"\", 1.0775620892879214, \"\", 1.0363315086700382, \"\", 2.4129285571708126, \"\", \"\", 0.029969324488862914, 2.4493549977118945, 1.6777296885509394, \"\", \"\", 2.6284357351461916, 0.10656035067092795, 0.8046112539428754, 0.17602177974136712, 2.723067738291279, 0.4703041049729969, \"\", 0.45982537044008237, \"\", \"\", 2.174502635624199, \"\"], \"yaxis\": \"y2\"}, {\"connectgaps\": false, \"fill\": \"tozeroy\", \"line\": {\"color\": \"red\", \"dash\": \"solid\", \"shape\": \"linear\", \"width\": 0.5}, \"mode\": \"lines\", \"name\": \"Spread\", \"showlegend\": false, \"type\": \"scatter\", \"x\": [0, 1, 2, 3, 4, 5, 6, 7, 8, 9, 10, 11, 12, 13, 14, 15, 16, 17, 18, 19, 20, 21, 22, 23, 24, 25, 26, 27, 28, 29, 30, 31, 32, 33, 34, 35, 36, 37, 38, 39, 40, 41, 42, 43, 44, 45, 46, 47, 48, 49, 50, 51, 52, 53, 54, 55, 56, 57, 58, 59, 60, 61, 62, 63, 64, 65, 66, 67, 68, 69, 70, 71, 72, 73, 74, 75, 76, 77, 78, 79, 80, 81, 82, 83, 84, 85, 86, 87, 88, 89, 90, 91, 92, 93, 94, 95, 96, 97, 98, 99], \"xaxis\": \"x2\", \"y\": [\"\", -3.1896747806885757, -5.171579891641323, \"\", \"\", \"\", -3.5659597339660536, \"\", \"\", -0.1565587638189369, -1.3699204117652524, \"\", \"\", -0.7225473960576944, -1.6130492860130814, \"\", -1.199948389971744, \"\", -0.3272381875140633, -2.3972183999015453, -0.8244150720443825, -0.38082619418628183, -0.024829858254890008, \"\", -0.0874703369417823, \"\", \"\", \"\", \"\", -0.6379800206203943, -0.08568689321936629, \"\", -2.5453644653944654, -2.1978779892845677, -2.0671075181464182, -0.8884755057055054, -0.6441982608940913, -1.361782941180312, -0.7336040047413671, \"\", -0.11103548314330702, \"\", -0.9636046033906975, \"\", -1.628895809940103, \"\", \"\", -0.515030693414712, \"\", -1.0166837418081336, \"\", -0.5724076035996685, -2.366702575598655, \"\", \"\", \"\", \"\", \"\", -1.0049031595319096, -1.5066256886501193, -0.1733655411921713, -0.07014653883533117, -1.0343339257331527, -0.08699925683531973, \"\", -0.27966577120112074, \"\", -0.6859040912889565, -1.0421951782629002, -0.10637558918181139, \"\", \"\", -1.7836241726460695, -2.097432525314625, -1.1131491592395557, -0.15476515339379948, \"\", -0.8005009822348044, \"\", -1.10871157247094, \"\", -1.579918680510638, -1.1795411960387672, \"\", \"\", \"\", -1.2987904106001817, -1.034791524601991, \"\", \"\", \"\", \"\", \"\", \"\", -0.6772855917747518, \"\", -0.18688460879408653, -0.9332055492203541, \"\", -1.1402669692985001], \"yaxis\": \"y2\"}],                        {\"hovermode\": \"x\", \"legend\": {\"bgcolor\": \"#F5F6F9\", \"font\": {\"color\": \"#4D5663\"}}, \"paper_bgcolor\": \"#F5F6F9\", \"plot_bgcolor\": \"#F5F6F9\", \"template\": {\"data\": {\"bar\": [{\"error_x\": {\"color\": \"#2a3f5f\"}, \"error_y\": {\"color\": \"#2a3f5f\"}, \"marker\": {\"line\": {\"color\": \"#E5ECF6\", \"width\": 0.5}}, \"type\": \"bar\"}], \"barpolar\": [{\"marker\": {\"line\": {\"color\": \"#E5ECF6\", \"width\": 0.5}}, \"type\": \"barpolar\"}], \"carpet\": [{\"aaxis\": {\"endlinecolor\": \"#2a3f5f\", \"gridcolor\": \"white\", \"linecolor\": \"white\", \"minorgridcolor\": \"white\", \"startlinecolor\": \"#2a3f5f\"}, \"baxis\": {\"endlinecolor\": \"#2a3f5f\", \"gridcolor\": \"white\", \"linecolor\": \"white\", \"minorgridcolor\": \"white\", \"startlinecolor\": \"#2a3f5f\"}, \"type\": \"carpet\"}], \"choropleth\": [{\"colorbar\": {\"outlinewidth\": 0, \"ticks\": \"\"}, \"type\": \"choropleth\"}], \"contour\": [{\"colorbar\": {\"outlinewidth\": 0, \"ticks\": \"\"}, \"colorscale\": [[0.0, \"#0d0887\"], [0.1111111111111111, \"#46039f\"], [0.2222222222222222, \"#7201a8\"], [0.3333333333333333, \"#9c179e\"], [0.4444444444444444, \"#bd3786\"], [0.5555555555555556, \"#d8576b\"], [0.6666666666666666, \"#ed7953\"], [0.7777777777777778, \"#fb9f3a\"], [0.8888888888888888, \"#fdca26\"], [1.0, \"#f0f921\"]], \"type\": \"contour\"}], \"contourcarpet\": [{\"colorbar\": {\"outlinewidth\": 0, \"ticks\": \"\"}, \"type\": \"contourcarpet\"}], \"heatmap\": [{\"colorbar\": {\"outlinewidth\": 0, \"ticks\": \"\"}, \"colorscale\": [[0.0, \"#0d0887\"], [0.1111111111111111, \"#46039f\"], [0.2222222222222222, \"#7201a8\"], [0.3333333333333333, \"#9c179e\"], [0.4444444444444444, \"#bd3786\"], [0.5555555555555556, \"#d8576b\"], [0.6666666666666666, \"#ed7953\"], [0.7777777777777778, \"#fb9f3a\"], [0.8888888888888888, \"#fdca26\"], [1.0, \"#f0f921\"]], \"type\": \"heatmap\"}], \"heatmapgl\": [{\"colorbar\": {\"outlinewidth\": 0, \"ticks\": \"\"}, \"colorscale\": [[0.0, \"#0d0887\"], [0.1111111111111111, \"#46039f\"], [0.2222222222222222, \"#7201a8\"], [0.3333333333333333, \"#9c179e\"], [0.4444444444444444, \"#bd3786\"], [0.5555555555555556, \"#d8576b\"], [0.6666666666666666, \"#ed7953\"], [0.7777777777777778, \"#fb9f3a\"], [0.8888888888888888, \"#fdca26\"], [1.0, \"#f0f921\"]], \"type\": \"heatmapgl\"}], \"histogram\": [{\"marker\": {\"colorbar\": {\"outlinewidth\": 0, \"ticks\": \"\"}}, \"type\": \"histogram\"}], \"histogram2d\": [{\"colorbar\": {\"outlinewidth\": 0, \"ticks\": \"\"}, \"colorscale\": [[0.0, \"#0d0887\"], [0.1111111111111111, \"#46039f\"], [0.2222222222222222, \"#7201a8\"], [0.3333333333333333, \"#9c179e\"], [0.4444444444444444, \"#bd3786\"], [0.5555555555555556, \"#d8576b\"], [0.6666666666666666, \"#ed7953\"], [0.7777777777777778, \"#fb9f3a\"], [0.8888888888888888, \"#fdca26\"], [1.0, \"#f0f921\"]], \"type\": \"histogram2d\"}], \"histogram2dcontour\": [{\"colorbar\": {\"outlinewidth\": 0, \"ticks\": \"\"}, \"colorscale\": [[0.0, \"#0d0887\"], [0.1111111111111111, \"#46039f\"], [0.2222222222222222, \"#7201a8\"], [0.3333333333333333, \"#9c179e\"], [0.4444444444444444, \"#bd3786\"], [0.5555555555555556, \"#d8576b\"], [0.6666666666666666, \"#ed7953\"], [0.7777777777777778, \"#fb9f3a\"], [0.8888888888888888, \"#fdca26\"], [1.0, \"#f0f921\"]], \"type\": \"histogram2dcontour\"}], \"mesh3d\": [{\"colorbar\": {\"outlinewidth\": 0, \"ticks\": \"\"}, \"type\": \"mesh3d\"}], \"parcoords\": [{\"line\": {\"colorbar\": {\"outlinewidth\": 0, \"ticks\": \"\"}}, \"type\": \"parcoords\"}], \"pie\": [{\"automargin\": true, \"type\": \"pie\"}], \"scatter\": [{\"marker\": {\"colorbar\": {\"outlinewidth\": 0, \"ticks\": \"\"}}, \"type\": \"scatter\"}], \"scatter3d\": [{\"line\": {\"colorbar\": {\"outlinewidth\": 0, \"ticks\": \"\"}}, \"marker\": {\"colorbar\": {\"outlinewidth\": 0, \"ticks\": \"\"}}, \"type\": \"scatter3d\"}], \"scattercarpet\": [{\"marker\": {\"colorbar\": {\"outlinewidth\": 0, \"ticks\": \"\"}}, \"type\": \"scattercarpet\"}], \"scattergeo\": [{\"marker\": {\"colorbar\": {\"outlinewidth\": 0, \"ticks\": \"\"}}, \"type\": \"scattergeo\"}], \"scattergl\": [{\"marker\": {\"colorbar\": {\"outlinewidth\": 0, \"ticks\": \"\"}}, \"type\": \"scattergl\"}], \"scattermapbox\": [{\"marker\": {\"colorbar\": {\"outlinewidth\": 0, \"ticks\": \"\"}}, \"type\": \"scattermapbox\"}], \"scatterpolar\": [{\"marker\": {\"colorbar\": {\"outlinewidth\": 0, \"ticks\": \"\"}}, \"type\": \"scatterpolar\"}], \"scatterpolargl\": [{\"marker\": {\"colorbar\": {\"outlinewidth\": 0, \"ticks\": \"\"}}, \"type\": \"scatterpolargl\"}], \"scatterternary\": [{\"marker\": {\"colorbar\": {\"outlinewidth\": 0, \"ticks\": \"\"}}, \"type\": \"scatterternary\"}], \"surface\": [{\"colorbar\": {\"outlinewidth\": 0, \"ticks\": \"\"}, \"colorscale\": [[0.0, \"#0d0887\"], [0.1111111111111111, \"#46039f\"], [0.2222222222222222, \"#7201a8\"], [0.3333333333333333, \"#9c179e\"], [0.4444444444444444, \"#bd3786\"], [0.5555555555555556, \"#d8576b\"], [0.6666666666666666, \"#ed7953\"], [0.7777777777777778, \"#fb9f3a\"], [0.8888888888888888, \"#fdca26\"], [1.0, \"#f0f921\"]], \"type\": \"surface\"}], \"table\": [{\"cells\": {\"fill\": {\"color\": \"#EBF0F8\"}, \"line\": {\"color\": \"white\"}}, \"header\": {\"fill\": {\"color\": \"#C8D4E3\"}, \"line\": {\"color\": \"white\"}}, \"type\": \"table\"}]}, \"layout\": {\"annotationdefaults\": {\"arrowcolor\": \"#2a3f5f\", \"arrowhead\": 0, \"arrowwidth\": 1}, \"coloraxis\": {\"colorbar\": {\"outlinewidth\": 0, \"ticks\": \"\"}}, \"colorscale\": {\"diverging\": [[0, \"#8e0152\"], [0.1, \"#c51b7d\"], [0.2, \"#de77ae\"], [0.3, \"#f1b6da\"], [0.4, \"#fde0ef\"], [0.5, \"#f7f7f7\"], [0.6, \"#e6f5d0\"], [0.7, \"#b8e186\"], [0.8, \"#7fbc41\"], [0.9, \"#4d9221\"], [1, \"#276419\"]], \"sequential\": [[0.0, \"#0d0887\"], [0.1111111111111111, \"#46039f\"], [0.2222222222222222, \"#7201a8\"], [0.3333333333333333, \"#9c179e\"], [0.4444444444444444, \"#bd3786\"], [0.5555555555555556, \"#d8576b\"], [0.6666666666666666, \"#ed7953\"], [0.7777777777777778, \"#fb9f3a\"], [0.8888888888888888, \"#fdca26\"], [1.0, \"#f0f921\"]], \"sequentialminus\": [[0.0, \"#0d0887\"], [0.1111111111111111, \"#46039f\"], [0.2222222222222222, \"#7201a8\"], [0.3333333333333333, \"#9c179e\"], [0.4444444444444444, \"#bd3786\"], [0.5555555555555556, \"#d8576b\"], [0.6666666666666666, \"#ed7953\"], [0.7777777777777778, \"#fb9f3a\"], [0.8888888888888888, \"#fdca26\"], [1.0, \"#f0f921\"]]}, \"colorway\": [\"#636efa\", \"#EF553B\", \"#00cc96\", \"#ab63fa\", \"#FFA15A\", \"#19d3f3\", \"#FF6692\", \"#B6E880\", \"#FF97FF\", \"#FECB52\"], \"font\": {\"color\": \"#2a3f5f\"}, \"geo\": {\"bgcolor\": \"white\", \"lakecolor\": \"white\", \"landcolor\": \"#E5ECF6\", \"showlakes\": true, \"showland\": true, \"subunitcolor\": \"white\"}, \"hoverlabel\": {\"align\": \"left\"}, \"hovermode\": \"closest\", \"mapbox\": {\"style\": \"light\"}, \"paper_bgcolor\": \"white\", \"plot_bgcolor\": \"#E5ECF6\", \"polar\": {\"angularaxis\": {\"gridcolor\": \"white\", \"linecolor\": \"white\", \"ticks\": \"\"}, \"bgcolor\": \"#E5ECF6\", \"radialaxis\": {\"gridcolor\": \"white\", \"linecolor\": \"white\", \"ticks\": \"\"}}, \"scene\": {\"xaxis\": {\"backgroundcolor\": \"#E5ECF6\", \"gridcolor\": \"white\", \"gridwidth\": 2, \"linecolor\": \"white\", \"showbackground\": true, \"ticks\": \"\", \"zerolinecolor\": \"white\"}, \"yaxis\": {\"backgroundcolor\": \"#E5ECF6\", \"gridcolor\": \"white\", \"gridwidth\": 2, \"linecolor\": \"white\", \"showbackground\": true, \"ticks\": \"\", \"zerolinecolor\": \"white\"}, \"zaxis\": {\"backgroundcolor\": \"#E5ECF6\", \"gridcolor\": \"white\", \"gridwidth\": 2, \"linecolor\": \"white\", \"showbackground\": true, \"ticks\": \"\", \"zerolinecolor\": \"white\"}}, \"shapedefaults\": {\"line\": {\"color\": \"#2a3f5f\"}}, \"ternary\": {\"aaxis\": {\"gridcolor\": \"white\", \"linecolor\": \"white\", \"ticks\": \"\"}, \"baxis\": {\"gridcolor\": \"white\", \"linecolor\": \"white\", \"ticks\": \"\"}, \"bgcolor\": \"#E5ECF6\", \"caxis\": {\"gridcolor\": \"white\", \"linecolor\": \"white\", \"ticks\": \"\"}}, \"title\": {\"x\": 0.05}, \"xaxis\": {\"automargin\": true, \"gridcolor\": \"white\", \"linecolor\": \"white\", \"ticks\": \"\", \"title\": {\"standoff\": 15}, \"zerolinecolor\": \"white\", \"zerolinewidth\": 2}, \"yaxis\": {\"automargin\": true, \"gridcolor\": \"white\", \"linecolor\": \"white\", \"ticks\": \"\", \"title\": {\"standoff\": 15}, \"zerolinecolor\": \"white\", \"zerolinewidth\": 2}}}, \"title\": {\"font\": {\"color\": \"#4D5663\"}}, \"xaxis\": {\"gridcolor\": \"#E1E5ED\", \"showgrid\": true, \"tickfont\": {\"color\": \"#4D5663\"}, \"title\": {\"font\": {\"color\": \"#4D5663\"}, \"text\": \"\"}, \"zerolinecolor\": \"#E1E5ED\"}, \"xaxis2\": {\"anchor\": \"y2\", \"gridcolor\": \"#E1E5ED\", \"showgrid\": true, \"showticklabels\": false, \"tickfont\": {\"color\": \"#4D5663\"}, \"title\": {\"font\": {\"color\": \"#4D5663\"}, \"text\": \"\"}, \"zerolinecolor\": \"#E1E5ED\"}, \"yaxis\": {\"domain\": [0.3, 1], \"gridcolor\": \"#E1E5ED\", \"showgrid\": true, \"tickfont\": {\"color\": \"#4D5663\"}, \"title\": {\"font\": {\"color\": \"#4D5663\"}, \"text\": \"\"}, \"zerolinecolor\": \"#E1E5ED\"}, \"yaxis2\": {\"domain\": [0, 0.25], \"gridcolor\": \"#E1E5ED\", \"showgrid\": true, \"tickfont\": {\"color\": \"#4D5663\"}, \"title\": {\"font\": {\"color\": \"#4D5663\"}, \"text\": \"Spread\"}, \"zerolinecolor\": \"#E1E5ED\"}},                        {\"showLink\": true, \"linkText\": \"Export to plot.ly\", \"plotlyServerURL\": \"https://plot.ly\", \"responsive\": true}                    ).then(function(){\n",
       "                            \n",
       "var gd = document.getElementById('2abf220f-a967-4f55-810f-2283a3227e3e');\n",
       "var x = new MutationObserver(function (mutations, observer) {{\n",
       "        var display = window.getComputedStyle(gd).display;\n",
       "        if (!display || display === 'none') {{\n",
       "            console.log([gd, 'removed!']);\n",
       "            Plotly.purge(gd);\n",
       "            observer.disconnect();\n",
       "        }}\n",
       "}});\n",
       "\n",
       "// Listen for the removal of the full notebook cells\n",
       "var notebookContainer = gd.closest('#notebook-container');\n",
       "if (notebookContainer) {{\n",
       "    x.observe(notebookContainer, {childList: true});\n",
       "}}\n",
       "\n",
       "// Listen for the clearing of the current output cell\n",
       "var outputEl = gd.closest('.output');\n",
       "if (outputEl) {{\n",
       "    x.observe(outputEl, {childList: true});\n",
       "}}\n",
       "\n",
       "                        })                };                });            </script>        </div>"
      ]
     },
     "metadata": {},
     "output_type": "display_data"
    }
   ],
   "source": [
    "df[['A','B']].iplot(kind = 'spread')"
   ]
  },
  {
   "cell_type": "code",
   "execution_count": 54,
   "metadata": {},
   "outputs": [
    {
     "data": {
      "application/vnd.plotly.v1+json": {
       "config": {
        "linkText": "Export to plot.ly",
        "plotlyServerURL": "https://plot.ly",
        "showLink": true
       },
       "data": [
        {
         "line": {
          "color": "rgba(255, 153, 51, 1.0)",
          "dash": "solid",
          "shape": "linear",
          "width": 1.3
         },
         "marker": {
          "size": 12,
          "symbol": "circle"
         },
         "mode": "markers",
         "name": "B",
         "text": "",
         "type": "scatter",
         "x": [
          2.456864478612622,
          -2.2527239798611314,
          -2.2929421848992426,
          0.356852081716104,
          -0.25027565803004814,
          -0.4352308180980923,
          -1.7870622081171643,
          -0.4231246753923552,
          0.9739696613755218,
          0.3992265559510478,
          -0.23910651236066105,
          0.23931071399692622,
          0.09131078371117889,
          0.18231030225450318,
          -1.6770467131592837,
          0.6723336270661157,
          0.24807428163009063,
          -0.7626192979780793,
          -1.485650151616024,
          -2.068322142166952,
          -0.816661798988874,
          -0.4390293659026417,
          -0.17638692762077884,
          1.3693036243446226,
          -0.8838873911315334,
          1.4781184141206263,
          1.0204354409755043,
          0.6677895888357839,
          1.307300361914305,
          0.381526666995544,
          0.6990207531066948,
          -0.19170954656039826,
          -1.6176627483135664,
          -1.4378015404747206,
          -0.3089839408391603,
          -0.7042330548807497,
          0.1686533561355506,
          -0.2719197995344573,
          0.5554967812631001,
          0.9774118356605086,
          -0.5675670254061104,
          1.8147360416350493,
          -0.2076775115236604,
          1.396211557548168,
          -0.2196247534199206,
          1.257667737581909,
          0.09999079328644785,
          0.40953832839299614,
          0.5181168335779327,
          -0.6408375541457859,
          0.9059451776285394,
          0.6233470810053362,
          -0.4067115357546892,
          0.01083130229600319,
          0.5789254579976282,
          0.04246809985210584,
          1.2652109502899274,
          0.05171788485414968,
          -0.678433959764289,
          -0.6715016710873373,
          1.1674003643390756,
          0.6963027212152043,
          -0.6872552716565266,
          0.35043630517555296,
          1.697039109276328,
          -0.16517053629799128,
          0.23807020983462962,
          1.036859207986987,
          -1.0626416110243735,
          -0.5436189635055533,
          -1.0935424145198833,
          0.31040749316377236,
          -0.19753243030570042,
          -2.7090402836025933,
          -1.5646909709019092,
          0.521645062440777,
          -0.5002630539043543,
          -0.2690104841331373,
          1.3310061232297976,
          -1.5183182964218291,
          0.48398557607624765,
          -1.6832106492361594,
          -0.40954112536213994,
          0.4724488127081655,
          2.1196763199373585,
          0.19754555336208063,
          -0.9074605490975094,
          0.15313865789208797,
          1.351762250817329,
          -0.396385824284584,
          1.1476851047106436,
          0.5740494843237829,
          1.0697578479613916,
          -0.046560497298113845,
          -0.2897030805682362,
          0.1679496946692134,
          -1.3517488543120035,
          0.4667484204157006,
          0.2629850168256431,
          -0.6432433834067868
         ],
         "y": [
          0.7585713004881539,
          0.9369508008274443,
          2.8786377067420803,
          -0.9753733963764035,
          -1.973314268207836,
          -1.1926729745541216,
          1.7788975258488893,
          -2.739702907163809,
          0.7818386057295666,
          0.5557853197699847,
          1.1308138994045913,
          -0.03394713504751146,
          -0.24674661567520484,
          0.9048576983121975,
          -0.06399742714620238,
          -0.29553159925198297,
          1.4480226716018347,
          -0.9287181429895608,
          -1.1584119641019608,
          0.32889625773459297,
          0.007753273055508445,
          -0.05820317171635984,
          -0.15155706936588884,
          0.19472617657474028,
          -0.7964170541897511,
          -0.4322192069305809,
          -0.9445672117722083,
          0.014770905297994949,
          -0.35176557796450886,
          1.0195066876159382,
          0.784707646326061,
          -0.3250669031761666,
          0.9277017170808991,
          0.7600764488098469,
          1.758123577307258,
          0.1842424508247556,
          0.8128516170296418,
          1.0898631416458546,
          1.2891007860044672,
          -0.8697391961812799,
          -0.45653154226280335,
          -1.0361046760709498,
          0.7559270918670371,
          -2.061501740649847,
          1.4092710565201825,
          -0.256631908090931,
          -1.5750591677500945,
          0.9245690218077082,
          -0.9061675814715107,
          0.37584618766234756,
          -1.2415901387761887,
          1.1957546846050047,
          1.959991039843966,
          -0.8996322472799549,
          -1.0475054321530737,
          -0.6490377881974029,
          0.3837783651423651,
          -0.037591221147904176,
          0.3264691997676207,
          0.8351240175627819,
          1.3407659055312469,
          0.7664492600505355,
          0.34707865407662625,
          0.4374355620108727,
          0.4206434136296037,
          0.11449523490312948,
          0.050628931196152235,
          1.7227632992759434,
          -0.02044643276147327,
          -0.4372433743237419,
          -1.6823925218882394,
          0.059972603940122146,
          1.586091742340369,
          -0.611607758287968,
          -0.4515418116623536,
          0.6764102158345765,
          -1.5778251431922758,
          0.531490498101667,
          0.29467461455975935,
          -0.4096067239508892,
          -1.928942981094565,
          -0.10329196872552136,
          0.7700000706766272,
          0.4424794882193026,
          -0.3296786777745359,
          -1.4801841351888587,
          0.39132986150267235,
          1.187930182494079,
          -1.2766734843288627,
          -0.502946174955512,
          0.3430738507677682,
          0.39802770458241576,
          -1.6533098903298877,
          -0.5168646022711108,
          0.38758251120651555,
          -0.291875675770869,
          -1.164864245517917,
          1.3999539696360548,
          -1.9115176187985556,
          0.4970235858917134
         ]
        }
       ],
       "layout": {
        "legend": {
         "bgcolor": "#F5F6F9",
         "font": {
          "color": "#4D5663"
         }
        },
        "paper_bgcolor": "#F5F6F9",
        "plot_bgcolor": "#F5F6F9",
        "template": {
         "data": {
          "bar": [
           {
            "error_x": {
             "color": "#2a3f5f"
            },
            "error_y": {
             "color": "#2a3f5f"
            },
            "marker": {
             "line": {
              "color": "#E5ECF6",
              "width": 0.5
             }
            },
            "type": "bar"
           }
          ],
          "barpolar": [
           {
            "marker": {
             "line": {
              "color": "#E5ECF6",
              "width": 0.5
             }
            },
            "type": "barpolar"
           }
          ],
          "carpet": [
           {
            "aaxis": {
             "endlinecolor": "#2a3f5f",
             "gridcolor": "white",
             "linecolor": "white",
             "minorgridcolor": "white",
             "startlinecolor": "#2a3f5f"
            },
            "baxis": {
             "endlinecolor": "#2a3f5f",
             "gridcolor": "white",
             "linecolor": "white",
             "minorgridcolor": "white",
             "startlinecolor": "#2a3f5f"
            },
            "type": "carpet"
           }
          ],
          "choropleth": [
           {
            "colorbar": {
             "outlinewidth": 0,
             "ticks": ""
            },
            "type": "choropleth"
           }
          ],
          "contour": [
           {
            "colorbar": {
             "outlinewidth": 0,
             "ticks": ""
            },
            "colorscale": [
             [
              0,
              "#0d0887"
             ],
             [
              0.1111111111111111,
              "#46039f"
             ],
             [
              0.2222222222222222,
              "#7201a8"
             ],
             [
              0.3333333333333333,
              "#9c179e"
             ],
             [
              0.4444444444444444,
              "#bd3786"
             ],
             [
              0.5555555555555556,
              "#d8576b"
             ],
             [
              0.6666666666666666,
              "#ed7953"
             ],
             [
              0.7777777777777778,
              "#fb9f3a"
             ],
             [
              0.8888888888888888,
              "#fdca26"
             ],
             [
              1,
              "#f0f921"
             ]
            ],
            "type": "contour"
           }
          ],
          "contourcarpet": [
           {
            "colorbar": {
             "outlinewidth": 0,
             "ticks": ""
            },
            "type": "contourcarpet"
           }
          ],
          "heatmap": [
           {
            "colorbar": {
             "outlinewidth": 0,
             "ticks": ""
            },
            "colorscale": [
             [
              0,
              "#0d0887"
             ],
             [
              0.1111111111111111,
              "#46039f"
             ],
             [
              0.2222222222222222,
              "#7201a8"
             ],
             [
              0.3333333333333333,
              "#9c179e"
             ],
             [
              0.4444444444444444,
              "#bd3786"
             ],
             [
              0.5555555555555556,
              "#d8576b"
             ],
             [
              0.6666666666666666,
              "#ed7953"
             ],
             [
              0.7777777777777778,
              "#fb9f3a"
             ],
             [
              0.8888888888888888,
              "#fdca26"
             ],
             [
              1,
              "#f0f921"
             ]
            ],
            "type": "heatmap"
           }
          ],
          "heatmapgl": [
           {
            "colorbar": {
             "outlinewidth": 0,
             "ticks": ""
            },
            "colorscale": [
             [
              0,
              "#0d0887"
             ],
             [
              0.1111111111111111,
              "#46039f"
             ],
             [
              0.2222222222222222,
              "#7201a8"
             ],
             [
              0.3333333333333333,
              "#9c179e"
             ],
             [
              0.4444444444444444,
              "#bd3786"
             ],
             [
              0.5555555555555556,
              "#d8576b"
             ],
             [
              0.6666666666666666,
              "#ed7953"
             ],
             [
              0.7777777777777778,
              "#fb9f3a"
             ],
             [
              0.8888888888888888,
              "#fdca26"
             ],
             [
              1,
              "#f0f921"
             ]
            ],
            "type": "heatmapgl"
           }
          ],
          "histogram": [
           {
            "marker": {
             "colorbar": {
              "outlinewidth": 0,
              "ticks": ""
             }
            },
            "type": "histogram"
           }
          ],
          "histogram2d": [
           {
            "colorbar": {
             "outlinewidth": 0,
             "ticks": ""
            },
            "colorscale": [
             [
              0,
              "#0d0887"
             ],
             [
              0.1111111111111111,
              "#46039f"
             ],
             [
              0.2222222222222222,
              "#7201a8"
             ],
             [
              0.3333333333333333,
              "#9c179e"
             ],
             [
              0.4444444444444444,
              "#bd3786"
             ],
             [
              0.5555555555555556,
              "#d8576b"
             ],
             [
              0.6666666666666666,
              "#ed7953"
             ],
             [
              0.7777777777777778,
              "#fb9f3a"
             ],
             [
              0.8888888888888888,
              "#fdca26"
             ],
             [
              1,
              "#f0f921"
             ]
            ],
            "type": "histogram2d"
           }
          ],
          "histogram2dcontour": [
           {
            "colorbar": {
             "outlinewidth": 0,
             "ticks": ""
            },
            "colorscale": [
             [
              0,
              "#0d0887"
             ],
             [
              0.1111111111111111,
              "#46039f"
             ],
             [
              0.2222222222222222,
              "#7201a8"
             ],
             [
              0.3333333333333333,
              "#9c179e"
             ],
             [
              0.4444444444444444,
              "#bd3786"
             ],
             [
              0.5555555555555556,
              "#d8576b"
             ],
             [
              0.6666666666666666,
              "#ed7953"
             ],
             [
              0.7777777777777778,
              "#fb9f3a"
             ],
             [
              0.8888888888888888,
              "#fdca26"
             ],
             [
              1,
              "#f0f921"
             ]
            ],
            "type": "histogram2dcontour"
           }
          ],
          "mesh3d": [
           {
            "colorbar": {
             "outlinewidth": 0,
             "ticks": ""
            },
            "type": "mesh3d"
           }
          ],
          "parcoords": [
           {
            "line": {
             "colorbar": {
              "outlinewidth": 0,
              "ticks": ""
             }
            },
            "type": "parcoords"
           }
          ],
          "pie": [
           {
            "automargin": true,
            "type": "pie"
           }
          ],
          "scatter": [
           {
            "marker": {
             "colorbar": {
              "outlinewidth": 0,
              "ticks": ""
             }
            },
            "type": "scatter"
           }
          ],
          "scatter3d": [
           {
            "line": {
             "colorbar": {
              "outlinewidth": 0,
              "ticks": ""
             }
            },
            "marker": {
             "colorbar": {
              "outlinewidth": 0,
              "ticks": ""
             }
            },
            "type": "scatter3d"
           }
          ],
          "scattercarpet": [
           {
            "marker": {
             "colorbar": {
              "outlinewidth": 0,
              "ticks": ""
             }
            },
            "type": "scattercarpet"
           }
          ],
          "scattergeo": [
           {
            "marker": {
             "colorbar": {
              "outlinewidth": 0,
              "ticks": ""
             }
            },
            "type": "scattergeo"
           }
          ],
          "scattergl": [
           {
            "marker": {
             "colorbar": {
              "outlinewidth": 0,
              "ticks": ""
             }
            },
            "type": "scattergl"
           }
          ],
          "scattermapbox": [
           {
            "marker": {
             "colorbar": {
              "outlinewidth": 0,
              "ticks": ""
             }
            },
            "type": "scattermapbox"
           }
          ],
          "scatterpolar": [
           {
            "marker": {
             "colorbar": {
              "outlinewidth": 0,
              "ticks": ""
             }
            },
            "type": "scatterpolar"
           }
          ],
          "scatterpolargl": [
           {
            "marker": {
             "colorbar": {
              "outlinewidth": 0,
              "ticks": ""
             }
            },
            "type": "scatterpolargl"
           }
          ],
          "scatterternary": [
           {
            "marker": {
             "colorbar": {
              "outlinewidth": 0,
              "ticks": ""
             }
            },
            "type": "scatterternary"
           }
          ],
          "surface": [
           {
            "colorbar": {
             "outlinewidth": 0,
             "ticks": ""
            },
            "colorscale": [
             [
              0,
              "#0d0887"
             ],
             [
              0.1111111111111111,
              "#46039f"
             ],
             [
              0.2222222222222222,
              "#7201a8"
             ],
             [
              0.3333333333333333,
              "#9c179e"
             ],
             [
              0.4444444444444444,
              "#bd3786"
             ],
             [
              0.5555555555555556,
              "#d8576b"
             ],
             [
              0.6666666666666666,
              "#ed7953"
             ],
             [
              0.7777777777777778,
              "#fb9f3a"
             ],
             [
              0.8888888888888888,
              "#fdca26"
             ],
             [
              1,
              "#f0f921"
             ]
            ],
            "type": "surface"
           }
          ],
          "table": [
           {
            "cells": {
             "fill": {
              "color": "#EBF0F8"
             },
             "line": {
              "color": "white"
             }
            },
            "header": {
             "fill": {
              "color": "#C8D4E3"
             },
             "line": {
              "color": "white"
             }
            },
            "type": "table"
           }
          ]
         },
         "layout": {
          "annotationdefaults": {
           "arrowcolor": "#2a3f5f",
           "arrowhead": 0,
           "arrowwidth": 1
          },
          "coloraxis": {
           "colorbar": {
            "outlinewidth": 0,
            "ticks": ""
           }
          },
          "colorscale": {
           "diverging": [
            [
             0,
             "#8e0152"
            ],
            [
             0.1,
             "#c51b7d"
            ],
            [
             0.2,
             "#de77ae"
            ],
            [
             0.3,
             "#f1b6da"
            ],
            [
             0.4,
             "#fde0ef"
            ],
            [
             0.5,
             "#f7f7f7"
            ],
            [
             0.6,
             "#e6f5d0"
            ],
            [
             0.7,
             "#b8e186"
            ],
            [
             0.8,
             "#7fbc41"
            ],
            [
             0.9,
             "#4d9221"
            ],
            [
             1,
             "#276419"
            ]
           ],
           "sequential": [
            [
             0,
             "#0d0887"
            ],
            [
             0.1111111111111111,
             "#46039f"
            ],
            [
             0.2222222222222222,
             "#7201a8"
            ],
            [
             0.3333333333333333,
             "#9c179e"
            ],
            [
             0.4444444444444444,
             "#bd3786"
            ],
            [
             0.5555555555555556,
             "#d8576b"
            ],
            [
             0.6666666666666666,
             "#ed7953"
            ],
            [
             0.7777777777777778,
             "#fb9f3a"
            ],
            [
             0.8888888888888888,
             "#fdca26"
            ],
            [
             1,
             "#f0f921"
            ]
           ],
           "sequentialminus": [
            [
             0,
             "#0d0887"
            ],
            [
             0.1111111111111111,
             "#46039f"
            ],
            [
             0.2222222222222222,
             "#7201a8"
            ],
            [
             0.3333333333333333,
             "#9c179e"
            ],
            [
             0.4444444444444444,
             "#bd3786"
            ],
            [
             0.5555555555555556,
             "#d8576b"
            ],
            [
             0.6666666666666666,
             "#ed7953"
            ],
            [
             0.7777777777777778,
             "#fb9f3a"
            ],
            [
             0.8888888888888888,
             "#fdca26"
            ],
            [
             1,
             "#f0f921"
            ]
           ]
          },
          "colorway": [
           "#636efa",
           "#EF553B",
           "#00cc96",
           "#ab63fa",
           "#FFA15A",
           "#19d3f3",
           "#FF6692",
           "#B6E880",
           "#FF97FF",
           "#FECB52"
          ],
          "font": {
           "color": "#2a3f5f"
          },
          "geo": {
           "bgcolor": "white",
           "lakecolor": "white",
           "landcolor": "#E5ECF6",
           "showlakes": true,
           "showland": true,
           "subunitcolor": "white"
          },
          "hoverlabel": {
           "align": "left"
          },
          "hovermode": "closest",
          "mapbox": {
           "style": "light"
          },
          "paper_bgcolor": "white",
          "plot_bgcolor": "#E5ECF6",
          "polar": {
           "angularaxis": {
            "gridcolor": "white",
            "linecolor": "white",
            "ticks": ""
           },
           "bgcolor": "#E5ECF6",
           "radialaxis": {
            "gridcolor": "white",
            "linecolor": "white",
            "ticks": ""
           }
          },
          "scene": {
           "xaxis": {
            "backgroundcolor": "#E5ECF6",
            "gridcolor": "white",
            "gridwidth": 2,
            "linecolor": "white",
            "showbackground": true,
            "ticks": "",
            "zerolinecolor": "white"
           },
           "yaxis": {
            "backgroundcolor": "#E5ECF6",
            "gridcolor": "white",
            "gridwidth": 2,
            "linecolor": "white",
            "showbackground": true,
            "ticks": "",
            "zerolinecolor": "white"
           },
           "zaxis": {
            "backgroundcolor": "#E5ECF6",
            "gridcolor": "white",
            "gridwidth": 2,
            "linecolor": "white",
            "showbackground": true,
            "ticks": "",
            "zerolinecolor": "white"
           }
          },
          "shapedefaults": {
           "line": {
            "color": "#2a3f5f"
           }
          },
          "ternary": {
           "aaxis": {
            "gridcolor": "white",
            "linecolor": "white",
            "ticks": ""
           },
           "baxis": {
            "gridcolor": "white",
            "linecolor": "white",
            "ticks": ""
           },
           "bgcolor": "#E5ECF6",
           "caxis": {
            "gridcolor": "white",
            "linecolor": "white",
            "ticks": ""
           }
          },
          "title": {
           "x": 0.05
          },
          "xaxis": {
           "automargin": true,
           "gridcolor": "white",
           "linecolor": "white",
           "ticks": "",
           "title": {
            "standoff": 15
           },
           "zerolinecolor": "white",
           "zerolinewidth": 2
          },
          "yaxis": {
           "automargin": true,
           "gridcolor": "white",
           "linecolor": "white",
           "ticks": "",
           "title": {
            "standoff": 15
           },
           "zerolinecolor": "white",
           "zerolinewidth": 2
          }
         }
        },
        "title": {
         "font": {
          "color": "#4D5663"
         }
        },
        "xaxis": {
         "gridcolor": "#E1E5ED",
         "showgrid": true,
         "tickfont": {
          "color": "#4D5663"
         },
         "title": {
          "font": {
           "color": "#4D5663"
          },
          "text": ""
         },
         "zerolinecolor": "#E1E5ED"
        },
        "yaxis": {
         "gridcolor": "#E1E5ED",
         "showgrid": true,
         "tickfont": {
          "color": "#4D5663"
         },
         "title": {
          "font": {
           "color": "#4D5663"
          },
          "text": ""
         },
         "zerolinecolor": "#E1E5ED"
        }
       }
      },
      "text/html": [
       "<div>                            <div id=\"3b976225-8dc1-4c11-a118-42408a59a5d2\" class=\"plotly-graph-div\" style=\"height:525px; width:100%;\"></div>            <script type=\"text/javascript\">                require([\"plotly\"], function(Plotly) {                    window.PLOTLYENV=window.PLOTLYENV || {};\n",
       "                    window.PLOTLYENV.BASE_URL='https://plot.ly';                                    if (document.getElementById(\"3b976225-8dc1-4c11-a118-42408a59a5d2\")) {                    Plotly.newPlot(                        \"3b976225-8dc1-4c11-a118-42408a59a5d2\",                        [{\"line\": {\"color\": \"rgba(255, 153, 51, 1.0)\", \"dash\": \"solid\", \"shape\": \"linear\", \"width\": 1.3}, \"marker\": {\"size\": 12, \"symbol\": \"circle\"}, \"mode\": \"markers\", \"name\": \"B\", \"text\": \"\", \"type\": \"scatter\", \"x\": [2.456864478612622, -2.2527239798611314, -2.2929421848992426, 0.356852081716104, -0.25027565803004814, -0.4352308180980923, -1.7870622081171643, -0.4231246753923552, 0.9739696613755218, 0.3992265559510478, -0.23910651236066105, 0.23931071399692622, 0.09131078371117889, 0.18231030225450318, -1.6770467131592837, 0.6723336270661157, 0.24807428163009063, -0.7626192979780793, -1.485650151616024, -2.068322142166952, -0.816661798988874, -0.4390293659026417, -0.17638692762077884, 1.3693036243446226, -0.8838873911315334, 1.4781184141206263, 1.0204354409755043, 0.6677895888357839, 1.307300361914305, 0.381526666995544, 0.6990207531066948, -0.19170954656039826, -1.6176627483135664, -1.4378015404747206, -0.3089839408391603, -0.7042330548807497, 0.1686533561355506, -0.2719197995344573, 0.5554967812631001, 0.9774118356605086, -0.5675670254061104, 1.8147360416350493, -0.2076775115236604, 1.396211557548168, -0.2196247534199206, 1.257667737581909, 0.09999079328644785, 0.40953832839299614, 0.5181168335779327, -0.6408375541457859, 0.9059451776285394, 0.6233470810053362, -0.4067115357546892, 0.01083130229600319, 0.5789254579976282, 0.04246809985210584, 1.2652109502899274, 0.05171788485414968, -0.678433959764289, -0.6715016710873373, 1.1674003643390756, 0.6963027212152043, -0.6872552716565266, 0.35043630517555296, 1.697039109276328, -0.16517053629799128, 0.23807020983462962, 1.036859207986987, -1.0626416110243735, -0.5436189635055533, -1.0935424145198833, 0.31040749316377236, -0.19753243030570042, -2.7090402836025933, -1.5646909709019092, 0.521645062440777, -0.5002630539043543, -0.2690104841331373, 1.3310061232297976, -1.5183182964218291, 0.48398557607624765, -1.6832106492361594, -0.40954112536213994, 0.4724488127081655, 2.1196763199373585, 0.19754555336208063, -0.9074605490975094, 0.15313865789208797, 1.351762250817329, -0.396385824284584, 1.1476851047106436, 0.5740494843237829, 1.0697578479613916, -0.046560497298113845, -0.2897030805682362, 0.1679496946692134, -1.3517488543120035, 0.4667484204157006, 0.2629850168256431, -0.6432433834067868], \"y\": [0.7585713004881539, 0.9369508008274443, 2.8786377067420803, -0.9753733963764035, -1.973314268207836, -1.1926729745541216, 1.7788975258488893, -2.739702907163809, 0.7818386057295666, 0.5557853197699847, 1.1308138994045913, -0.03394713504751146, -0.24674661567520484, 0.9048576983121975, -0.06399742714620238, -0.29553159925198297, 1.4480226716018347, -0.9287181429895608, -1.1584119641019608, 0.32889625773459297, 0.007753273055508445, -0.05820317171635984, -0.15155706936588884, 0.19472617657474028, -0.7964170541897511, -0.4322192069305809, -0.9445672117722083, 0.014770905297994949, -0.35176557796450886, 1.0195066876159382, 0.784707646326061, -0.3250669031761666, 0.9277017170808991, 0.7600764488098469, 1.758123577307258, 0.1842424508247556, 0.8128516170296418, 1.0898631416458546, 1.2891007860044672, -0.8697391961812799, -0.45653154226280335, -1.0361046760709498, 0.7559270918670371, -2.061501740649847, 1.4092710565201825, -0.256631908090931, -1.5750591677500945, 0.9245690218077082, -0.9061675814715107, 0.37584618766234756, -1.2415901387761887, 1.1957546846050047, 1.959991039843966, -0.8996322472799549, -1.0475054321530737, -0.6490377881974029, 0.3837783651423651, -0.037591221147904176, 0.3264691997676207, 0.8351240175627819, 1.3407659055312469, 0.7664492600505355, 0.34707865407662625, 0.4374355620108727, 0.4206434136296037, 0.11449523490312948, 0.050628931196152235, 1.7227632992759434, -0.02044643276147327, -0.4372433743237419, -1.6823925218882394, 0.059972603940122146, 1.586091742340369, -0.611607758287968, -0.4515418116623536, 0.6764102158345765, -1.5778251431922758, 0.531490498101667, 0.29467461455975935, -0.4096067239508892, -1.928942981094565, -0.10329196872552136, 0.7700000706766272, 0.4424794882193026, -0.3296786777745359, -1.4801841351888587, 0.39132986150267235, 1.187930182494079, -1.2766734843288627, -0.502946174955512, 0.3430738507677682, 0.39802770458241576, -1.6533098903298877, -0.5168646022711108, 0.38758251120651555, -0.291875675770869, -1.164864245517917, 1.3999539696360548, -1.9115176187985556, 0.4970235858917134]}],                        {\"legend\": {\"bgcolor\": \"#F5F6F9\", \"font\": {\"color\": \"#4D5663\"}}, \"paper_bgcolor\": \"#F5F6F9\", \"plot_bgcolor\": \"#F5F6F9\", \"template\": {\"data\": {\"bar\": [{\"error_x\": {\"color\": \"#2a3f5f\"}, \"error_y\": {\"color\": \"#2a3f5f\"}, \"marker\": {\"line\": {\"color\": \"#E5ECF6\", \"width\": 0.5}}, \"type\": \"bar\"}], \"barpolar\": [{\"marker\": {\"line\": {\"color\": \"#E5ECF6\", \"width\": 0.5}}, \"type\": \"barpolar\"}], \"carpet\": [{\"aaxis\": {\"endlinecolor\": \"#2a3f5f\", \"gridcolor\": \"white\", \"linecolor\": \"white\", \"minorgridcolor\": \"white\", \"startlinecolor\": \"#2a3f5f\"}, \"baxis\": {\"endlinecolor\": \"#2a3f5f\", \"gridcolor\": \"white\", \"linecolor\": \"white\", \"minorgridcolor\": \"white\", \"startlinecolor\": \"#2a3f5f\"}, \"type\": \"carpet\"}], \"choropleth\": [{\"colorbar\": {\"outlinewidth\": 0, \"ticks\": \"\"}, \"type\": \"choropleth\"}], \"contour\": [{\"colorbar\": {\"outlinewidth\": 0, \"ticks\": \"\"}, \"colorscale\": [[0.0, \"#0d0887\"], [0.1111111111111111, \"#46039f\"], [0.2222222222222222, \"#7201a8\"], [0.3333333333333333, \"#9c179e\"], [0.4444444444444444, \"#bd3786\"], [0.5555555555555556, \"#d8576b\"], [0.6666666666666666, \"#ed7953\"], [0.7777777777777778, \"#fb9f3a\"], [0.8888888888888888, \"#fdca26\"], [1.0, \"#f0f921\"]], \"type\": \"contour\"}], \"contourcarpet\": [{\"colorbar\": {\"outlinewidth\": 0, \"ticks\": \"\"}, \"type\": \"contourcarpet\"}], \"heatmap\": [{\"colorbar\": {\"outlinewidth\": 0, \"ticks\": \"\"}, \"colorscale\": [[0.0, \"#0d0887\"], [0.1111111111111111, \"#46039f\"], [0.2222222222222222, \"#7201a8\"], [0.3333333333333333, \"#9c179e\"], [0.4444444444444444, \"#bd3786\"], [0.5555555555555556, \"#d8576b\"], [0.6666666666666666, \"#ed7953\"], [0.7777777777777778, \"#fb9f3a\"], [0.8888888888888888, \"#fdca26\"], [1.0, \"#f0f921\"]], \"type\": \"heatmap\"}], \"heatmapgl\": [{\"colorbar\": {\"outlinewidth\": 0, \"ticks\": \"\"}, \"colorscale\": [[0.0, \"#0d0887\"], [0.1111111111111111, \"#46039f\"], [0.2222222222222222, \"#7201a8\"], [0.3333333333333333, \"#9c179e\"], [0.4444444444444444, \"#bd3786\"], [0.5555555555555556, \"#d8576b\"], [0.6666666666666666, \"#ed7953\"], [0.7777777777777778, \"#fb9f3a\"], [0.8888888888888888, \"#fdca26\"], [1.0, \"#f0f921\"]], \"type\": \"heatmapgl\"}], \"histogram\": [{\"marker\": {\"colorbar\": {\"outlinewidth\": 0, \"ticks\": \"\"}}, \"type\": \"histogram\"}], \"histogram2d\": [{\"colorbar\": {\"outlinewidth\": 0, \"ticks\": \"\"}, \"colorscale\": [[0.0, \"#0d0887\"], [0.1111111111111111, \"#46039f\"], [0.2222222222222222, \"#7201a8\"], [0.3333333333333333, \"#9c179e\"], [0.4444444444444444, \"#bd3786\"], [0.5555555555555556, \"#d8576b\"], [0.6666666666666666, \"#ed7953\"], [0.7777777777777778, \"#fb9f3a\"], [0.8888888888888888, \"#fdca26\"], [1.0, \"#f0f921\"]], \"type\": \"histogram2d\"}], \"histogram2dcontour\": [{\"colorbar\": {\"outlinewidth\": 0, \"ticks\": \"\"}, \"colorscale\": [[0.0, \"#0d0887\"], [0.1111111111111111, \"#46039f\"], [0.2222222222222222, \"#7201a8\"], [0.3333333333333333, \"#9c179e\"], [0.4444444444444444, \"#bd3786\"], [0.5555555555555556, \"#d8576b\"], [0.6666666666666666, \"#ed7953\"], [0.7777777777777778, \"#fb9f3a\"], [0.8888888888888888, \"#fdca26\"], [1.0, \"#f0f921\"]], \"type\": \"histogram2dcontour\"}], \"mesh3d\": [{\"colorbar\": {\"outlinewidth\": 0, \"ticks\": \"\"}, \"type\": \"mesh3d\"}], \"parcoords\": [{\"line\": {\"colorbar\": {\"outlinewidth\": 0, \"ticks\": \"\"}}, \"type\": \"parcoords\"}], \"pie\": [{\"automargin\": true, \"type\": \"pie\"}], \"scatter\": [{\"marker\": {\"colorbar\": {\"outlinewidth\": 0, \"ticks\": \"\"}}, \"type\": \"scatter\"}], \"scatter3d\": [{\"line\": {\"colorbar\": {\"outlinewidth\": 0, \"ticks\": \"\"}}, \"marker\": {\"colorbar\": {\"outlinewidth\": 0, \"ticks\": \"\"}}, \"type\": \"scatter3d\"}], \"scattercarpet\": [{\"marker\": {\"colorbar\": {\"outlinewidth\": 0, \"ticks\": \"\"}}, \"type\": \"scattercarpet\"}], \"scattergeo\": [{\"marker\": {\"colorbar\": {\"outlinewidth\": 0, \"ticks\": \"\"}}, \"type\": \"scattergeo\"}], \"scattergl\": [{\"marker\": {\"colorbar\": {\"outlinewidth\": 0, \"ticks\": \"\"}}, \"type\": \"scattergl\"}], \"scattermapbox\": [{\"marker\": {\"colorbar\": {\"outlinewidth\": 0, \"ticks\": \"\"}}, \"type\": \"scattermapbox\"}], \"scatterpolar\": [{\"marker\": {\"colorbar\": {\"outlinewidth\": 0, \"ticks\": \"\"}}, \"type\": \"scatterpolar\"}], \"scatterpolargl\": [{\"marker\": {\"colorbar\": {\"outlinewidth\": 0, \"ticks\": \"\"}}, \"type\": \"scatterpolargl\"}], \"scatterternary\": [{\"marker\": {\"colorbar\": {\"outlinewidth\": 0, \"ticks\": \"\"}}, \"type\": \"scatterternary\"}], \"surface\": [{\"colorbar\": {\"outlinewidth\": 0, \"ticks\": \"\"}, \"colorscale\": [[0.0, \"#0d0887\"], [0.1111111111111111, \"#46039f\"], [0.2222222222222222, \"#7201a8\"], [0.3333333333333333, \"#9c179e\"], [0.4444444444444444, \"#bd3786\"], [0.5555555555555556, \"#d8576b\"], [0.6666666666666666, \"#ed7953\"], [0.7777777777777778, \"#fb9f3a\"], [0.8888888888888888, \"#fdca26\"], [1.0, \"#f0f921\"]], \"type\": \"surface\"}], \"table\": [{\"cells\": {\"fill\": {\"color\": \"#EBF0F8\"}, \"line\": {\"color\": \"white\"}}, \"header\": {\"fill\": {\"color\": \"#C8D4E3\"}, \"line\": {\"color\": \"white\"}}, \"type\": \"table\"}]}, \"layout\": {\"annotationdefaults\": {\"arrowcolor\": \"#2a3f5f\", \"arrowhead\": 0, \"arrowwidth\": 1}, \"coloraxis\": {\"colorbar\": {\"outlinewidth\": 0, \"ticks\": \"\"}}, \"colorscale\": {\"diverging\": [[0, \"#8e0152\"], [0.1, \"#c51b7d\"], [0.2, \"#de77ae\"], [0.3, \"#f1b6da\"], [0.4, \"#fde0ef\"], [0.5, \"#f7f7f7\"], [0.6, \"#e6f5d0\"], [0.7, \"#b8e186\"], [0.8, \"#7fbc41\"], [0.9, \"#4d9221\"], [1, \"#276419\"]], \"sequential\": [[0.0, \"#0d0887\"], [0.1111111111111111, \"#46039f\"], [0.2222222222222222, \"#7201a8\"], [0.3333333333333333, \"#9c179e\"], [0.4444444444444444, \"#bd3786\"], [0.5555555555555556, \"#d8576b\"], [0.6666666666666666, \"#ed7953\"], [0.7777777777777778, \"#fb9f3a\"], [0.8888888888888888, \"#fdca26\"], [1.0, \"#f0f921\"]], \"sequentialminus\": [[0.0, \"#0d0887\"], [0.1111111111111111, \"#46039f\"], [0.2222222222222222, \"#7201a8\"], [0.3333333333333333, \"#9c179e\"], [0.4444444444444444, \"#bd3786\"], [0.5555555555555556, \"#d8576b\"], [0.6666666666666666, \"#ed7953\"], [0.7777777777777778, \"#fb9f3a\"], [0.8888888888888888, \"#fdca26\"], [1.0, \"#f0f921\"]]}, \"colorway\": [\"#636efa\", \"#EF553B\", \"#00cc96\", \"#ab63fa\", \"#FFA15A\", \"#19d3f3\", \"#FF6692\", \"#B6E880\", \"#FF97FF\", \"#FECB52\"], \"font\": {\"color\": \"#2a3f5f\"}, \"geo\": {\"bgcolor\": \"white\", \"lakecolor\": \"white\", \"landcolor\": \"#E5ECF6\", \"showlakes\": true, \"showland\": true, \"subunitcolor\": \"white\"}, \"hoverlabel\": {\"align\": \"left\"}, \"hovermode\": \"closest\", \"mapbox\": {\"style\": \"light\"}, \"paper_bgcolor\": \"white\", \"plot_bgcolor\": \"#E5ECF6\", \"polar\": {\"angularaxis\": {\"gridcolor\": \"white\", \"linecolor\": \"white\", \"ticks\": \"\"}, \"bgcolor\": \"#E5ECF6\", \"radialaxis\": {\"gridcolor\": \"white\", \"linecolor\": \"white\", \"ticks\": \"\"}}, \"scene\": {\"xaxis\": {\"backgroundcolor\": \"#E5ECF6\", \"gridcolor\": \"white\", \"gridwidth\": 2, \"linecolor\": \"white\", \"showbackground\": true, \"ticks\": \"\", \"zerolinecolor\": \"white\"}, \"yaxis\": {\"backgroundcolor\": \"#E5ECF6\", \"gridcolor\": \"white\", \"gridwidth\": 2, \"linecolor\": \"white\", \"showbackground\": true, \"ticks\": \"\", \"zerolinecolor\": \"white\"}, \"zaxis\": {\"backgroundcolor\": \"#E5ECF6\", \"gridcolor\": \"white\", \"gridwidth\": 2, \"linecolor\": \"white\", \"showbackground\": true, \"ticks\": \"\", \"zerolinecolor\": \"white\"}}, \"shapedefaults\": {\"line\": {\"color\": \"#2a3f5f\"}}, \"ternary\": {\"aaxis\": {\"gridcolor\": \"white\", \"linecolor\": \"white\", \"ticks\": \"\"}, \"baxis\": {\"gridcolor\": \"white\", \"linecolor\": \"white\", \"ticks\": \"\"}, \"bgcolor\": \"#E5ECF6\", \"caxis\": {\"gridcolor\": \"white\", \"linecolor\": \"white\", \"ticks\": \"\"}}, \"title\": {\"x\": 0.05}, \"xaxis\": {\"automargin\": true, \"gridcolor\": \"white\", \"linecolor\": \"white\", \"ticks\": \"\", \"title\": {\"standoff\": 15}, \"zerolinecolor\": \"white\", \"zerolinewidth\": 2}, \"yaxis\": {\"automargin\": true, \"gridcolor\": \"white\", \"linecolor\": \"white\", \"ticks\": \"\", \"title\": {\"standoff\": 15}, \"zerolinecolor\": \"white\", \"zerolinewidth\": 2}}}, \"title\": {\"font\": {\"color\": \"#4D5663\"}}, \"xaxis\": {\"gridcolor\": \"#E1E5ED\", \"showgrid\": true, \"tickfont\": {\"color\": \"#4D5663\"}, \"title\": {\"font\": {\"color\": \"#4D5663\"}, \"text\": \"\"}, \"zerolinecolor\": \"#E1E5ED\"}, \"yaxis\": {\"gridcolor\": \"#E1E5ED\", \"showgrid\": true, \"tickfont\": {\"color\": \"#4D5663\"}, \"title\": {\"font\": {\"color\": \"#4D5663\"}, \"text\": \"\"}, \"zerolinecolor\": \"#E1E5ED\"}},                        {\"showLink\": true, \"linkText\": \"Export to plot.ly\", \"plotlyServerURL\": \"https://plot.ly\", \"responsive\": true}                    ).then(function(){\n",
       "                            \n",
       "var gd = document.getElementById('3b976225-8dc1-4c11-a118-42408a59a5d2');\n",
       "var x = new MutationObserver(function (mutations, observer) {{\n",
       "        var display = window.getComputedStyle(gd).display;\n",
       "        if (!display || display === 'none') {{\n",
       "            console.log([gd, 'removed!']);\n",
       "            Plotly.purge(gd);\n",
       "            observer.disconnect();\n",
       "        }}\n",
       "}});\n",
       "\n",
       "// Listen for the removal of the full notebook cells\n",
       "var notebookContainer = gd.closest('#notebook-container');\n",
       "if (notebookContainer) {{\n",
       "    x.observe(notebookContainer, {childList: true});\n",
       "}}\n",
       "\n",
       "// Listen for the clearing of the current output cell\n",
       "var outputEl = gd.closest('.output');\n",
       "if (outputEl) {{\n",
       "    x.observe(outputEl, {childList: true});\n",
       "}}\n",
       "\n",
       "                        })                };                });            </script>        </div>"
      ]
     },
     "metadata": {},
     "output_type": "display_data"
    }
   ],
   "source": [
    "df.iplot(kind='scatter',x = 'A',y ='B',mode= 'markers')"
   ]
  },
  {
   "cell_type": "code",
   "execution_count": 80,
   "metadata": {},
   "outputs": [],
   "source": [
    "df3 = DataFrame({'x' : [1,2,3,4],'y' : [1,4,9,16],'z' : [1,8,27,64]})"
   ]
  },
  {
   "cell_type": "code",
   "execution_count": 81,
   "metadata": {},
   "outputs": [
    {
     "data": {
      "application/vnd.plotly.v1+json": {
       "config": {
        "linkText": "Export to plot.ly",
        "plotlyServerURL": "https://plot.ly",
        "showLink": true
       },
       "data": [
        {
         "colorscale": [
          [
           0,
           "rgb(165,0,38)"
          ],
          [
           0.1,
           "rgb(215,48,39)"
          ],
          [
           0.2,
           "rgb(244,109,67)"
          ],
          [
           0.3,
           "rgb(253,174,97)"
          ],
          [
           0.4,
           "rgb(254,224,144)"
          ],
          [
           0.5,
           "rgb(255,255,191)"
          ],
          [
           0.6,
           "rgb(224,243,248)"
          ],
          [
           0.7,
           "rgb(171,217,233)"
          ],
          [
           0.8,
           "rgb(116,173,209)"
          ],
          [
           0.9,
           "rgb(69,117,180)"
          ],
          [
           1,
           "rgb(49,54,149)"
          ]
         ],
         "type": "surface",
         "x": [
          0,
          1,
          2,
          3
         ],
         "y": [
          "x",
          "y",
          "z"
         ],
         "z": [
          [
           1,
           2,
           3,
           4
          ],
          [
           1,
           4,
           9,
           16
          ],
          [
           1,
           8,
           27,
           64
          ]
         ]
        }
       ],
       "layout": {
        "legend": {
         "bgcolor": "#F5F6F9",
         "font": {
          "color": "#4D5663"
         }
        },
        "paper_bgcolor": "#F5F6F9",
        "plot_bgcolor": "#F5F6F9",
        "template": {
         "data": {
          "bar": [
           {
            "error_x": {
             "color": "#2a3f5f"
            },
            "error_y": {
             "color": "#2a3f5f"
            },
            "marker": {
             "line": {
              "color": "#E5ECF6",
              "width": 0.5
             }
            },
            "type": "bar"
           }
          ],
          "barpolar": [
           {
            "marker": {
             "line": {
              "color": "#E5ECF6",
              "width": 0.5
             }
            },
            "type": "barpolar"
           }
          ],
          "carpet": [
           {
            "aaxis": {
             "endlinecolor": "#2a3f5f",
             "gridcolor": "white",
             "linecolor": "white",
             "minorgridcolor": "white",
             "startlinecolor": "#2a3f5f"
            },
            "baxis": {
             "endlinecolor": "#2a3f5f",
             "gridcolor": "white",
             "linecolor": "white",
             "minorgridcolor": "white",
             "startlinecolor": "#2a3f5f"
            },
            "type": "carpet"
           }
          ],
          "choropleth": [
           {
            "colorbar": {
             "outlinewidth": 0,
             "ticks": ""
            },
            "type": "choropleth"
           }
          ],
          "contour": [
           {
            "colorbar": {
             "outlinewidth": 0,
             "ticks": ""
            },
            "colorscale": [
             [
              0,
              "#0d0887"
             ],
             [
              0.1111111111111111,
              "#46039f"
             ],
             [
              0.2222222222222222,
              "#7201a8"
             ],
             [
              0.3333333333333333,
              "#9c179e"
             ],
             [
              0.4444444444444444,
              "#bd3786"
             ],
             [
              0.5555555555555556,
              "#d8576b"
             ],
             [
              0.6666666666666666,
              "#ed7953"
             ],
             [
              0.7777777777777778,
              "#fb9f3a"
             ],
             [
              0.8888888888888888,
              "#fdca26"
             ],
             [
              1,
              "#f0f921"
             ]
            ],
            "type": "contour"
           }
          ],
          "contourcarpet": [
           {
            "colorbar": {
             "outlinewidth": 0,
             "ticks": ""
            },
            "type": "contourcarpet"
           }
          ],
          "heatmap": [
           {
            "colorbar": {
             "outlinewidth": 0,
             "ticks": ""
            },
            "colorscale": [
             [
              0,
              "#0d0887"
             ],
             [
              0.1111111111111111,
              "#46039f"
             ],
             [
              0.2222222222222222,
              "#7201a8"
             ],
             [
              0.3333333333333333,
              "#9c179e"
             ],
             [
              0.4444444444444444,
              "#bd3786"
             ],
             [
              0.5555555555555556,
              "#d8576b"
             ],
             [
              0.6666666666666666,
              "#ed7953"
             ],
             [
              0.7777777777777778,
              "#fb9f3a"
             ],
             [
              0.8888888888888888,
              "#fdca26"
             ],
             [
              1,
              "#f0f921"
             ]
            ],
            "type": "heatmap"
           }
          ],
          "heatmapgl": [
           {
            "colorbar": {
             "outlinewidth": 0,
             "ticks": ""
            },
            "colorscale": [
             [
              0,
              "#0d0887"
             ],
             [
              0.1111111111111111,
              "#46039f"
             ],
             [
              0.2222222222222222,
              "#7201a8"
             ],
             [
              0.3333333333333333,
              "#9c179e"
             ],
             [
              0.4444444444444444,
              "#bd3786"
             ],
             [
              0.5555555555555556,
              "#d8576b"
             ],
             [
              0.6666666666666666,
              "#ed7953"
             ],
             [
              0.7777777777777778,
              "#fb9f3a"
             ],
             [
              0.8888888888888888,
              "#fdca26"
             ],
             [
              1,
              "#f0f921"
             ]
            ],
            "type": "heatmapgl"
           }
          ],
          "histogram": [
           {
            "marker": {
             "colorbar": {
              "outlinewidth": 0,
              "ticks": ""
             }
            },
            "type": "histogram"
           }
          ],
          "histogram2d": [
           {
            "colorbar": {
             "outlinewidth": 0,
             "ticks": ""
            },
            "colorscale": [
             [
              0,
              "#0d0887"
             ],
             [
              0.1111111111111111,
              "#46039f"
             ],
             [
              0.2222222222222222,
              "#7201a8"
             ],
             [
              0.3333333333333333,
              "#9c179e"
             ],
             [
              0.4444444444444444,
              "#bd3786"
             ],
             [
              0.5555555555555556,
              "#d8576b"
             ],
             [
              0.6666666666666666,
              "#ed7953"
             ],
             [
              0.7777777777777778,
              "#fb9f3a"
             ],
             [
              0.8888888888888888,
              "#fdca26"
             ],
             [
              1,
              "#f0f921"
             ]
            ],
            "type": "histogram2d"
           }
          ],
          "histogram2dcontour": [
           {
            "colorbar": {
             "outlinewidth": 0,
             "ticks": ""
            },
            "colorscale": [
             [
              0,
              "#0d0887"
             ],
             [
              0.1111111111111111,
              "#46039f"
             ],
             [
              0.2222222222222222,
              "#7201a8"
             ],
             [
              0.3333333333333333,
              "#9c179e"
             ],
             [
              0.4444444444444444,
              "#bd3786"
             ],
             [
              0.5555555555555556,
              "#d8576b"
             ],
             [
              0.6666666666666666,
              "#ed7953"
             ],
             [
              0.7777777777777778,
              "#fb9f3a"
             ],
             [
              0.8888888888888888,
              "#fdca26"
             ],
             [
              1,
              "#f0f921"
             ]
            ],
            "type": "histogram2dcontour"
           }
          ],
          "mesh3d": [
           {
            "colorbar": {
             "outlinewidth": 0,
             "ticks": ""
            },
            "type": "mesh3d"
           }
          ],
          "parcoords": [
           {
            "line": {
             "colorbar": {
              "outlinewidth": 0,
              "ticks": ""
             }
            },
            "type": "parcoords"
           }
          ],
          "pie": [
           {
            "automargin": true,
            "type": "pie"
           }
          ],
          "scatter": [
           {
            "marker": {
             "colorbar": {
              "outlinewidth": 0,
              "ticks": ""
             }
            },
            "type": "scatter"
           }
          ],
          "scatter3d": [
           {
            "line": {
             "colorbar": {
              "outlinewidth": 0,
              "ticks": ""
             }
            },
            "marker": {
             "colorbar": {
              "outlinewidth": 0,
              "ticks": ""
             }
            },
            "type": "scatter3d"
           }
          ],
          "scattercarpet": [
           {
            "marker": {
             "colorbar": {
              "outlinewidth": 0,
              "ticks": ""
             }
            },
            "type": "scattercarpet"
           }
          ],
          "scattergeo": [
           {
            "marker": {
             "colorbar": {
              "outlinewidth": 0,
              "ticks": ""
             }
            },
            "type": "scattergeo"
           }
          ],
          "scattergl": [
           {
            "marker": {
             "colorbar": {
              "outlinewidth": 0,
              "ticks": ""
             }
            },
            "type": "scattergl"
           }
          ],
          "scattermapbox": [
           {
            "marker": {
             "colorbar": {
              "outlinewidth": 0,
              "ticks": ""
             }
            },
            "type": "scattermapbox"
           }
          ],
          "scatterpolar": [
           {
            "marker": {
             "colorbar": {
              "outlinewidth": 0,
              "ticks": ""
             }
            },
            "type": "scatterpolar"
           }
          ],
          "scatterpolargl": [
           {
            "marker": {
             "colorbar": {
              "outlinewidth": 0,
              "ticks": ""
             }
            },
            "type": "scatterpolargl"
           }
          ],
          "scatterternary": [
           {
            "marker": {
             "colorbar": {
              "outlinewidth": 0,
              "ticks": ""
             }
            },
            "type": "scatterternary"
           }
          ],
          "surface": [
           {
            "colorbar": {
             "outlinewidth": 0,
             "ticks": ""
            },
            "colorscale": [
             [
              0,
              "#0d0887"
             ],
             [
              0.1111111111111111,
              "#46039f"
             ],
             [
              0.2222222222222222,
              "#7201a8"
             ],
             [
              0.3333333333333333,
              "#9c179e"
             ],
             [
              0.4444444444444444,
              "#bd3786"
             ],
             [
              0.5555555555555556,
              "#d8576b"
             ],
             [
              0.6666666666666666,
              "#ed7953"
             ],
             [
              0.7777777777777778,
              "#fb9f3a"
             ],
             [
              0.8888888888888888,
              "#fdca26"
             ],
             [
              1,
              "#f0f921"
             ]
            ],
            "type": "surface"
           }
          ],
          "table": [
           {
            "cells": {
             "fill": {
              "color": "#EBF0F8"
             },
             "line": {
              "color": "white"
             }
            },
            "header": {
             "fill": {
              "color": "#C8D4E3"
             },
             "line": {
              "color": "white"
             }
            },
            "type": "table"
           }
          ]
         },
         "layout": {
          "annotationdefaults": {
           "arrowcolor": "#2a3f5f",
           "arrowhead": 0,
           "arrowwidth": 1
          },
          "coloraxis": {
           "colorbar": {
            "outlinewidth": 0,
            "ticks": ""
           }
          },
          "colorscale": {
           "diverging": [
            [
             0,
             "#8e0152"
            ],
            [
             0.1,
             "#c51b7d"
            ],
            [
             0.2,
             "#de77ae"
            ],
            [
             0.3,
             "#f1b6da"
            ],
            [
             0.4,
             "#fde0ef"
            ],
            [
             0.5,
             "#f7f7f7"
            ],
            [
             0.6,
             "#e6f5d0"
            ],
            [
             0.7,
             "#b8e186"
            ],
            [
             0.8,
             "#7fbc41"
            ],
            [
             0.9,
             "#4d9221"
            ],
            [
             1,
             "#276419"
            ]
           ],
           "sequential": [
            [
             0,
             "#0d0887"
            ],
            [
             0.1111111111111111,
             "#46039f"
            ],
            [
             0.2222222222222222,
             "#7201a8"
            ],
            [
             0.3333333333333333,
             "#9c179e"
            ],
            [
             0.4444444444444444,
             "#bd3786"
            ],
            [
             0.5555555555555556,
             "#d8576b"
            ],
            [
             0.6666666666666666,
             "#ed7953"
            ],
            [
             0.7777777777777778,
             "#fb9f3a"
            ],
            [
             0.8888888888888888,
             "#fdca26"
            ],
            [
             1,
             "#f0f921"
            ]
           ],
           "sequentialminus": [
            [
             0,
             "#0d0887"
            ],
            [
             0.1111111111111111,
             "#46039f"
            ],
            [
             0.2222222222222222,
             "#7201a8"
            ],
            [
             0.3333333333333333,
             "#9c179e"
            ],
            [
             0.4444444444444444,
             "#bd3786"
            ],
            [
             0.5555555555555556,
             "#d8576b"
            ],
            [
             0.6666666666666666,
             "#ed7953"
            ],
            [
             0.7777777777777778,
             "#fb9f3a"
            ],
            [
             0.8888888888888888,
             "#fdca26"
            ],
            [
             1,
             "#f0f921"
            ]
           ]
          },
          "colorway": [
           "#636efa",
           "#EF553B",
           "#00cc96",
           "#ab63fa",
           "#FFA15A",
           "#19d3f3",
           "#FF6692",
           "#B6E880",
           "#FF97FF",
           "#FECB52"
          ],
          "font": {
           "color": "#2a3f5f"
          },
          "geo": {
           "bgcolor": "white",
           "lakecolor": "white",
           "landcolor": "#E5ECF6",
           "showlakes": true,
           "showland": true,
           "subunitcolor": "white"
          },
          "hoverlabel": {
           "align": "left"
          },
          "hovermode": "closest",
          "mapbox": {
           "style": "light"
          },
          "paper_bgcolor": "white",
          "plot_bgcolor": "#E5ECF6",
          "polar": {
           "angularaxis": {
            "gridcolor": "white",
            "linecolor": "white",
            "ticks": ""
           },
           "bgcolor": "#E5ECF6",
           "radialaxis": {
            "gridcolor": "white",
            "linecolor": "white",
            "ticks": ""
           }
          },
          "scene": {
           "xaxis": {
            "backgroundcolor": "#E5ECF6",
            "gridcolor": "white",
            "gridwidth": 2,
            "linecolor": "white",
            "showbackground": true,
            "ticks": "",
            "zerolinecolor": "white"
           },
           "yaxis": {
            "backgroundcolor": "#E5ECF6",
            "gridcolor": "white",
            "gridwidth": 2,
            "linecolor": "white",
            "showbackground": true,
            "ticks": "",
            "zerolinecolor": "white"
           },
           "zaxis": {
            "backgroundcolor": "#E5ECF6",
            "gridcolor": "white",
            "gridwidth": 2,
            "linecolor": "white",
            "showbackground": true,
            "ticks": "",
            "zerolinecolor": "white"
           }
          },
          "shapedefaults": {
           "line": {
            "color": "#2a3f5f"
           }
          },
          "ternary": {
           "aaxis": {
            "gridcolor": "white",
            "linecolor": "white",
            "ticks": ""
           },
           "baxis": {
            "gridcolor": "white",
            "linecolor": "white",
            "ticks": ""
           },
           "bgcolor": "#E5ECF6",
           "caxis": {
            "gridcolor": "white",
            "linecolor": "white",
            "ticks": ""
           }
          },
          "title": {
           "x": 0.05
          },
          "xaxis": {
           "automargin": true,
           "gridcolor": "white",
           "linecolor": "white",
           "ticks": "",
           "title": {
            "standoff": 15
           },
           "zerolinecolor": "white",
           "zerolinewidth": 2
          },
          "yaxis": {
           "automargin": true,
           "gridcolor": "white",
           "linecolor": "white",
           "ticks": "",
           "title": {
            "standoff": 15
           },
           "zerolinecolor": "white",
           "zerolinewidth": 2
          }
         }
        },
        "title": {
         "font": {
          "color": "#4D5663"
         }
        },
        "xaxis": {
         "gridcolor": "#E1E5ED",
         "showgrid": true,
         "tickfont": {
          "color": "#4D5663"
         },
         "title": {
          "font": {
           "color": "#4D5663"
          },
          "text": ""
         },
         "zerolinecolor": "#E1E5ED"
        },
        "yaxis": {
         "gridcolor": "#E1E5ED",
         "showgrid": true,
         "tickfont": {
          "color": "#4D5663"
         },
         "title": {
          "font": {
           "color": "#4D5663"
          },
          "text": ""
         },
         "zerolinecolor": "#E1E5ED"
        }
       }
      },
      "text/html": [
       "<div>                            <div id=\"b3789eed-5a1c-4bbf-92f0-b067a4b3832f\" class=\"plotly-graph-div\" style=\"height:525px; width:100%;\"></div>            <script type=\"text/javascript\">                require([\"plotly\"], function(Plotly) {                    window.PLOTLYENV=window.PLOTLYENV || {};\n",
       "                    window.PLOTLYENV.BASE_URL='https://plot.ly';                                    if (document.getElementById(\"b3789eed-5a1c-4bbf-92f0-b067a4b3832f\")) {                    Plotly.newPlot(                        \"b3789eed-5a1c-4bbf-92f0-b067a4b3832f\",                        [{\"colorscale\": [[0.0, \"rgb(165,0,38)\"], [0.1, \"rgb(215,48,39)\"], [0.2, \"rgb(244,109,67)\"], [0.3, \"rgb(253,174,97)\"], [0.4, \"rgb(254,224,144)\"], [0.5, \"rgb(255,255,191)\"], [0.6, \"rgb(224,243,248)\"], [0.7, \"rgb(171,217,233)\"], [0.8, \"rgb(116,173,209)\"], [0.9, \"rgb(69,117,180)\"], [1.0, \"rgb(49,54,149)\"]], \"type\": \"surface\", \"x\": [0, 1, 2, 3], \"y\": [\"x\", \"y\", \"z\"], \"z\": [[1, 2, 3, 4], [1, 4, 9, 16], [1, 8, 27, 64]]}],                        {\"legend\": {\"bgcolor\": \"#F5F6F9\", \"font\": {\"color\": \"#4D5663\"}}, \"paper_bgcolor\": \"#F5F6F9\", \"plot_bgcolor\": \"#F5F6F9\", \"template\": {\"data\": {\"bar\": [{\"error_x\": {\"color\": \"#2a3f5f\"}, \"error_y\": {\"color\": \"#2a3f5f\"}, \"marker\": {\"line\": {\"color\": \"#E5ECF6\", \"width\": 0.5}}, \"type\": \"bar\"}], \"barpolar\": [{\"marker\": {\"line\": {\"color\": \"#E5ECF6\", \"width\": 0.5}}, \"type\": \"barpolar\"}], \"carpet\": [{\"aaxis\": {\"endlinecolor\": \"#2a3f5f\", \"gridcolor\": \"white\", \"linecolor\": \"white\", \"minorgridcolor\": \"white\", \"startlinecolor\": \"#2a3f5f\"}, \"baxis\": {\"endlinecolor\": \"#2a3f5f\", \"gridcolor\": \"white\", \"linecolor\": \"white\", \"minorgridcolor\": \"white\", \"startlinecolor\": \"#2a3f5f\"}, \"type\": \"carpet\"}], \"choropleth\": [{\"colorbar\": {\"outlinewidth\": 0, \"ticks\": \"\"}, \"type\": \"choropleth\"}], \"contour\": [{\"colorbar\": {\"outlinewidth\": 0, \"ticks\": \"\"}, \"colorscale\": [[0.0, \"#0d0887\"], [0.1111111111111111, \"#46039f\"], [0.2222222222222222, \"#7201a8\"], [0.3333333333333333, \"#9c179e\"], [0.4444444444444444, \"#bd3786\"], [0.5555555555555556, \"#d8576b\"], [0.6666666666666666, \"#ed7953\"], [0.7777777777777778, \"#fb9f3a\"], [0.8888888888888888, \"#fdca26\"], [1.0, \"#f0f921\"]], \"type\": \"contour\"}], \"contourcarpet\": [{\"colorbar\": {\"outlinewidth\": 0, \"ticks\": \"\"}, \"type\": \"contourcarpet\"}], \"heatmap\": [{\"colorbar\": {\"outlinewidth\": 0, \"ticks\": \"\"}, \"colorscale\": [[0.0, \"#0d0887\"], [0.1111111111111111, \"#46039f\"], [0.2222222222222222, \"#7201a8\"], [0.3333333333333333, \"#9c179e\"], [0.4444444444444444, \"#bd3786\"], [0.5555555555555556, \"#d8576b\"], [0.6666666666666666, \"#ed7953\"], [0.7777777777777778, \"#fb9f3a\"], [0.8888888888888888, \"#fdca26\"], [1.0, \"#f0f921\"]], \"type\": \"heatmap\"}], \"heatmapgl\": [{\"colorbar\": {\"outlinewidth\": 0, \"ticks\": \"\"}, \"colorscale\": [[0.0, \"#0d0887\"], [0.1111111111111111, \"#46039f\"], [0.2222222222222222, \"#7201a8\"], [0.3333333333333333, \"#9c179e\"], [0.4444444444444444, \"#bd3786\"], [0.5555555555555556, \"#d8576b\"], [0.6666666666666666, \"#ed7953\"], [0.7777777777777778, \"#fb9f3a\"], [0.8888888888888888, \"#fdca26\"], [1.0, \"#f0f921\"]], \"type\": \"heatmapgl\"}], \"histogram\": [{\"marker\": {\"colorbar\": {\"outlinewidth\": 0, \"ticks\": \"\"}}, \"type\": \"histogram\"}], \"histogram2d\": [{\"colorbar\": {\"outlinewidth\": 0, \"ticks\": \"\"}, \"colorscale\": [[0.0, \"#0d0887\"], [0.1111111111111111, \"#46039f\"], [0.2222222222222222, \"#7201a8\"], [0.3333333333333333, \"#9c179e\"], [0.4444444444444444, \"#bd3786\"], [0.5555555555555556, \"#d8576b\"], [0.6666666666666666, \"#ed7953\"], [0.7777777777777778, \"#fb9f3a\"], [0.8888888888888888, \"#fdca26\"], [1.0, \"#f0f921\"]], \"type\": \"histogram2d\"}], \"histogram2dcontour\": [{\"colorbar\": {\"outlinewidth\": 0, \"ticks\": \"\"}, \"colorscale\": [[0.0, \"#0d0887\"], [0.1111111111111111, \"#46039f\"], [0.2222222222222222, \"#7201a8\"], [0.3333333333333333, \"#9c179e\"], [0.4444444444444444, \"#bd3786\"], [0.5555555555555556, \"#d8576b\"], [0.6666666666666666, \"#ed7953\"], [0.7777777777777778, \"#fb9f3a\"], [0.8888888888888888, \"#fdca26\"], [1.0, \"#f0f921\"]], \"type\": \"histogram2dcontour\"}], \"mesh3d\": [{\"colorbar\": {\"outlinewidth\": 0, \"ticks\": \"\"}, \"type\": \"mesh3d\"}], \"parcoords\": [{\"line\": {\"colorbar\": {\"outlinewidth\": 0, \"ticks\": \"\"}}, \"type\": \"parcoords\"}], \"pie\": [{\"automargin\": true, \"type\": \"pie\"}], \"scatter\": [{\"marker\": {\"colorbar\": {\"outlinewidth\": 0, \"ticks\": \"\"}}, \"type\": \"scatter\"}], \"scatter3d\": [{\"line\": {\"colorbar\": {\"outlinewidth\": 0, \"ticks\": \"\"}}, \"marker\": {\"colorbar\": {\"outlinewidth\": 0, \"ticks\": \"\"}}, \"type\": \"scatter3d\"}], \"scattercarpet\": [{\"marker\": {\"colorbar\": {\"outlinewidth\": 0, \"ticks\": \"\"}}, \"type\": \"scattercarpet\"}], \"scattergeo\": [{\"marker\": {\"colorbar\": {\"outlinewidth\": 0, \"ticks\": \"\"}}, \"type\": \"scattergeo\"}], \"scattergl\": [{\"marker\": {\"colorbar\": {\"outlinewidth\": 0, \"ticks\": \"\"}}, \"type\": \"scattergl\"}], \"scattermapbox\": [{\"marker\": {\"colorbar\": {\"outlinewidth\": 0, \"ticks\": \"\"}}, \"type\": \"scattermapbox\"}], \"scatterpolar\": [{\"marker\": {\"colorbar\": {\"outlinewidth\": 0, \"ticks\": \"\"}}, \"type\": \"scatterpolar\"}], \"scatterpolargl\": [{\"marker\": {\"colorbar\": {\"outlinewidth\": 0, \"ticks\": \"\"}}, \"type\": \"scatterpolargl\"}], \"scatterternary\": [{\"marker\": {\"colorbar\": {\"outlinewidth\": 0, \"ticks\": \"\"}}, \"type\": \"scatterternary\"}], \"surface\": [{\"colorbar\": {\"outlinewidth\": 0, \"ticks\": \"\"}, \"colorscale\": [[0.0, \"#0d0887\"], [0.1111111111111111, \"#46039f\"], [0.2222222222222222, \"#7201a8\"], [0.3333333333333333, \"#9c179e\"], [0.4444444444444444, \"#bd3786\"], [0.5555555555555556, \"#d8576b\"], [0.6666666666666666, \"#ed7953\"], [0.7777777777777778, \"#fb9f3a\"], [0.8888888888888888, \"#fdca26\"], [1.0, \"#f0f921\"]], \"type\": \"surface\"}], \"table\": [{\"cells\": {\"fill\": {\"color\": \"#EBF0F8\"}, \"line\": {\"color\": \"white\"}}, \"header\": {\"fill\": {\"color\": \"#C8D4E3\"}, \"line\": {\"color\": \"white\"}}, \"type\": \"table\"}]}, \"layout\": {\"annotationdefaults\": {\"arrowcolor\": \"#2a3f5f\", \"arrowhead\": 0, \"arrowwidth\": 1}, \"coloraxis\": {\"colorbar\": {\"outlinewidth\": 0, \"ticks\": \"\"}}, \"colorscale\": {\"diverging\": [[0, \"#8e0152\"], [0.1, \"#c51b7d\"], [0.2, \"#de77ae\"], [0.3, \"#f1b6da\"], [0.4, \"#fde0ef\"], [0.5, \"#f7f7f7\"], [0.6, \"#e6f5d0\"], [0.7, \"#b8e186\"], [0.8, \"#7fbc41\"], [0.9, \"#4d9221\"], [1, \"#276419\"]], \"sequential\": [[0.0, \"#0d0887\"], [0.1111111111111111, \"#46039f\"], [0.2222222222222222, \"#7201a8\"], [0.3333333333333333, \"#9c179e\"], [0.4444444444444444, \"#bd3786\"], [0.5555555555555556, \"#d8576b\"], [0.6666666666666666, \"#ed7953\"], [0.7777777777777778, \"#fb9f3a\"], [0.8888888888888888, \"#fdca26\"], [1.0, \"#f0f921\"]], \"sequentialminus\": [[0.0, \"#0d0887\"], [0.1111111111111111, \"#46039f\"], [0.2222222222222222, \"#7201a8\"], [0.3333333333333333, \"#9c179e\"], [0.4444444444444444, \"#bd3786\"], [0.5555555555555556, \"#d8576b\"], [0.6666666666666666, \"#ed7953\"], [0.7777777777777778, \"#fb9f3a\"], [0.8888888888888888, \"#fdca26\"], [1.0, \"#f0f921\"]]}, \"colorway\": [\"#636efa\", \"#EF553B\", \"#00cc96\", \"#ab63fa\", \"#FFA15A\", \"#19d3f3\", \"#FF6692\", \"#B6E880\", \"#FF97FF\", \"#FECB52\"], \"font\": {\"color\": \"#2a3f5f\"}, \"geo\": {\"bgcolor\": \"white\", \"lakecolor\": \"white\", \"landcolor\": \"#E5ECF6\", \"showlakes\": true, \"showland\": true, \"subunitcolor\": \"white\"}, \"hoverlabel\": {\"align\": \"left\"}, \"hovermode\": \"closest\", \"mapbox\": {\"style\": \"light\"}, \"paper_bgcolor\": \"white\", \"plot_bgcolor\": \"#E5ECF6\", \"polar\": {\"angularaxis\": {\"gridcolor\": \"white\", \"linecolor\": \"white\", \"ticks\": \"\"}, \"bgcolor\": \"#E5ECF6\", \"radialaxis\": {\"gridcolor\": \"white\", \"linecolor\": \"white\", \"ticks\": \"\"}}, \"scene\": {\"xaxis\": {\"backgroundcolor\": \"#E5ECF6\", \"gridcolor\": \"white\", \"gridwidth\": 2, \"linecolor\": \"white\", \"showbackground\": true, \"ticks\": \"\", \"zerolinecolor\": \"white\"}, \"yaxis\": {\"backgroundcolor\": \"#E5ECF6\", \"gridcolor\": \"white\", \"gridwidth\": 2, \"linecolor\": \"white\", \"showbackground\": true, \"ticks\": \"\", \"zerolinecolor\": \"white\"}, \"zaxis\": {\"backgroundcolor\": \"#E5ECF6\", \"gridcolor\": \"white\", \"gridwidth\": 2, \"linecolor\": \"white\", \"showbackground\": true, \"ticks\": \"\", \"zerolinecolor\": \"white\"}}, \"shapedefaults\": {\"line\": {\"color\": \"#2a3f5f\"}}, \"ternary\": {\"aaxis\": {\"gridcolor\": \"white\", \"linecolor\": \"white\", \"ticks\": \"\"}, \"baxis\": {\"gridcolor\": \"white\", \"linecolor\": \"white\", \"ticks\": \"\"}, \"bgcolor\": \"#E5ECF6\", \"caxis\": {\"gridcolor\": \"white\", \"linecolor\": \"white\", \"ticks\": \"\"}}, \"title\": {\"x\": 0.05}, \"xaxis\": {\"automargin\": true, \"gridcolor\": \"white\", \"linecolor\": \"white\", \"ticks\": \"\", \"title\": {\"standoff\": 15}, \"zerolinecolor\": \"white\", \"zerolinewidth\": 2}, \"yaxis\": {\"automargin\": true, \"gridcolor\": \"white\", \"linecolor\": \"white\", \"ticks\": \"\", \"title\": {\"standoff\": 15}, \"zerolinecolor\": \"white\", \"zerolinewidth\": 2}}}, \"title\": {\"font\": {\"color\": \"#4D5663\"}}, \"xaxis\": {\"gridcolor\": \"#E1E5ED\", \"showgrid\": true, \"tickfont\": {\"color\": \"#4D5663\"}, \"title\": {\"font\": {\"color\": \"#4D5663\"}, \"text\": \"\"}, \"zerolinecolor\": \"#E1E5ED\"}, \"yaxis\": {\"gridcolor\": \"#E1E5ED\", \"showgrid\": true, \"tickfont\": {\"color\": \"#4D5663\"}, \"title\": {\"font\": {\"color\": \"#4D5663\"}, \"text\": \"\"}, \"zerolinecolor\": \"#E1E5ED\"}},                        {\"showLink\": true, \"linkText\": \"Export to plot.ly\", \"plotlyServerURL\": \"https://plot.ly\", \"responsive\": true}                    ).then(function(){\n",
       "                            \n",
       "var gd = document.getElementById('b3789eed-5a1c-4bbf-92f0-b067a4b3832f');\n",
       "var x = new MutationObserver(function (mutations, observer) {{\n",
       "        var display = window.getComputedStyle(gd).display;\n",
       "        if (!display || display === 'none') {{\n",
       "            console.log([gd, 'removed!']);\n",
       "            Plotly.purge(gd);\n",
       "            observer.disconnect();\n",
       "        }}\n",
       "}});\n",
       "\n",
       "// Listen for the removal of the full notebook cells\n",
       "var notebookContainer = gd.closest('#notebook-container');\n",
       "if (notebookContainer) {{\n",
       "    x.observe(notebookContainer, {childList: true});\n",
       "}}\n",
       "\n",
       "// Listen for the clearing of the current output cell\n",
       "var outputEl = gd.closest('.output');\n",
       "if (outputEl) {{\n",
       "    x.observe(outputEl, {childList: true});\n",
       "}}\n",
       "\n",
       "                        })                };                });            </script>        </div>"
      ]
     },
     "metadata": {},
     "output_type": "display_data"
    }
   ],
   "source": [
    "df3.iplot(kind = 'surface',colorscale = 'rdylbu')"
   ]
  },
  {
   "cell_type": "code",
   "execution_count": 69,
   "metadata": {},
   "outputs": [
    {
     "data": {
      "application/vnd.plotly.v1+json": {
       "config": {
        "linkText": "Export to plot.ly",
        "plotlyServerURL": "https://plot.ly",
        "showLink": true
       },
       "data": [
        {
         "histfunc": "count",
         "histnorm": "",
         "marker": {
          "color": "rgba(255, 153, 51, 1.0)",
          "line": {
           "color": "#4D5663",
           "width": 1.3
          }
         },
         "name": "A",
         "opacity": 0.8,
         "orientation": "v",
         "type": "histogram",
         "x": [
          2.456864478612622,
          -2.2527239798611314,
          -2.2929421848992426,
          0.356852081716104,
          -0.25027565803004814,
          -0.4352308180980923,
          -1.7870622081171643,
          -0.4231246753923552,
          0.9739696613755218,
          0.3992265559510478,
          -0.23910651236066105,
          0.23931071399692622,
          0.09131078371117889,
          0.18231030225450318,
          -1.6770467131592837,
          0.6723336270661157,
          0.24807428163009063,
          -0.7626192979780793,
          -1.485650151616024,
          -2.068322142166952,
          -0.816661798988874,
          -0.4390293659026417,
          -0.17638692762077884,
          1.3693036243446226,
          -0.8838873911315334,
          1.4781184141206263,
          1.0204354409755043,
          0.6677895888357839,
          1.307300361914305,
          0.381526666995544,
          0.6990207531066948,
          -0.19170954656039826,
          -1.6176627483135664,
          -1.4378015404747206,
          -0.3089839408391603,
          -0.7042330548807497,
          0.1686533561355506,
          -0.2719197995344573,
          0.5554967812631001,
          0.9774118356605086,
          -0.5675670254061104,
          1.8147360416350493,
          -0.2076775115236604,
          1.396211557548168,
          -0.2196247534199206,
          1.257667737581909,
          0.09999079328644785,
          0.40953832839299614,
          0.5181168335779327,
          -0.6408375541457859,
          0.9059451776285394,
          0.6233470810053362,
          -0.4067115357546892,
          0.01083130229600319,
          0.5789254579976282,
          0.04246809985210584,
          1.2652109502899274,
          0.05171788485414968,
          -0.678433959764289,
          -0.6715016710873373,
          1.1674003643390756,
          0.6963027212152043,
          -0.6872552716565266,
          0.35043630517555296,
          1.697039109276328,
          -0.16517053629799128,
          0.23807020983462962,
          1.036859207986987,
          -1.0626416110243735,
          -0.5436189635055533,
          -1.0935424145198833,
          0.31040749316377236,
          -0.19753243030570042,
          -2.7090402836025933,
          -1.5646909709019092,
          0.521645062440777,
          -0.5002630539043543,
          -0.2690104841331373,
          1.3310061232297976,
          -1.5183182964218291,
          0.48398557607624765,
          -1.6832106492361594,
          -0.40954112536213994,
          0.4724488127081655,
          2.1196763199373585,
          0.19754555336208063,
          -0.9074605490975094,
          0.15313865789208797,
          1.351762250817329,
          -0.396385824284584,
          1.1476851047106436,
          0.5740494843237829,
          1.0697578479613916,
          -0.046560497298113845,
          -0.2897030805682362,
          0.1679496946692134,
          -1.3517488543120035,
          0.4667484204157006,
          0.2629850168256431,
          -0.6432433834067868
         ]
        },
        {
         "histfunc": "count",
         "histnorm": "",
         "marker": {
          "color": "rgba(55, 128, 191, 1.0)",
          "line": {
           "color": "#4D5663",
           "width": 1.3
          }
         },
         "name": "B",
         "opacity": 0.8,
         "orientation": "v",
         "type": "histogram",
         "x": [
          0.7585713004881539,
          0.9369508008274443,
          2.8786377067420803,
          -0.9753733963764035,
          -1.973314268207836,
          -1.1926729745541216,
          1.7788975258488893,
          -2.739702907163809,
          0.7818386057295666,
          0.5557853197699847,
          1.1308138994045913,
          -0.03394713504751146,
          -0.24674661567520484,
          0.9048576983121975,
          -0.06399742714620238,
          -0.29553159925198297,
          1.4480226716018347,
          -0.9287181429895608,
          -1.1584119641019608,
          0.32889625773459297,
          0.007753273055508445,
          -0.05820317171635984,
          -0.15155706936588884,
          0.19472617657474028,
          -0.7964170541897511,
          -0.4322192069305809,
          -0.9445672117722083,
          0.014770905297994949,
          -0.35176557796450886,
          1.0195066876159382,
          0.784707646326061,
          -0.3250669031761666,
          0.9277017170808991,
          0.7600764488098469,
          1.758123577307258,
          0.1842424508247556,
          0.8128516170296418,
          1.0898631416458546,
          1.2891007860044672,
          -0.8697391961812799,
          -0.45653154226280335,
          -1.0361046760709498,
          0.7559270918670371,
          -2.061501740649847,
          1.4092710565201825,
          -0.256631908090931,
          -1.5750591677500945,
          0.9245690218077082,
          -0.9061675814715107,
          0.37584618766234756,
          -1.2415901387761887,
          1.1957546846050047,
          1.959991039843966,
          -0.8996322472799549,
          -1.0475054321530737,
          -0.6490377881974029,
          0.3837783651423651,
          -0.037591221147904176,
          0.3264691997676207,
          0.8351240175627819,
          1.3407659055312469,
          0.7664492600505355,
          0.34707865407662625,
          0.4374355620108727,
          0.4206434136296037,
          0.11449523490312948,
          0.050628931196152235,
          1.7227632992759434,
          -0.02044643276147327,
          -0.4372433743237419,
          -1.6823925218882394,
          0.059972603940122146,
          1.586091742340369,
          -0.611607758287968,
          -0.4515418116623536,
          0.6764102158345765,
          -1.5778251431922758,
          0.531490498101667,
          0.29467461455975935,
          -0.4096067239508892,
          -1.928942981094565,
          -0.10329196872552136,
          0.7700000706766272,
          0.4424794882193026,
          -0.3296786777745359,
          -1.4801841351888587,
          0.39132986150267235,
          1.187930182494079,
          -1.2766734843288627,
          -0.502946174955512,
          0.3430738507677682,
          0.39802770458241576,
          -1.6533098903298877,
          -0.5168646022711108,
          0.38758251120651555,
          -0.291875675770869,
          -1.164864245517917,
          1.3999539696360548,
          -1.9115176187985556,
          0.4970235858917134
         ]
        },
        {
         "histfunc": "count",
         "histnorm": "",
         "marker": {
          "color": "rgba(50, 171, 96, 1.0)",
          "line": {
           "color": "#4D5663",
           "width": 1.3
          }
         },
         "name": "C",
         "opacity": 0.8,
         "orientation": "v",
         "type": "histogram",
         "x": [
          -0.21097545106115867,
          -1.010385952727178,
          1.2749827146362012,
          -0.015983506020842593,
          -1.4746786667388705,
          0.179830423867175,
          -1.7462619033123765,
          1.0464112123438396,
          -1.026390859731597,
          -1.5943918528495928,
          0.27066796628353124,
          1.684858393324544,
          -0.8691937549317699,
          1.0663471476085131,
          -0.27768437726852435,
          1.4540051135513614,
          -0.26883009252392337,
          -0.9033424846816914,
          -0.9747627063168453,
          -0.02899475056819844,
          -2.1091287389590594,
          -0.8173521305308596,
          -0.5458075875412067,
          0.1408257779445167,
          1.0469267961676325,
          -0.1274706826923543,
          -0.4135280276220017,
          -2.504998932310551,
          -0.31393716699687946,
          -0.27885332707301097,
          -0.10489987978738426,
          -0.311979337731574,
          0.8323164989952668,
          1.141533340091098,
          0.13831170926493636,
          0.4082224185595173,
          -1.215204703217632,
          -0.9242699464629253,
          -0.7808708848307961,
          -0.4087507562011927,
          0.5384793601336588,
          -0.894570347749724,
          -1.9064362065808225,
          0.4457683343762501,
          1.4908864825098789,
          1.0693654725823765,
          -0.7275095732282226,
          -0.8979976610014719,
          -0.5568820823956494,
          -3.120217014727852,
          -1.0643984188092965,
          0.481779811826849,
          -2.1582565399941807,
          0.674790921329094,
          -0.8034916966642305,
          -0.18546152762405013,
          0.3701522485642225,
          -0.4268835316362451,
          0.7190516944973412,
          1.4186235615644138,
          0.6233755088238365,
          0.451150747092287,
          0.09196690808838238,
          0.17208166858829033,
          0.31266042146240636,
          0.19012493289956234,
          -0.6033882671133812,
          -0.3528222705784352,
          -1.029664931473673,
          -1.789717664094481,
          1.729908802810119,
          1.8872430463151544,
          1.3780986797462649,
          -0.12991924339436525,
          -2.6283925699063895,
          -0.45255088777254926,
          0.26223069515618097,
          0.47620185627593864,
          -0.8154834212117086,
          0.4518383967003741,
          1.680930268015079,
          -0.6185203445333183,
          0.3503940349241752,
          0.726458825053681,
          0.03463182841395179,
          -0.16540845309937308,
          1.4483176986472721,
          -1.1154223385895445,
          -0.09404226600003875,
          -1.9554368262281228,
          0.4048604122456422,
          0.07250754014594887,
          0.14321259166825573,
          0.7358098587718248,
          -1.6902281014428777,
          1.1306991593957962,
          -0.1099648790423635,
          -0.22666075417092854,
          0.049843414740093135,
          1.7189847338915771
         ]
        },
        {
         "histfunc": "count",
         "histnorm": "",
         "marker": {
          "color": "rgba(128, 0, 128, 1.0)",
          "line": {
           "color": "#4D5663",
           "width": 1.3
          }
         },
         "name": "D",
         "opacity": 0.8,
         "orientation": "v",
         "type": "histogram",
         "x": [
          1.4117582400459063,
          0.5158806040582149,
          -0.056329725916821824,
          3.0331176288045154,
          2.251571432677742,
          -0.7244537895757376,
          1.2757216021545035,
          0.5245256765181753,
          -2.167648381947332,
          -0.4696805838248369,
          -0.7485430338440984,
          1.5433238587038358,
          -1.1301871150538845,
          -0.8509439519643706,
          0.9802881962901107,
          0.5573549233360873,
          1.3924631528411737,
          -0.292843525425006,
          -0.28957625229621475,
          -1.2848236294066253,
          1.2280302498116678,
          -1.8612347534410665,
          -0.7879333821927236,
          -1.1291458198297768,
          0.9209652308913361,
          0.26972013558638086,
          -1.4698105580627052,
          0.5186966764631051,
          -0.25514350367859234,
          0.664752381529209,
          0.3096208618182506,
          -0.5039365347815075,
          -0.4089033909019008,
          1.2941177250485878,
          0.6166150565287175,
          -1.1472542509270691,
          0.2505258246975447,
          -0.7584439760541246,
          -0.23747358583319064,
          -1.595523305990587,
          -0.3418769665943945,
          0.2818531578350275,
          -0.5555095528498177,
          0.3239429982070741,
          -0.7258768991770973,
          -0.9261661539974302,
          0.5611160523629165,
          -1.3792408529525848,
          -2.825545670103279,
          0.27493797297484407,
          -0.5321004469147166,
          -0.6143052576424726,
          -2.0180202882435245,
          -1.3954363627502746,
          -0.8759893988017698,
          0.37356556439978833,
          0.7160956305449683,
          0.06937507216314834,
          -0.6552479976721832,
          0.43343928702505524,
          0.2455584618258172,
          0.42126667865391876,
          1.1619913270267297,
          -0.8032146674707702,
          -0.5890226399059743,
          0.6458359767000308,
          0.4360332745112395,
          0.599788673353237,
          -0.722948223582799,
          -1.030606401238794,
          1.9700941532056162,
          0.7791070160905508,
          -0.6959015496296476,
          -0.3825212064430439,
          -0.059171058813391623,
          -1.9504072192912345,
          1.778253100110659,
          1.1330032162375292,
          -0.3703874521409308,
          1.4917910877624783,
          -0.39446169568001704,
          1.3224359705441946,
          0.9956777417992919,
          1.2675161076205903,
          -1.3566847734767353,
          0.40309061690454584,
          -1.0419272570013405,
          0.23569775255301098,
          -0.02792794107762883,
          -0.9036568645096051,
          -0.7357079424723857,
          -0.36096085535421085,
          2.053305244643362,
          -1.1928816331796919,
          2.198658821091295,
          -1.0327304619564042,
          -0.8835906856693826,
          0.03346181036648316,
          -2.025627489159471,
          -0.4081320108627518
         ]
        }
       ],
       "layout": {
        "barmode": "overlay",
        "legend": {
         "bgcolor": "#F5F6F9",
         "font": {
          "color": "#4D5663"
         }
        },
        "paper_bgcolor": "#F5F6F9",
        "plot_bgcolor": "#F5F6F9",
        "template": {
         "data": {
          "bar": [
           {
            "error_x": {
             "color": "#2a3f5f"
            },
            "error_y": {
             "color": "#2a3f5f"
            },
            "marker": {
             "line": {
              "color": "#E5ECF6",
              "width": 0.5
             }
            },
            "type": "bar"
           }
          ],
          "barpolar": [
           {
            "marker": {
             "line": {
              "color": "#E5ECF6",
              "width": 0.5
             }
            },
            "type": "barpolar"
           }
          ],
          "carpet": [
           {
            "aaxis": {
             "endlinecolor": "#2a3f5f",
             "gridcolor": "white",
             "linecolor": "white",
             "minorgridcolor": "white",
             "startlinecolor": "#2a3f5f"
            },
            "baxis": {
             "endlinecolor": "#2a3f5f",
             "gridcolor": "white",
             "linecolor": "white",
             "minorgridcolor": "white",
             "startlinecolor": "#2a3f5f"
            },
            "type": "carpet"
           }
          ],
          "choropleth": [
           {
            "colorbar": {
             "outlinewidth": 0,
             "ticks": ""
            },
            "type": "choropleth"
           }
          ],
          "contour": [
           {
            "colorbar": {
             "outlinewidth": 0,
             "ticks": ""
            },
            "colorscale": [
             [
              0,
              "#0d0887"
             ],
             [
              0.1111111111111111,
              "#46039f"
             ],
             [
              0.2222222222222222,
              "#7201a8"
             ],
             [
              0.3333333333333333,
              "#9c179e"
             ],
             [
              0.4444444444444444,
              "#bd3786"
             ],
             [
              0.5555555555555556,
              "#d8576b"
             ],
             [
              0.6666666666666666,
              "#ed7953"
             ],
             [
              0.7777777777777778,
              "#fb9f3a"
             ],
             [
              0.8888888888888888,
              "#fdca26"
             ],
             [
              1,
              "#f0f921"
             ]
            ],
            "type": "contour"
           }
          ],
          "contourcarpet": [
           {
            "colorbar": {
             "outlinewidth": 0,
             "ticks": ""
            },
            "type": "contourcarpet"
           }
          ],
          "heatmap": [
           {
            "colorbar": {
             "outlinewidth": 0,
             "ticks": ""
            },
            "colorscale": [
             [
              0,
              "#0d0887"
             ],
             [
              0.1111111111111111,
              "#46039f"
             ],
             [
              0.2222222222222222,
              "#7201a8"
             ],
             [
              0.3333333333333333,
              "#9c179e"
             ],
             [
              0.4444444444444444,
              "#bd3786"
             ],
             [
              0.5555555555555556,
              "#d8576b"
             ],
             [
              0.6666666666666666,
              "#ed7953"
             ],
             [
              0.7777777777777778,
              "#fb9f3a"
             ],
             [
              0.8888888888888888,
              "#fdca26"
             ],
             [
              1,
              "#f0f921"
             ]
            ],
            "type": "heatmap"
           }
          ],
          "heatmapgl": [
           {
            "colorbar": {
             "outlinewidth": 0,
             "ticks": ""
            },
            "colorscale": [
             [
              0,
              "#0d0887"
             ],
             [
              0.1111111111111111,
              "#46039f"
             ],
             [
              0.2222222222222222,
              "#7201a8"
             ],
             [
              0.3333333333333333,
              "#9c179e"
             ],
             [
              0.4444444444444444,
              "#bd3786"
             ],
             [
              0.5555555555555556,
              "#d8576b"
             ],
             [
              0.6666666666666666,
              "#ed7953"
             ],
             [
              0.7777777777777778,
              "#fb9f3a"
             ],
             [
              0.8888888888888888,
              "#fdca26"
             ],
             [
              1,
              "#f0f921"
             ]
            ],
            "type": "heatmapgl"
           }
          ],
          "histogram": [
           {
            "marker": {
             "colorbar": {
              "outlinewidth": 0,
              "ticks": ""
             }
            },
            "type": "histogram"
           }
          ],
          "histogram2d": [
           {
            "colorbar": {
             "outlinewidth": 0,
             "ticks": ""
            },
            "colorscale": [
             [
              0,
              "#0d0887"
             ],
             [
              0.1111111111111111,
              "#46039f"
             ],
             [
              0.2222222222222222,
              "#7201a8"
             ],
             [
              0.3333333333333333,
              "#9c179e"
             ],
             [
              0.4444444444444444,
              "#bd3786"
             ],
             [
              0.5555555555555556,
              "#d8576b"
             ],
             [
              0.6666666666666666,
              "#ed7953"
             ],
             [
              0.7777777777777778,
              "#fb9f3a"
             ],
             [
              0.8888888888888888,
              "#fdca26"
             ],
             [
              1,
              "#f0f921"
             ]
            ],
            "type": "histogram2d"
           }
          ],
          "histogram2dcontour": [
           {
            "colorbar": {
             "outlinewidth": 0,
             "ticks": ""
            },
            "colorscale": [
             [
              0,
              "#0d0887"
             ],
             [
              0.1111111111111111,
              "#46039f"
             ],
             [
              0.2222222222222222,
              "#7201a8"
             ],
             [
              0.3333333333333333,
              "#9c179e"
             ],
             [
              0.4444444444444444,
              "#bd3786"
             ],
             [
              0.5555555555555556,
              "#d8576b"
             ],
             [
              0.6666666666666666,
              "#ed7953"
             ],
             [
              0.7777777777777778,
              "#fb9f3a"
             ],
             [
              0.8888888888888888,
              "#fdca26"
             ],
             [
              1,
              "#f0f921"
             ]
            ],
            "type": "histogram2dcontour"
           }
          ],
          "mesh3d": [
           {
            "colorbar": {
             "outlinewidth": 0,
             "ticks": ""
            },
            "type": "mesh3d"
           }
          ],
          "parcoords": [
           {
            "line": {
             "colorbar": {
              "outlinewidth": 0,
              "ticks": ""
             }
            },
            "type": "parcoords"
           }
          ],
          "pie": [
           {
            "automargin": true,
            "type": "pie"
           }
          ],
          "scatter": [
           {
            "marker": {
             "colorbar": {
              "outlinewidth": 0,
              "ticks": ""
             }
            },
            "type": "scatter"
           }
          ],
          "scatter3d": [
           {
            "line": {
             "colorbar": {
              "outlinewidth": 0,
              "ticks": ""
             }
            },
            "marker": {
             "colorbar": {
              "outlinewidth": 0,
              "ticks": ""
             }
            },
            "type": "scatter3d"
           }
          ],
          "scattercarpet": [
           {
            "marker": {
             "colorbar": {
              "outlinewidth": 0,
              "ticks": ""
             }
            },
            "type": "scattercarpet"
           }
          ],
          "scattergeo": [
           {
            "marker": {
             "colorbar": {
              "outlinewidth": 0,
              "ticks": ""
             }
            },
            "type": "scattergeo"
           }
          ],
          "scattergl": [
           {
            "marker": {
             "colorbar": {
              "outlinewidth": 0,
              "ticks": ""
             }
            },
            "type": "scattergl"
           }
          ],
          "scattermapbox": [
           {
            "marker": {
             "colorbar": {
              "outlinewidth": 0,
              "ticks": ""
             }
            },
            "type": "scattermapbox"
           }
          ],
          "scatterpolar": [
           {
            "marker": {
             "colorbar": {
              "outlinewidth": 0,
              "ticks": ""
             }
            },
            "type": "scatterpolar"
           }
          ],
          "scatterpolargl": [
           {
            "marker": {
             "colorbar": {
              "outlinewidth": 0,
              "ticks": ""
             }
            },
            "type": "scatterpolargl"
           }
          ],
          "scatterternary": [
           {
            "marker": {
             "colorbar": {
              "outlinewidth": 0,
              "ticks": ""
             }
            },
            "type": "scatterternary"
           }
          ],
          "surface": [
           {
            "colorbar": {
             "outlinewidth": 0,
             "ticks": ""
            },
            "colorscale": [
             [
              0,
              "#0d0887"
             ],
             [
              0.1111111111111111,
              "#46039f"
             ],
             [
              0.2222222222222222,
              "#7201a8"
             ],
             [
              0.3333333333333333,
              "#9c179e"
             ],
             [
              0.4444444444444444,
              "#bd3786"
             ],
             [
              0.5555555555555556,
              "#d8576b"
             ],
             [
              0.6666666666666666,
              "#ed7953"
             ],
             [
              0.7777777777777778,
              "#fb9f3a"
             ],
             [
              0.8888888888888888,
              "#fdca26"
             ],
             [
              1,
              "#f0f921"
             ]
            ],
            "type": "surface"
           }
          ],
          "table": [
           {
            "cells": {
             "fill": {
              "color": "#EBF0F8"
             },
             "line": {
              "color": "white"
             }
            },
            "header": {
             "fill": {
              "color": "#C8D4E3"
             },
             "line": {
              "color": "white"
             }
            },
            "type": "table"
           }
          ]
         },
         "layout": {
          "annotationdefaults": {
           "arrowcolor": "#2a3f5f",
           "arrowhead": 0,
           "arrowwidth": 1
          },
          "coloraxis": {
           "colorbar": {
            "outlinewidth": 0,
            "ticks": ""
           }
          },
          "colorscale": {
           "diverging": [
            [
             0,
             "#8e0152"
            ],
            [
             0.1,
             "#c51b7d"
            ],
            [
             0.2,
             "#de77ae"
            ],
            [
             0.3,
             "#f1b6da"
            ],
            [
             0.4,
             "#fde0ef"
            ],
            [
             0.5,
             "#f7f7f7"
            ],
            [
             0.6,
             "#e6f5d0"
            ],
            [
             0.7,
             "#b8e186"
            ],
            [
             0.8,
             "#7fbc41"
            ],
            [
             0.9,
             "#4d9221"
            ],
            [
             1,
             "#276419"
            ]
           ],
           "sequential": [
            [
             0,
             "#0d0887"
            ],
            [
             0.1111111111111111,
             "#46039f"
            ],
            [
             0.2222222222222222,
             "#7201a8"
            ],
            [
             0.3333333333333333,
             "#9c179e"
            ],
            [
             0.4444444444444444,
             "#bd3786"
            ],
            [
             0.5555555555555556,
             "#d8576b"
            ],
            [
             0.6666666666666666,
             "#ed7953"
            ],
            [
             0.7777777777777778,
             "#fb9f3a"
            ],
            [
             0.8888888888888888,
             "#fdca26"
            ],
            [
             1,
             "#f0f921"
            ]
           ],
           "sequentialminus": [
            [
             0,
             "#0d0887"
            ],
            [
             0.1111111111111111,
             "#46039f"
            ],
            [
             0.2222222222222222,
             "#7201a8"
            ],
            [
             0.3333333333333333,
             "#9c179e"
            ],
            [
             0.4444444444444444,
             "#bd3786"
            ],
            [
             0.5555555555555556,
             "#d8576b"
            ],
            [
             0.6666666666666666,
             "#ed7953"
            ],
            [
             0.7777777777777778,
             "#fb9f3a"
            ],
            [
             0.8888888888888888,
             "#fdca26"
            ],
            [
             1,
             "#f0f921"
            ]
           ]
          },
          "colorway": [
           "#636efa",
           "#EF553B",
           "#00cc96",
           "#ab63fa",
           "#FFA15A",
           "#19d3f3",
           "#FF6692",
           "#B6E880",
           "#FF97FF",
           "#FECB52"
          ],
          "font": {
           "color": "#2a3f5f"
          },
          "geo": {
           "bgcolor": "white",
           "lakecolor": "white",
           "landcolor": "#E5ECF6",
           "showlakes": true,
           "showland": true,
           "subunitcolor": "white"
          },
          "hoverlabel": {
           "align": "left"
          },
          "hovermode": "closest",
          "mapbox": {
           "style": "light"
          },
          "paper_bgcolor": "white",
          "plot_bgcolor": "#E5ECF6",
          "polar": {
           "angularaxis": {
            "gridcolor": "white",
            "linecolor": "white",
            "ticks": ""
           },
           "bgcolor": "#E5ECF6",
           "radialaxis": {
            "gridcolor": "white",
            "linecolor": "white",
            "ticks": ""
           }
          },
          "scene": {
           "xaxis": {
            "backgroundcolor": "#E5ECF6",
            "gridcolor": "white",
            "gridwidth": 2,
            "linecolor": "white",
            "showbackground": true,
            "ticks": "",
            "zerolinecolor": "white"
           },
           "yaxis": {
            "backgroundcolor": "#E5ECF6",
            "gridcolor": "white",
            "gridwidth": 2,
            "linecolor": "white",
            "showbackground": true,
            "ticks": "",
            "zerolinecolor": "white"
           },
           "zaxis": {
            "backgroundcolor": "#E5ECF6",
            "gridcolor": "white",
            "gridwidth": 2,
            "linecolor": "white",
            "showbackground": true,
            "ticks": "",
            "zerolinecolor": "white"
           }
          },
          "shapedefaults": {
           "line": {
            "color": "#2a3f5f"
           }
          },
          "ternary": {
           "aaxis": {
            "gridcolor": "white",
            "linecolor": "white",
            "ticks": ""
           },
           "baxis": {
            "gridcolor": "white",
            "linecolor": "white",
            "ticks": ""
           },
           "bgcolor": "#E5ECF6",
           "caxis": {
            "gridcolor": "white",
            "linecolor": "white",
            "ticks": ""
           }
          },
          "title": {
           "x": 0.05
          },
          "xaxis": {
           "automargin": true,
           "gridcolor": "white",
           "linecolor": "white",
           "ticks": "",
           "title": {
            "standoff": 15
           },
           "zerolinecolor": "white",
           "zerolinewidth": 2
          },
          "yaxis": {
           "automargin": true,
           "gridcolor": "white",
           "linecolor": "white",
           "ticks": "",
           "title": {
            "standoff": 15
           },
           "zerolinecolor": "white",
           "zerolinewidth": 2
          }
         }
        },
        "title": {
         "font": {
          "color": "#4D5663"
         }
        },
        "xaxis": {
         "gridcolor": "#E1E5ED",
         "showgrid": true,
         "tickfont": {
          "color": "#4D5663"
         },
         "title": {
          "font": {
           "color": "#4D5663"
          },
          "text": ""
         },
         "zerolinecolor": "#E1E5ED"
        },
        "yaxis": {
         "gridcolor": "#E1E5ED",
         "showgrid": true,
         "tickfont": {
          "color": "#4D5663"
         },
         "title": {
          "font": {
           "color": "#4D5663"
          },
          "text": ""
         },
         "zerolinecolor": "#E1E5ED"
        }
       }
      },
      "text/html": [
       "<div>                            <div id=\"44a2a9a3-ec89-4e05-96e7-78aca1aec140\" class=\"plotly-graph-div\" style=\"height:525px; width:100%;\"></div>            <script type=\"text/javascript\">                require([\"plotly\"], function(Plotly) {                    window.PLOTLYENV=window.PLOTLYENV || {};\n",
       "                    window.PLOTLYENV.BASE_URL='https://plot.ly';                                    if (document.getElementById(\"44a2a9a3-ec89-4e05-96e7-78aca1aec140\")) {                    Plotly.newPlot(                        \"44a2a9a3-ec89-4e05-96e7-78aca1aec140\",                        [{\"histfunc\": \"count\", \"histnorm\": \"\", \"marker\": {\"color\": \"rgba(255, 153, 51, 1.0)\", \"line\": {\"color\": \"#4D5663\", \"width\": 1.3}}, \"name\": \"A\", \"opacity\": 0.8, \"orientation\": \"v\", \"type\": \"histogram\", \"x\": [2.456864478612622, -2.2527239798611314, -2.2929421848992426, 0.356852081716104, -0.25027565803004814, -0.4352308180980923, -1.7870622081171643, -0.4231246753923552, 0.9739696613755218, 0.3992265559510478, -0.23910651236066105, 0.23931071399692622, 0.09131078371117889, 0.18231030225450318, -1.6770467131592837, 0.6723336270661157, 0.24807428163009063, -0.7626192979780793, -1.485650151616024, -2.068322142166952, -0.816661798988874, -0.4390293659026417, -0.17638692762077884, 1.3693036243446226, -0.8838873911315334, 1.4781184141206263, 1.0204354409755043, 0.6677895888357839, 1.307300361914305, 0.381526666995544, 0.6990207531066948, -0.19170954656039826, -1.6176627483135664, -1.4378015404747206, -0.3089839408391603, -0.7042330548807497, 0.1686533561355506, -0.2719197995344573, 0.5554967812631001, 0.9774118356605086, -0.5675670254061104, 1.8147360416350493, -0.2076775115236604, 1.396211557548168, -0.2196247534199206, 1.257667737581909, 0.09999079328644785, 0.40953832839299614, 0.5181168335779327, -0.6408375541457859, 0.9059451776285394, 0.6233470810053362, -0.4067115357546892, 0.01083130229600319, 0.5789254579976282, 0.04246809985210584, 1.2652109502899274, 0.05171788485414968, -0.678433959764289, -0.6715016710873373, 1.1674003643390756, 0.6963027212152043, -0.6872552716565266, 0.35043630517555296, 1.697039109276328, -0.16517053629799128, 0.23807020983462962, 1.036859207986987, -1.0626416110243735, -0.5436189635055533, -1.0935424145198833, 0.31040749316377236, -0.19753243030570042, -2.7090402836025933, -1.5646909709019092, 0.521645062440777, -0.5002630539043543, -0.2690104841331373, 1.3310061232297976, -1.5183182964218291, 0.48398557607624765, -1.6832106492361594, -0.40954112536213994, 0.4724488127081655, 2.1196763199373585, 0.19754555336208063, -0.9074605490975094, 0.15313865789208797, 1.351762250817329, -0.396385824284584, 1.1476851047106436, 0.5740494843237829, 1.0697578479613916, -0.046560497298113845, -0.2897030805682362, 0.1679496946692134, -1.3517488543120035, 0.4667484204157006, 0.2629850168256431, -0.6432433834067868]}, {\"histfunc\": \"count\", \"histnorm\": \"\", \"marker\": {\"color\": \"rgba(55, 128, 191, 1.0)\", \"line\": {\"color\": \"#4D5663\", \"width\": 1.3}}, \"name\": \"B\", \"opacity\": 0.8, \"orientation\": \"v\", \"type\": \"histogram\", \"x\": [0.7585713004881539, 0.9369508008274443, 2.8786377067420803, -0.9753733963764035, -1.973314268207836, -1.1926729745541216, 1.7788975258488893, -2.739702907163809, 0.7818386057295666, 0.5557853197699847, 1.1308138994045913, -0.03394713504751146, -0.24674661567520484, 0.9048576983121975, -0.06399742714620238, -0.29553159925198297, 1.4480226716018347, -0.9287181429895608, -1.1584119641019608, 0.32889625773459297, 0.007753273055508445, -0.05820317171635984, -0.15155706936588884, 0.19472617657474028, -0.7964170541897511, -0.4322192069305809, -0.9445672117722083, 0.014770905297994949, -0.35176557796450886, 1.0195066876159382, 0.784707646326061, -0.3250669031761666, 0.9277017170808991, 0.7600764488098469, 1.758123577307258, 0.1842424508247556, 0.8128516170296418, 1.0898631416458546, 1.2891007860044672, -0.8697391961812799, -0.45653154226280335, -1.0361046760709498, 0.7559270918670371, -2.061501740649847, 1.4092710565201825, -0.256631908090931, -1.5750591677500945, 0.9245690218077082, -0.9061675814715107, 0.37584618766234756, -1.2415901387761887, 1.1957546846050047, 1.959991039843966, -0.8996322472799549, -1.0475054321530737, -0.6490377881974029, 0.3837783651423651, -0.037591221147904176, 0.3264691997676207, 0.8351240175627819, 1.3407659055312469, 0.7664492600505355, 0.34707865407662625, 0.4374355620108727, 0.4206434136296037, 0.11449523490312948, 0.050628931196152235, 1.7227632992759434, -0.02044643276147327, -0.4372433743237419, -1.6823925218882394, 0.059972603940122146, 1.586091742340369, -0.611607758287968, -0.4515418116623536, 0.6764102158345765, -1.5778251431922758, 0.531490498101667, 0.29467461455975935, -0.4096067239508892, -1.928942981094565, -0.10329196872552136, 0.7700000706766272, 0.4424794882193026, -0.3296786777745359, -1.4801841351888587, 0.39132986150267235, 1.187930182494079, -1.2766734843288627, -0.502946174955512, 0.3430738507677682, 0.39802770458241576, -1.6533098903298877, -0.5168646022711108, 0.38758251120651555, -0.291875675770869, -1.164864245517917, 1.3999539696360548, -1.9115176187985556, 0.4970235858917134]}, {\"histfunc\": \"count\", \"histnorm\": \"\", \"marker\": {\"color\": \"rgba(50, 171, 96, 1.0)\", \"line\": {\"color\": \"#4D5663\", \"width\": 1.3}}, \"name\": \"C\", \"opacity\": 0.8, \"orientation\": \"v\", \"type\": \"histogram\", \"x\": [-0.21097545106115867, -1.010385952727178, 1.2749827146362012, -0.015983506020842593, -1.4746786667388705, 0.179830423867175, -1.7462619033123765, 1.0464112123438396, -1.026390859731597, -1.5943918528495928, 0.27066796628353124, 1.684858393324544, -0.8691937549317699, 1.0663471476085131, -0.27768437726852435, 1.4540051135513614, -0.26883009252392337, -0.9033424846816914, -0.9747627063168453, -0.02899475056819844, -2.1091287389590594, -0.8173521305308596, -0.5458075875412067, 0.1408257779445167, 1.0469267961676325, -0.1274706826923543, -0.4135280276220017, -2.504998932310551, -0.31393716699687946, -0.27885332707301097, -0.10489987978738426, -0.311979337731574, 0.8323164989952668, 1.141533340091098, 0.13831170926493636, 0.4082224185595173, -1.215204703217632, -0.9242699464629253, -0.7808708848307961, -0.4087507562011927, 0.5384793601336588, -0.894570347749724, -1.9064362065808225, 0.4457683343762501, 1.4908864825098789, 1.0693654725823765, -0.7275095732282226, -0.8979976610014719, -0.5568820823956494, -3.120217014727852, -1.0643984188092965, 0.481779811826849, -2.1582565399941807, 0.674790921329094, -0.8034916966642305, -0.18546152762405013, 0.3701522485642225, -0.4268835316362451, 0.7190516944973412, 1.4186235615644138, 0.6233755088238365, 0.451150747092287, 0.09196690808838238, 0.17208166858829033, 0.31266042146240636, 0.19012493289956234, -0.6033882671133812, -0.3528222705784352, -1.029664931473673, -1.789717664094481, 1.729908802810119, 1.8872430463151544, 1.3780986797462649, -0.12991924339436525, -2.6283925699063895, -0.45255088777254926, 0.26223069515618097, 0.47620185627593864, -0.8154834212117086, 0.4518383967003741, 1.680930268015079, -0.6185203445333183, 0.3503940349241752, 0.726458825053681, 0.03463182841395179, -0.16540845309937308, 1.4483176986472721, -1.1154223385895445, -0.09404226600003875, -1.9554368262281228, 0.4048604122456422, 0.07250754014594887, 0.14321259166825573, 0.7358098587718248, -1.6902281014428777, 1.1306991593957962, -0.1099648790423635, -0.22666075417092854, 0.049843414740093135, 1.7189847338915771]}, {\"histfunc\": \"count\", \"histnorm\": \"\", \"marker\": {\"color\": \"rgba(128, 0, 128, 1.0)\", \"line\": {\"color\": \"#4D5663\", \"width\": 1.3}}, \"name\": \"D\", \"opacity\": 0.8, \"orientation\": \"v\", \"type\": \"histogram\", \"x\": [1.4117582400459063, 0.5158806040582149, -0.056329725916821824, 3.0331176288045154, 2.251571432677742, -0.7244537895757376, 1.2757216021545035, 0.5245256765181753, -2.167648381947332, -0.4696805838248369, -0.7485430338440984, 1.5433238587038358, -1.1301871150538845, -0.8509439519643706, 0.9802881962901107, 0.5573549233360873, 1.3924631528411737, -0.292843525425006, -0.28957625229621475, -1.2848236294066253, 1.2280302498116678, -1.8612347534410665, -0.7879333821927236, -1.1291458198297768, 0.9209652308913361, 0.26972013558638086, -1.4698105580627052, 0.5186966764631051, -0.25514350367859234, 0.664752381529209, 0.3096208618182506, -0.5039365347815075, -0.4089033909019008, 1.2941177250485878, 0.6166150565287175, -1.1472542509270691, 0.2505258246975447, -0.7584439760541246, -0.23747358583319064, -1.595523305990587, -0.3418769665943945, 0.2818531578350275, -0.5555095528498177, 0.3239429982070741, -0.7258768991770973, -0.9261661539974302, 0.5611160523629165, -1.3792408529525848, -2.825545670103279, 0.27493797297484407, -0.5321004469147166, -0.6143052576424726, -2.0180202882435245, -1.3954363627502746, -0.8759893988017698, 0.37356556439978833, 0.7160956305449683, 0.06937507216314834, -0.6552479976721832, 0.43343928702505524, 0.2455584618258172, 0.42126667865391876, 1.1619913270267297, -0.8032146674707702, -0.5890226399059743, 0.6458359767000308, 0.4360332745112395, 0.599788673353237, -0.722948223582799, -1.030606401238794, 1.9700941532056162, 0.7791070160905508, -0.6959015496296476, -0.3825212064430439, -0.059171058813391623, -1.9504072192912345, 1.778253100110659, 1.1330032162375292, -0.3703874521409308, 1.4917910877624783, -0.39446169568001704, 1.3224359705441946, 0.9956777417992919, 1.2675161076205903, -1.3566847734767353, 0.40309061690454584, -1.0419272570013405, 0.23569775255301098, -0.02792794107762883, -0.9036568645096051, -0.7357079424723857, -0.36096085535421085, 2.053305244643362, -1.1928816331796919, 2.198658821091295, -1.0327304619564042, -0.8835906856693826, 0.03346181036648316, -2.025627489159471, -0.4081320108627518]}],                        {\"barmode\": \"overlay\", \"legend\": {\"bgcolor\": \"#F5F6F9\", \"font\": {\"color\": \"#4D5663\"}}, \"paper_bgcolor\": \"#F5F6F9\", \"plot_bgcolor\": \"#F5F6F9\", \"template\": {\"data\": {\"bar\": [{\"error_x\": {\"color\": \"#2a3f5f\"}, \"error_y\": {\"color\": \"#2a3f5f\"}, \"marker\": {\"line\": {\"color\": \"#E5ECF6\", \"width\": 0.5}}, \"type\": \"bar\"}], \"barpolar\": [{\"marker\": {\"line\": {\"color\": \"#E5ECF6\", \"width\": 0.5}}, \"type\": \"barpolar\"}], \"carpet\": [{\"aaxis\": {\"endlinecolor\": \"#2a3f5f\", \"gridcolor\": \"white\", \"linecolor\": \"white\", \"minorgridcolor\": \"white\", \"startlinecolor\": \"#2a3f5f\"}, \"baxis\": {\"endlinecolor\": \"#2a3f5f\", \"gridcolor\": \"white\", \"linecolor\": \"white\", \"minorgridcolor\": \"white\", \"startlinecolor\": \"#2a3f5f\"}, \"type\": \"carpet\"}], \"choropleth\": [{\"colorbar\": {\"outlinewidth\": 0, \"ticks\": \"\"}, \"type\": \"choropleth\"}], \"contour\": [{\"colorbar\": {\"outlinewidth\": 0, \"ticks\": \"\"}, \"colorscale\": [[0.0, \"#0d0887\"], [0.1111111111111111, \"#46039f\"], [0.2222222222222222, \"#7201a8\"], [0.3333333333333333, \"#9c179e\"], [0.4444444444444444, \"#bd3786\"], [0.5555555555555556, \"#d8576b\"], [0.6666666666666666, \"#ed7953\"], [0.7777777777777778, \"#fb9f3a\"], [0.8888888888888888, \"#fdca26\"], [1.0, \"#f0f921\"]], \"type\": \"contour\"}], \"contourcarpet\": [{\"colorbar\": {\"outlinewidth\": 0, \"ticks\": \"\"}, \"type\": \"contourcarpet\"}], \"heatmap\": [{\"colorbar\": {\"outlinewidth\": 0, \"ticks\": \"\"}, \"colorscale\": [[0.0, \"#0d0887\"], [0.1111111111111111, \"#46039f\"], [0.2222222222222222, \"#7201a8\"], [0.3333333333333333, \"#9c179e\"], [0.4444444444444444, \"#bd3786\"], [0.5555555555555556, \"#d8576b\"], [0.6666666666666666, \"#ed7953\"], [0.7777777777777778, \"#fb9f3a\"], [0.8888888888888888, \"#fdca26\"], [1.0, \"#f0f921\"]], \"type\": \"heatmap\"}], \"heatmapgl\": [{\"colorbar\": {\"outlinewidth\": 0, \"ticks\": \"\"}, \"colorscale\": [[0.0, \"#0d0887\"], [0.1111111111111111, \"#46039f\"], [0.2222222222222222, \"#7201a8\"], [0.3333333333333333, \"#9c179e\"], [0.4444444444444444, \"#bd3786\"], [0.5555555555555556, \"#d8576b\"], [0.6666666666666666, \"#ed7953\"], [0.7777777777777778, \"#fb9f3a\"], [0.8888888888888888, \"#fdca26\"], [1.0, \"#f0f921\"]], \"type\": \"heatmapgl\"}], \"histogram\": [{\"marker\": {\"colorbar\": {\"outlinewidth\": 0, \"ticks\": \"\"}}, \"type\": \"histogram\"}], \"histogram2d\": [{\"colorbar\": {\"outlinewidth\": 0, \"ticks\": \"\"}, \"colorscale\": [[0.0, \"#0d0887\"], [0.1111111111111111, \"#46039f\"], [0.2222222222222222, \"#7201a8\"], [0.3333333333333333, \"#9c179e\"], [0.4444444444444444, \"#bd3786\"], [0.5555555555555556, \"#d8576b\"], [0.6666666666666666, \"#ed7953\"], [0.7777777777777778, \"#fb9f3a\"], [0.8888888888888888, \"#fdca26\"], [1.0, \"#f0f921\"]], \"type\": \"histogram2d\"}], \"histogram2dcontour\": [{\"colorbar\": {\"outlinewidth\": 0, \"ticks\": \"\"}, \"colorscale\": [[0.0, \"#0d0887\"], [0.1111111111111111, \"#46039f\"], [0.2222222222222222, \"#7201a8\"], [0.3333333333333333, \"#9c179e\"], [0.4444444444444444, \"#bd3786\"], [0.5555555555555556, \"#d8576b\"], [0.6666666666666666, \"#ed7953\"], [0.7777777777777778, \"#fb9f3a\"], [0.8888888888888888, \"#fdca26\"], [1.0, \"#f0f921\"]], \"type\": \"histogram2dcontour\"}], \"mesh3d\": [{\"colorbar\": {\"outlinewidth\": 0, \"ticks\": \"\"}, \"type\": \"mesh3d\"}], \"parcoords\": [{\"line\": {\"colorbar\": {\"outlinewidth\": 0, \"ticks\": \"\"}}, \"type\": \"parcoords\"}], \"pie\": [{\"automargin\": true, \"type\": \"pie\"}], \"scatter\": [{\"marker\": {\"colorbar\": {\"outlinewidth\": 0, \"ticks\": \"\"}}, \"type\": \"scatter\"}], \"scatter3d\": [{\"line\": {\"colorbar\": {\"outlinewidth\": 0, \"ticks\": \"\"}}, \"marker\": {\"colorbar\": {\"outlinewidth\": 0, \"ticks\": \"\"}}, \"type\": \"scatter3d\"}], \"scattercarpet\": [{\"marker\": {\"colorbar\": {\"outlinewidth\": 0, \"ticks\": \"\"}}, \"type\": \"scattercarpet\"}], \"scattergeo\": [{\"marker\": {\"colorbar\": {\"outlinewidth\": 0, \"ticks\": \"\"}}, \"type\": \"scattergeo\"}], \"scattergl\": [{\"marker\": {\"colorbar\": {\"outlinewidth\": 0, \"ticks\": \"\"}}, \"type\": \"scattergl\"}], \"scattermapbox\": [{\"marker\": {\"colorbar\": {\"outlinewidth\": 0, \"ticks\": \"\"}}, \"type\": \"scattermapbox\"}], \"scatterpolar\": [{\"marker\": {\"colorbar\": {\"outlinewidth\": 0, \"ticks\": \"\"}}, \"type\": \"scatterpolar\"}], \"scatterpolargl\": [{\"marker\": {\"colorbar\": {\"outlinewidth\": 0, \"ticks\": \"\"}}, \"type\": \"scatterpolargl\"}], \"scatterternary\": [{\"marker\": {\"colorbar\": {\"outlinewidth\": 0, \"ticks\": \"\"}}, \"type\": \"scatterternary\"}], \"surface\": [{\"colorbar\": {\"outlinewidth\": 0, \"ticks\": \"\"}, \"colorscale\": [[0.0, \"#0d0887\"], [0.1111111111111111, \"#46039f\"], [0.2222222222222222, \"#7201a8\"], [0.3333333333333333, \"#9c179e\"], [0.4444444444444444, \"#bd3786\"], [0.5555555555555556, \"#d8576b\"], [0.6666666666666666, \"#ed7953\"], [0.7777777777777778, \"#fb9f3a\"], [0.8888888888888888, \"#fdca26\"], [1.0, \"#f0f921\"]], \"type\": \"surface\"}], \"table\": [{\"cells\": {\"fill\": {\"color\": \"#EBF0F8\"}, \"line\": {\"color\": \"white\"}}, \"header\": {\"fill\": {\"color\": \"#C8D4E3\"}, \"line\": {\"color\": \"white\"}}, \"type\": \"table\"}]}, \"layout\": {\"annotationdefaults\": {\"arrowcolor\": \"#2a3f5f\", \"arrowhead\": 0, \"arrowwidth\": 1}, \"coloraxis\": {\"colorbar\": {\"outlinewidth\": 0, \"ticks\": \"\"}}, \"colorscale\": {\"diverging\": [[0, \"#8e0152\"], [0.1, \"#c51b7d\"], [0.2, \"#de77ae\"], [0.3, \"#f1b6da\"], [0.4, \"#fde0ef\"], [0.5, \"#f7f7f7\"], [0.6, \"#e6f5d0\"], [0.7, \"#b8e186\"], [0.8, \"#7fbc41\"], [0.9, \"#4d9221\"], [1, \"#276419\"]], \"sequential\": [[0.0, \"#0d0887\"], [0.1111111111111111, \"#46039f\"], [0.2222222222222222, \"#7201a8\"], [0.3333333333333333, \"#9c179e\"], [0.4444444444444444, \"#bd3786\"], [0.5555555555555556, \"#d8576b\"], [0.6666666666666666, \"#ed7953\"], [0.7777777777777778, \"#fb9f3a\"], [0.8888888888888888, \"#fdca26\"], [1.0, \"#f0f921\"]], \"sequentialminus\": [[0.0, \"#0d0887\"], [0.1111111111111111, \"#46039f\"], [0.2222222222222222, \"#7201a8\"], [0.3333333333333333, \"#9c179e\"], [0.4444444444444444, \"#bd3786\"], [0.5555555555555556, \"#d8576b\"], [0.6666666666666666, \"#ed7953\"], [0.7777777777777778, \"#fb9f3a\"], [0.8888888888888888, \"#fdca26\"], [1.0, \"#f0f921\"]]}, \"colorway\": [\"#636efa\", \"#EF553B\", \"#00cc96\", \"#ab63fa\", \"#FFA15A\", \"#19d3f3\", \"#FF6692\", \"#B6E880\", \"#FF97FF\", \"#FECB52\"], \"font\": {\"color\": \"#2a3f5f\"}, \"geo\": {\"bgcolor\": \"white\", \"lakecolor\": \"white\", \"landcolor\": \"#E5ECF6\", \"showlakes\": true, \"showland\": true, \"subunitcolor\": \"white\"}, \"hoverlabel\": {\"align\": \"left\"}, \"hovermode\": \"closest\", \"mapbox\": {\"style\": \"light\"}, \"paper_bgcolor\": \"white\", \"plot_bgcolor\": \"#E5ECF6\", \"polar\": {\"angularaxis\": {\"gridcolor\": \"white\", \"linecolor\": \"white\", \"ticks\": \"\"}, \"bgcolor\": \"#E5ECF6\", \"radialaxis\": {\"gridcolor\": \"white\", \"linecolor\": \"white\", \"ticks\": \"\"}}, \"scene\": {\"xaxis\": {\"backgroundcolor\": \"#E5ECF6\", \"gridcolor\": \"white\", \"gridwidth\": 2, \"linecolor\": \"white\", \"showbackground\": true, \"ticks\": \"\", \"zerolinecolor\": \"white\"}, \"yaxis\": {\"backgroundcolor\": \"#E5ECF6\", \"gridcolor\": \"white\", \"gridwidth\": 2, \"linecolor\": \"white\", \"showbackground\": true, \"ticks\": \"\", \"zerolinecolor\": \"white\"}, \"zaxis\": {\"backgroundcolor\": \"#E5ECF6\", \"gridcolor\": \"white\", \"gridwidth\": 2, \"linecolor\": \"white\", \"showbackground\": true, \"ticks\": \"\", \"zerolinecolor\": \"white\"}}, \"shapedefaults\": {\"line\": {\"color\": \"#2a3f5f\"}}, \"ternary\": {\"aaxis\": {\"gridcolor\": \"white\", \"linecolor\": \"white\", \"ticks\": \"\"}, \"baxis\": {\"gridcolor\": \"white\", \"linecolor\": \"white\", \"ticks\": \"\"}, \"bgcolor\": \"#E5ECF6\", \"caxis\": {\"gridcolor\": \"white\", \"linecolor\": \"white\", \"ticks\": \"\"}}, \"title\": {\"x\": 0.05}, \"xaxis\": {\"automargin\": true, \"gridcolor\": \"white\", \"linecolor\": \"white\", \"ticks\": \"\", \"title\": {\"standoff\": 15}, \"zerolinecolor\": \"white\", \"zerolinewidth\": 2}, \"yaxis\": {\"automargin\": true, \"gridcolor\": \"white\", \"linecolor\": \"white\", \"ticks\": \"\", \"title\": {\"standoff\": 15}, \"zerolinecolor\": \"white\", \"zerolinewidth\": 2}}}, \"title\": {\"font\": {\"color\": \"#4D5663\"}}, \"xaxis\": {\"gridcolor\": \"#E1E5ED\", \"showgrid\": true, \"tickfont\": {\"color\": \"#4D5663\"}, \"title\": {\"font\": {\"color\": \"#4D5663\"}, \"text\": \"\"}, \"zerolinecolor\": \"#E1E5ED\"}, \"yaxis\": {\"gridcolor\": \"#E1E5ED\", \"showgrid\": true, \"tickfont\": {\"color\": \"#4D5663\"}, \"title\": {\"font\": {\"color\": \"#4D5663\"}, \"text\": \"\"}, \"zerolinecolor\": \"#E1E5ED\"}},                        {\"showLink\": true, \"linkText\": \"Export to plot.ly\", \"plotlyServerURL\": \"https://plot.ly\", \"responsive\": true}                    ).then(function(){\n",
       "                            \n",
       "var gd = document.getElementById('44a2a9a3-ec89-4e05-96e7-78aca1aec140');\n",
       "var x = new MutationObserver(function (mutations, observer) {{\n",
       "        var display = window.getComputedStyle(gd).display;\n",
       "        if (!display || display === 'none') {{\n",
       "            console.log([gd, 'removed!']);\n",
       "            Plotly.purge(gd);\n",
       "            observer.disconnect();\n",
       "        }}\n",
       "}});\n",
       "\n",
       "// Listen for the removal of the full notebook cells\n",
       "var notebookContainer = gd.closest('#notebook-container');\n",
       "if (notebookContainer) {{\n",
       "    x.observe(notebookContainer, {childList: true});\n",
       "}}\n",
       "\n",
       "// Listen for the clearing of the current output cell\n",
       "var outputEl = gd.closest('.output');\n",
       "if (outputEl) {{\n",
       "    x.observe(outputEl, {childList: true});\n",
       "}}\n",
       "\n",
       "                        })                };                });            </script>        </div>"
      ]
     },
     "metadata": {},
     "output_type": "display_data"
    }
   ],
   "source": [
    "df2['Values'].describe()\n",
    "df.iplot(kind='hist')"
   ]
  },
  {
   "cell_type": "code",
   "execution_count": 70,
   "metadata": {},
   "outputs": [
    {
     "data": {
      "application/vnd.plotly.v1+json": {
       "config": {
        "linkText": "Export to plot.ly",
        "plotlyServerURL": "https://plot.ly",
        "showLink": true
       },
       "data": [
        {
         "boxpoints": false,
         "line": {
          "width": 1.3
         },
         "marker": {
          "color": "rgba(255, 153, 51, 1.0)"
         },
         "name": "Values",
         "orientation": "v",
         "type": "box",
         "y": [
          32,
          45,
          68
         ]
        }
       ],
       "layout": {
        "legend": {
         "bgcolor": "#F5F6F9",
         "font": {
          "color": "#4D5663"
         }
        },
        "paper_bgcolor": "#F5F6F9",
        "plot_bgcolor": "#F5F6F9",
        "template": {
         "data": {
          "bar": [
           {
            "error_x": {
             "color": "#2a3f5f"
            },
            "error_y": {
             "color": "#2a3f5f"
            },
            "marker": {
             "line": {
              "color": "#E5ECF6",
              "width": 0.5
             }
            },
            "type": "bar"
           }
          ],
          "barpolar": [
           {
            "marker": {
             "line": {
              "color": "#E5ECF6",
              "width": 0.5
             }
            },
            "type": "barpolar"
           }
          ],
          "carpet": [
           {
            "aaxis": {
             "endlinecolor": "#2a3f5f",
             "gridcolor": "white",
             "linecolor": "white",
             "minorgridcolor": "white",
             "startlinecolor": "#2a3f5f"
            },
            "baxis": {
             "endlinecolor": "#2a3f5f",
             "gridcolor": "white",
             "linecolor": "white",
             "minorgridcolor": "white",
             "startlinecolor": "#2a3f5f"
            },
            "type": "carpet"
           }
          ],
          "choropleth": [
           {
            "colorbar": {
             "outlinewidth": 0,
             "ticks": ""
            },
            "type": "choropleth"
           }
          ],
          "contour": [
           {
            "colorbar": {
             "outlinewidth": 0,
             "ticks": ""
            },
            "colorscale": [
             [
              0,
              "#0d0887"
             ],
             [
              0.1111111111111111,
              "#46039f"
             ],
             [
              0.2222222222222222,
              "#7201a8"
             ],
             [
              0.3333333333333333,
              "#9c179e"
             ],
             [
              0.4444444444444444,
              "#bd3786"
             ],
             [
              0.5555555555555556,
              "#d8576b"
             ],
             [
              0.6666666666666666,
              "#ed7953"
             ],
             [
              0.7777777777777778,
              "#fb9f3a"
             ],
             [
              0.8888888888888888,
              "#fdca26"
             ],
             [
              1,
              "#f0f921"
             ]
            ],
            "type": "contour"
           }
          ],
          "contourcarpet": [
           {
            "colorbar": {
             "outlinewidth": 0,
             "ticks": ""
            },
            "type": "contourcarpet"
           }
          ],
          "heatmap": [
           {
            "colorbar": {
             "outlinewidth": 0,
             "ticks": ""
            },
            "colorscale": [
             [
              0,
              "#0d0887"
             ],
             [
              0.1111111111111111,
              "#46039f"
             ],
             [
              0.2222222222222222,
              "#7201a8"
             ],
             [
              0.3333333333333333,
              "#9c179e"
             ],
             [
              0.4444444444444444,
              "#bd3786"
             ],
             [
              0.5555555555555556,
              "#d8576b"
             ],
             [
              0.6666666666666666,
              "#ed7953"
             ],
             [
              0.7777777777777778,
              "#fb9f3a"
             ],
             [
              0.8888888888888888,
              "#fdca26"
             ],
             [
              1,
              "#f0f921"
             ]
            ],
            "type": "heatmap"
           }
          ],
          "heatmapgl": [
           {
            "colorbar": {
             "outlinewidth": 0,
             "ticks": ""
            },
            "colorscale": [
             [
              0,
              "#0d0887"
             ],
             [
              0.1111111111111111,
              "#46039f"
             ],
             [
              0.2222222222222222,
              "#7201a8"
             ],
             [
              0.3333333333333333,
              "#9c179e"
             ],
             [
              0.4444444444444444,
              "#bd3786"
             ],
             [
              0.5555555555555556,
              "#d8576b"
             ],
             [
              0.6666666666666666,
              "#ed7953"
             ],
             [
              0.7777777777777778,
              "#fb9f3a"
             ],
             [
              0.8888888888888888,
              "#fdca26"
             ],
             [
              1,
              "#f0f921"
             ]
            ],
            "type": "heatmapgl"
           }
          ],
          "histogram": [
           {
            "marker": {
             "colorbar": {
              "outlinewidth": 0,
              "ticks": ""
             }
            },
            "type": "histogram"
           }
          ],
          "histogram2d": [
           {
            "colorbar": {
             "outlinewidth": 0,
             "ticks": ""
            },
            "colorscale": [
             [
              0,
              "#0d0887"
             ],
             [
              0.1111111111111111,
              "#46039f"
             ],
             [
              0.2222222222222222,
              "#7201a8"
             ],
             [
              0.3333333333333333,
              "#9c179e"
             ],
             [
              0.4444444444444444,
              "#bd3786"
             ],
             [
              0.5555555555555556,
              "#d8576b"
             ],
             [
              0.6666666666666666,
              "#ed7953"
             ],
             [
              0.7777777777777778,
              "#fb9f3a"
             ],
             [
              0.8888888888888888,
              "#fdca26"
             ],
             [
              1,
              "#f0f921"
             ]
            ],
            "type": "histogram2d"
           }
          ],
          "histogram2dcontour": [
           {
            "colorbar": {
             "outlinewidth": 0,
             "ticks": ""
            },
            "colorscale": [
             [
              0,
              "#0d0887"
             ],
             [
              0.1111111111111111,
              "#46039f"
             ],
             [
              0.2222222222222222,
              "#7201a8"
             ],
             [
              0.3333333333333333,
              "#9c179e"
             ],
             [
              0.4444444444444444,
              "#bd3786"
             ],
             [
              0.5555555555555556,
              "#d8576b"
             ],
             [
              0.6666666666666666,
              "#ed7953"
             ],
             [
              0.7777777777777778,
              "#fb9f3a"
             ],
             [
              0.8888888888888888,
              "#fdca26"
             ],
             [
              1,
              "#f0f921"
             ]
            ],
            "type": "histogram2dcontour"
           }
          ],
          "mesh3d": [
           {
            "colorbar": {
             "outlinewidth": 0,
             "ticks": ""
            },
            "type": "mesh3d"
           }
          ],
          "parcoords": [
           {
            "line": {
             "colorbar": {
              "outlinewidth": 0,
              "ticks": ""
             }
            },
            "type": "parcoords"
           }
          ],
          "pie": [
           {
            "automargin": true,
            "type": "pie"
           }
          ],
          "scatter": [
           {
            "marker": {
             "colorbar": {
              "outlinewidth": 0,
              "ticks": ""
             }
            },
            "type": "scatter"
           }
          ],
          "scatter3d": [
           {
            "line": {
             "colorbar": {
              "outlinewidth": 0,
              "ticks": ""
             }
            },
            "marker": {
             "colorbar": {
              "outlinewidth": 0,
              "ticks": ""
             }
            },
            "type": "scatter3d"
           }
          ],
          "scattercarpet": [
           {
            "marker": {
             "colorbar": {
              "outlinewidth": 0,
              "ticks": ""
             }
            },
            "type": "scattercarpet"
           }
          ],
          "scattergeo": [
           {
            "marker": {
             "colorbar": {
              "outlinewidth": 0,
              "ticks": ""
             }
            },
            "type": "scattergeo"
           }
          ],
          "scattergl": [
           {
            "marker": {
             "colorbar": {
              "outlinewidth": 0,
              "ticks": ""
             }
            },
            "type": "scattergl"
           }
          ],
          "scattermapbox": [
           {
            "marker": {
             "colorbar": {
              "outlinewidth": 0,
              "ticks": ""
             }
            },
            "type": "scattermapbox"
           }
          ],
          "scatterpolar": [
           {
            "marker": {
             "colorbar": {
              "outlinewidth": 0,
              "ticks": ""
             }
            },
            "type": "scatterpolar"
           }
          ],
          "scatterpolargl": [
           {
            "marker": {
             "colorbar": {
              "outlinewidth": 0,
              "ticks": ""
             }
            },
            "type": "scatterpolargl"
           }
          ],
          "scatterternary": [
           {
            "marker": {
             "colorbar": {
              "outlinewidth": 0,
              "ticks": ""
             }
            },
            "type": "scatterternary"
           }
          ],
          "surface": [
           {
            "colorbar": {
             "outlinewidth": 0,
             "ticks": ""
            },
            "colorscale": [
             [
              0,
              "#0d0887"
             ],
             [
              0.1111111111111111,
              "#46039f"
             ],
             [
              0.2222222222222222,
              "#7201a8"
             ],
             [
              0.3333333333333333,
              "#9c179e"
             ],
             [
              0.4444444444444444,
              "#bd3786"
             ],
             [
              0.5555555555555556,
              "#d8576b"
             ],
             [
              0.6666666666666666,
              "#ed7953"
             ],
             [
              0.7777777777777778,
              "#fb9f3a"
             ],
             [
              0.8888888888888888,
              "#fdca26"
             ],
             [
              1,
              "#f0f921"
             ]
            ],
            "type": "surface"
           }
          ],
          "table": [
           {
            "cells": {
             "fill": {
              "color": "#EBF0F8"
             },
             "line": {
              "color": "white"
             }
            },
            "header": {
             "fill": {
              "color": "#C8D4E3"
             },
             "line": {
              "color": "white"
             }
            },
            "type": "table"
           }
          ]
         },
         "layout": {
          "annotationdefaults": {
           "arrowcolor": "#2a3f5f",
           "arrowhead": 0,
           "arrowwidth": 1
          },
          "coloraxis": {
           "colorbar": {
            "outlinewidth": 0,
            "ticks": ""
           }
          },
          "colorscale": {
           "diverging": [
            [
             0,
             "#8e0152"
            ],
            [
             0.1,
             "#c51b7d"
            ],
            [
             0.2,
             "#de77ae"
            ],
            [
             0.3,
             "#f1b6da"
            ],
            [
             0.4,
             "#fde0ef"
            ],
            [
             0.5,
             "#f7f7f7"
            ],
            [
             0.6,
             "#e6f5d0"
            ],
            [
             0.7,
             "#b8e186"
            ],
            [
             0.8,
             "#7fbc41"
            ],
            [
             0.9,
             "#4d9221"
            ],
            [
             1,
             "#276419"
            ]
           ],
           "sequential": [
            [
             0,
             "#0d0887"
            ],
            [
             0.1111111111111111,
             "#46039f"
            ],
            [
             0.2222222222222222,
             "#7201a8"
            ],
            [
             0.3333333333333333,
             "#9c179e"
            ],
            [
             0.4444444444444444,
             "#bd3786"
            ],
            [
             0.5555555555555556,
             "#d8576b"
            ],
            [
             0.6666666666666666,
             "#ed7953"
            ],
            [
             0.7777777777777778,
             "#fb9f3a"
            ],
            [
             0.8888888888888888,
             "#fdca26"
            ],
            [
             1,
             "#f0f921"
            ]
           ],
           "sequentialminus": [
            [
             0,
             "#0d0887"
            ],
            [
             0.1111111111111111,
             "#46039f"
            ],
            [
             0.2222222222222222,
             "#7201a8"
            ],
            [
             0.3333333333333333,
             "#9c179e"
            ],
            [
             0.4444444444444444,
             "#bd3786"
            ],
            [
             0.5555555555555556,
             "#d8576b"
            ],
            [
             0.6666666666666666,
             "#ed7953"
            ],
            [
             0.7777777777777778,
             "#fb9f3a"
            ],
            [
             0.8888888888888888,
             "#fdca26"
            ],
            [
             1,
             "#f0f921"
            ]
           ]
          },
          "colorway": [
           "#636efa",
           "#EF553B",
           "#00cc96",
           "#ab63fa",
           "#FFA15A",
           "#19d3f3",
           "#FF6692",
           "#B6E880",
           "#FF97FF",
           "#FECB52"
          ],
          "font": {
           "color": "#2a3f5f"
          },
          "geo": {
           "bgcolor": "white",
           "lakecolor": "white",
           "landcolor": "#E5ECF6",
           "showlakes": true,
           "showland": true,
           "subunitcolor": "white"
          },
          "hoverlabel": {
           "align": "left"
          },
          "hovermode": "closest",
          "mapbox": {
           "style": "light"
          },
          "paper_bgcolor": "white",
          "plot_bgcolor": "#E5ECF6",
          "polar": {
           "angularaxis": {
            "gridcolor": "white",
            "linecolor": "white",
            "ticks": ""
           },
           "bgcolor": "#E5ECF6",
           "radialaxis": {
            "gridcolor": "white",
            "linecolor": "white",
            "ticks": ""
           }
          },
          "scene": {
           "xaxis": {
            "backgroundcolor": "#E5ECF6",
            "gridcolor": "white",
            "gridwidth": 2,
            "linecolor": "white",
            "showbackground": true,
            "ticks": "",
            "zerolinecolor": "white"
           },
           "yaxis": {
            "backgroundcolor": "#E5ECF6",
            "gridcolor": "white",
            "gridwidth": 2,
            "linecolor": "white",
            "showbackground": true,
            "ticks": "",
            "zerolinecolor": "white"
           },
           "zaxis": {
            "backgroundcolor": "#E5ECF6",
            "gridcolor": "white",
            "gridwidth": 2,
            "linecolor": "white",
            "showbackground": true,
            "ticks": "",
            "zerolinecolor": "white"
           }
          },
          "shapedefaults": {
           "line": {
            "color": "#2a3f5f"
           }
          },
          "ternary": {
           "aaxis": {
            "gridcolor": "white",
            "linecolor": "white",
            "ticks": ""
           },
           "baxis": {
            "gridcolor": "white",
            "linecolor": "white",
            "ticks": ""
           },
           "bgcolor": "#E5ECF6",
           "caxis": {
            "gridcolor": "white",
            "linecolor": "white",
            "ticks": ""
           }
          },
          "title": {
           "x": 0.05
          },
          "xaxis": {
           "automargin": true,
           "gridcolor": "white",
           "linecolor": "white",
           "ticks": "",
           "title": {
            "standoff": 15
           },
           "zerolinecolor": "white",
           "zerolinewidth": 2
          },
          "yaxis": {
           "automargin": true,
           "gridcolor": "white",
           "linecolor": "white",
           "ticks": "",
           "title": {
            "standoff": 15
           },
           "zerolinecolor": "white",
           "zerolinewidth": 2
          }
         }
        },
        "title": {
         "font": {
          "color": "#4D5663"
         }
        },
        "xaxis": {
         "gridcolor": "#E1E5ED",
         "showgrid": true,
         "tickfont": {
          "color": "#4D5663"
         },
         "title": {
          "font": {
           "color": "#4D5663"
          },
          "text": ""
         },
         "zerolinecolor": "#E1E5ED"
        },
        "yaxis": {
         "gridcolor": "#E1E5ED",
         "showgrid": true,
         "tickfont": {
          "color": "#4D5663"
         },
         "title": {
          "font": {
           "color": "#4D5663"
          },
          "text": ""
         },
         "zerolinecolor": "#E1E5ED"
        }
       }
      },
      "text/html": [
       "<div>                            <div id=\"4eab1509-c25a-44a6-b69e-109d420a9258\" class=\"plotly-graph-div\" style=\"height:525px; width:100%;\"></div>            <script type=\"text/javascript\">                require([\"plotly\"], function(Plotly) {                    window.PLOTLYENV=window.PLOTLYENV || {};\n",
       "                    window.PLOTLYENV.BASE_URL='https://plot.ly';                                    if (document.getElementById(\"4eab1509-c25a-44a6-b69e-109d420a9258\")) {                    Plotly.newPlot(                        \"4eab1509-c25a-44a6-b69e-109d420a9258\",                        [{\"boxpoints\": false, \"line\": {\"width\": 1.3}, \"marker\": {\"color\": \"rgba(255, 153, 51, 1.0)\"}, \"name\": \"Values\", \"orientation\": \"v\", \"type\": \"box\", \"y\": [32, 45, 68]}],                        {\"legend\": {\"bgcolor\": \"#F5F6F9\", \"font\": {\"color\": \"#4D5663\"}}, \"paper_bgcolor\": \"#F5F6F9\", \"plot_bgcolor\": \"#F5F6F9\", \"template\": {\"data\": {\"bar\": [{\"error_x\": {\"color\": \"#2a3f5f\"}, \"error_y\": {\"color\": \"#2a3f5f\"}, \"marker\": {\"line\": {\"color\": \"#E5ECF6\", \"width\": 0.5}}, \"type\": \"bar\"}], \"barpolar\": [{\"marker\": {\"line\": {\"color\": \"#E5ECF6\", \"width\": 0.5}}, \"type\": \"barpolar\"}], \"carpet\": [{\"aaxis\": {\"endlinecolor\": \"#2a3f5f\", \"gridcolor\": \"white\", \"linecolor\": \"white\", \"minorgridcolor\": \"white\", \"startlinecolor\": \"#2a3f5f\"}, \"baxis\": {\"endlinecolor\": \"#2a3f5f\", \"gridcolor\": \"white\", \"linecolor\": \"white\", \"minorgridcolor\": \"white\", \"startlinecolor\": \"#2a3f5f\"}, \"type\": \"carpet\"}], \"choropleth\": [{\"colorbar\": {\"outlinewidth\": 0, \"ticks\": \"\"}, \"type\": \"choropleth\"}], \"contour\": [{\"colorbar\": {\"outlinewidth\": 0, \"ticks\": \"\"}, \"colorscale\": [[0.0, \"#0d0887\"], [0.1111111111111111, \"#46039f\"], [0.2222222222222222, \"#7201a8\"], [0.3333333333333333, \"#9c179e\"], [0.4444444444444444, \"#bd3786\"], [0.5555555555555556, \"#d8576b\"], [0.6666666666666666, \"#ed7953\"], [0.7777777777777778, \"#fb9f3a\"], [0.8888888888888888, \"#fdca26\"], [1.0, \"#f0f921\"]], \"type\": \"contour\"}], \"contourcarpet\": [{\"colorbar\": {\"outlinewidth\": 0, \"ticks\": \"\"}, \"type\": \"contourcarpet\"}], \"heatmap\": [{\"colorbar\": {\"outlinewidth\": 0, \"ticks\": \"\"}, \"colorscale\": [[0.0, \"#0d0887\"], [0.1111111111111111, \"#46039f\"], [0.2222222222222222, \"#7201a8\"], [0.3333333333333333, \"#9c179e\"], [0.4444444444444444, \"#bd3786\"], [0.5555555555555556, \"#d8576b\"], [0.6666666666666666, \"#ed7953\"], [0.7777777777777778, \"#fb9f3a\"], [0.8888888888888888, \"#fdca26\"], [1.0, \"#f0f921\"]], \"type\": \"heatmap\"}], \"heatmapgl\": [{\"colorbar\": {\"outlinewidth\": 0, \"ticks\": \"\"}, \"colorscale\": [[0.0, \"#0d0887\"], [0.1111111111111111, \"#46039f\"], [0.2222222222222222, \"#7201a8\"], [0.3333333333333333, \"#9c179e\"], [0.4444444444444444, \"#bd3786\"], [0.5555555555555556, \"#d8576b\"], [0.6666666666666666, \"#ed7953\"], [0.7777777777777778, \"#fb9f3a\"], [0.8888888888888888, \"#fdca26\"], [1.0, \"#f0f921\"]], \"type\": \"heatmapgl\"}], \"histogram\": [{\"marker\": {\"colorbar\": {\"outlinewidth\": 0, \"ticks\": \"\"}}, \"type\": \"histogram\"}], \"histogram2d\": [{\"colorbar\": {\"outlinewidth\": 0, \"ticks\": \"\"}, \"colorscale\": [[0.0, \"#0d0887\"], [0.1111111111111111, \"#46039f\"], [0.2222222222222222, \"#7201a8\"], [0.3333333333333333, \"#9c179e\"], [0.4444444444444444, \"#bd3786\"], [0.5555555555555556, \"#d8576b\"], [0.6666666666666666, \"#ed7953\"], [0.7777777777777778, \"#fb9f3a\"], [0.8888888888888888, \"#fdca26\"], [1.0, \"#f0f921\"]], \"type\": \"histogram2d\"}], \"histogram2dcontour\": [{\"colorbar\": {\"outlinewidth\": 0, \"ticks\": \"\"}, \"colorscale\": [[0.0, \"#0d0887\"], [0.1111111111111111, \"#46039f\"], [0.2222222222222222, \"#7201a8\"], [0.3333333333333333, \"#9c179e\"], [0.4444444444444444, \"#bd3786\"], [0.5555555555555556, \"#d8576b\"], [0.6666666666666666, \"#ed7953\"], [0.7777777777777778, \"#fb9f3a\"], [0.8888888888888888, \"#fdca26\"], [1.0, \"#f0f921\"]], \"type\": \"histogram2dcontour\"}], \"mesh3d\": [{\"colorbar\": {\"outlinewidth\": 0, \"ticks\": \"\"}, \"type\": \"mesh3d\"}], \"parcoords\": [{\"line\": {\"colorbar\": {\"outlinewidth\": 0, \"ticks\": \"\"}}, \"type\": \"parcoords\"}], \"pie\": [{\"automargin\": true, \"type\": \"pie\"}], \"scatter\": [{\"marker\": {\"colorbar\": {\"outlinewidth\": 0, \"ticks\": \"\"}}, \"type\": \"scatter\"}], \"scatter3d\": [{\"line\": {\"colorbar\": {\"outlinewidth\": 0, \"ticks\": \"\"}}, \"marker\": {\"colorbar\": {\"outlinewidth\": 0, \"ticks\": \"\"}}, \"type\": \"scatter3d\"}], \"scattercarpet\": [{\"marker\": {\"colorbar\": {\"outlinewidth\": 0, \"ticks\": \"\"}}, \"type\": \"scattercarpet\"}], \"scattergeo\": [{\"marker\": {\"colorbar\": {\"outlinewidth\": 0, \"ticks\": \"\"}}, \"type\": \"scattergeo\"}], \"scattergl\": [{\"marker\": {\"colorbar\": {\"outlinewidth\": 0, \"ticks\": \"\"}}, \"type\": \"scattergl\"}], \"scattermapbox\": [{\"marker\": {\"colorbar\": {\"outlinewidth\": 0, \"ticks\": \"\"}}, \"type\": \"scattermapbox\"}], \"scatterpolar\": [{\"marker\": {\"colorbar\": {\"outlinewidth\": 0, \"ticks\": \"\"}}, \"type\": \"scatterpolar\"}], \"scatterpolargl\": [{\"marker\": {\"colorbar\": {\"outlinewidth\": 0, \"ticks\": \"\"}}, \"type\": \"scatterpolargl\"}], \"scatterternary\": [{\"marker\": {\"colorbar\": {\"outlinewidth\": 0, \"ticks\": \"\"}}, \"type\": \"scatterternary\"}], \"surface\": [{\"colorbar\": {\"outlinewidth\": 0, \"ticks\": \"\"}, \"colorscale\": [[0.0, \"#0d0887\"], [0.1111111111111111, \"#46039f\"], [0.2222222222222222, \"#7201a8\"], [0.3333333333333333, \"#9c179e\"], [0.4444444444444444, \"#bd3786\"], [0.5555555555555556, \"#d8576b\"], [0.6666666666666666, \"#ed7953\"], [0.7777777777777778, \"#fb9f3a\"], [0.8888888888888888, \"#fdca26\"], [1.0, \"#f0f921\"]], \"type\": \"surface\"}], \"table\": [{\"cells\": {\"fill\": {\"color\": \"#EBF0F8\"}, \"line\": {\"color\": \"white\"}}, \"header\": {\"fill\": {\"color\": \"#C8D4E3\"}, \"line\": {\"color\": \"white\"}}, \"type\": \"table\"}]}, \"layout\": {\"annotationdefaults\": {\"arrowcolor\": \"#2a3f5f\", \"arrowhead\": 0, \"arrowwidth\": 1}, \"coloraxis\": {\"colorbar\": {\"outlinewidth\": 0, \"ticks\": \"\"}}, \"colorscale\": {\"diverging\": [[0, \"#8e0152\"], [0.1, \"#c51b7d\"], [0.2, \"#de77ae\"], [0.3, \"#f1b6da\"], [0.4, \"#fde0ef\"], [0.5, \"#f7f7f7\"], [0.6, \"#e6f5d0\"], [0.7, \"#b8e186\"], [0.8, \"#7fbc41\"], [0.9, \"#4d9221\"], [1, \"#276419\"]], \"sequential\": [[0.0, \"#0d0887\"], [0.1111111111111111, \"#46039f\"], [0.2222222222222222, \"#7201a8\"], [0.3333333333333333, \"#9c179e\"], [0.4444444444444444, \"#bd3786\"], [0.5555555555555556, \"#d8576b\"], [0.6666666666666666, \"#ed7953\"], [0.7777777777777778, \"#fb9f3a\"], [0.8888888888888888, \"#fdca26\"], [1.0, \"#f0f921\"]], \"sequentialminus\": [[0.0, \"#0d0887\"], [0.1111111111111111, \"#46039f\"], [0.2222222222222222, \"#7201a8\"], [0.3333333333333333, \"#9c179e\"], [0.4444444444444444, \"#bd3786\"], [0.5555555555555556, \"#d8576b\"], [0.6666666666666666, \"#ed7953\"], [0.7777777777777778, \"#fb9f3a\"], [0.8888888888888888, \"#fdca26\"], [1.0, \"#f0f921\"]]}, \"colorway\": [\"#636efa\", \"#EF553B\", \"#00cc96\", \"#ab63fa\", \"#FFA15A\", \"#19d3f3\", \"#FF6692\", \"#B6E880\", \"#FF97FF\", \"#FECB52\"], \"font\": {\"color\": \"#2a3f5f\"}, \"geo\": {\"bgcolor\": \"white\", \"lakecolor\": \"white\", \"landcolor\": \"#E5ECF6\", \"showlakes\": true, \"showland\": true, \"subunitcolor\": \"white\"}, \"hoverlabel\": {\"align\": \"left\"}, \"hovermode\": \"closest\", \"mapbox\": {\"style\": \"light\"}, \"paper_bgcolor\": \"white\", \"plot_bgcolor\": \"#E5ECF6\", \"polar\": {\"angularaxis\": {\"gridcolor\": \"white\", \"linecolor\": \"white\", \"ticks\": \"\"}, \"bgcolor\": \"#E5ECF6\", \"radialaxis\": {\"gridcolor\": \"white\", \"linecolor\": \"white\", \"ticks\": \"\"}}, \"scene\": {\"xaxis\": {\"backgroundcolor\": \"#E5ECF6\", \"gridcolor\": \"white\", \"gridwidth\": 2, \"linecolor\": \"white\", \"showbackground\": true, \"ticks\": \"\", \"zerolinecolor\": \"white\"}, \"yaxis\": {\"backgroundcolor\": \"#E5ECF6\", \"gridcolor\": \"white\", \"gridwidth\": 2, \"linecolor\": \"white\", \"showbackground\": true, \"ticks\": \"\", \"zerolinecolor\": \"white\"}, \"zaxis\": {\"backgroundcolor\": \"#E5ECF6\", \"gridcolor\": \"white\", \"gridwidth\": 2, \"linecolor\": \"white\", \"showbackground\": true, \"ticks\": \"\", \"zerolinecolor\": \"white\"}}, \"shapedefaults\": {\"line\": {\"color\": \"#2a3f5f\"}}, \"ternary\": {\"aaxis\": {\"gridcolor\": \"white\", \"linecolor\": \"white\", \"ticks\": \"\"}, \"baxis\": {\"gridcolor\": \"white\", \"linecolor\": \"white\", \"ticks\": \"\"}, \"bgcolor\": \"#E5ECF6\", \"caxis\": {\"gridcolor\": \"white\", \"linecolor\": \"white\", \"ticks\": \"\"}}, \"title\": {\"x\": 0.05}, \"xaxis\": {\"automargin\": true, \"gridcolor\": \"white\", \"linecolor\": \"white\", \"ticks\": \"\", \"title\": {\"standoff\": 15}, \"zerolinecolor\": \"white\", \"zerolinewidth\": 2}, \"yaxis\": {\"automargin\": true, \"gridcolor\": \"white\", \"linecolor\": \"white\", \"ticks\": \"\", \"title\": {\"standoff\": 15}, \"zerolinecolor\": \"white\", \"zerolinewidth\": 2}}}, \"title\": {\"font\": {\"color\": \"#4D5663\"}}, \"xaxis\": {\"gridcolor\": \"#E1E5ED\", \"showgrid\": true, \"tickfont\": {\"color\": \"#4D5663\"}, \"title\": {\"font\": {\"color\": \"#4D5663\"}, \"text\": \"\"}, \"zerolinecolor\": \"#E1E5ED\"}, \"yaxis\": {\"gridcolor\": \"#E1E5ED\", \"showgrid\": true, \"tickfont\": {\"color\": \"#4D5663\"}, \"title\": {\"font\": {\"color\": \"#4D5663\"}, \"text\": \"\"}, \"zerolinecolor\": \"#E1E5ED\"}},                        {\"showLink\": true, \"linkText\": \"Export to plot.ly\", \"plotlyServerURL\": \"https://plot.ly\", \"responsive\": true}                    ).then(function(){\n",
       "                            \n",
       "var gd = document.getElementById('4eab1509-c25a-44a6-b69e-109d420a9258');\n",
       "var x = new MutationObserver(function (mutations, observer) {{\n",
       "        var display = window.getComputedStyle(gd).display;\n",
       "        if (!display || display === 'none') {{\n",
       "            console.log([gd, 'removed!']);\n",
       "            Plotly.purge(gd);\n",
       "            observer.disconnect();\n",
       "        }}\n",
       "}});\n",
       "\n",
       "// Listen for the removal of the full notebook cells\n",
       "var notebookContainer = gd.closest('#notebook-container');\n",
       "if (notebookContainer) {{\n",
       "    x.observe(notebookContainer, {childList: true});\n",
       "}}\n",
       "\n",
       "// Listen for the clearing of the current output cell\n",
       "var outputEl = gd.closest('.output');\n",
       "if (outputEl) {{\n",
       "    x.observe(outputEl, {childList: true});\n",
       "}}\n",
       "\n",
       "                        })                };                });            </script>        </div>"
      ]
     },
     "metadata": {},
     "output_type": "display_data"
    }
   ],
   "source": [
    "df2['Values'].iplot('box')"
   ]
  },
  {
   "cell_type": "code",
   "execution_count": 71,
   "metadata": {},
   "outputs": [
    {
     "data": {
      "application/vnd.plotly.v1+json": {
       "config": {
        "linkText": "Export to plot.ly",
        "plotlyServerURL": "https://plot.ly",
        "showLink": true
       },
       "data": [
        {
         "histfunc": "count",
         "histnorm": "",
         "marker": {
          "color": "rgba(255, 153, 51, 1.0)",
          "line": {
           "color": "#4D5663",
           "width": 1.3
          }
         },
         "name": "A",
         "nbinsx": 10,
         "opacity": 0.8,
         "orientation": "v",
         "type": "histogram",
         "x": [
          2.456864478612622,
          -2.2527239798611314,
          -2.2929421848992426,
          0.356852081716104,
          -0.25027565803004814,
          -0.4352308180980923,
          -1.7870622081171643,
          -0.4231246753923552,
          0.9739696613755218,
          0.3992265559510478,
          -0.23910651236066105,
          0.23931071399692622,
          0.09131078371117889,
          0.18231030225450318,
          -1.6770467131592837,
          0.6723336270661157,
          0.24807428163009063,
          -0.7626192979780793,
          -1.485650151616024,
          -2.068322142166952,
          -0.816661798988874,
          -0.4390293659026417,
          -0.17638692762077884,
          1.3693036243446226,
          -0.8838873911315334,
          1.4781184141206263,
          1.0204354409755043,
          0.6677895888357839,
          1.307300361914305,
          0.381526666995544,
          0.6990207531066948,
          -0.19170954656039826,
          -1.6176627483135664,
          -1.4378015404747206,
          -0.3089839408391603,
          -0.7042330548807497,
          0.1686533561355506,
          -0.2719197995344573,
          0.5554967812631001,
          0.9774118356605086,
          -0.5675670254061104,
          1.8147360416350493,
          -0.2076775115236604,
          1.396211557548168,
          -0.2196247534199206,
          1.257667737581909,
          0.09999079328644785,
          0.40953832839299614,
          0.5181168335779327,
          -0.6408375541457859,
          0.9059451776285394,
          0.6233470810053362,
          -0.4067115357546892,
          0.01083130229600319,
          0.5789254579976282,
          0.04246809985210584,
          1.2652109502899274,
          0.05171788485414968,
          -0.678433959764289,
          -0.6715016710873373,
          1.1674003643390756,
          0.6963027212152043,
          -0.6872552716565266,
          0.35043630517555296,
          1.697039109276328,
          -0.16517053629799128,
          0.23807020983462962,
          1.036859207986987,
          -1.0626416110243735,
          -0.5436189635055533,
          -1.0935424145198833,
          0.31040749316377236,
          -0.19753243030570042,
          -2.7090402836025933,
          -1.5646909709019092,
          0.521645062440777,
          -0.5002630539043543,
          -0.2690104841331373,
          1.3310061232297976,
          -1.5183182964218291,
          0.48398557607624765,
          -1.6832106492361594,
          -0.40954112536213994,
          0.4724488127081655,
          2.1196763199373585,
          0.19754555336208063,
          -0.9074605490975094,
          0.15313865789208797,
          1.351762250817329,
          -0.396385824284584,
          1.1476851047106436,
          0.5740494843237829,
          1.0697578479613916,
          -0.046560497298113845,
          -0.2897030805682362,
          0.1679496946692134,
          -1.3517488543120035,
          0.4667484204157006,
          0.2629850168256431,
          -0.6432433834067868
         ],
         "xaxis": "x",
         "yaxis": "y"
        },
        {
         "line": {
          "color": "rgba(128, 128, 128, 1.0)",
          "dash": "solid",
          "shape": "linear",
          "width": 1.3
         },
         "marker": {
          "size": 2,
          "symbol": "circle"
         },
         "mode": "markers",
         "name": "A",
         "text": "",
         "type": "scatter",
         "x": [
          0.7585713004881539,
          0.9369508008274443,
          2.8786377067420803,
          -0.9753733963764035,
          -1.973314268207836,
          -1.1926729745541216,
          1.7788975258488893,
          -2.739702907163809,
          0.7818386057295666,
          0.5557853197699847,
          1.1308138994045913,
          -0.03394713504751146,
          -0.24674661567520484,
          0.9048576983121975,
          -0.06399742714620238,
          -0.29553159925198297,
          1.4480226716018347,
          -0.9287181429895608,
          -1.1584119641019608,
          0.32889625773459297,
          0.007753273055508445,
          -0.05820317171635984,
          -0.15155706936588884,
          0.19472617657474028,
          -0.7964170541897511,
          -0.4322192069305809,
          -0.9445672117722083,
          0.014770905297994949,
          -0.35176557796450886,
          1.0195066876159382,
          0.784707646326061,
          -0.3250669031761666,
          0.9277017170808991,
          0.7600764488098469,
          1.758123577307258,
          0.1842424508247556,
          0.8128516170296418,
          1.0898631416458546,
          1.2891007860044672,
          -0.8697391961812799,
          -0.45653154226280335,
          -1.0361046760709498,
          0.7559270918670371,
          -2.061501740649847,
          1.4092710565201825,
          -0.256631908090931,
          -1.5750591677500945,
          0.9245690218077082,
          -0.9061675814715107,
          0.37584618766234756,
          -1.2415901387761887,
          1.1957546846050047,
          1.959991039843966,
          -0.8996322472799549,
          -1.0475054321530737,
          -0.6490377881974029,
          0.3837783651423651,
          -0.037591221147904176,
          0.3264691997676207,
          0.8351240175627819,
          1.3407659055312469,
          0.7664492600505355,
          0.34707865407662625,
          0.4374355620108727,
          0.4206434136296037,
          0.11449523490312948,
          0.050628931196152235,
          1.7227632992759434,
          -0.02044643276147327,
          -0.4372433743237419,
          -1.6823925218882394,
          0.059972603940122146,
          1.586091742340369,
          -0.611607758287968,
          -0.4515418116623536,
          0.6764102158345765,
          -1.5778251431922758,
          0.531490498101667,
          0.29467461455975935,
          -0.4096067239508892,
          -1.928942981094565,
          -0.10329196872552136,
          0.7700000706766272,
          0.4424794882193026,
          -0.3296786777745359,
          -1.4801841351888587,
          0.39132986150267235,
          1.187930182494079,
          -1.2766734843288627,
          -0.502946174955512,
          0.3430738507677682,
          0.39802770458241576,
          -1.6533098903298877,
          -0.5168646022711108,
          0.38758251120651555,
          -0.291875675770869,
          -1.164864245517917,
          1.3999539696360548,
          -1.9115176187985556,
          0.4970235858917134
         ],
         "xaxis": "x2",
         "y": [
          2.456864478612622,
          -2.2527239798611314,
          -2.2929421848992426,
          0.356852081716104,
          -0.25027565803004814,
          -0.4352308180980923,
          -1.7870622081171643,
          -0.4231246753923552,
          0.9739696613755218,
          0.3992265559510478,
          -0.23910651236066105,
          0.23931071399692622,
          0.09131078371117889,
          0.18231030225450318,
          -1.6770467131592837,
          0.6723336270661157,
          0.24807428163009063,
          -0.7626192979780793,
          -1.485650151616024,
          -2.068322142166952,
          -0.816661798988874,
          -0.4390293659026417,
          -0.17638692762077884,
          1.3693036243446226,
          -0.8838873911315334,
          1.4781184141206263,
          1.0204354409755043,
          0.6677895888357839,
          1.307300361914305,
          0.381526666995544,
          0.6990207531066948,
          -0.19170954656039826,
          -1.6176627483135664,
          -1.4378015404747206,
          -0.3089839408391603,
          -0.7042330548807497,
          0.1686533561355506,
          -0.2719197995344573,
          0.5554967812631001,
          0.9774118356605086,
          -0.5675670254061104,
          1.8147360416350493,
          -0.2076775115236604,
          1.396211557548168,
          -0.2196247534199206,
          1.257667737581909,
          0.09999079328644785,
          0.40953832839299614,
          0.5181168335779327,
          -0.6408375541457859,
          0.9059451776285394,
          0.6233470810053362,
          -0.4067115357546892,
          0.01083130229600319,
          0.5789254579976282,
          0.04246809985210584,
          1.2652109502899274,
          0.05171788485414968,
          -0.678433959764289,
          -0.6715016710873373,
          1.1674003643390756,
          0.6963027212152043,
          -0.6872552716565266,
          0.35043630517555296,
          1.697039109276328,
          -0.16517053629799128,
          0.23807020983462962,
          1.036859207986987,
          -1.0626416110243735,
          -0.5436189635055533,
          -1.0935424145198833,
          0.31040749316377236,
          -0.19753243030570042,
          -2.7090402836025933,
          -1.5646909709019092,
          0.521645062440777,
          -0.5002630539043543,
          -0.2690104841331373,
          1.3310061232297976,
          -1.5183182964218291,
          0.48398557607624765,
          -1.6832106492361594,
          -0.40954112536213994,
          0.4724488127081655,
          2.1196763199373585,
          0.19754555336208063,
          -0.9074605490975094,
          0.15313865789208797,
          1.351762250817329,
          -0.396385824284584,
          1.1476851047106436,
          0.5740494843237829,
          1.0697578479613916,
          -0.046560497298113845,
          -0.2897030805682362,
          0.1679496946692134,
          -1.3517488543120035,
          0.4667484204157006,
          0.2629850168256431,
          -0.6432433834067868
         ],
         "yaxis": "y2"
        },
        {
         "line": {
          "color": "rgba(128, 128, 128, 1.0)",
          "dash": "solid",
          "shape": "linear",
          "width": 1.3
         },
         "marker": {
          "size": 2,
          "symbol": "circle"
         },
         "mode": "markers",
         "name": "A",
         "text": "",
         "type": "scatter",
         "x": [
          -0.21097545106115867,
          -1.010385952727178,
          1.2749827146362012,
          -0.015983506020842593,
          -1.4746786667388705,
          0.179830423867175,
          -1.7462619033123765,
          1.0464112123438396,
          -1.026390859731597,
          -1.5943918528495928,
          0.27066796628353124,
          1.684858393324544,
          -0.8691937549317699,
          1.0663471476085131,
          -0.27768437726852435,
          1.4540051135513614,
          -0.26883009252392337,
          -0.9033424846816914,
          -0.9747627063168453,
          -0.02899475056819844,
          -2.1091287389590594,
          -0.8173521305308596,
          -0.5458075875412067,
          0.1408257779445167,
          1.0469267961676325,
          -0.1274706826923543,
          -0.4135280276220017,
          -2.504998932310551,
          -0.31393716699687946,
          -0.27885332707301097,
          -0.10489987978738426,
          -0.311979337731574,
          0.8323164989952668,
          1.141533340091098,
          0.13831170926493636,
          0.4082224185595173,
          -1.215204703217632,
          -0.9242699464629253,
          -0.7808708848307961,
          -0.4087507562011927,
          0.5384793601336588,
          -0.894570347749724,
          -1.9064362065808225,
          0.4457683343762501,
          1.4908864825098789,
          1.0693654725823765,
          -0.7275095732282226,
          -0.8979976610014719,
          -0.5568820823956494,
          -3.120217014727852,
          -1.0643984188092965,
          0.481779811826849,
          -2.1582565399941807,
          0.674790921329094,
          -0.8034916966642305,
          -0.18546152762405013,
          0.3701522485642225,
          -0.4268835316362451,
          0.7190516944973412,
          1.4186235615644138,
          0.6233755088238365,
          0.451150747092287,
          0.09196690808838238,
          0.17208166858829033,
          0.31266042146240636,
          0.19012493289956234,
          -0.6033882671133812,
          -0.3528222705784352,
          -1.029664931473673,
          -1.789717664094481,
          1.729908802810119,
          1.8872430463151544,
          1.3780986797462649,
          -0.12991924339436525,
          -2.6283925699063895,
          -0.45255088777254926,
          0.26223069515618097,
          0.47620185627593864,
          -0.8154834212117086,
          0.4518383967003741,
          1.680930268015079,
          -0.6185203445333183,
          0.3503940349241752,
          0.726458825053681,
          0.03463182841395179,
          -0.16540845309937308,
          1.4483176986472721,
          -1.1154223385895445,
          -0.09404226600003875,
          -1.9554368262281228,
          0.4048604122456422,
          0.07250754014594887,
          0.14321259166825573,
          0.7358098587718248,
          -1.6902281014428777,
          1.1306991593957962,
          -0.1099648790423635,
          -0.22666075417092854,
          0.049843414740093135,
          1.7189847338915771
         ],
         "xaxis": "x3",
         "y": [
          2.456864478612622,
          -2.2527239798611314,
          -2.2929421848992426,
          0.356852081716104,
          -0.25027565803004814,
          -0.4352308180980923,
          -1.7870622081171643,
          -0.4231246753923552,
          0.9739696613755218,
          0.3992265559510478,
          -0.23910651236066105,
          0.23931071399692622,
          0.09131078371117889,
          0.18231030225450318,
          -1.6770467131592837,
          0.6723336270661157,
          0.24807428163009063,
          -0.7626192979780793,
          -1.485650151616024,
          -2.068322142166952,
          -0.816661798988874,
          -0.4390293659026417,
          -0.17638692762077884,
          1.3693036243446226,
          -0.8838873911315334,
          1.4781184141206263,
          1.0204354409755043,
          0.6677895888357839,
          1.307300361914305,
          0.381526666995544,
          0.6990207531066948,
          -0.19170954656039826,
          -1.6176627483135664,
          -1.4378015404747206,
          -0.3089839408391603,
          -0.7042330548807497,
          0.1686533561355506,
          -0.2719197995344573,
          0.5554967812631001,
          0.9774118356605086,
          -0.5675670254061104,
          1.8147360416350493,
          -0.2076775115236604,
          1.396211557548168,
          -0.2196247534199206,
          1.257667737581909,
          0.09999079328644785,
          0.40953832839299614,
          0.5181168335779327,
          -0.6408375541457859,
          0.9059451776285394,
          0.6233470810053362,
          -0.4067115357546892,
          0.01083130229600319,
          0.5789254579976282,
          0.04246809985210584,
          1.2652109502899274,
          0.05171788485414968,
          -0.678433959764289,
          -0.6715016710873373,
          1.1674003643390756,
          0.6963027212152043,
          -0.6872552716565266,
          0.35043630517555296,
          1.697039109276328,
          -0.16517053629799128,
          0.23807020983462962,
          1.036859207986987,
          -1.0626416110243735,
          -0.5436189635055533,
          -1.0935424145198833,
          0.31040749316377236,
          -0.19753243030570042,
          -2.7090402836025933,
          -1.5646909709019092,
          0.521645062440777,
          -0.5002630539043543,
          -0.2690104841331373,
          1.3310061232297976,
          -1.5183182964218291,
          0.48398557607624765,
          -1.6832106492361594,
          -0.40954112536213994,
          0.4724488127081655,
          2.1196763199373585,
          0.19754555336208063,
          -0.9074605490975094,
          0.15313865789208797,
          1.351762250817329,
          -0.396385824284584,
          1.1476851047106436,
          0.5740494843237829,
          1.0697578479613916,
          -0.046560497298113845,
          -0.2897030805682362,
          0.1679496946692134,
          -1.3517488543120035,
          0.4667484204157006,
          0.2629850168256431,
          -0.6432433834067868
         ],
         "yaxis": "y3"
        },
        {
         "line": {
          "color": "rgba(128, 128, 128, 1.0)",
          "dash": "solid",
          "shape": "linear",
          "width": 1.3
         },
         "marker": {
          "size": 2,
          "symbol": "circle"
         },
         "mode": "markers",
         "name": "A",
         "text": "",
         "type": "scatter",
         "x": [
          1.4117582400459063,
          0.5158806040582149,
          -0.056329725916821824,
          3.0331176288045154,
          2.251571432677742,
          -0.7244537895757376,
          1.2757216021545035,
          0.5245256765181753,
          -2.167648381947332,
          -0.4696805838248369,
          -0.7485430338440984,
          1.5433238587038358,
          -1.1301871150538845,
          -0.8509439519643706,
          0.9802881962901107,
          0.5573549233360873,
          1.3924631528411737,
          -0.292843525425006,
          -0.28957625229621475,
          -1.2848236294066253,
          1.2280302498116678,
          -1.8612347534410665,
          -0.7879333821927236,
          -1.1291458198297768,
          0.9209652308913361,
          0.26972013558638086,
          -1.4698105580627052,
          0.5186966764631051,
          -0.25514350367859234,
          0.664752381529209,
          0.3096208618182506,
          -0.5039365347815075,
          -0.4089033909019008,
          1.2941177250485878,
          0.6166150565287175,
          -1.1472542509270691,
          0.2505258246975447,
          -0.7584439760541246,
          -0.23747358583319064,
          -1.595523305990587,
          -0.3418769665943945,
          0.2818531578350275,
          -0.5555095528498177,
          0.3239429982070741,
          -0.7258768991770973,
          -0.9261661539974302,
          0.5611160523629165,
          -1.3792408529525848,
          -2.825545670103279,
          0.27493797297484407,
          -0.5321004469147166,
          -0.6143052576424726,
          -2.0180202882435245,
          -1.3954363627502746,
          -0.8759893988017698,
          0.37356556439978833,
          0.7160956305449683,
          0.06937507216314834,
          -0.6552479976721832,
          0.43343928702505524,
          0.2455584618258172,
          0.42126667865391876,
          1.1619913270267297,
          -0.8032146674707702,
          -0.5890226399059743,
          0.6458359767000308,
          0.4360332745112395,
          0.599788673353237,
          -0.722948223582799,
          -1.030606401238794,
          1.9700941532056162,
          0.7791070160905508,
          -0.6959015496296476,
          -0.3825212064430439,
          -0.059171058813391623,
          -1.9504072192912345,
          1.778253100110659,
          1.1330032162375292,
          -0.3703874521409308,
          1.4917910877624783,
          -0.39446169568001704,
          1.3224359705441946,
          0.9956777417992919,
          1.2675161076205903,
          -1.3566847734767353,
          0.40309061690454584,
          -1.0419272570013405,
          0.23569775255301098,
          -0.02792794107762883,
          -0.9036568645096051,
          -0.7357079424723857,
          -0.36096085535421085,
          2.053305244643362,
          -1.1928816331796919,
          2.198658821091295,
          -1.0327304619564042,
          -0.8835906856693826,
          0.03346181036648316,
          -2.025627489159471,
          -0.4081320108627518
         ],
         "xaxis": "x4",
         "y": [
          2.456864478612622,
          -2.2527239798611314,
          -2.2929421848992426,
          0.356852081716104,
          -0.25027565803004814,
          -0.4352308180980923,
          -1.7870622081171643,
          -0.4231246753923552,
          0.9739696613755218,
          0.3992265559510478,
          -0.23910651236066105,
          0.23931071399692622,
          0.09131078371117889,
          0.18231030225450318,
          -1.6770467131592837,
          0.6723336270661157,
          0.24807428163009063,
          -0.7626192979780793,
          -1.485650151616024,
          -2.068322142166952,
          -0.816661798988874,
          -0.4390293659026417,
          -0.17638692762077884,
          1.3693036243446226,
          -0.8838873911315334,
          1.4781184141206263,
          1.0204354409755043,
          0.6677895888357839,
          1.307300361914305,
          0.381526666995544,
          0.6990207531066948,
          -0.19170954656039826,
          -1.6176627483135664,
          -1.4378015404747206,
          -0.3089839408391603,
          -0.7042330548807497,
          0.1686533561355506,
          -0.2719197995344573,
          0.5554967812631001,
          0.9774118356605086,
          -0.5675670254061104,
          1.8147360416350493,
          -0.2076775115236604,
          1.396211557548168,
          -0.2196247534199206,
          1.257667737581909,
          0.09999079328644785,
          0.40953832839299614,
          0.5181168335779327,
          -0.6408375541457859,
          0.9059451776285394,
          0.6233470810053362,
          -0.4067115357546892,
          0.01083130229600319,
          0.5789254579976282,
          0.04246809985210584,
          1.2652109502899274,
          0.05171788485414968,
          -0.678433959764289,
          -0.6715016710873373,
          1.1674003643390756,
          0.6963027212152043,
          -0.6872552716565266,
          0.35043630517555296,
          1.697039109276328,
          -0.16517053629799128,
          0.23807020983462962,
          1.036859207986987,
          -1.0626416110243735,
          -0.5436189635055533,
          -1.0935424145198833,
          0.31040749316377236,
          -0.19753243030570042,
          -2.7090402836025933,
          -1.5646909709019092,
          0.521645062440777,
          -0.5002630539043543,
          -0.2690104841331373,
          1.3310061232297976,
          -1.5183182964218291,
          0.48398557607624765,
          -1.6832106492361594,
          -0.40954112536213994,
          0.4724488127081655,
          2.1196763199373585,
          0.19754555336208063,
          -0.9074605490975094,
          0.15313865789208797,
          1.351762250817329,
          -0.396385824284584,
          1.1476851047106436,
          0.5740494843237829,
          1.0697578479613916,
          -0.046560497298113845,
          -0.2897030805682362,
          0.1679496946692134,
          -1.3517488543120035,
          0.4667484204157006,
          0.2629850168256431,
          -0.6432433834067868
         ],
         "yaxis": "y4"
        },
        {
         "line": {
          "color": "rgba(128, 128, 128, 1.0)",
          "dash": "solid",
          "shape": "linear",
          "width": 1.3
         },
         "marker": {
          "size": 2,
          "symbol": "circle"
         },
         "mode": "markers",
         "name": "B",
         "text": "",
         "type": "scatter",
         "x": [
          2.456864478612622,
          -2.2527239798611314,
          -2.2929421848992426,
          0.356852081716104,
          -0.25027565803004814,
          -0.4352308180980923,
          -1.7870622081171643,
          -0.4231246753923552,
          0.9739696613755218,
          0.3992265559510478,
          -0.23910651236066105,
          0.23931071399692622,
          0.09131078371117889,
          0.18231030225450318,
          -1.6770467131592837,
          0.6723336270661157,
          0.24807428163009063,
          -0.7626192979780793,
          -1.485650151616024,
          -2.068322142166952,
          -0.816661798988874,
          -0.4390293659026417,
          -0.17638692762077884,
          1.3693036243446226,
          -0.8838873911315334,
          1.4781184141206263,
          1.0204354409755043,
          0.6677895888357839,
          1.307300361914305,
          0.381526666995544,
          0.6990207531066948,
          -0.19170954656039826,
          -1.6176627483135664,
          -1.4378015404747206,
          -0.3089839408391603,
          -0.7042330548807497,
          0.1686533561355506,
          -0.2719197995344573,
          0.5554967812631001,
          0.9774118356605086,
          -0.5675670254061104,
          1.8147360416350493,
          -0.2076775115236604,
          1.396211557548168,
          -0.2196247534199206,
          1.257667737581909,
          0.09999079328644785,
          0.40953832839299614,
          0.5181168335779327,
          -0.6408375541457859,
          0.9059451776285394,
          0.6233470810053362,
          -0.4067115357546892,
          0.01083130229600319,
          0.5789254579976282,
          0.04246809985210584,
          1.2652109502899274,
          0.05171788485414968,
          -0.678433959764289,
          -0.6715016710873373,
          1.1674003643390756,
          0.6963027212152043,
          -0.6872552716565266,
          0.35043630517555296,
          1.697039109276328,
          -0.16517053629799128,
          0.23807020983462962,
          1.036859207986987,
          -1.0626416110243735,
          -0.5436189635055533,
          -1.0935424145198833,
          0.31040749316377236,
          -0.19753243030570042,
          -2.7090402836025933,
          -1.5646909709019092,
          0.521645062440777,
          -0.5002630539043543,
          -0.2690104841331373,
          1.3310061232297976,
          -1.5183182964218291,
          0.48398557607624765,
          -1.6832106492361594,
          -0.40954112536213994,
          0.4724488127081655,
          2.1196763199373585,
          0.19754555336208063,
          -0.9074605490975094,
          0.15313865789208797,
          1.351762250817329,
          -0.396385824284584,
          1.1476851047106436,
          0.5740494843237829,
          1.0697578479613916,
          -0.046560497298113845,
          -0.2897030805682362,
          0.1679496946692134,
          -1.3517488543120035,
          0.4667484204157006,
          0.2629850168256431,
          -0.6432433834067868
         ],
         "xaxis": "x5",
         "y": [
          0.7585713004881539,
          0.9369508008274443,
          2.8786377067420803,
          -0.9753733963764035,
          -1.973314268207836,
          -1.1926729745541216,
          1.7788975258488893,
          -2.739702907163809,
          0.7818386057295666,
          0.5557853197699847,
          1.1308138994045913,
          -0.03394713504751146,
          -0.24674661567520484,
          0.9048576983121975,
          -0.06399742714620238,
          -0.29553159925198297,
          1.4480226716018347,
          -0.9287181429895608,
          -1.1584119641019608,
          0.32889625773459297,
          0.007753273055508445,
          -0.05820317171635984,
          -0.15155706936588884,
          0.19472617657474028,
          -0.7964170541897511,
          -0.4322192069305809,
          -0.9445672117722083,
          0.014770905297994949,
          -0.35176557796450886,
          1.0195066876159382,
          0.784707646326061,
          -0.3250669031761666,
          0.9277017170808991,
          0.7600764488098469,
          1.758123577307258,
          0.1842424508247556,
          0.8128516170296418,
          1.0898631416458546,
          1.2891007860044672,
          -0.8697391961812799,
          -0.45653154226280335,
          -1.0361046760709498,
          0.7559270918670371,
          -2.061501740649847,
          1.4092710565201825,
          -0.256631908090931,
          -1.5750591677500945,
          0.9245690218077082,
          -0.9061675814715107,
          0.37584618766234756,
          -1.2415901387761887,
          1.1957546846050047,
          1.959991039843966,
          -0.8996322472799549,
          -1.0475054321530737,
          -0.6490377881974029,
          0.3837783651423651,
          -0.037591221147904176,
          0.3264691997676207,
          0.8351240175627819,
          1.3407659055312469,
          0.7664492600505355,
          0.34707865407662625,
          0.4374355620108727,
          0.4206434136296037,
          0.11449523490312948,
          0.050628931196152235,
          1.7227632992759434,
          -0.02044643276147327,
          -0.4372433743237419,
          -1.6823925218882394,
          0.059972603940122146,
          1.586091742340369,
          -0.611607758287968,
          -0.4515418116623536,
          0.6764102158345765,
          -1.5778251431922758,
          0.531490498101667,
          0.29467461455975935,
          -0.4096067239508892,
          -1.928942981094565,
          -0.10329196872552136,
          0.7700000706766272,
          0.4424794882193026,
          -0.3296786777745359,
          -1.4801841351888587,
          0.39132986150267235,
          1.187930182494079,
          -1.2766734843288627,
          -0.502946174955512,
          0.3430738507677682,
          0.39802770458241576,
          -1.6533098903298877,
          -0.5168646022711108,
          0.38758251120651555,
          -0.291875675770869,
          -1.164864245517917,
          1.3999539696360548,
          -1.9115176187985556,
          0.4970235858917134
         ],
         "yaxis": "y5"
        },
        {
         "histfunc": "count",
         "histnorm": "",
         "marker": {
          "color": "rgba(55, 128, 191, 1.0)",
          "line": {
           "color": "#4D5663",
           "width": 1.3
          }
         },
         "name": "B",
         "nbinsx": 10,
         "opacity": 0.8,
         "orientation": "v",
         "type": "histogram",
         "x": [
          0.7585713004881539,
          0.9369508008274443,
          2.8786377067420803,
          -0.9753733963764035,
          -1.973314268207836,
          -1.1926729745541216,
          1.7788975258488893,
          -2.739702907163809,
          0.7818386057295666,
          0.5557853197699847,
          1.1308138994045913,
          -0.03394713504751146,
          -0.24674661567520484,
          0.9048576983121975,
          -0.06399742714620238,
          -0.29553159925198297,
          1.4480226716018347,
          -0.9287181429895608,
          -1.1584119641019608,
          0.32889625773459297,
          0.007753273055508445,
          -0.05820317171635984,
          -0.15155706936588884,
          0.19472617657474028,
          -0.7964170541897511,
          -0.4322192069305809,
          -0.9445672117722083,
          0.014770905297994949,
          -0.35176557796450886,
          1.0195066876159382,
          0.784707646326061,
          -0.3250669031761666,
          0.9277017170808991,
          0.7600764488098469,
          1.758123577307258,
          0.1842424508247556,
          0.8128516170296418,
          1.0898631416458546,
          1.2891007860044672,
          -0.8697391961812799,
          -0.45653154226280335,
          -1.0361046760709498,
          0.7559270918670371,
          -2.061501740649847,
          1.4092710565201825,
          -0.256631908090931,
          -1.5750591677500945,
          0.9245690218077082,
          -0.9061675814715107,
          0.37584618766234756,
          -1.2415901387761887,
          1.1957546846050047,
          1.959991039843966,
          -0.8996322472799549,
          -1.0475054321530737,
          -0.6490377881974029,
          0.3837783651423651,
          -0.037591221147904176,
          0.3264691997676207,
          0.8351240175627819,
          1.3407659055312469,
          0.7664492600505355,
          0.34707865407662625,
          0.4374355620108727,
          0.4206434136296037,
          0.11449523490312948,
          0.050628931196152235,
          1.7227632992759434,
          -0.02044643276147327,
          -0.4372433743237419,
          -1.6823925218882394,
          0.059972603940122146,
          1.586091742340369,
          -0.611607758287968,
          -0.4515418116623536,
          0.6764102158345765,
          -1.5778251431922758,
          0.531490498101667,
          0.29467461455975935,
          -0.4096067239508892,
          -1.928942981094565,
          -0.10329196872552136,
          0.7700000706766272,
          0.4424794882193026,
          -0.3296786777745359,
          -1.4801841351888587,
          0.39132986150267235,
          1.187930182494079,
          -1.2766734843288627,
          -0.502946174955512,
          0.3430738507677682,
          0.39802770458241576,
          -1.6533098903298877,
          -0.5168646022711108,
          0.38758251120651555,
          -0.291875675770869,
          -1.164864245517917,
          1.3999539696360548,
          -1.9115176187985556,
          0.4970235858917134
         ],
         "xaxis": "x6",
         "yaxis": "y6"
        },
        {
         "line": {
          "color": "rgba(128, 128, 128, 1.0)",
          "dash": "solid",
          "shape": "linear",
          "width": 1.3
         },
         "marker": {
          "size": 2,
          "symbol": "circle"
         },
         "mode": "markers",
         "name": "B",
         "text": "",
         "type": "scatter",
         "x": [
          -0.21097545106115867,
          -1.010385952727178,
          1.2749827146362012,
          -0.015983506020842593,
          -1.4746786667388705,
          0.179830423867175,
          -1.7462619033123765,
          1.0464112123438396,
          -1.026390859731597,
          -1.5943918528495928,
          0.27066796628353124,
          1.684858393324544,
          -0.8691937549317699,
          1.0663471476085131,
          -0.27768437726852435,
          1.4540051135513614,
          -0.26883009252392337,
          -0.9033424846816914,
          -0.9747627063168453,
          -0.02899475056819844,
          -2.1091287389590594,
          -0.8173521305308596,
          -0.5458075875412067,
          0.1408257779445167,
          1.0469267961676325,
          -0.1274706826923543,
          -0.4135280276220017,
          -2.504998932310551,
          -0.31393716699687946,
          -0.27885332707301097,
          -0.10489987978738426,
          -0.311979337731574,
          0.8323164989952668,
          1.141533340091098,
          0.13831170926493636,
          0.4082224185595173,
          -1.215204703217632,
          -0.9242699464629253,
          -0.7808708848307961,
          -0.4087507562011927,
          0.5384793601336588,
          -0.894570347749724,
          -1.9064362065808225,
          0.4457683343762501,
          1.4908864825098789,
          1.0693654725823765,
          -0.7275095732282226,
          -0.8979976610014719,
          -0.5568820823956494,
          -3.120217014727852,
          -1.0643984188092965,
          0.481779811826849,
          -2.1582565399941807,
          0.674790921329094,
          -0.8034916966642305,
          -0.18546152762405013,
          0.3701522485642225,
          -0.4268835316362451,
          0.7190516944973412,
          1.4186235615644138,
          0.6233755088238365,
          0.451150747092287,
          0.09196690808838238,
          0.17208166858829033,
          0.31266042146240636,
          0.19012493289956234,
          -0.6033882671133812,
          -0.3528222705784352,
          -1.029664931473673,
          -1.789717664094481,
          1.729908802810119,
          1.8872430463151544,
          1.3780986797462649,
          -0.12991924339436525,
          -2.6283925699063895,
          -0.45255088777254926,
          0.26223069515618097,
          0.47620185627593864,
          -0.8154834212117086,
          0.4518383967003741,
          1.680930268015079,
          -0.6185203445333183,
          0.3503940349241752,
          0.726458825053681,
          0.03463182841395179,
          -0.16540845309937308,
          1.4483176986472721,
          -1.1154223385895445,
          -0.09404226600003875,
          -1.9554368262281228,
          0.4048604122456422,
          0.07250754014594887,
          0.14321259166825573,
          0.7358098587718248,
          -1.6902281014428777,
          1.1306991593957962,
          -0.1099648790423635,
          -0.22666075417092854,
          0.049843414740093135,
          1.7189847338915771
         ],
         "xaxis": "x7",
         "y": [
          0.7585713004881539,
          0.9369508008274443,
          2.8786377067420803,
          -0.9753733963764035,
          -1.973314268207836,
          -1.1926729745541216,
          1.7788975258488893,
          -2.739702907163809,
          0.7818386057295666,
          0.5557853197699847,
          1.1308138994045913,
          -0.03394713504751146,
          -0.24674661567520484,
          0.9048576983121975,
          -0.06399742714620238,
          -0.29553159925198297,
          1.4480226716018347,
          -0.9287181429895608,
          -1.1584119641019608,
          0.32889625773459297,
          0.007753273055508445,
          -0.05820317171635984,
          -0.15155706936588884,
          0.19472617657474028,
          -0.7964170541897511,
          -0.4322192069305809,
          -0.9445672117722083,
          0.014770905297994949,
          -0.35176557796450886,
          1.0195066876159382,
          0.784707646326061,
          -0.3250669031761666,
          0.9277017170808991,
          0.7600764488098469,
          1.758123577307258,
          0.1842424508247556,
          0.8128516170296418,
          1.0898631416458546,
          1.2891007860044672,
          -0.8697391961812799,
          -0.45653154226280335,
          -1.0361046760709498,
          0.7559270918670371,
          -2.061501740649847,
          1.4092710565201825,
          -0.256631908090931,
          -1.5750591677500945,
          0.9245690218077082,
          -0.9061675814715107,
          0.37584618766234756,
          -1.2415901387761887,
          1.1957546846050047,
          1.959991039843966,
          -0.8996322472799549,
          -1.0475054321530737,
          -0.6490377881974029,
          0.3837783651423651,
          -0.037591221147904176,
          0.3264691997676207,
          0.8351240175627819,
          1.3407659055312469,
          0.7664492600505355,
          0.34707865407662625,
          0.4374355620108727,
          0.4206434136296037,
          0.11449523490312948,
          0.050628931196152235,
          1.7227632992759434,
          -0.02044643276147327,
          -0.4372433743237419,
          -1.6823925218882394,
          0.059972603940122146,
          1.586091742340369,
          -0.611607758287968,
          -0.4515418116623536,
          0.6764102158345765,
          -1.5778251431922758,
          0.531490498101667,
          0.29467461455975935,
          -0.4096067239508892,
          -1.928942981094565,
          -0.10329196872552136,
          0.7700000706766272,
          0.4424794882193026,
          -0.3296786777745359,
          -1.4801841351888587,
          0.39132986150267235,
          1.187930182494079,
          -1.2766734843288627,
          -0.502946174955512,
          0.3430738507677682,
          0.39802770458241576,
          -1.6533098903298877,
          -0.5168646022711108,
          0.38758251120651555,
          -0.291875675770869,
          -1.164864245517917,
          1.3999539696360548,
          -1.9115176187985556,
          0.4970235858917134
         ],
         "yaxis": "y7"
        },
        {
         "line": {
          "color": "rgba(128, 128, 128, 1.0)",
          "dash": "solid",
          "shape": "linear",
          "width": 1.3
         },
         "marker": {
          "size": 2,
          "symbol": "circle"
         },
         "mode": "markers",
         "name": "B",
         "text": "",
         "type": "scatter",
         "x": [
          1.4117582400459063,
          0.5158806040582149,
          -0.056329725916821824,
          3.0331176288045154,
          2.251571432677742,
          -0.7244537895757376,
          1.2757216021545035,
          0.5245256765181753,
          -2.167648381947332,
          -0.4696805838248369,
          -0.7485430338440984,
          1.5433238587038358,
          -1.1301871150538845,
          -0.8509439519643706,
          0.9802881962901107,
          0.5573549233360873,
          1.3924631528411737,
          -0.292843525425006,
          -0.28957625229621475,
          -1.2848236294066253,
          1.2280302498116678,
          -1.8612347534410665,
          -0.7879333821927236,
          -1.1291458198297768,
          0.9209652308913361,
          0.26972013558638086,
          -1.4698105580627052,
          0.5186966764631051,
          -0.25514350367859234,
          0.664752381529209,
          0.3096208618182506,
          -0.5039365347815075,
          -0.4089033909019008,
          1.2941177250485878,
          0.6166150565287175,
          -1.1472542509270691,
          0.2505258246975447,
          -0.7584439760541246,
          -0.23747358583319064,
          -1.595523305990587,
          -0.3418769665943945,
          0.2818531578350275,
          -0.5555095528498177,
          0.3239429982070741,
          -0.7258768991770973,
          -0.9261661539974302,
          0.5611160523629165,
          -1.3792408529525848,
          -2.825545670103279,
          0.27493797297484407,
          -0.5321004469147166,
          -0.6143052576424726,
          -2.0180202882435245,
          -1.3954363627502746,
          -0.8759893988017698,
          0.37356556439978833,
          0.7160956305449683,
          0.06937507216314834,
          -0.6552479976721832,
          0.43343928702505524,
          0.2455584618258172,
          0.42126667865391876,
          1.1619913270267297,
          -0.8032146674707702,
          -0.5890226399059743,
          0.6458359767000308,
          0.4360332745112395,
          0.599788673353237,
          -0.722948223582799,
          -1.030606401238794,
          1.9700941532056162,
          0.7791070160905508,
          -0.6959015496296476,
          -0.3825212064430439,
          -0.059171058813391623,
          -1.9504072192912345,
          1.778253100110659,
          1.1330032162375292,
          -0.3703874521409308,
          1.4917910877624783,
          -0.39446169568001704,
          1.3224359705441946,
          0.9956777417992919,
          1.2675161076205903,
          -1.3566847734767353,
          0.40309061690454584,
          -1.0419272570013405,
          0.23569775255301098,
          -0.02792794107762883,
          -0.9036568645096051,
          -0.7357079424723857,
          -0.36096085535421085,
          2.053305244643362,
          -1.1928816331796919,
          2.198658821091295,
          -1.0327304619564042,
          -0.8835906856693826,
          0.03346181036648316,
          -2.025627489159471,
          -0.4081320108627518
         ],
         "xaxis": "x8",
         "y": [
          0.7585713004881539,
          0.9369508008274443,
          2.8786377067420803,
          -0.9753733963764035,
          -1.973314268207836,
          -1.1926729745541216,
          1.7788975258488893,
          -2.739702907163809,
          0.7818386057295666,
          0.5557853197699847,
          1.1308138994045913,
          -0.03394713504751146,
          -0.24674661567520484,
          0.9048576983121975,
          -0.06399742714620238,
          -0.29553159925198297,
          1.4480226716018347,
          -0.9287181429895608,
          -1.1584119641019608,
          0.32889625773459297,
          0.007753273055508445,
          -0.05820317171635984,
          -0.15155706936588884,
          0.19472617657474028,
          -0.7964170541897511,
          -0.4322192069305809,
          -0.9445672117722083,
          0.014770905297994949,
          -0.35176557796450886,
          1.0195066876159382,
          0.784707646326061,
          -0.3250669031761666,
          0.9277017170808991,
          0.7600764488098469,
          1.758123577307258,
          0.1842424508247556,
          0.8128516170296418,
          1.0898631416458546,
          1.2891007860044672,
          -0.8697391961812799,
          -0.45653154226280335,
          -1.0361046760709498,
          0.7559270918670371,
          -2.061501740649847,
          1.4092710565201825,
          -0.256631908090931,
          -1.5750591677500945,
          0.9245690218077082,
          -0.9061675814715107,
          0.37584618766234756,
          -1.2415901387761887,
          1.1957546846050047,
          1.959991039843966,
          -0.8996322472799549,
          -1.0475054321530737,
          -0.6490377881974029,
          0.3837783651423651,
          -0.037591221147904176,
          0.3264691997676207,
          0.8351240175627819,
          1.3407659055312469,
          0.7664492600505355,
          0.34707865407662625,
          0.4374355620108727,
          0.4206434136296037,
          0.11449523490312948,
          0.050628931196152235,
          1.7227632992759434,
          -0.02044643276147327,
          -0.4372433743237419,
          -1.6823925218882394,
          0.059972603940122146,
          1.586091742340369,
          -0.611607758287968,
          -0.4515418116623536,
          0.6764102158345765,
          -1.5778251431922758,
          0.531490498101667,
          0.29467461455975935,
          -0.4096067239508892,
          -1.928942981094565,
          -0.10329196872552136,
          0.7700000706766272,
          0.4424794882193026,
          -0.3296786777745359,
          -1.4801841351888587,
          0.39132986150267235,
          1.187930182494079,
          -1.2766734843288627,
          -0.502946174955512,
          0.3430738507677682,
          0.39802770458241576,
          -1.6533098903298877,
          -0.5168646022711108,
          0.38758251120651555,
          -0.291875675770869,
          -1.164864245517917,
          1.3999539696360548,
          -1.9115176187985556,
          0.4970235858917134
         ],
         "yaxis": "y8"
        },
        {
         "line": {
          "color": "rgba(128, 128, 128, 1.0)",
          "dash": "solid",
          "shape": "linear",
          "width": 1.3
         },
         "marker": {
          "size": 2,
          "symbol": "circle"
         },
         "mode": "markers",
         "name": "C",
         "text": "",
         "type": "scatter",
         "x": [
          2.456864478612622,
          -2.2527239798611314,
          -2.2929421848992426,
          0.356852081716104,
          -0.25027565803004814,
          -0.4352308180980923,
          -1.7870622081171643,
          -0.4231246753923552,
          0.9739696613755218,
          0.3992265559510478,
          -0.23910651236066105,
          0.23931071399692622,
          0.09131078371117889,
          0.18231030225450318,
          -1.6770467131592837,
          0.6723336270661157,
          0.24807428163009063,
          -0.7626192979780793,
          -1.485650151616024,
          -2.068322142166952,
          -0.816661798988874,
          -0.4390293659026417,
          -0.17638692762077884,
          1.3693036243446226,
          -0.8838873911315334,
          1.4781184141206263,
          1.0204354409755043,
          0.6677895888357839,
          1.307300361914305,
          0.381526666995544,
          0.6990207531066948,
          -0.19170954656039826,
          -1.6176627483135664,
          -1.4378015404747206,
          -0.3089839408391603,
          -0.7042330548807497,
          0.1686533561355506,
          -0.2719197995344573,
          0.5554967812631001,
          0.9774118356605086,
          -0.5675670254061104,
          1.8147360416350493,
          -0.2076775115236604,
          1.396211557548168,
          -0.2196247534199206,
          1.257667737581909,
          0.09999079328644785,
          0.40953832839299614,
          0.5181168335779327,
          -0.6408375541457859,
          0.9059451776285394,
          0.6233470810053362,
          -0.4067115357546892,
          0.01083130229600319,
          0.5789254579976282,
          0.04246809985210584,
          1.2652109502899274,
          0.05171788485414968,
          -0.678433959764289,
          -0.6715016710873373,
          1.1674003643390756,
          0.6963027212152043,
          -0.6872552716565266,
          0.35043630517555296,
          1.697039109276328,
          -0.16517053629799128,
          0.23807020983462962,
          1.036859207986987,
          -1.0626416110243735,
          -0.5436189635055533,
          -1.0935424145198833,
          0.31040749316377236,
          -0.19753243030570042,
          -2.7090402836025933,
          -1.5646909709019092,
          0.521645062440777,
          -0.5002630539043543,
          -0.2690104841331373,
          1.3310061232297976,
          -1.5183182964218291,
          0.48398557607624765,
          -1.6832106492361594,
          -0.40954112536213994,
          0.4724488127081655,
          2.1196763199373585,
          0.19754555336208063,
          -0.9074605490975094,
          0.15313865789208797,
          1.351762250817329,
          -0.396385824284584,
          1.1476851047106436,
          0.5740494843237829,
          1.0697578479613916,
          -0.046560497298113845,
          -0.2897030805682362,
          0.1679496946692134,
          -1.3517488543120035,
          0.4667484204157006,
          0.2629850168256431,
          -0.6432433834067868
         ],
         "xaxis": "x9",
         "y": [
          -0.21097545106115867,
          -1.010385952727178,
          1.2749827146362012,
          -0.015983506020842593,
          -1.4746786667388705,
          0.179830423867175,
          -1.7462619033123765,
          1.0464112123438396,
          -1.026390859731597,
          -1.5943918528495928,
          0.27066796628353124,
          1.684858393324544,
          -0.8691937549317699,
          1.0663471476085131,
          -0.27768437726852435,
          1.4540051135513614,
          -0.26883009252392337,
          -0.9033424846816914,
          -0.9747627063168453,
          -0.02899475056819844,
          -2.1091287389590594,
          -0.8173521305308596,
          -0.5458075875412067,
          0.1408257779445167,
          1.0469267961676325,
          -0.1274706826923543,
          -0.4135280276220017,
          -2.504998932310551,
          -0.31393716699687946,
          -0.27885332707301097,
          -0.10489987978738426,
          -0.311979337731574,
          0.8323164989952668,
          1.141533340091098,
          0.13831170926493636,
          0.4082224185595173,
          -1.215204703217632,
          -0.9242699464629253,
          -0.7808708848307961,
          -0.4087507562011927,
          0.5384793601336588,
          -0.894570347749724,
          -1.9064362065808225,
          0.4457683343762501,
          1.4908864825098789,
          1.0693654725823765,
          -0.7275095732282226,
          -0.8979976610014719,
          -0.5568820823956494,
          -3.120217014727852,
          -1.0643984188092965,
          0.481779811826849,
          -2.1582565399941807,
          0.674790921329094,
          -0.8034916966642305,
          -0.18546152762405013,
          0.3701522485642225,
          -0.4268835316362451,
          0.7190516944973412,
          1.4186235615644138,
          0.6233755088238365,
          0.451150747092287,
          0.09196690808838238,
          0.17208166858829033,
          0.31266042146240636,
          0.19012493289956234,
          -0.6033882671133812,
          -0.3528222705784352,
          -1.029664931473673,
          -1.789717664094481,
          1.729908802810119,
          1.8872430463151544,
          1.3780986797462649,
          -0.12991924339436525,
          -2.6283925699063895,
          -0.45255088777254926,
          0.26223069515618097,
          0.47620185627593864,
          -0.8154834212117086,
          0.4518383967003741,
          1.680930268015079,
          -0.6185203445333183,
          0.3503940349241752,
          0.726458825053681,
          0.03463182841395179,
          -0.16540845309937308,
          1.4483176986472721,
          -1.1154223385895445,
          -0.09404226600003875,
          -1.9554368262281228,
          0.4048604122456422,
          0.07250754014594887,
          0.14321259166825573,
          0.7358098587718248,
          -1.6902281014428777,
          1.1306991593957962,
          -0.1099648790423635,
          -0.22666075417092854,
          0.049843414740093135,
          1.7189847338915771
         ],
         "yaxis": "y9"
        },
        {
         "line": {
          "color": "rgba(128, 128, 128, 1.0)",
          "dash": "solid",
          "shape": "linear",
          "width": 1.3
         },
         "marker": {
          "size": 2,
          "symbol": "circle"
         },
         "mode": "markers",
         "name": "C",
         "text": "",
         "type": "scatter",
         "x": [
          0.7585713004881539,
          0.9369508008274443,
          2.8786377067420803,
          -0.9753733963764035,
          -1.973314268207836,
          -1.1926729745541216,
          1.7788975258488893,
          -2.739702907163809,
          0.7818386057295666,
          0.5557853197699847,
          1.1308138994045913,
          -0.03394713504751146,
          -0.24674661567520484,
          0.9048576983121975,
          -0.06399742714620238,
          -0.29553159925198297,
          1.4480226716018347,
          -0.9287181429895608,
          -1.1584119641019608,
          0.32889625773459297,
          0.007753273055508445,
          -0.05820317171635984,
          -0.15155706936588884,
          0.19472617657474028,
          -0.7964170541897511,
          -0.4322192069305809,
          -0.9445672117722083,
          0.014770905297994949,
          -0.35176557796450886,
          1.0195066876159382,
          0.784707646326061,
          -0.3250669031761666,
          0.9277017170808991,
          0.7600764488098469,
          1.758123577307258,
          0.1842424508247556,
          0.8128516170296418,
          1.0898631416458546,
          1.2891007860044672,
          -0.8697391961812799,
          -0.45653154226280335,
          -1.0361046760709498,
          0.7559270918670371,
          -2.061501740649847,
          1.4092710565201825,
          -0.256631908090931,
          -1.5750591677500945,
          0.9245690218077082,
          -0.9061675814715107,
          0.37584618766234756,
          -1.2415901387761887,
          1.1957546846050047,
          1.959991039843966,
          -0.8996322472799549,
          -1.0475054321530737,
          -0.6490377881974029,
          0.3837783651423651,
          -0.037591221147904176,
          0.3264691997676207,
          0.8351240175627819,
          1.3407659055312469,
          0.7664492600505355,
          0.34707865407662625,
          0.4374355620108727,
          0.4206434136296037,
          0.11449523490312948,
          0.050628931196152235,
          1.7227632992759434,
          -0.02044643276147327,
          -0.4372433743237419,
          -1.6823925218882394,
          0.059972603940122146,
          1.586091742340369,
          -0.611607758287968,
          -0.4515418116623536,
          0.6764102158345765,
          -1.5778251431922758,
          0.531490498101667,
          0.29467461455975935,
          -0.4096067239508892,
          -1.928942981094565,
          -0.10329196872552136,
          0.7700000706766272,
          0.4424794882193026,
          -0.3296786777745359,
          -1.4801841351888587,
          0.39132986150267235,
          1.187930182494079,
          -1.2766734843288627,
          -0.502946174955512,
          0.3430738507677682,
          0.39802770458241576,
          -1.6533098903298877,
          -0.5168646022711108,
          0.38758251120651555,
          -0.291875675770869,
          -1.164864245517917,
          1.3999539696360548,
          -1.9115176187985556,
          0.4970235858917134
         ],
         "xaxis": "x10",
         "y": [
          -0.21097545106115867,
          -1.010385952727178,
          1.2749827146362012,
          -0.015983506020842593,
          -1.4746786667388705,
          0.179830423867175,
          -1.7462619033123765,
          1.0464112123438396,
          -1.026390859731597,
          -1.5943918528495928,
          0.27066796628353124,
          1.684858393324544,
          -0.8691937549317699,
          1.0663471476085131,
          -0.27768437726852435,
          1.4540051135513614,
          -0.26883009252392337,
          -0.9033424846816914,
          -0.9747627063168453,
          -0.02899475056819844,
          -2.1091287389590594,
          -0.8173521305308596,
          -0.5458075875412067,
          0.1408257779445167,
          1.0469267961676325,
          -0.1274706826923543,
          -0.4135280276220017,
          -2.504998932310551,
          -0.31393716699687946,
          -0.27885332707301097,
          -0.10489987978738426,
          -0.311979337731574,
          0.8323164989952668,
          1.141533340091098,
          0.13831170926493636,
          0.4082224185595173,
          -1.215204703217632,
          -0.9242699464629253,
          -0.7808708848307961,
          -0.4087507562011927,
          0.5384793601336588,
          -0.894570347749724,
          -1.9064362065808225,
          0.4457683343762501,
          1.4908864825098789,
          1.0693654725823765,
          -0.7275095732282226,
          -0.8979976610014719,
          -0.5568820823956494,
          -3.120217014727852,
          -1.0643984188092965,
          0.481779811826849,
          -2.1582565399941807,
          0.674790921329094,
          -0.8034916966642305,
          -0.18546152762405013,
          0.3701522485642225,
          -0.4268835316362451,
          0.7190516944973412,
          1.4186235615644138,
          0.6233755088238365,
          0.451150747092287,
          0.09196690808838238,
          0.17208166858829033,
          0.31266042146240636,
          0.19012493289956234,
          -0.6033882671133812,
          -0.3528222705784352,
          -1.029664931473673,
          -1.789717664094481,
          1.729908802810119,
          1.8872430463151544,
          1.3780986797462649,
          -0.12991924339436525,
          -2.6283925699063895,
          -0.45255088777254926,
          0.26223069515618097,
          0.47620185627593864,
          -0.8154834212117086,
          0.4518383967003741,
          1.680930268015079,
          -0.6185203445333183,
          0.3503940349241752,
          0.726458825053681,
          0.03463182841395179,
          -0.16540845309937308,
          1.4483176986472721,
          -1.1154223385895445,
          -0.09404226600003875,
          -1.9554368262281228,
          0.4048604122456422,
          0.07250754014594887,
          0.14321259166825573,
          0.7358098587718248,
          -1.6902281014428777,
          1.1306991593957962,
          -0.1099648790423635,
          -0.22666075417092854,
          0.049843414740093135,
          1.7189847338915771
         ],
         "yaxis": "y10"
        },
        {
         "histfunc": "count",
         "histnorm": "",
         "marker": {
          "color": "rgba(50, 171, 96, 1.0)",
          "line": {
           "color": "#4D5663",
           "width": 1.3
          }
         },
         "name": "C",
         "nbinsx": 10,
         "opacity": 0.8,
         "orientation": "v",
         "type": "histogram",
         "x": [
          -0.21097545106115867,
          -1.010385952727178,
          1.2749827146362012,
          -0.015983506020842593,
          -1.4746786667388705,
          0.179830423867175,
          -1.7462619033123765,
          1.0464112123438396,
          -1.026390859731597,
          -1.5943918528495928,
          0.27066796628353124,
          1.684858393324544,
          -0.8691937549317699,
          1.0663471476085131,
          -0.27768437726852435,
          1.4540051135513614,
          -0.26883009252392337,
          -0.9033424846816914,
          -0.9747627063168453,
          -0.02899475056819844,
          -2.1091287389590594,
          -0.8173521305308596,
          -0.5458075875412067,
          0.1408257779445167,
          1.0469267961676325,
          -0.1274706826923543,
          -0.4135280276220017,
          -2.504998932310551,
          -0.31393716699687946,
          -0.27885332707301097,
          -0.10489987978738426,
          -0.311979337731574,
          0.8323164989952668,
          1.141533340091098,
          0.13831170926493636,
          0.4082224185595173,
          -1.215204703217632,
          -0.9242699464629253,
          -0.7808708848307961,
          -0.4087507562011927,
          0.5384793601336588,
          -0.894570347749724,
          -1.9064362065808225,
          0.4457683343762501,
          1.4908864825098789,
          1.0693654725823765,
          -0.7275095732282226,
          -0.8979976610014719,
          -0.5568820823956494,
          -3.120217014727852,
          -1.0643984188092965,
          0.481779811826849,
          -2.1582565399941807,
          0.674790921329094,
          -0.8034916966642305,
          -0.18546152762405013,
          0.3701522485642225,
          -0.4268835316362451,
          0.7190516944973412,
          1.4186235615644138,
          0.6233755088238365,
          0.451150747092287,
          0.09196690808838238,
          0.17208166858829033,
          0.31266042146240636,
          0.19012493289956234,
          -0.6033882671133812,
          -0.3528222705784352,
          -1.029664931473673,
          -1.789717664094481,
          1.729908802810119,
          1.8872430463151544,
          1.3780986797462649,
          -0.12991924339436525,
          -2.6283925699063895,
          -0.45255088777254926,
          0.26223069515618097,
          0.47620185627593864,
          -0.8154834212117086,
          0.4518383967003741,
          1.680930268015079,
          -0.6185203445333183,
          0.3503940349241752,
          0.726458825053681,
          0.03463182841395179,
          -0.16540845309937308,
          1.4483176986472721,
          -1.1154223385895445,
          -0.09404226600003875,
          -1.9554368262281228,
          0.4048604122456422,
          0.07250754014594887,
          0.14321259166825573,
          0.7358098587718248,
          -1.6902281014428777,
          1.1306991593957962,
          -0.1099648790423635,
          -0.22666075417092854,
          0.049843414740093135,
          1.7189847338915771
         ],
         "xaxis": "x11",
         "yaxis": "y11"
        },
        {
         "line": {
          "color": "rgba(128, 128, 128, 1.0)",
          "dash": "solid",
          "shape": "linear",
          "width": 1.3
         },
         "marker": {
          "size": 2,
          "symbol": "circle"
         },
         "mode": "markers",
         "name": "C",
         "text": "",
         "type": "scatter",
         "x": [
          1.4117582400459063,
          0.5158806040582149,
          -0.056329725916821824,
          3.0331176288045154,
          2.251571432677742,
          -0.7244537895757376,
          1.2757216021545035,
          0.5245256765181753,
          -2.167648381947332,
          -0.4696805838248369,
          -0.7485430338440984,
          1.5433238587038358,
          -1.1301871150538845,
          -0.8509439519643706,
          0.9802881962901107,
          0.5573549233360873,
          1.3924631528411737,
          -0.292843525425006,
          -0.28957625229621475,
          -1.2848236294066253,
          1.2280302498116678,
          -1.8612347534410665,
          -0.7879333821927236,
          -1.1291458198297768,
          0.9209652308913361,
          0.26972013558638086,
          -1.4698105580627052,
          0.5186966764631051,
          -0.25514350367859234,
          0.664752381529209,
          0.3096208618182506,
          -0.5039365347815075,
          -0.4089033909019008,
          1.2941177250485878,
          0.6166150565287175,
          -1.1472542509270691,
          0.2505258246975447,
          -0.7584439760541246,
          -0.23747358583319064,
          -1.595523305990587,
          -0.3418769665943945,
          0.2818531578350275,
          -0.5555095528498177,
          0.3239429982070741,
          -0.7258768991770973,
          -0.9261661539974302,
          0.5611160523629165,
          -1.3792408529525848,
          -2.825545670103279,
          0.27493797297484407,
          -0.5321004469147166,
          -0.6143052576424726,
          -2.0180202882435245,
          -1.3954363627502746,
          -0.8759893988017698,
          0.37356556439978833,
          0.7160956305449683,
          0.06937507216314834,
          -0.6552479976721832,
          0.43343928702505524,
          0.2455584618258172,
          0.42126667865391876,
          1.1619913270267297,
          -0.8032146674707702,
          -0.5890226399059743,
          0.6458359767000308,
          0.4360332745112395,
          0.599788673353237,
          -0.722948223582799,
          -1.030606401238794,
          1.9700941532056162,
          0.7791070160905508,
          -0.6959015496296476,
          -0.3825212064430439,
          -0.059171058813391623,
          -1.9504072192912345,
          1.778253100110659,
          1.1330032162375292,
          -0.3703874521409308,
          1.4917910877624783,
          -0.39446169568001704,
          1.3224359705441946,
          0.9956777417992919,
          1.2675161076205903,
          -1.3566847734767353,
          0.40309061690454584,
          -1.0419272570013405,
          0.23569775255301098,
          -0.02792794107762883,
          -0.9036568645096051,
          -0.7357079424723857,
          -0.36096085535421085,
          2.053305244643362,
          -1.1928816331796919,
          2.198658821091295,
          -1.0327304619564042,
          -0.8835906856693826,
          0.03346181036648316,
          -2.025627489159471,
          -0.4081320108627518
         ],
         "xaxis": "x12",
         "y": [
          -0.21097545106115867,
          -1.010385952727178,
          1.2749827146362012,
          -0.015983506020842593,
          -1.4746786667388705,
          0.179830423867175,
          -1.7462619033123765,
          1.0464112123438396,
          -1.026390859731597,
          -1.5943918528495928,
          0.27066796628353124,
          1.684858393324544,
          -0.8691937549317699,
          1.0663471476085131,
          -0.27768437726852435,
          1.4540051135513614,
          -0.26883009252392337,
          -0.9033424846816914,
          -0.9747627063168453,
          -0.02899475056819844,
          -2.1091287389590594,
          -0.8173521305308596,
          -0.5458075875412067,
          0.1408257779445167,
          1.0469267961676325,
          -0.1274706826923543,
          -0.4135280276220017,
          -2.504998932310551,
          -0.31393716699687946,
          -0.27885332707301097,
          -0.10489987978738426,
          -0.311979337731574,
          0.8323164989952668,
          1.141533340091098,
          0.13831170926493636,
          0.4082224185595173,
          -1.215204703217632,
          -0.9242699464629253,
          -0.7808708848307961,
          -0.4087507562011927,
          0.5384793601336588,
          -0.894570347749724,
          -1.9064362065808225,
          0.4457683343762501,
          1.4908864825098789,
          1.0693654725823765,
          -0.7275095732282226,
          -0.8979976610014719,
          -0.5568820823956494,
          -3.120217014727852,
          -1.0643984188092965,
          0.481779811826849,
          -2.1582565399941807,
          0.674790921329094,
          -0.8034916966642305,
          -0.18546152762405013,
          0.3701522485642225,
          -0.4268835316362451,
          0.7190516944973412,
          1.4186235615644138,
          0.6233755088238365,
          0.451150747092287,
          0.09196690808838238,
          0.17208166858829033,
          0.31266042146240636,
          0.19012493289956234,
          -0.6033882671133812,
          -0.3528222705784352,
          -1.029664931473673,
          -1.789717664094481,
          1.729908802810119,
          1.8872430463151544,
          1.3780986797462649,
          -0.12991924339436525,
          -2.6283925699063895,
          -0.45255088777254926,
          0.26223069515618097,
          0.47620185627593864,
          -0.8154834212117086,
          0.4518383967003741,
          1.680930268015079,
          -0.6185203445333183,
          0.3503940349241752,
          0.726458825053681,
          0.03463182841395179,
          -0.16540845309937308,
          1.4483176986472721,
          -1.1154223385895445,
          -0.09404226600003875,
          -1.9554368262281228,
          0.4048604122456422,
          0.07250754014594887,
          0.14321259166825573,
          0.7358098587718248,
          -1.6902281014428777,
          1.1306991593957962,
          -0.1099648790423635,
          -0.22666075417092854,
          0.049843414740093135,
          1.7189847338915771
         ],
         "yaxis": "y12"
        },
        {
         "line": {
          "color": "rgba(128, 128, 128, 1.0)",
          "dash": "solid",
          "shape": "linear",
          "width": 1.3
         },
         "marker": {
          "size": 2,
          "symbol": "circle"
         },
         "mode": "markers",
         "name": "D",
         "text": "",
         "type": "scatter",
         "x": [
          2.456864478612622,
          -2.2527239798611314,
          -2.2929421848992426,
          0.356852081716104,
          -0.25027565803004814,
          -0.4352308180980923,
          -1.7870622081171643,
          -0.4231246753923552,
          0.9739696613755218,
          0.3992265559510478,
          -0.23910651236066105,
          0.23931071399692622,
          0.09131078371117889,
          0.18231030225450318,
          -1.6770467131592837,
          0.6723336270661157,
          0.24807428163009063,
          -0.7626192979780793,
          -1.485650151616024,
          -2.068322142166952,
          -0.816661798988874,
          -0.4390293659026417,
          -0.17638692762077884,
          1.3693036243446226,
          -0.8838873911315334,
          1.4781184141206263,
          1.0204354409755043,
          0.6677895888357839,
          1.307300361914305,
          0.381526666995544,
          0.6990207531066948,
          -0.19170954656039826,
          -1.6176627483135664,
          -1.4378015404747206,
          -0.3089839408391603,
          -0.7042330548807497,
          0.1686533561355506,
          -0.2719197995344573,
          0.5554967812631001,
          0.9774118356605086,
          -0.5675670254061104,
          1.8147360416350493,
          -0.2076775115236604,
          1.396211557548168,
          -0.2196247534199206,
          1.257667737581909,
          0.09999079328644785,
          0.40953832839299614,
          0.5181168335779327,
          -0.6408375541457859,
          0.9059451776285394,
          0.6233470810053362,
          -0.4067115357546892,
          0.01083130229600319,
          0.5789254579976282,
          0.04246809985210584,
          1.2652109502899274,
          0.05171788485414968,
          -0.678433959764289,
          -0.6715016710873373,
          1.1674003643390756,
          0.6963027212152043,
          -0.6872552716565266,
          0.35043630517555296,
          1.697039109276328,
          -0.16517053629799128,
          0.23807020983462962,
          1.036859207986987,
          -1.0626416110243735,
          -0.5436189635055533,
          -1.0935424145198833,
          0.31040749316377236,
          -0.19753243030570042,
          -2.7090402836025933,
          -1.5646909709019092,
          0.521645062440777,
          -0.5002630539043543,
          -0.2690104841331373,
          1.3310061232297976,
          -1.5183182964218291,
          0.48398557607624765,
          -1.6832106492361594,
          -0.40954112536213994,
          0.4724488127081655,
          2.1196763199373585,
          0.19754555336208063,
          -0.9074605490975094,
          0.15313865789208797,
          1.351762250817329,
          -0.396385824284584,
          1.1476851047106436,
          0.5740494843237829,
          1.0697578479613916,
          -0.046560497298113845,
          -0.2897030805682362,
          0.1679496946692134,
          -1.3517488543120035,
          0.4667484204157006,
          0.2629850168256431,
          -0.6432433834067868
         ],
         "xaxis": "x13",
         "y": [
          1.4117582400459063,
          0.5158806040582149,
          -0.056329725916821824,
          3.0331176288045154,
          2.251571432677742,
          -0.7244537895757376,
          1.2757216021545035,
          0.5245256765181753,
          -2.167648381947332,
          -0.4696805838248369,
          -0.7485430338440984,
          1.5433238587038358,
          -1.1301871150538845,
          -0.8509439519643706,
          0.9802881962901107,
          0.5573549233360873,
          1.3924631528411737,
          -0.292843525425006,
          -0.28957625229621475,
          -1.2848236294066253,
          1.2280302498116678,
          -1.8612347534410665,
          -0.7879333821927236,
          -1.1291458198297768,
          0.9209652308913361,
          0.26972013558638086,
          -1.4698105580627052,
          0.5186966764631051,
          -0.25514350367859234,
          0.664752381529209,
          0.3096208618182506,
          -0.5039365347815075,
          -0.4089033909019008,
          1.2941177250485878,
          0.6166150565287175,
          -1.1472542509270691,
          0.2505258246975447,
          -0.7584439760541246,
          -0.23747358583319064,
          -1.595523305990587,
          -0.3418769665943945,
          0.2818531578350275,
          -0.5555095528498177,
          0.3239429982070741,
          -0.7258768991770973,
          -0.9261661539974302,
          0.5611160523629165,
          -1.3792408529525848,
          -2.825545670103279,
          0.27493797297484407,
          -0.5321004469147166,
          -0.6143052576424726,
          -2.0180202882435245,
          -1.3954363627502746,
          -0.8759893988017698,
          0.37356556439978833,
          0.7160956305449683,
          0.06937507216314834,
          -0.6552479976721832,
          0.43343928702505524,
          0.2455584618258172,
          0.42126667865391876,
          1.1619913270267297,
          -0.8032146674707702,
          -0.5890226399059743,
          0.6458359767000308,
          0.4360332745112395,
          0.599788673353237,
          -0.722948223582799,
          -1.030606401238794,
          1.9700941532056162,
          0.7791070160905508,
          -0.6959015496296476,
          -0.3825212064430439,
          -0.059171058813391623,
          -1.9504072192912345,
          1.778253100110659,
          1.1330032162375292,
          -0.3703874521409308,
          1.4917910877624783,
          -0.39446169568001704,
          1.3224359705441946,
          0.9956777417992919,
          1.2675161076205903,
          -1.3566847734767353,
          0.40309061690454584,
          -1.0419272570013405,
          0.23569775255301098,
          -0.02792794107762883,
          -0.9036568645096051,
          -0.7357079424723857,
          -0.36096085535421085,
          2.053305244643362,
          -1.1928816331796919,
          2.198658821091295,
          -1.0327304619564042,
          -0.8835906856693826,
          0.03346181036648316,
          -2.025627489159471,
          -0.4081320108627518
         ],
         "yaxis": "y13"
        },
        {
         "line": {
          "color": "rgba(128, 128, 128, 1.0)",
          "dash": "solid",
          "shape": "linear",
          "width": 1.3
         },
         "marker": {
          "size": 2,
          "symbol": "circle"
         },
         "mode": "markers",
         "name": "D",
         "text": "",
         "type": "scatter",
         "x": [
          0.7585713004881539,
          0.9369508008274443,
          2.8786377067420803,
          -0.9753733963764035,
          -1.973314268207836,
          -1.1926729745541216,
          1.7788975258488893,
          -2.739702907163809,
          0.7818386057295666,
          0.5557853197699847,
          1.1308138994045913,
          -0.03394713504751146,
          -0.24674661567520484,
          0.9048576983121975,
          -0.06399742714620238,
          -0.29553159925198297,
          1.4480226716018347,
          -0.9287181429895608,
          -1.1584119641019608,
          0.32889625773459297,
          0.007753273055508445,
          -0.05820317171635984,
          -0.15155706936588884,
          0.19472617657474028,
          -0.7964170541897511,
          -0.4322192069305809,
          -0.9445672117722083,
          0.014770905297994949,
          -0.35176557796450886,
          1.0195066876159382,
          0.784707646326061,
          -0.3250669031761666,
          0.9277017170808991,
          0.7600764488098469,
          1.758123577307258,
          0.1842424508247556,
          0.8128516170296418,
          1.0898631416458546,
          1.2891007860044672,
          -0.8697391961812799,
          -0.45653154226280335,
          -1.0361046760709498,
          0.7559270918670371,
          -2.061501740649847,
          1.4092710565201825,
          -0.256631908090931,
          -1.5750591677500945,
          0.9245690218077082,
          -0.9061675814715107,
          0.37584618766234756,
          -1.2415901387761887,
          1.1957546846050047,
          1.959991039843966,
          -0.8996322472799549,
          -1.0475054321530737,
          -0.6490377881974029,
          0.3837783651423651,
          -0.037591221147904176,
          0.3264691997676207,
          0.8351240175627819,
          1.3407659055312469,
          0.7664492600505355,
          0.34707865407662625,
          0.4374355620108727,
          0.4206434136296037,
          0.11449523490312948,
          0.050628931196152235,
          1.7227632992759434,
          -0.02044643276147327,
          -0.4372433743237419,
          -1.6823925218882394,
          0.059972603940122146,
          1.586091742340369,
          -0.611607758287968,
          -0.4515418116623536,
          0.6764102158345765,
          -1.5778251431922758,
          0.531490498101667,
          0.29467461455975935,
          -0.4096067239508892,
          -1.928942981094565,
          -0.10329196872552136,
          0.7700000706766272,
          0.4424794882193026,
          -0.3296786777745359,
          -1.4801841351888587,
          0.39132986150267235,
          1.187930182494079,
          -1.2766734843288627,
          -0.502946174955512,
          0.3430738507677682,
          0.39802770458241576,
          -1.6533098903298877,
          -0.5168646022711108,
          0.38758251120651555,
          -0.291875675770869,
          -1.164864245517917,
          1.3999539696360548,
          -1.9115176187985556,
          0.4970235858917134
         ],
         "xaxis": "x14",
         "y": [
          1.4117582400459063,
          0.5158806040582149,
          -0.056329725916821824,
          3.0331176288045154,
          2.251571432677742,
          -0.7244537895757376,
          1.2757216021545035,
          0.5245256765181753,
          -2.167648381947332,
          -0.4696805838248369,
          -0.7485430338440984,
          1.5433238587038358,
          -1.1301871150538845,
          -0.8509439519643706,
          0.9802881962901107,
          0.5573549233360873,
          1.3924631528411737,
          -0.292843525425006,
          -0.28957625229621475,
          -1.2848236294066253,
          1.2280302498116678,
          -1.8612347534410665,
          -0.7879333821927236,
          -1.1291458198297768,
          0.9209652308913361,
          0.26972013558638086,
          -1.4698105580627052,
          0.5186966764631051,
          -0.25514350367859234,
          0.664752381529209,
          0.3096208618182506,
          -0.5039365347815075,
          -0.4089033909019008,
          1.2941177250485878,
          0.6166150565287175,
          -1.1472542509270691,
          0.2505258246975447,
          -0.7584439760541246,
          -0.23747358583319064,
          -1.595523305990587,
          -0.3418769665943945,
          0.2818531578350275,
          -0.5555095528498177,
          0.3239429982070741,
          -0.7258768991770973,
          -0.9261661539974302,
          0.5611160523629165,
          -1.3792408529525848,
          -2.825545670103279,
          0.27493797297484407,
          -0.5321004469147166,
          -0.6143052576424726,
          -2.0180202882435245,
          -1.3954363627502746,
          -0.8759893988017698,
          0.37356556439978833,
          0.7160956305449683,
          0.06937507216314834,
          -0.6552479976721832,
          0.43343928702505524,
          0.2455584618258172,
          0.42126667865391876,
          1.1619913270267297,
          -0.8032146674707702,
          -0.5890226399059743,
          0.6458359767000308,
          0.4360332745112395,
          0.599788673353237,
          -0.722948223582799,
          -1.030606401238794,
          1.9700941532056162,
          0.7791070160905508,
          -0.6959015496296476,
          -0.3825212064430439,
          -0.059171058813391623,
          -1.9504072192912345,
          1.778253100110659,
          1.1330032162375292,
          -0.3703874521409308,
          1.4917910877624783,
          -0.39446169568001704,
          1.3224359705441946,
          0.9956777417992919,
          1.2675161076205903,
          -1.3566847734767353,
          0.40309061690454584,
          -1.0419272570013405,
          0.23569775255301098,
          -0.02792794107762883,
          -0.9036568645096051,
          -0.7357079424723857,
          -0.36096085535421085,
          2.053305244643362,
          -1.1928816331796919,
          2.198658821091295,
          -1.0327304619564042,
          -0.8835906856693826,
          0.03346181036648316,
          -2.025627489159471,
          -0.4081320108627518
         ],
         "yaxis": "y14"
        },
        {
         "line": {
          "color": "rgba(128, 128, 128, 1.0)",
          "dash": "solid",
          "shape": "linear",
          "width": 1.3
         },
         "marker": {
          "size": 2,
          "symbol": "circle"
         },
         "mode": "markers",
         "name": "D",
         "text": "",
         "type": "scatter",
         "x": [
          -0.21097545106115867,
          -1.010385952727178,
          1.2749827146362012,
          -0.015983506020842593,
          -1.4746786667388705,
          0.179830423867175,
          -1.7462619033123765,
          1.0464112123438396,
          -1.026390859731597,
          -1.5943918528495928,
          0.27066796628353124,
          1.684858393324544,
          -0.8691937549317699,
          1.0663471476085131,
          -0.27768437726852435,
          1.4540051135513614,
          -0.26883009252392337,
          -0.9033424846816914,
          -0.9747627063168453,
          -0.02899475056819844,
          -2.1091287389590594,
          -0.8173521305308596,
          -0.5458075875412067,
          0.1408257779445167,
          1.0469267961676325,
          -0.1274706826923543,
          -0.4135280276220017,
          -2.504998932310551,
          -0.31393716699687946,
          -0.27885332707301097,
          -0.10489987978738426,
          -0.311979337731574,
          0.8323164989952668,
          1.141533340091098,
          0.13831170926493636,
          0.4082224185595173,
          -1.215204703217632,
          -0.9242699464629253,
          -0.7808708848307961,
          -0.4087507562011927,
          0.5384793601336588,
          -0.894570347749724,
          -1.9064362065808225,
          0.4457683343762501,
          1.4908864825098789,
          1.0693654725823765,
          -0.7275095732282226,
          -0.8979976610014719,
          -0.5568820823956494,
          -3.120217014727852,
          -1.0643984188092965,
          0.481779811826849,
          -2.1582565399941807,
          0.674790921329094,
          -0.8034916966642305,
          -0.18546152762405013,
          0.3701522485642225,
          -0.4268835316362451,
          0.7190516944973412,
          1.4186235615644138,
          0.6233755088238365,
          0.451150747092287,
          0.09196690808838238,
          0.17208166858829033,
          0.31266042146240636,
          0.19012493289956234,
          -0.6033882671133812,
          -0.3528222705784352,
          -1.029664931473673,
          -1.789717664094481,
          1.729908802810119,
          1.8872430463151544,
          1.3780986797462649,
          -0.12991924339436525,
          -2.6283925699063895,
          -0.45255088777254926,
          0.26223069515618097,
          0.47620185627593864,
          -0.8154834212117086,
          0.4518383967003741,
          1.680930268015079,
          -0.6185203445333183,
          0.3503940349241752,
          0.726458825053681,
          0.03463182841395179,
          -0.16540845309937308,
          1.4483176986472721,
          -1.1154223385895445,
          -0.09404226600003875,
          -1.9554368262281228,
          0.4048604122456422,
          0.07250754014594887,
          0.14321259166825573,
          0.7358098587718248,
          -1.6902281014428777,
          1.1306991593957962,
          -0.1099648790423635,
          -0.22666075417092854,
          0.049843414740093135,
          1.7189847338915771
         ],
         "xaxis": "x15",
         "y": [
          1.4117582400459063,
          0.5158806040582149,
          -0.056329725916821824,
          3.0331176288045154,
          2.251571432677742,
          -0.7244537895757376,
          1.2757216021545035,
          0.5245256765181753,
          -2.167648381947332,
          -0.4696805838248369,
          -0.7485430338440984,
          1.5433238587038358,
          -1.1301871150538845,
          -0.8509439519643706,
          0.9802881962901107,
          0.5573549233360873,
          1.3924631528411737,
          -0.292843525425006,
          -0.28957625229621475,
          -1.2848236294066253,
          1.2280302498116678,
          -1.8612347534410665,
          -0.7879333821927236,
          -1.1291458198297768,
          0.9209652308913361,
          0.26972013558638086,
          -1.4698105580627052,
          0.5186966764631051,
          -0.25514350367859234,
          0.664752381529209,
          0.3096208618182506,
          -0.5039365347815075,
          -0.4089033909019008,
          1.2941177250485878,
          0.6166150565287175,
          -1.1472542509270691,
          0.2505258246975447,
          -0.7584439760541246,
          -0.23747358583319064,
          -1.595523305990587,
          -0.3418769665943945,
          0.2818531578350275,
          -0.5555095528498177,
          0.3239429982070741,
          -0.7258768991770973,
          -0.9261661539974302,
          0.5611160523629165,
          -1.3792408529525848,
          -2.825545670103279,
          0.27493797297484407,
          -0.5321004469147166,
          -0.6143052576424726,
          -2.0180202882435245,
          -1.3954363627502746,
          -0.8759893988017698,
          0.37356556439978833,
          0.7160956305449683,
          0.06937507216314834,
          -0.6552479976721832,
          0.43343928702505524,
          0.2455584618258172,
          0.42126667865391876,
          1.1619913270267297,
          -0.8032146674707702,
          -0.5890226399059743,
          0.6458359767000308,
          0.4360332745112395,
          0.599788673353237,
          -0.722948223582799,
          -1.030606401238794,
          1.9700941532056162,
          0.7791070160905508,
          -0.6959015496296476,
          -0.3825212064430439,
          -0.059171058813391623,
          -1.9504072192912345,
          1.778253100110659,
          1.1330032162375292,
          -0.3703874521409308,
          1.4917910877624783,
          -0.39446169568001704,
          1.3224359705441946,
          0.9956777417992919,
          1.2675161076205903,
          -1.3566847734767353,
          0.40309061690454584,
          -1.0419272570013405,
          0.23569775255301098,
          -0.02792794107762883,
          -0.9036568645096051,
          -0.7357079424723857,
          -0.36096085535421085,
          2.053305244643362,
          -1.1928816331796919,
          2.198658821091295,
          -1.0327304619564042,
          -0.8835906856693826,
          0.03346181036648316,
          -2.025627489159471,
          -0.4081320108627518
         ],
         "yaxis": "y15"
        },
        {
         "histfunc": "count",
         "histnorm": "",
         "marker": {
          "color": "rgba(128, 0, 128, 1.0)",
          "line": {
           "color": "#4D5663",
           "width": 1.3
          }
         },
         "name": "D",
         "nbinsx": 10,
         "opacity": 0.8,
         "orientation": "v",
         "type": "histogram",
         "x": [
          1.4117582400459063,
          0.5158806040582149,
          -0.056329725916821824,
          3.0331176288045154,
          2.251571432677742,
          -0.7244537895757376,
          1.2757216021545035,
          0.5245256765181753,
          -2.167648381947332,
          -0.4696805838248369,
          -0.7485430338440984,
          1.5433238587038358,
          -1.1301871150538845,
          -0.8509439519643706,
          0.9802881962901107,
          0.5573549233360873,
          1.3924631528411737,
          -0.292843525425006,
          -0.28957625229621475,
          -1.2848236294066253,
          1.2280302498116678,
          -1.8612347534410665,
          -0.7879333821927236,
          -1.1291458198297768,
          0.9209652308913361,
          0.26972013558638086,
          -1.4698105580627052,
          0.5186966764631051,
          -0.25514350367859234,
          0.664752381529209,
          0.3096208618182506,
          -0.5039365347815075,
          -0.4089033909019008,
          1.2941177250485878,
          0.6166150565287175,
          -1.1472542509270691,
          0.2505258246975447,
          -0.7584439760541246,
          -0.23747358583319064,
          -1.595523305990587,
          -0.3418769665943945,
          0.2818531578350275,
          -0.5555095528498177,
          0.3239429982070741,
          -0.7258768991770973,
          -0.9261661539974302,
          0.5611160523629165,
          -1.3792408529525848,
          -2.825545670103279,
          0.27493797297484407,
          -0.5321004469147166,
          -0.6143052576424726,
          -2.0180202882435245,
          -1.3954363627502746,
          -0.8759893988017698,
          0.37356556439978833,
          0.7160956305449683,
          0.06937507216314834,
          -0.6552479976721832,
          0.43343928702505524,
          0.2455584618258172,
          0.42126667865391876,
          1.1619913270267297,
          -0.8032146674707702,
          -0.5890226399059743,
          0.6458359767000308,
          0.4360332745112395,
          0.599788673353237,
          -0.722948223582799,
          -1.030606401238794,
          1.9700941532056162,
          0.7791070160905508,
          -0.6959015496296476,
          -0.3825212064430439,
          -0.059171058813391623,
          -1.9504072192912345,
          1.778253100110659,
          1.1330032162375292,
          -0.3703874521409308,
          1.4917910877624783,
          -0.39446169568001704,
          1.3224359705441946,
          0.9956777417992919,
          1.2675161076205903,
          -1.3566847734767353,
          0.40309061690454584,
          -1.0419272570013405,
          0.23569775255301098,
          -0.02792794107762883,
          -0.9036568645096051,
          -0.7357079424723857,
          -0.36096085535421085,
          2.053305244643362,
          -1.1928816331796919,
          2.198658821091295,
          -1.0327304619564042,
          -0.8835906856693826,
          0.03346181036648316,
          -2.025627489159471,
          -0.4081320108627518
         ],
         "xaxis": "x16",
         "yaxis": "y16"
        }
       ],
       "layout": {
        "bargap": 0.02,
        "legend": {
         "bgcolor": "#F5F6F9",
         "font": {
          "color": "#4D5663"
         }
        },
        "paper_bgcolor": "#F5F6F9",
        "plot_bgcolor": "#F5F6F9",
        "showlegend": false,
        "template": {
         "data": {
          "bar": [
           {
            "error_x": {
             "color": "#2a3f5f"
            },
            "error_y": {
             "color": "#2a3f5f"
            },
            "marker": {
             "line": {
              "color": "#E5ECF6",
              "width": 0.5
             }
            },
            "type": "bar"
           }
          ],
          "barpolar": [
           {
            "marker": {
             "line": {
              "color": "#E5ECF6",
              "width": 0.5
             }
            },
            "type": "barpolar"
           }
          ],
          "carpet": [
           {
            "aaxis": {
             "endlinecolor": "#2a3f5f",
             "gridcolor": "white",
             "linecolor": "white",
             "minorgridcolor": "white",
             "startlinecolor": "#2a3f5f"
            },
            "baxis": {
             "endlinecolor": "#2a3f5f",
             "gridcolor": "white",
             "linecolor": "white",
             "minorgridcolor": "white",
             "startlinecolor": "#2a3f5f"
            },
            "type": "carpet"
           }
          ],
          "choropleth": [
           {
            "colorbar": {
             "outlinewidth": 0,
             "ticks": ""
            },
            "type": "choropleth"
           }
          ],
          "contour": [
           {
            "colorbar": {
             "outlinewidth": 0,
             "ticks": ""
            },
            "colorscale": [
             [
              0,
              "#0d0887"
             ],
             [
              0.1111111111111111,
              "#46039f"
             ],
             [
              0.2222222222222222,
              "#7201a8"
             ],
             [
              0.3333333333333333,
              "#9c179e"
             ],
             [
              0.4444444444444444,
              "#bd3786"
             ],
             [
              0.5555555555555556,
              "#d8576b"
             ],
             [
              0.6666666666666666,
              "#ed7953"
             ],
             [
              0.7777777777777778,
              "#fb9f3a"
             ],
             [
              0.8888888888888888,
              "#fdca26"
             ],
             [
              1,
              "#f0f921"
             ]
            ],
            "type": "contour"
           }
          ],
          "contourcarpet": [
           {
            "colorbar": {
             "outlinewidth": 0,
             "ticks": ""
            },
            "type": "contourcarpet"
           }
          ],
          "heatmap": [
           {
            "colorbar": {
             "outlinewidth": 0,
             "ticks": ""
            },
            "colorscale": [
             [
              0,
              "#0d0887"
             ],
             [
              0.1111111111111111,
              "#46039f"
             ],
             [
              0.2222222222222222,
              "#7201a8"
             ],
             [
              0.3333333333333333,
              "#9c179e"
             ],
             [
              0.4444444444444444,
              "#bd3786"
             ],
             [
              0.5555555555555556,
              "#d8576b"
             ],
             [
              0.6666666666666666,
              "#ed7953"
             ],
             [
              0.7777777777777778,
              "#fb9f3a"
             ],
             [
              0.8888888888888888,
              "#fdca26"
             ],
             [
              1,
              "#f0f921"
             ]
            ],
            "type": "heatmap"
           }
          ],
          "heatmapgl": [
           {
            "colorbar": {
             "outlinewidth": 0,
             "ticks": ""
            },
            "colorscale": [
             [
              0,
              "#0d0887"
             ],
             [
              0.1111111111111111,
              "#46039f"
             ],
             [
              0.2222222222222222,
              "#7201a8"
             ],
             [
              0.3333333333333333,
              "#9c179e"
             ],
             [
              0.4444444444444444,
              "#bd3786"
             ],
             [
              0.5555555555555556,
              "#d8576b"
             ],
             [
              0.6666666666666666,
              "#ed7953"
             ],
             [
              0.7777777777777778,
              "#fb9f3a"
             ],
             [
              0.8888888888888888,
              "#fdca26"
             ],
             [
              1,
              "#f0f921"
             ]
            ],
            "type": "heatmapgl"
           }
          ],
          "histogram": [
           {
            "marker": {
             "colorbar": {
              "outlinewidth": 0,
              "ticks": ""
             }
            },
            "type": "histogram"
           }
          ],
          "histogram2d": [
           {
            "colorbar": {
             "outlinewidth": 0,
             "ticks": ""
            },
            "colorscale": [
             [
              0,
              "#0d0887"
             ],
             [
              0.1111111111111111,
              "#46039f"
             ],
             [
              0.2222222222222222,
              "#7201a8"
             ],
             [
              0.3333333333333333,
              "#9c179e"
             ],
             [
              0.4444444444444444,
              "#bd3786"
             ],
             [
              0.5555555555555556,
              "#d8576b"
             ],
             [
              0.6666666666666666,
              "#ed7953"
             ],
             [
              0.7777777777777778,
              "#fb9f3a"
             ],
             [
              0.8888888888888888,
              "#fdca26"
             ],
             [
              1,
              "#f0f921"
             ]
            ],
            "type": "histogram2d"
           }
          ],
          "histogram2dcontour": [
           {
            "colorbar": {
             "outlinewidth": 0,
             "ticks": ""
            },
            "colorscale": [
             [
              0,
              "#0d0887"
             ],
             [
              0.1111111111111111,
              "#46039f"
             ],
             [
              0.2222222222222222,
              "#7201a8"
             ],
             [
              0.3333333333333333,
              "#9c179e"
             ],
             [
              0.4444444444444444,
              "#bd3786"
             ],
             [
              0.5555555555555556,
              "#d8576b"
             ],
             [
              0.6666666666666666,
              "#ed7953"
             ],
             [
              0.7777777777777778,
              "#fb9f3a"
             ],
             [
              0.8888888888888888,
              "#fdca26"
             ],
             [
              1,
              "#f0f921"
             ]
            ],
            "type": "histogram2dcontour"
           }
          ],
          "mesh3d": [
           {
            "colorbar": {
             "outlinewidth": 0,
             "ticks": ""
            },
            "type": "mesh3d"
           }
          ],
          "parcoords": [
           {
            "line": {
             "colorbar": {
              "outlinewidth": 0,
              "ticks": ""
             }
            },
            "type": "parcoords"
           }
          ],
          "pie": [
           {
            "automargin": true,
            "type": "pie"
           }
          ],
          "scatter": [
           {
            "marker": {
             "colorbar": {
              "outlinewidth": 0,
              "ticks": ""
             }
            },
            "type": "scatter"
           }
          ],
          "scatter3d": [
           {
            "line": {
             "colorbar": {
              "outlinewidth": 0,
              "ticks": ""
             }
            },
            "marker": {
             "colorbar": {
              "outlinewidth": 0,
              "ticks": ""
             }
            },
            "type": "scatter3d"
           }
          ],
          "scattercarpet": [
           {
            "marker": {
             "colorbar": {
              "outlinewidth": 0,
              "ticks": ""
             }
            },
            "type": "scattercarpet"
           }
          ],
          "scattergeo": [
           {
            "marker": {
             "colorbar": {
              "outlinewidth": 0,
              "ticks": ""
             }
            },
            "type": "scattergeo"
           }
          ],
          "scattergl": [
           {
            "marker": {
             "colorbar": {
              "outlinewidth": 0,
              "ticks": ""
             }
            },
            "type": "scattergl"
           }
          ],
          "scattermapbox": [
           {
            "marker": {
             "colorbar": {
              "outlinewidth": 0,
              "ticks": ""
             }
            },
            "type": "scattermapbox"
           }
          ],
          "scatterpolar": [
           {
            "marker": {
             "colorbar": {
              "outlinewidth": 0,
              "ticks": ""
             }
            },
            "type": "scatterpolar"
           }
          ],
          "scatterpolargl": [
           {
            "marker": {
             "colorbar": {
              "outlinewidth": 0,
              "ticks": ""
             }
            },
            "type": "scatterpolargl"
           }
          ],
          "scatterternary": [
           {
            "marker": {
             "colorbar": {
              "outlinewidth": 0,
              "ticks": ""
             }
            },
            "type": "scatterternary"
           }
          ],
          "surface": [
           {
            "colorbar": {
             "outlinewidth": 0,
             "ticks": ""
            },
            "colorscale": [
             [
              0,
              "#0d0887"
             ],
             [
              0.1111111111111111,
              "#46039f"
             ],
             [
              0.2222222222222222,
              "#7201a8"
             ],
             [
              0.3333333333333333,
              "#9c179e"
             ],
             [
              0.4444444444444444,
              "#bd3786"
             ],
             [
              0.5555555555555556,
              "#d8576b"
             ],
             [
              0.6666666666666666,
              "#ed7953"
             ],
             [
              0.7777777777777778,
              "#fb9f3a"
             ],
             [
              0.8888888888888888,
              "#fdca26"
             ],
             [
              1,
              "#f0f921"
             ]
            ],
            "type": "surface"
           }
          ],
          "table": [
           {
            "cells": {
             "fill": {
              "color": "#EBF0F8"
             },
             "line": {
              "color": "white"
             }
            },
            "header": {
             "fill": {
              "color": "#C8D4E3"
             },
             "line": {
              "color": "white"
             }
            },
            "type": "table"
           }
          ]
         },
         "layout": {
          "annotationdefaults": {
           "arrowcolor": "#2a3f5f",
           "arrowhead": 0,
           "arrowwidth": 1
          },
          "coloraxis": {
           "colorbar": {
            "outlinewidth": 0,
            "ticks": ""
           }
          },
          "colorscale": {
           "diverging": [
            [
             0,
             "#8e0152"
            ],
            [
             0.1,
             "#c51b7d"
            ],
            [
             0.2,
             "#de77ae"
            ],
            [
             0.3,
             "#f1b6da"
            ],
            [
             0.4,
             "#fde0ef"
            ],
            [
             0.5,
             "#f7f7f7"
            ],
            [
             0.6,
             "#e6f5d0"
            ],
            [
             0.7,
             "#b8e186"
            ],
            [
             0.8,
             "#7fbc41"
            ],
            [
             0.9,
             "#4d9221"
            ],
            [
             1,
             "#276419"
            ]
           ],
           "sequential": [
            [
             0,
             "#0d0887"
            ],
            [
             0.1111111111111111,
             "#46039f"
            ],
            [
             0.2222222222222222,
             "#7201a8"
            ],
            [
             0.3333333333333333,
             "#9c179e"
            ],
            [
             0.4444444444444444,
             "#bd3786"
            ],
            [
             0.5555555555555556,
             "#d8576b"
            ],
            [
             0.6666666666666666,
             "#ed7953"
            ],
            [
             0.7777777777777778,
             "#fb9f3a"
            ],
            [
             0.8888888888888888,
             "#fdca26"
            ],
            [
             1,
             "#f0f921"
            ]
           ],
           "sequentialminus": [
            [
             0,
             "#0d0887"
            ],
            [
             0.1111111111111111,
             "#46039f"
            ],
            [
             0.2222222222222222,
             "#7201a8"
            ],
            [
             0.3333333333333333,
             "#9c179e"
            ],
            [
             0.4444444444444444,
             "#bd3786"
            ],
            [
             0.5555555555555556,
             "#d8576b"
            ],
            [
             0.6666666666666666,
             "#ed7953"
            ],
            [
             0.7777777777777778,
             "#fb9f3a"
            ],
            [
             0.8888888888888888,
             "#fdca26"
            ],
            [
             1,
             "#f0f921"
            ]
           ]
          },
          "colorway": [
           "#636efa",
           "#EF553B",
           "#00cc96",
           "#ab63fa",
           "#FFA15A",
           "#19d3f3",
           "#FF6692",
           "#B6E880",
           "#FF97FF",
           "#FECB52"
          ],
          "font": {
           "color": "#2a3f5f"
          },
          "geo": {
           "bgcolor": "white",
           "lakecolor": "white",
           "landcolor": "#E5ECF6",
           "showlakes": true,
           "showland": true,
           "subunitcolor": "white"
          },
          "hoverlabel": {
           "align": "left"
          },
          "hovermode": "closest",
          "mapbox": {
           "style": "light"
          },
          "paper_bgcolor": "white",
          "plot_bgcolor": "#E5ECF6",
          "polar": {
           "angularaxis": {
            "gridcolor": "white",
            "linecolor": "white",
            "ticks": ""
           },
           "bgcolor": "#E5ECF6",
           "radialaxis": {
            "gridcolor": "white",
            "linecolor": "white",
            "ticks": ""
           }
          },
          "scene": {
           "xaxis": {
            "backgroundcolor": "#E5ECF6",
            "gridcolor": "white",
            "gridwidth": 2,
            "linecolor": "white",
            "showbackground": true,
            "ticks": "",
            "zerolinecolor": "white"
           },
           "yaxis": {
            "backgroundcolor": "#E5ECF6",
            "gridcolor": "white",
            "gridwidth": 2,
            "linecolor": "white",
            "showbackground": true,
            "ticks": "",
            "zerolinecolor": "white"
           },
           "zaxis": {
            "backgroundcolor": "#E5ECF6",
            "gridcolor": "white",
            "gridwidth": 2,
            "linecolor": "white",
            "showbackground": true,
            "ticks": "",
            "zerolinecolor": "white"
           }
          },
          "shapedefaults": {
           "line": {
            "color": "#2a3f5f"
           }
          },
          "ternary": {
           "aaxis": {
            "gridcolor": "white",
            "linecolor": "white",
            "ticks": ""
           },
           "baxis": {
            "gridcolor": "white",
            "linecolor": "white",
            "ticks": ""
           },
           "bgcolor": "#E5ECF6",
           "caxis": {
            "gridcolor": "white",
            "linecolor": "white",
            "ticks": ""
           }
          },
          "title": {
           "x": 0.05
          },
          "xaxis": {
           "automargin": true,
           "gridcolor": "white",
           "linecolor": "white",
           "ticks": "",
           "title": {
            "standoff": 15
           },
           "zerolinecolor": "white",
           "zerolinewidth": 2
          },
          "yaxis": {
           "automargin": true,
           "gridcolor": "white",
           "linecolor": "white",
           "ticks": "",
           "title": {
            "standoff": 15
           },
           "zerolinecolor": "white",
           "zerolinewidth": 2
          }
         }
        },
        "title": {
         "font": {
          "color": "#4D5663"
         }
        },
        "xaxis": {
         "anchor": "y",
         "domain": [
          0,
          0.2125
         ],
         "gridcolor": "#E1E5ED",
         "showgrid": false,
         "tickfont": {
          "color": "#4D5663"
         },
         "title": {
          "font": {
           "color": "#4D5663"
          },
          "text": ""
         },
         "zerolinecolor": "#E1E5ED"
        },
        "xaxis10": {
         "anchor": "y10",
         "domain": [
          0.2625,
          0.475
         ],
         "gridcolor": "#E1E5ED",
         "showgrid": false,
         "tickfont": {
          "color": "#4D5663"
         },
         "title": {
          "font": {
           "color": "#4D5663"
          },
          "text": ""
         },
         "zerolinecolor": "#E1E5ED"
        },
        "xaxis11": {
         "anchor": "y11",
         "domain": [
          0.525,
          0.7375
         ],
         "gridcolor": "#E1E5ED",
         "showgrid": false,
         "tickfont": {
          "color": "#4D5663"
         },
         "title": {
          "font": {
           "color": "#4D5663"
          },
          "text": ""
         },
         "zerolinecolor": "#E1E5ED"
        },
        "xaxis12": {
         "anchor": "y12",
         "domain": [
          0.7875,
          1
         ],
         "gridcolor": "#E1E5ED",
         "showgrid": false,
         "tickfont": {
          "color": "#4D5663"
         },
         "title": {
          "font": {
           "color": "#4D5663"
          },
          "text": ""
         },
         "zerolinecolor": "#E1E5ED"
        },
        "xaxis13": {
         "anchor": "y13",
         "domain": [
          0,
          0.2125
         ],
         "gridcolor": "#E1E5ED",
         "showgrid": false,
         "tickfont": {
          "color": "#4D5663"
         },
         "title": {
          "font": {
           "color": "#4D5663"
          },
          "text": ""
         },
         "zerolinecolor": "#E1E5ED"
        },
        "xaxis14": {
         "anchor": "y14",
         "domain": [
          0.2625,
          0.475
         ],
         "gridcolor": "#E1E5ED",
         "showgrid": false,
         "tickfont": {
          "color": "#4D5663"
         },
         "title": {
          "font": {
           "color": "#4D5663"
          },
          "text": ""
         },
         "zerolinecolor": "#E1E5ED"
        },
        "xaxis15": {
         "anchor": "y15",
         "domain": [
          0.525,
          0.7375
         ],
         "gridcolor": "#E1E5ED",
         "showgrid": false,
         "tickfont": {
          "color": "#4D5663"
         },
         "title": {
          "font": {
           "color": "#4D5663"
          },
          "text": ""
         },
         "zerolinecolor": "#E1E5ED"
        },
        "xaxis16": {
         "anchor": "y16",
         "domain": [
          0.7875,
          1
         ],
         "gridcolor": "#E1E5ED",
         "showgrid": false,
         "tickfont": {
          "color": "#4D5663"
         },
         "title": {
          "font": {
           "color": "#4D5663"
          },
          "text": ""
         },
         "zerolinecolor": "#E1E5ED"
        },
        "xaxis2": {
         "anchor": "y2",
         "domain": [
          0.2625,
          0.475
         ],
         "gridcolor": "#E1E5ED",
         "showgrid": false,
         "tickfont": {
          "color": "#4D5663"
         },
         "title": {
          "font": {
           "color": "#4D5663"
          },
          "text": ""
         },
         "zerolinecolor": "#E1E5ED"
        },
        "xaxis3": {
         "anchor": "y3",
         "domain": [
          0.525,
          0.7375
         ],
         "gridcolor": "#E1E5ED",
         "showgrid": false,
         "tickfont": {
          "color": "#4D5663"
         },
         "title": {
          "font": {
           "color": "#4D5663"
          },
          "text": ""
         },
         "zerolinecolor": "#E1E5ED"
        },
        "xaxis4": {
         "anchor": "y4",
         "domain": [
          0.7875,
          1
         ],
         "gridcolor": "#E1E5ED",
         "showgrid": false,
         "tickfont": {
          "color": "#4D5663"
         },
         "title": {
          "font": {
           "color": "#4D5663"
          },
          "text": ""
         },
         "zerolinecolor": "#E1E5ED"
        },
        "xaxis5": {
         "anchor": "y5",
         "domain": [
          0,
          0.2125
         ],
         "gridcolor": "#E1E5ED",
         "showgrid": false,
         "tickfont": {
          "color": "#4D5663"
         },
         "title": {
          "font": {
           "color": "#4D5663"
          },
          "text": ""
         },
         "zerolinecolor": "#E1E5ED"
        },
        "xaxis6": {
         "anchor": "y6",
         "domain": [
          0.2625,
          0.475
         ],
         "gridcolor": "#E1E5ED",
         "showgrid": false,
         "tickfont": {
          "color": "#4D5663"
         },
         "title": {
          "font": {
           "color": "#4D5663"
          },
          "text": ""
         },
         "zerolinecolor": "#E1E5ED"
        },
        "xaxis7": {
         "anchor": "y7",
         "domain": [
          0.525,
          0.7375
         ],
         "gridcolor": "#E1E5ED",
         "showgrid": false,
         "tickfont": {
          "color": "#4D5663"
         },
         "title": {
          "font": {
           "color": "#4D5663"
          },
          "text": ""
         },
         "zerolinecolor": "#E1E5ED"
        },
        "xaxis8": {
         "anchor": "y8",
         "domain": [
          0.7875,
          1
         ],
         "gridcolor": "#E1E5ED",
         "showgrid": false,
         "tickfont": {
          "color": "#4D5663"
         },
         "title": {
          "font": {
           "color": "#4D5663"
          },
          "text": ""
         },
         "zerolinecolor": "#E1E5ED"
        },
        "xaxis9": {
         "anchor": "y9",
         "domain": [
          0,
          0.2125
         ],
         "gridcolor": "#E1E5ED",
         "showgrid": false,
         "tickfont": {
          "color": "#4D5663"
         },
         "title": {
          "font": {
           "color": "#4D5663"
          },
          "text": ""
         },
         "zerolinecolor": "#E1E5ED"
        },
        "yaxis": {
         "anchor": "x",
         "domain": [
          0.8025,
          1
         ],
         "gridcolor": "#E1E5ED",
         "showgrid": false,
         "tickfont": {
          "color": "#4D5663"
         },
         "title": {
          "font": {
           "color": "#4D5663"
          },
          "text": ""
         },
         "zerolinecolor": "#E1E5ED"
        },
        "yaxis10": {
         "anchor": "x10",
         "domain": [
          0.2675,
          0.465
         ],
         "gridcolor": "#E1E5ED",
         "showgrid": false,
         "tickfont": {
          "color": "#4D5663"
         },
         "title": {
          "font": {
           "color": "#4D5663"
          },
          "text": ""
         },
         "zerolinecolor": "#E1E5ED"
        },
        "yaxis11": {
         "anchor": "x11",
         "domain": [
          0.2675,
          0.465
         ],
         "gridcolor": "#E1E5ED",
         "showgrid": false,
         "tickfont": {
          "color": "#4D5663"
         },
         "title": {
          "font": {
           "color": "#4D5663"
          },
          "text": ""
         },
         "zerolinecolor": "#E1E5ED"
        },
        "yaxis12": {
         "anchor": "x12",
         "domain": [
          0.2675,
          0.465
         ],
         "gridcolor": "#E1E5ED",
         "showgrid": false,
         "tickfont": {
          "color": "#4D5663"
         },
         "title": {
          "font": {
           "color": "#4D5663"
          },
          "text": ""
         },
         "zerolinecolor": "#E1E5ED"
        },
        "yaxis13": {
         "anchor": "x13",
         "domain": [
          0,
          0.1975
         ],
         "gridcolor": "#E1E5ED",
         "showgrid": false,
         "tickfont": {
          "color": "#4D5663"
         },
         "title": {
          "font": {
           "color": "#4D5663"
          },
          "text": ""
         },
         "zerolinecolor": "#E1E5ED"
        },
        "yaxis14": {
         "anchor": "x14",
         "domain": [
          0,
          0.1975
         ],
         "gridcolor": "#E1E5ED",
         "showgrid": false,
         "tickfont": {
          "color": "#4D5663"
         },
         "title": {
          "font": {
           "color": "#4D5663"
          },
          "text": ""
         },
         "zerolinecolor": "#E1E5ED"
        },
        "yaxis15": {
         "anchor": "x15",
         "domain": [
          0,
          0.1975
         ],
         "gridcolor": "#E1E5ED",
         "showgrid": false,
         "tickfont": {
          "color": "#4D5663"
         },
         "title": {
          "font": {
           "color": "#4D5663"
          },
          "text": ""
         },
         "zerolinecolor": "#E1E5ED"
        },
        "yaxis16": {
         "anchor": "x16",
         "domain": [
          0,
          0.1975
         ],
         "gridcolor": "#E1E5ED",
         "showgrid": false,
         "tickfont": {
          "color": "#4D5663"
         },
         "title": {
          "font": {
           "color": "#4D5663"
          },
          "text": ""
         },
         "zerolinecolor": "#E1E5ED"
        },
        "yaxis2": {
         "anchor": "x2",
         "domain": [
          0.8025,
          1
         ],
         "gridcolor": "#E1E5ED",
         "showgrid": false,
         "tickfont": {
          "color": "#4D5663"
         },
         "title": {
          "font": {
           "color": "#4D5663"
          },
          "text": ""
         },
         "zerolinecolor": "#E1E5ED"
        },
        "yaxis3": {
         "anchor": "x3",
         "domain": [
          0.8025,
          1
         ],
         "gridcolor": "#E1E5ED",
         "showgrid": false,
         "tickfont": {
          "color": "#4D5663"
         },
         "title": {
          "font": {
           "color": "#4D5663"
          },
          "text": ""
         },
         "zerolinecolor": "#E1E5ED"
        },
        "yaxis4": {
         "anchor": "x4",
         "domain": [
          0.8025,
          1
         ],
         "gridcolor": "#E1E5ED",
         "showgrid": false,
         "tickfont": {
          "color": "#4D5663"
         },
         "title": {
          "font": {
           "color": "#4D5663"
          },
          "text": ""
         },
         "zerolinecolor": "#E1E5ED"
        },
        "yaxis5": {
         "anchor": "x5",
         "domain": [
          0.535,
          0.7325
         ],
         "gridcolor": "#E1E5ED",
         "showgrid": false,
         "tickfont": {
          "color": "#4D5663"
         },
         "title": {
          "font": {
           "color": "#4D5663"
          },
          "text": ""
         },
         "zerolinecolor": "#E1E5ED"
        },
        "yaxis6": {
         "anchor": "x6",
         "domain": [
          0.535,
          0.7325
         ],
         "gridcolor": "#E1E5ED",
         "showgrid": false,
         "tickfont": {
          "color": "#4D5663"
         },
         "title": {
          "font": {
           "color": "#4D5663"
          },
          "text": ""
         },
         "zerolinecolor": "#E1E5ED"
        },
        "yaxis7": {
         "anchor": "x7",
         "domain": [
          0.535,
          0.7325
         ],
         "gridcolor": "#E1E5ED",
         "showgrid": false,
         "tickfont": {
          "color": "#4D5663"
         },
         "title": {
          "font": {
           "color": "#4D5663"
          },
          "text": ""
         },
         "zerolinecolor": "#E1E5ED"
        },
        "yaxis8": {
         "anchor": "x8",
         "domain": [
          0.535,
          0.7325
         ],
         "gridcolor": "#E1E5ED",
         "showgrid": false,
         "tickfont": {
          "color": "#4D5663"
         },
         "title": {
          "font": {
           "color": "#4D5663"
          },
          "text": ""
         },
         "zerolinecolor": "#E1E5ED"
        },
        "yaxis9": {
         "anchor": "x9",
         "domain": [
          0.2675,
          0.465
         ],
         "gridcolor": "#E1E5ED",
         "showgrid": false,
         "tickfont": {
          "color": "#4D5663"
         },
         "title": {
          "font": {
           "color": "#4D5663"
          },
          "text": ""
         },
         "zerolinecolor": "#E1E5ED"
        }
       }
      },
      "text/html": [
       "<div>                            <div id=\"44909762-c42d-452e-862f-33d82ef6f151\" class=\"plotly-graph-div\" style=\"height:525px; width:100%;\"></div>            <script type=\"text/javascript\">                require([\"plotly\"], function(Plotly) {                    window.PLOTLYENV=window.PLOTLYENV || {};\n",
       "                    window.PLOTLYENV.BASE_URL='https://plot.ly';                                    if (document.getElementById(\"44909762-c42d-452e-862f-33d82ef6f151\")) {                    Plotly.newPlot(                        \"44909762-c42d-452e-862f-33d82ef6f151\",                        [{\"histfunc\": \"count\", \"histnorm\": \"\", \"marker\": {\"color\": \"rgba(255, 153, 51, 1.0)\", \"line\": {\"color\": \"#4D5663\", \"width\": 1.3}}, \"name\": \"A\", \"nbinsx\": 10, \"opacity\": 0.8, \"orientation\": \"v\", \"type\": \"histogram\", \"x\": [2.456864478612622, -2.2527239798611314, -2.2929421848992426, 0.356852081716104, -0.25027565803004814, -0.4352308180980923, -1.7870622081171643, -0.4231246753923552, 0.9739696613755218, 0.3992265559510478, -0.23910651236066105, 0.23931071399692622, 0.09131078371117889, 0.18231030225450318, -1.6770467131592837, 0.6723336270661157, 0.24807428163009063, -0.7626192979780793, -1.485650151616024, -2.068322142166952, -0.816661798988874, -0.4390293659026417, -0.17638692762077884, 1.3693036243446226, -0.8838873911315334, 1.4781184141206263, 1.0204354409755043, 0.6677895888357839, 1.307300361914305, 0.381526666995544, 0.6990207531066948, -0.19170954656039826, -1.6176627483135664, -1.4378015404747206, -0.3089839408391603, -0.7042330548807497, 0.1686533561355506, -0.2719197995344573, 0.5554967812631001, 0.9774118356605086, -0.5675670254061104, 1.8147360416350493, -0.2076775115236604, 1.396211557548168, -0.2196247534199206, 1.257667737581909, 0.09999079328644785, 0.40953832839299614, 0.5181168335779327, -0.6408375541457859, 0.9059451776285394, 0.6233470810053362, -0.4067115357546892, 0.01083130229600319, 0.5789254579976282, 0.04246809985210584, 1.2652109502899274, 0.05171788485414968, -0.678433959764289, -0.6715016710873373, 1.1674003643390756, 0.6963027212152043, -0.6872552716565266, 0.35043630517555296, 1.697039109276328, -0.16517053629799128, 0.23807020983462962, 1.036859207986987, -1.0626416110243735, -0.5436189635055533, -1.0935424145198833, 0.31040749316377236, -0.19753243030570042, -2.7090402836025933, -1.5646909709019092, 0.521645062440777, -0.5002630539043543, -0.2690104841331373, 1.3310061232297976, -1.5183182964218291, 0.48398557607624765, -1.6832106492361594, -0.40954112536213994, 0.4724488127081655, 2.1196763199373585, 0.19754555336208063, -0.9074605490975094, 0.15313865789208797, 1.351762250817329, -0.396385824284584, 1.1476851047106436, 0.5740494843237829, 1.0697578479613916, -0.046560497298113845, -0.2897030805682362, 0.1679496946692134, -1.3517488543120035, 0.4667484204157006, 0.2629850168256431, -0.6432433834067868], \"xaxis\": \"x\", \"yaxis\": \"y\"}, {\"line\": {\"color\": \"rgba(128, 128, 128, 1.0)\", \"dash\": \"solid\", \"shape\": \"linear\", \"width\": 1.3}, \"marker\": {\"size\": 2, \"symbol\": \"circle\"}, \"mode\": \"markers\", \"name\": \"A\", \"text\": \"\", \"type\": \"scatter\", \"x\": [0.7585713004881539, 0.9369508008274443, 2.8786377067420803, -0.9753733963764035, -1.973314268207836, -1.1926729745541216, 1.7788975258488893, -2.739702907163809, 0.7818386057295666, 0.5557853197699847, 1.1308138994045913, -0.03394713504751146, -0.24674661567520484, 0.9048576983121975, -0.06399742714620238, -0.29553159925198297, 1.4480226716018347, -0.9287181429895608, -1.1584119641019608, 0.32889625773459297, 0.007753273055508445, -0.05820317171635984, -0.15155706936588884, 0.19472617657474028, -0.7964170541897511, -0.4322192069305809, -0.9445672117722083, 0.014770905297994949, -0.35176557796450886, 1.0195066876159382, 0.784707646326061, -0.3250669031761666, 0.9277017170808991, 0.7600764488098469, 1.758123577307258, 0.1842424508247556, 0.8128516170296418, 1.0898631416458546, 1.2891007860044672, -0.8697391961812799, -0.45653154226280335, -1.0361046760709498, 0.7559270918670371, -2.061501740649847, 1.4092710565201825, -0.256631908090931, -1.5750591677500945, 0.9245690218077082, -0.9061675814715107, 0.37584618766234756, -1.2415901387761887, 1.1957546846050047, 1.959991039843966, -0.8996322472799549, -1.0475054321530737, -0.6490377881974029, 0.3837783651423651, -0.037591221147904176, 0.3264691997676207, 0.8351240175627819, 1.3407659055312469, 0.7664492600505355, 0.34707865407662625, 0.4374355620108727, 0.4206434136296037, 0.11449523490312948, 0.050628931196152235, 1.7227632992759434, -0.02044643276147327, -0.4372433743237419, -1.6823925218882394, 0.059972603940122146, 1.586091742340369, -0.611607758287968, -0.4515418116623536, 0.6764102158345765, -1.5778251431922758, 0.531490498101667, 0.29467461455975935, -0.4096067239508892, -1.928942981094565, -0.10329196872552136, 0.7700000706766272, 0.4424794882193026, -0.3296786777745359, -1.4801841351888587, 0.39132986150267235, 1.187930182494079, -1.2766734843288627, -0.502946174955512, 0.3430738507677682, 0.39802770458241576, -1.6533098903298877, -0.5168646022711108, 0.38758251120651555, -0.291875675770869, -1.164864245517917, 1.3999539696360548, -1.9115176187985556, 0.4970235858917134], \"xaxis\": \"x2\", \"y\": [2.456864478612622, -2.2527239798611314, -2.2929421848992426, 0.356852081716104, -0.25027565803004814, -0.4352308180980923, -1.7870622081171643, -0.4231246753923552, 0.9739696613755218, 0.3992265559510478, -0.23910651236066105, 0.23931071399692622, 0.09131078371117889, 0.18231030225450318, -1.6770467131592837, 0.6723336270661157, 0.24807428163009063, -0.7626192979780793, -1.485650151616024, -2.068322142166952, -0.816661798988874, -0.4390293659026417, -0.17638692762077884, 1.3693036243446226, -0.8838873911315334, 1.4781184141206263, 1.0204354409755043, 0.6677895888357839, 1.307300361914305, 0.381526666995544, 0.6990207531066948, -0.19170954656039826, -1.6176627483135664, -1.4378015404747206, -0.3089839408391603, -0.7042330548807497, 0.1686533561355506, -0.2719197995344573, 0.5554967812631001, 0.9774118356605086, -0.5675670254061104, 1.8147360416350493, -0.2076775115236604, 1.396211557548168, -0.2196247534199206, 1.257667737581909, 0.09999079328644785, 0.40953832839299614, 0.5181168335779327, -0.6408375541457859, 0.9059451776285394, 0.6233470810053362, -0.4067115357546892, 0.01083130229600319, 0.5789254579976282, 0.04246809985210584, 1.2652109502899274, 0.05171788485414968, -0.678433959764289, -0.6715016710873373, 1.1674003643390756, 0.6963027212152043, -0.6872552716565266, 0.35043630517555296, 1.697039109276328, -0.16517053629799128, 0.23807020983462962, 1.036859207986987, -1.0626416110243735, -0.5436189635055533, -1.0935424145198833, 0.31040749316377236, -0.19753243030570042, -2.7090402836025933, -1.5646909709019092, 0.521645062440777, -0.5002630539043543, -0.2690104841331373, 1.3310061232297976, -1.5183182964218291, 0.48398557607624765, -1.6832106492361594, -0.40954112536213994, 0.4724488127081655, 2.1196763199373585, 0.19754555336208063, -0.9074605490975094, 0.15313865789208797, 1.351762250817329, -0.396385824284584, 1.1476851047106436, 0.5740494843237829, 1.0697578479613916, -0.046560497298113845, -0.2897030805682362, 0.1679496946692134, -1.3517488543120035, 0.4667484204157006, 0.2629850168256431, -0.6432433834067868], \"yaxis\": \"y2\"}, {\"line\": {\"color\": \"rgba(128, 128, 128, 1.0)\", \"dash\": \"solid\", \"shape\": \"linear\", \"width\": 1.3}, \"marker\": {\"size\": 2, \"symbol\": \"circle\"}, \"mode\": \"markers\", \"name\": \"A\", \"text\": \"\", \"type\": \"scatter\", \"x\": [-0.21097545106115867, -1.010385952727178, 1.2749827146362012, -0.015983506020842593, -1.4746786667388705, 0.179830423867175, -1.7462619033123765, 1.0464112123438396, -1.026390859731597, -1.5943918528495928, 0.27066796628353124, 1.684858393324544, -0.8691937549317699, 1.0663471476085131, -0.27768437726852435, 1.4540051135513614, -0.26883009252392337, -0.9033424846816914, -0.9747627063168453, -0.02899475056819844, -2.1091287389590594, -0.8173521305308596, -0.5458075875412067, 0.1408257779445167, 1.0469267961676325, -0.1274706826923543, -0.4135280276220017, -2.504998932310551, -0.31393716699687946, -0.27885332707301097, -0.10489987978738426, -0.311979337731574, 0.8323164989952668, 1.141533340091098, 0.13831170926493636, 0.4082224185595173, -1.215204703217632, -0.9242699464629253, -0.7808708848307961, -0.4087507562011927, 0.5384793601336588, -0.894570347749724, -1.9064362065808225, 0.4457683343762501, 1.4908864825098789, 1.0693654725823765, -0.7275095732282226, -0.8979976610014719, -0.5568820823956494, -3.120217014727852, -1.0643984188092965, 0.481779811826849, -2.1582565399941807, 0.674790921329094, -0.8034916966642305, -0.18546152762405013, 0.3701522485642225, -0.4268835316362451, 0.7190516944973412, 1.4186235615644138, 0.6233755088238365, 0.451150747092287, 0.09196690808838238, 0.17208166858829033, 0.31266042146240636, 0.19012493289956234, -0.6033882671133812, -0.3528222705784352, -1.029664931473673, -1.789717664094481, 1.729908802810119, 1.8872430463151544, 1.3780986797462649, -0.12991924339436525, -2.6283925699063895, -0.45255088777254926, 0.26223069515618097, 0.47620185627593864, -0.8154834212117086, 0.4518383967003741, 1.680930268015079, -0.6185203445333183, 0.3503940349241752, 0.726458825053681, 0.03463182841395179, -0.16540845309937308, 1.4483176986472721, -1.1154223385895445, -0.09404226600003875, -1.9554368262281228, 0.4048604122456422, 0.07250754014594887, 0.14321259166825573, 0.7358098587718248, -1.6902281014428777, 1.1306991593957962, -0.1099648790423635, -0.22666075417092854, 0.049843414740093135, 1.7189847338915771], \"xaxis\": \"x3\", \"y\": [2.456864478612622, -2.2527239798611314, -2.2929421848992426, 0.356852081716104, -0.25027565803004814, -0.4352308180980923, -1.7870622081171643, -0.4231246753923552, 0.9739696613755218, 0.3992265559510478, -0.23910651236066105, 0.23931071399692622, 0.09131078371117889, 0.18231030225450318, -1.6770467131592837, 0.6723336270661157, 0.24807428163009063, -0.7626192979780793, -1.485650151616024, -2.068322142166952, -0.816661798988874, -0.4390293659026417, -0.17638692762077884, 1.3693036243446226, -0.8838873911315334, 1.4781184141206263, 1.0204354409755043, 0.6677895888357839, 1.307300361914305, 0.381526666995544, 0.6990207531066948, -0.19170954656039826, -1.6176627483135664, -1.4378015404747206, -0.3089839408391603, -0.7042330548807497, 0.1686533561355506, -0.2719197995344573, 0.5554967812631001, 0.9774118356605086, -0.5675670254061104, 1.8147360416350493, -0.2076775115236604, 1.396211557548168, -0.2196247534199206, 1.257667737581909, 0.09999079328644785, 0.40953832839299614, 0.5181168335779327, -0.6408375541457859, 0.9059451776285394, 0.6233470810053362, -0.4067115357546892, 0.01083130229600319, 0.5789254579976282, 0.04246809985210584, 1.2652109502899274, 0.05171788485414968, -0.678433959764289, -0.6715016710873373, 1.1674003643390756, 0.6963027212152043, -0.6872552716565266, 0.35043630517555296, 1.697039109276328, -0.16517053629799128, 0.23807020983462962, 1.036859207986987, -1.0626416110243735, -0.5436189635055533, -1.0935424145198833, 0.31040749316377236, -0.19753243030570042, -2.7090402836025933, -1.5646909709019092, 0.521645062440777, -0.5002630539043543, -0.2690104841331373, 1.3310061232297976, -1.5183182964218291, 0.48398557607624765, -1.6832106492361594, -0.40954112536213994, 0.4724488127081655, 2.1196763199373585, 0.19754555336208063, -0.9074605490975094, 0.15313865789208797, 1.351762250817329, -0.396385824284584, 1.1476851047106436, 0.5740494843237829, 1.0697578479613916, -0.046560497298113845, -0.2897030805682362, 0.1679496946692134, -1.3517488543120035, 0.4667484204157006, 0.2629850168256431, -0.6432433834067868], \"yaxis\": \"y3\"}, {\"line\": {\"color\": \"rgba(128, 128, 128, 1.0)\", \"dash\": \"solid\", \"shape\": \"linear\", \"width\": 1.3}, \"marker\": {\"size\": 2, \"symbol\": \"circle\"}, \"mode\": \"markers\", \"name\": \"A\", \"text\": \"\", \"type\": \"scatter\", \"x\": [1.4117582400459063, 0.5158806040582149, -0.056329725916821824, 3.0331176288045154, 2.251571432677742, -0.7244537895757376, 1.2757216021545035, 0.5245256765181753, -2.167648381947332, -0.4696805838248369, -0.7485430338440984, 1.5433238587038358, -1.1301871150538845, -0.8509439519643706, 0.9802881962901107, 0.5573549233360873, 1.3924631528411737, -0.292843525425006, -0.28957625229621475, -1.2848236294066253, 1.2280302498116678, -1.8612347534410665, -0.7879333821927236, -1.1291458198297768, 0.9209652308913361, 0.26972013558638086, -1.4698105580627052, 0.5186966764631051, -0.25514350367859234, 0.664752381529209, 0.3096208618182506, -0.5039365347815075, -0.4089033909019008, 1.2941177250485878, 0.6166150565287175, -1.1472542509270691, 0.2505258246975447, -0.7584439760541246, -0.23747358583319064, -1.595523305990587, -0.3418769665943945, 0.2818531578350275, -0.5555095528498177, 0.3239429982070741, -0.7258768991770973, -0.9261661539974302, 0.5611160523629165, -1.3792408529525848, -2.825545670103279, 0.27493797297484407, -0.5321004469147166, -0.6143052576424726, -2.0180202882435245, -1.3954363627502746, -0.8759893988017698, 0.37356556439978833, 0.7160956305449683, 0.06937507216314834, -0.6552479976721832, 0.43343928702505524, 0.2455584618258172, 0.42126667865391876, 1.1619913270267297, -0.8032146674707702, -0.5890226399059743, 0.6458359767000308, 0.4360332745112395, 0.599788673353237, -0.722948223582799, -1.030606401238794, 1.9700941532056162, 0.7791070160905508, -0.6959015496296476, -0.3825212064430439, -0.059171058813391623, -1.9504072192912345, 1.778253100110659, 1.1330032162375292, -0.3703874521409308, 1.4917910877624783, -0.39446169568001704, 1.3224359705441946, 0.9956777417992919, 1.2675161076205903, -1.3566847734767353, 0.40309061690454584, -1.0419272570013405, 0.23569775255301098, -0.02792794107762883, -0.9036568645096051, -0.7357079424723857, -0.36096085535421085, 2.053305244643362, -1.1928816331796919, 2.198658821091295, -1.0327304619564042, -0.8835906856693826, 0.03346181036648316, -2.025627489159471, -0.4081320108627518], \"xaxis\": \"x4\", \"y\": [2.456864478612622, -2.2527239798611314, -2.2929421848992426, 0.356852081716104, -0.25027565803004814, -0.4352308180980923, -1.7870622081171643, -0.4231246753923552, 0.9739696613755218, 0.3992265559510478, -0.23910651236066105, 0.23931071399692622, 0.09131078371117889, 0.18231030225450318, -1.6770467131592837, 0.6723336270661157, 0.24807428163009063, -0.7626192979780793, -1.485650151616024, -2.068322142166952, -0.816661798988874, -0.4390293659026417, -0.17638692762077884, 1.3693036243446226, -0.8838873911315334, 1.4781184141206263, 1.0204354409755043, 0.6677895888357839, 1.307300361914305, 0.381526666995544, 0.6990207531066948, -0.19170954656039826, -1.6176627483135664, -1.4378015404747206, -0.3089839408391603, -0.7042330548807497, 0.1686533561355506, -0.2719197995344573, 0.5554967812631001, 0.9774118356605086, -0.5675670254061104, 1.8147360416350493, -0.2076775115236604, 1.396211557548168, -0.2196247534199206, 1.257667737581909, 0.09999079328644785, 0.40953832839299614, 0.5181168335779327, -0.6408375541457859, 0.9059451776285394, 0.6233470810053362, -0.4067115357546892, 0.01083130229600319, 0.5789254579976282, 0.04246809985210584, 1.2652109502899274, 0.05171788485414968, -0.678433959764289, -0.6715016710873373, 1.1674003643390756, 0.6963027212152043, -0.6872552716565266, 0.35043630517555296, 1.697039109276328, -0.16517053629799128, 0.23807020983462962, 1.036859207986987, -1.0626416110243735, -0.5436189635055533, -1.0935424145198833, 0.31040749316377236, -0.19753243030570042, -2.7090402836025933, -1.5646909709019092, 0.521645062440777, -0.5002630539043543, -0.2690104841331373, 1.3310061232297976, -1.5183182964218291, 0.48398557607624765, -1.6832106492361594, -0.40954112536213994, 0.4724488127081655, 2.1196763199373585, 0.19754555336208063, -0.9074605490975094, 0.15313865789208797, 1.351762250817329, -0.396385824284584, 1.1476851047106436, 0.5740494843237829, 1.0697578479613916, -0.046560497298113845, -0.2897030805682362, 0.1679496946692134, -1.3517488543120035, 0.4667484204157006, 0.2629850168256431, -0.6432433834067868], \"yaxis\": \"y4\"}, {\"line\": {\"color\": \"rgba(128, 128, 128, 1.0)\", \"dash\": \"solid\", \"shape\": \"linear\", \"width\": 1.3}, \"marker\": {\"size\": 2, \"symbol\": \"circle\"}, \"mode\": \"markers\", \"name\": \"B\", \"text\": \"\", \"type\": \"scatter\", \"x\": [2.456864478612622, -2.2527239798611314, -2.2929421848992426, 0.356852081716104, -0.25027565803004814, -0.4352308180980923, -1.7870622081171643, -0.4231246753923552, 0.9739696613755218, 0.3992265559510478, -0.23910651236066105, 0.23931071399692622, 0.09131078371117889, 0.18231030225450318, -1.6770467131592837, 0.6723336270661157, 0.24807428163009063, -0.7626192979780793, -1.485650151616024, -2.068322142166952, -0.816661798988874, -0.4390293659026417, -0.17638692762077884, 1.3693036243446226, -0.8838873911315334, 1.4781184141206263, 1.0204354409755043, 0.6677895888357839, 1.307300361914305, 0.381526666995544, 0.6990207531066948, -0.19170954656039826, -1.6176627483135664, -1.4378015404747206, -0.3089839408391603, -0.7042330548807497, 0.1686533561355506, -0.2719197995344573, 0.5554967812631001, 0.9774118356605086, -0.5675670254061104, 1.8147360416350493, -0.2076775115236604, 1.396211557548168, -0.2196247534199206, 1.257667737581909, 0.09999079328644785, 0.40953832839299614, 0.5181168335779327, -0.6408375541457859, 0.9059451776285394, 0.6233470810053362, -0.4067115357546892, 0.01083130229600319, 0.5789254579976282, 0.04246809985210584, 1.2652109502899274, 0.05171788485414968, -0.678433959764289, -0.6715016710873373, 1.1674003643390756, 0.6963027212152043, -0.6872552716565266, 0.35043630517555296, 1.697039109276328, -0.16517053629799128, 0.23807020983462962, 1.036859207986987, -1.0626416110243735, -0.5436189635055533, -1.0935424145198833, 0.31040749316377236, -0.19753243030570042, -2.7090402836025933, -1.5646909709019092, 0.521645062440777, -0.5002630539043543, -0.2690104841331373, 1.3310061232297976, -1.5183182964218291, 0.48398557607624765, -1.6832106492361594, -0.40954112536213994, 0.4724488127081655, 2.1196763199373585, 0.19754555336208063, -0.9074605490975094, 0.15313865789208797, 1.351762250817329, -0.396385824284584, 1.1476851047106436, 0.5740494843237829, 1.0697578479613916, -0.046560497298113845, -0.2897030805682362, 0.1679496946692134, -1.3517488543120035, 0.4667484204157006, 0.2629850168256431, -0.6432433834067868], \"xaxis\": \"x5\", \"y\": [0.7585713004881539, 0.9369508008274443, 2.8786377067420803, -0.9753733963764035, -1.973314268207836, -1.1926729745541216, 1.7788975258488893, -2.739702907163809, 0.7818386057295666, 0.5557853197699847, 1.1308138994045913, -0.03394713504751146, -0.24674661567520484, 0.9048576983121975, -0.06399742714620238, -0.29553159925198297, 1.4480226716018347, -0.9287181429895608, -1.1584119641019608, 0.32889625773459297, 0.007753273055508445, -0.05820317171635984, -0.15155706936588884, 0.19472617657474028, -0.7964170541897511, -0.4322192069305809, -0.9445672117722083, 0.014770905297994949, -0.35176557796450886, 1.0195066876159382, 0.784707646326061, -0.3250669031761666, 0.9277017170808991, 0.7600764488098469, 1.758123577307258, 0.1842424508247556, 0.8128516170296418, 1.0898631416458546, 1.2891007860044672, -0.8697391961812799, -0.45653154226280335, -1.0361046760709498, 0.7559270918670371, -2.061501740649847, 1.4092710565201825, -0.256631908090931, -1.5750591677500945, 0.9245690218077082, -0.9061675814715107, 0.37584618766234756, -1.2415901387761887, 1.1957546846050047, 1.959991039843966, -0.8996322472799549, -1.0475054321530737, -0.6490377881974029, 0.3837783651423651, -0.037591221147904176, 0.3264691997676207, 0.8351240175627819, 1.3407659055312469, 0.7664492600505355, 0.34707865407662625, 0.4374355620108727, 0.4206434136296037, 0.11449523490312948, 0.050628931196152235, 1.7227632992759434, -0.02044643276147327, -0.4372433743237419, -1.6823925218882394, 0.059972603940122146, 1.586091742340369, -0.611607758287968, -0.4515418116623536, 0.6764102158345765, -1.5778251431922758, 0.531490498101667, 0.29467461455975935, -0.4096067239508892, -1.928942981094565, -0.10329196872552136, 0.7700000706766272, 0.4424794882193026, -0.3296786777745359, -1.4801841351888587, 0.39132986150267235, 1.187930182494079, -1.2766734843288627, -0.502946174955512, 0.3430738507677682, 0.39802770458241576, -1.6533098903298877, -0.5168646022711108, 0.38758251120651555, -0.291875675770869, -1.164864245517917, 1.3999539696360548, -1.9115176187985556, 0.4970235858917134], \"yaxis\": \"y5\"}, {\"histfunc\": \"count\", \"histnorm\": \"\", \"marker\": {\"color\": \"rgba(55, 128, 191, 1.0)\", \"line\": {\"color\": \"#4D5663\", \"width\": 1.3}}, \"name\": \"B\", \"nbinsx\": 10, \"opacity\": 0.8, \"orientation\": \"v\", \"type\": \"histogram\", \"x\": [0.7585713004881539, 0.9369508008274443, 2.8786377067420803, -0.9753733963764035, -1.973314268207836, -1.1926729745541216, 1.7788975258488893, -2.739702907163809, 0.7818386057295666, 0.5557853197699847, 1.1308138994045913, -0.03394713504751146, -0.24674661567520484, 0.9048576983121975, -0.06399742714620238, -0.29553159925198297, 1.4480226716018347, -0.9287181429895608, -1.1584119641019608, 0.32889625773459297, 0.007753273055508445, -0.05820317171635984, -0.15155706936588884, 0.19472617657474028, -0.7964170541897511, -0.4322192069305809, -0.9445672117722083, 0.014770905297994949, -0.35176557796450886, 1.0195066876159382, 0.784707646326061, -0.3250669031761666, 0.9277017170808991, 0.7600764488098469, 1.758123577307258, 0.1842424508247556, 0.8128516170296418, 1.0898631416458546, 1.2891007860044672, -0.8697391961812799, -0.45653154226280335, -1.0361046760709498, 0.7559270918670371, -2.061501740649847, 1.4092710565201825, -0.256631908090931, -1.5750591677500945, 0.9245690218077082, -0.9061675814715107, 0.37584618766234756, -1.2415901387761887, 1.1957546846050047, 1.959991039843966, -0.8996322472799549, -1.0475054321530737, -0.6490377881974029, 0.3837783651423651, -0.037591221147904176, 0.3264691997676207, 0.8351240175627819, 1.3407659055312469, 0.7664492600505355, 0.34707865407662625, 0.4374355620108727, 0.4206434136296037, 0.11449523490312948, 0.050628931196152235, 1.7227632992759434, -0.02044643276147327, -0.4372433743237419, -1.6823925218882394, 0.059972603940122146, 1.586091742340369, -0.611607758287968, -0.4515418116623536, 0.6764102158345765, -1.5778251431922758, 0.531490498101667, 0.29467461455975935, -0.4096067239508892, -1.928942981094565, -0.10329196872552136, 0.7700000706766272, 0.4424794882193026, -0.3296786777745359, -1.4801841351888587, 0.39132986150267235, 1.187930182494079, -1.2766734843288627, -0.502946174955512, 0.3430738507677682, 0.39802770458241576, -1.6533098903298877, -0.5168646022711108, 0.38758251120651555, -0.291875675770869, -1.164864245517917, 1.3999539696360548, -1.9115176187985556, 0.4970235858917134], \"xaxis\": \"x6\", \"yaxis\": \"y6\"}, {\"line\": {\"color\": \"rgba(128, 128, 128, 1.0)\", \"dash\": \"solid\", \"shape\": \"linear\", \"width\": 1.3}, \"marker\": {\"size\": 2, \"symbol\": \"circle\"}, \"mode\": \"markers\", \"name\": \"B\", \"text\": \"\", \"type\": \"scatter\", \"x\": [-0.21097545106115867, -1.010385952727178, 1.2749827146362012, -0.015983506020842593, -1.4746786667388705, 0.179830423867175, -1.7462619033123765, 1.0464112123438396, -1.026390859731597, -1.5943918528495928, 0.27066796628353124, 1.684858393324544, -0.8691937549317699, 1.0663471476085131, -0.27768437726852435, 1.4540051135513614, -0.26883009252392337, -0.9033424846816914, -0.9747627063168453, -0.02899475056819844, -2.1091287389590594, -0.8173521305308596, -0.5458075875412067, 0.1408257779445167, 1.0469267961676325, -0.1274706826923543, -0.4135280276220017, -2.504998932310551, -0.31393716699687946, -0.27885332707301097, -0.10489987978738426, -0.311979337731574, 0.8323164989952668, 1.141533340091098, 0.13831170926493636, 0.4082224185595173, -1.215204703217632, -0.9242699464629253, -0.7808708848307961, -0.4087507562011927, 0.5384793601336588, -0.894570347749724, -1.9064362065808225, 0.4457683343762501, 1.4908864825098789, 1.0693654725823765, -0.7275095732282226, -0.8979976610014719, -0.5568820823956494, -3.120217014727852, -1.0643984188092965, 0.481779811826849, -2.1582565399941807, 0.674790921329094, -0.8034916966642305, -0.18546152762405013, 0.3701522485642225, -0.4268835316362451, 0.7190516944973412, 1.4186235615644138, 0.6233755088238365, 0.451150747092287, 0.09196690808838238, 0.17208166858829033, 0.31266042146240636, 0.19012493289956234, -0.6033882671133812, -0.3528222705784352, -1.029664931473673, -1.789717664094481, 1.729908802810119, 1.8872430463151544, 1.3780986797462649, -0.12991924339436525, -2.6283925699063895, -0.45255088777254926, 0.26223069515618097, 0.47620185627593864, -0.8154834212117086, 0.4518383967003741, 1.680930268015079, -0.6185203445333183, 0.3503940349241752, 0.726458825053681, 0.03463182841395179, -0.16540845309937308, 1.4483176986472721, -1.1154223385895445, -0.09404226600003875, -1.9554368262281228, 0.4048604122456422, 0.07250754014594887, 0.14321259166825573, 0.7358098587718248, -1.6902281014428777, 1.1306991593957962, -0.1099648790423635, -0.22666075417092854, 0.049843414740093135, 1.7189847338915771], \"xaxis\": \"x7\", \"y\": [0.7585713004881539, 0.9369508008274443, 2.8786377067420803, -0.9753733963764035, -1.973314268207836, -1.1926729745541216, 1.7788975258488893, -2.739702907163809, 0.7818386057295666, 0.5557853197699847, 1.1308138994045913, -0.03394713504751146, -0.24674661567520484, 0.9048576983121975, -0.06399742714620238, -0.29553159925198297, 1.4480226716018347, -0.9287181429895608, -1.1584119641019608, 0.32889625773459297, 0.007753273055508445, -0.05820317171635984, -0.15155706936588884, 0.19472617657474028, -0.7964170541897511, -0.4322192069305809, -0.9445672117722083, 0.014770905297994949, -0.35176557796450886, 1.0195066876159382, 0.784707646326061, -0.3250669031761666, 0.9277017170808991, 0.7600764488098469, 1.758123577307258, 0.1842424508247556, 0.8128516170296418, 1.0898631416458546, 1.2891007860044672, -0.8697391961812799, -0.45653154226280335, -1.0361046760709498, 0.7559270918670371, -2.061501740649847, 1.4092710565201825, -0.256631908090931, -1.5750591677500945, 0.9245690218077082, -0.9061675814715107, 0.37584618766234756, -1.2415901387761887, 1.1957546846050047, 1.959991039843966, -0.8996322472799549, -1.0475054321530737, -0.6490377881974029, 0.3837783651423651, -0.037591221147904176, 0.3264691997676207, 0.8351240175627819, 1.3407659055312469, 0.7664492600505355, 0.34707865407662625, 0.4374355620108727, 0.4206434136296037, 0.11449523490312948, 0.050628931196152235, 1.7227632992759434, -0.02044643276147327, -0.4372433743237419, -1.6823925218882394, 0.059972603940122146, 1.586091742340369, -0.611607758287968, -0.4515418116623536, 0.6764102158345765, -1.5778251431922758, 0.531490498101667, 0.29467461455975935, -0.4096067239508892, -1.928942981094565, -0.10329196872552136, 0.7700000706766272, 0.4424794882193026, -0.3296786777745359, -1.4801841351888587, 0.39132986150267235, 1.187930182494079, -1.2766734843288627, -0.502946174955512, 0.3430738507677682, 0.39802770458241576, -1.6533098903298877, -0.5168646022711108, 0.38758251120651555, -0.291875675770869, -1.164864245517917, 1.3999539696360548, -1.9115176187985556, 0.4970235858917134], \"yaxis\": \"y7\"}, {\"line\": {\"color\": \"rgba(128, 128, 128, 1.0)\", \"dash\": \"solid\", \"shape\": \"linear\", \"width\": 1.3}, \"marker\": {\"size\": 2, \"symbol\": \"circle\"}, \"mode\": \"markers\", \"name\": \"B\", \"text\": \"\", \"type\": \"scatter\", \"x\": [1.4117582400459063, 0.5158806040582149, -0.056329725916821824, 3.0331176288045154, 2.251571432677742, -0.7244537895757376, 1.2757216021545035, 0.5245256765181753, -2.167648381947332, -0.4696805838248369, -0.7485430338440984, 1.5433238587038358, -1.1301871150538845, -0.8509439519643706, 0.9802881962901107, 0.5573549233360873, 1.3924631528411737, -0.292843525425006, -0.28957625229621475, -1.2848236294066253, 1.2280302498116678, -1.8612347534410665, -0.7879333821927236, -1.1291458198297768, 0.9209652308913361, 0.26972013558638086, -1.4698105580627052, 0.5186966764631051, -0.25514350367859234, 0.664752381529209, 0.3096208618182506, -0.5039365347815075, -0.4089033909019008, 1.2941177250485878, 0.6166150565287175, -1.1472542509270691, 0.2505258246975447, -0.7584439760541246, -0.23747358583319064, -1.595523305990587, -0.3418769665943945, 0.2818531578350275, -0.5555095528498177, 0.3239429982070741, -0.7258768991770973, -0.9261661539974302, 0.5611160523629165, -1.3792408529525848, -2.825545670103279, 0.27493797297484407, -0.5321004469147166, -0.6143052576424726, -2.0180202882435245, -1.3954363627502746, -0.8759893988017698, 0.37356556439978833, 0.7160956305449683, 0.06937507216314834, -0.6552479976721832, 0.43343928702505524, 0.2455584618258172, 0.42126667865391876, 1.1619913270267297, -0.8032146674707702, -0.5890226399059743, 0.6458359767000308, 0.4360332745112395, 0.599788673353237, -0.722948223582799, -1.030606401238794, 1.9700941532056162, 0.7791070160905508, -0.6959015496296476, -0.3825212064430439, -0.059171058813391623, -1.9504072192912345, 1.778253100110659, 1.1330032162375292, -0.3703874521409308, 1.4917910877624783, -0.39446169568001704, 1.3224359705441946, 0.9956777417992919, 1.2675161076205903, -1.3566847734767353, 0.40309061690454584, -1.0419272570013405, 0.23569775255301098, -0.02792794107762883, -0.9036568645096051, -0.7357079424723857, -0.36096085535421085, 2.053305244643362, -1.1928816331796919, 2.198658821091295, -1.0327304619564042, -0.8835906856693826, 0.03346181036648316, -2.025627489159471, -0.4081320108627518], \"xaxis\": \"x8\", \"y\": [0.7585713004881539, 0.9369508008274443, 2.8786377067420803, -0.9753733963764035, -1.973314268207836, -1.1926729745541216, 1.7788975258488893, -2.739702907163809, 0.7818386057295666, 0.5557853197699847, 1.1308138994045913, -0.03394713504751146, -0.24674661567520484, 0.9048576983121975, -0.06399742714620238, -0.29553159925198297, 1.4480226716018347, -0.9287181429895608, -1.1584119641019608, 0.32889625773459297, 0.007753273055508445, -0.05820317171635984, -0.15155706936588884, 0.19472617657474028, -0.7964170541897511, -0.4322192069305809, -0.9445672117722083, 0.014770905297994949, -0.35176557796450886, 1.0195066876159382, 0.784707646326061, -0.3250669031761666, 0.9277017170808991, 0.7600764488098469, 1.758123577307258, 0.1842424508247556, 0.8128516170296418, 1.0898631416458546, 1.2891007860044672, -0.8697391961812799, -0.45653154226280335, -1.0361046760709498, 0.7559270918670371, -2.061501740649847, 1.4092710565201825, -0.256631908090931, -1.5750591677500945, 0.9245690218077082, -0.9061675814715107, 0.37584618766234756, -1.2415901387761887, 1.1957546846050047, 1.959991039843966, -0.8996322472799549, -1.0475054321530737, -0.6490377881974029, 0.3837783651423651, -0.037591221147904176, 0.3264691997676207, 0.8351240175627819, 1.3407659055312469, 0.7664492600505355, 0.34707865407662625, 0.4374355620108727, 0.4206434136296037, 0.11449523490312948, 0.050628931196152235, 1.7227632992759434, -0.02044643276147327, -0.4372433743237419, -1.6823925218882394, 0.059972603940122146, 1.586091742340369, -0.611607758287968, -0.4515418116623536, 0.6764102158345765, -1.5778251431922758, 0.531490498101667, 0.29467461455975935, -0.4096067239508892, -1.928942981094565, -0.10329196872552136, 0.7700000706766272, 0.4424794882193026, -0.3296786777745359, -1.4801841351888587, 0.39132986150267235, 1.187930182494079, -1.2766734843288627, -0.502946174955512, 0.3430738507677682, 0.39802770458241576, -1.6533098903298877, -0.5168646022711108, 0.38758251120651555, -0.291875675770869, -1.164864245517917, 1.3999539696360548, -1.9115176187985556, 0.4970235858917134], \"yaxis\": \"y8\"}, {\"line\": {\"color\": \"rgba(128, 128, 128, 1.0)\", \"dash\": \"solid\", \"shape\": \"linear\", \"width\": 1.3}, \"marker\": {\"size\": 2, \"symbol\": \"circle\"}, \"mode\": \"markers\", \"name\": \"C\", \"text\": \"\", \"type\": \"scatter\", \"x\": [2.456864478612622, -2.2527239798611314, -2.2929421848992426, 0.356852081716104, -0.25027565803004814, -0.4352308180980923, -1.7870622081171643, -0.4231246753923552, 0.9739696613755218, 0.3992265559510478, -0.23910651236066105, 0.23931071399692622, 0.09131078371117889, 0.18231030225450318, -1.6770467131592837, 0.6723336270661157, 0.24807428163009063, -0.7626192979780793, -1.485650151616024, -2.068322142166952, -0.816661798988874, -0.4390293659026417, -0.17638692762077884, 1.3693036243446226, -0.8838873911315334, 1.4781184141206263, 1.0204354409755043, 0.6677895888357839, 1.307300361914305, 0.381526666995544, 0.6990207531066948, -0.19170954656039826, -1.6176627483135664, -1.4378015404747206, -0.3089839408391603, -0.7042330548807497, 0.1686533561355506, -0.2719197995344573, 0.5554967812631001, 0.9774118356605086, -0.5675670254061104, 1.8147360416350493, -0.2076775115236604, 1.396211557548168, -0.2196247534199206, 1.257667737581909, 0.09999079328644785, 0.40953832839299614, 0.5181168335779327, -0.6408375541457859, 0.9059451776285394, 0.6233470810053362, -0.4067115357546892, 0.01083130229600319, 0.5789254579976282, 0.04246809985210584, 1.2652109502899274, 0.05171788485414968, -0.678433959764289, -0.6715016710873373, 1.1674003643390756, 0.6963027212152043, -0.6872552716565266, 0.35043630517555296, 1.697039109276328, -0.16517053629799128, 0.23807020983462962, 1.036859207986987, -1.0626416110243735, -0.5436189635055533, -1.0935424145198833, 0.31040749316377236, -0.19753243030570042, -2.7090402836025933, -1.5646909709019092, 0.521645062440777, -0.5002630539043543, -0.2690104841331373, 1.3310061232297976, -1.5183182964218291, 0.48398557607624765, -1.6832106492361594, -0.40954112536213994, 0.4724488127081655, 2.1196763199373585, 0.19754555336208063, -0.9074605490975094, 0.15313865789208797, 1.351762250817329, -0.396385824284584, 1.1476851047106436, 0.5740494843237829, 1.0697578479613916, -0.046560497298113845, -0.2897030805682362, 0.1679496946692134, -1.3517488543120035, 0.4667484204157006, 0.2629850168256431, -0.6432433834067868], \"xaxis\": \"x9\", \"y\": [-0.21097545106115867, -1.010385952727178, 1.2749827146362012, -0.015983506020842593, -1.4746786667388705, 0.179830423867175, -1.7462619033123765, 1.0464112123438396, -1.026390859731597, -1.5943918528495928, 0.27066796628353124, 1.684858393324544, -0.8691937549317699, 1.0663471476085131, -0.27768437726852435, 1.4540051135513614, -0.26883009252392337, -0.9033424846816914, -0.9747627063168453, -0.02899475056819844, -2.1091287389590594, -0.8173521305308596, -0.5458075875412067, 0.1408257779445167, 1.0469267961676325, -0.1274706826923543, -0.4135280276220017, -2.504998932310551, -0.31393716699687946, -0.27885332707301097, -0.10489987978738426, -0.311979337731574, 0.8323164989952668, 1.141533340091098, 0.13831170926493636, 0.4082224185595173, -1.215204703217632, -0.9242699464629253, -0.7808708848307961, -0.4087507562011927, 0.5384793601336588, -0.894570347749724, -1.9064362065808225, 0.4457683343762501, 1.4908864825098789, 1.0693654725823765, -0.7275095732282226, -0.8979976610014719, -0.5568820823956494, -3.120217014727852, -1.0643984188092965, 0.481779811826849, -2.1582565399941807, 0.674790921329094, -0.8034916966642305, -0.18546152762405013, 0.3701522485642225, -0.4268835316362451, 0.7190516944973412, 1.4186235615644138, 0.6233755088238365, 0.451150747092287, 0.09196690808838238, 0.17208166858829033, 0.31266042146240636, 0.19012493289956234, -0.6033882671133812, -0.3528222705784352, -1.029664931473673, -1.789717664094481, 1.729908802810119, 1.8872430463151544, 1.3780986797462649, -0.12991924339436525, -2.6283925699063895, -0.45255088777254926, 0.26223069515618097, 0.47620185627593864, -0.8154834212117086, 0.4518383967003741, 1.680930268015079, -0.6185203445333183, 0.3503940349241752, 0.726458825053681, 0.03463182841395179, -0.16540845309937308, 1.4483176986472721, -1.1154223385895445, -0.09404226600003875, -1.9554368262281228, 0.4048604122456422, 0.07250754014594887, 0.14321259166825573, 0.7358098587718248, -1.6902281014428777, 1.1306991593957962, -0.1099648790423635, -0.22666075417092854, 0.049843414740093135, 1.7189847338915771], \"yaxis\": \"y9\"}, {\"line\": {\"color\": \"rgba(128, 128, 128, 1.0)\", \"dash\": \"solid\", \"shape\": \"linear\", \"width\": 1.3}, \"marker\": {\"size\": 2, \"symbol\": \"circle\"}, \"mode\": \"markers\", \"name\": \"C\", \"text\": \"\", \"type\": \"scatter\", \"x\": [0.7585713004881539, 0.9369508008274443, 2.8786377067420803, -0.9753733963764035, -1.973314268207836, -1.1926729745541216, 1.7788975258488893, -2.739702907163809, 0.7818386057295666, 0.5557853197699847, 1.1308138994045913, -0.03394713504751146, -0.24674661567520484, 0.9048576983121975, -0.06399742714620238, -0.29553159925198297, 1.4480226716018347, -0.9287181429895608, -1.1584119641019608, 0.32889625773459297, 0.007753273055508445, -0.05820317171635984, -0.15155706936588884, 0.19472617657474028, -0.7964170541897511, -0.4322192069305809, -0.9445672117722083, 0.014770905297994949, -0.35176557796450886, 1.0195066876159382, 0.784707646326061, -0.3250669031761666, 0.9277017170808991, 0.7600764488098469, 1.758123577307258, 0.1842424508247556, 0.8128516170296418, 1.0898631416458546, 1.2891007860044672, -0.8697391961812799, -0.45653154226280335, -1.0361046760709498, 0.7559270918670371, -2.061501740649847, 1.4092710565201825, -0.256631908090931, -1.5750591677500945, 0.9245690218077082, -0.9061675814715107, 0.37584618766234756, -1.2415901387761887, 1.1957546846050047, 1.959991039843966, -0.8996322472799549, -1.0475054321530737, -0.6490377881974029, 0.3837783651423651, -0.037591221147904176, 0.3264691997676207, 0.8351240175627819, 1.3407659055312469, 0.7664492600505355, 0.34707865407662625, 0.4374355620108727, 0.4206434136296037, 0.11449523490312948, 0.050628931196152235, 1.7227632992759434, -0.02044643276147327, -0.4372433743237419, -1.6823925218882394, 0.059972603940122146, 1.586091742340369, -0.611607758287968, -0.4515418116623536, 0.6764102158345765, -1.5778251431922758, 0.531490498101667, 0.29467461455975935, -0.4096067239508892, -1.928942981094565, -0.10329196872552136, 0.7700000706766272, 0.4424794882193026, -0.3296786777745359, -1.4801841351888587, 0.39132986150267235, 1.187930182494079, -1.2766734843288627, -0.502946174955512, 0.3430738507677682, 0.39802770458241576, -1.6533098903298877, -0.5168646022711108, 0.38758251120651555, -0.291875675770869, -1.164864245517917, 1.3999539696360548, -1.9115176187985556, 0.4970235858917134], \"xaxis\": \"x10\", \"y\": [-0.21097545106115867, -1.010385952727178, 1.2749827146362012, -0.015983506020842593, -1.4746786667388705, 0.179830423867175, -1.7462619033123765, 1.0464112123438396, -1.026390859731597, -1.5943918528495928, 0.27066796628353124, 1.684858393324544, -0.8691937549317699, 1.0663471476085131, -0.27768437726852435, 1.4540051135513614, -0.26883009252392337, -0.9033424846816914, -0.9747627063168453, -0.02899475056819844, -2.1091287389590594, -0.8173521305308596, -0.5458075875412067, 0.1408257779445167, 1.0469267961676325, -0.1274706826923543, -0.4135280276220017, -2.504998932310551, -0.31393716699687946, -0.27885332707301097, -0.10489987978738426, -0.311979337731574, 0.8323164989952668, 1.141533340091098, 0.13831170926493636, 0.4082224185595173, -1.215204703217632, -0.9242699464629253, -0.7808708848307961, -0.4087507562011927, 0.5384793601336588, -0.894570347749724, -1.9064362065808225, 0.4457683343762501, 1.4908864825098789, 1.0693654725823765, -0.7275095732282226, -0.8979976610014719, -0.5568820823956494, -3.120217014727852, -1.0643984188092965, 0.481779811826849, -2.1582565399941807, 0.674790921329094, -0.8034916966642305, -0.18546152762405013, 0.3701522485642225, -0.4268835316362451, 0.7190516944973412, 1.4186235615644138, 0.6233755088238365, 0.451150747092287, 0.09196690808838238, 0.17208166858829033, 0.31266042146240636, 0.19012493289956234, -0.6033882671133812, -0.3528222705784352, -1.029664931473673, -1.789717664094481, 1.729908802810119, 1.8872430463151544, 1.3780986797462649, -0.12991924339436525, -2.6283925699063895, -0.45255088777254926, 0.26223069515618097, 0.47620185627593864, -0.8154834212117086, 0.4518383967003741, 1.680930268015079, -0.6185203445333183, 0.3503940349241752, 0.726458825053681, 0.03463182841395179, -0.16540845309937308, 1.4483176986472721, -1.1154223385895445, -0.09404226600003875, -1.9554368262281228, 0.4048604122456422, 0.07250754014594887, 0.14321259166825573, 0.7358098587718248, -1.6902281014428777, 1.1306991593957962, -0.1099648790423635, -0.22666075417092854, 0.049843414740093135, 1.7189847338915771], \"yaxis\": \"y10\"}, {\"histfunc\": \"count\", \"histnorm\": \"\", \"marker\": {\"color\": \"rgba(50, 171, 96, 1.0)\", \"line\": {\"color\": \"#4D5663\", \"width\": 1.3}}, \"name\": \"C\", \"nbinsx\": 10, \"opacity\": 0.8, \"orientation\": \"v\", \"type\": \"histogram\", \"x\": [-0.21097545106115867, -1.010385952727178, 1.2749827146362012, -0.015983506020842593, -1.4746786667388705, 0.179830423867175, -1.7462619033123765, 1.0464112123438396, -1.026390859731597, -1.5943918528495928, 0.27066796628353124, 1.684858393324544, -0.8691937549317699, 1.0663471476085131, -0.27768437726852435, 1.4540051135513614, -0.26883009252392337, -0.9033424846816914, -0.9747627063168453, -0.02899475056819844, -2.1091287389590594, -0.8173521305308596, -0.5458075875412067, 0.1408257779445167, 1.0469267961676325, -0.1274706826923543, -0.4135280276220017, -2.504998932310551, -0.31393716699687946, -0.27885332707301097, -0.10489987978738426, -0.311979337731574, 0.8323164989952668, 1.141533340091098, 0.13831170926493636, 0.4082224185595173, -1.215204703217632, -0.9242699464629253, -0.7808708848307961, -0.4087507562011927, 0.5384793601336588, -0.894570347749724, -1.9064362065808225, 0.4457683343762501, 1.4908864825098789, 1.0693654725823765, -0.7275095732282226, -0.8979976610014719, -0.5568820823956494, -3.120217014727852, -1.0643984188092965, 0.481779811826849, -2.1582565399941807, 0.674790921329094, -0.8034916966642305, -0.18546152762405013, 0.3701522485642225, -0.4268835316362451, 0.7190516944973412, 1.4186235615644138, 0.6233755088238365, 0.451150747092287, 0.09196690808838238, 0.17208166858829033, 0.31266042146240636, 0.19012493289956234, -0.6033882671133812, -0.3528222705784352, -1.029664931473673, -1.789717664094481, 1.729908802810119, 1.8872430463151544, 1.3780986797462649, -0.12991924339436525, -2.6283925699063895, -0.45255088777254926, 0.26223069515618097, 0.47620185627593864, -0.8154834212117086, 0.4518383967003741, 1.680930268015079, -0.6185203445333183, 0.3503940349241752, 0.726458825053681, 0.03463182841395179, -0.16540845309937308, 1.4483176986472721, -1.1154223385895445, -0.09404226600003875, -1.9554368262281228, 0.4048604122456422, 0.07250754014594887, 0.14321259166825573, 0.7358098587718248, -1.6902281014428777, 1.1306991593957962, -0.1099648790423635, -0.22666075417092854, 0.049843414740093135, 1.7189847338915771], \"xaxis\": \"x11\", \"yaxis\": \"y11\"}, {\"line\": {\"color\": \"rgba(128, 128, 128, 1.0)\", \"dash\": \"solid\", \"shape\": \"linear\", \"width\": 1.3}, \"marker\": {\"size\": 2, \"symbol\": \"circle\"}, \"mode\": \"markers\", \"name\": \"C\", \"text\": \"\", \"type\": \"scatter\", \"x\": [1.4117582400459063, 0.5158806040582149, -0.056329725916821824, 3.0331176288045154, 2.251571432677742, -0.7244537895757376, 1.2757216021545035, 0.5245256765181753, -2.167648381947332, -0.4696805838248369, -0.7485430338440984, 1.5433238587038358, -1.1301871150538845, -0.8509439519643706, 0.9802881962901107, 0.5573549233360873, 1.3924631528411737, -0.292843525425006, -0.28957625229621475, -1.2848236294066253, 1.2280302498116678, -1.8612347534410665, -0.7879333821927236, -1.1291458198297768, 0.9209652308913361, 0.26972013558638086, -1.4698105580627052, 0.5186966764631051, -0.25514350367859234, 0.664752381529209, 0.3096208618182506, -0.5039365347815075, -0.4089033909019008, 1.2941177250485878, 0.6166150565287175, -1.1472542509270691, 0.2505258246975447, -0.7584439760541246, -0.23747358583319064, -1.595523305990587, -0.3418769665943945, 0.2818531578350275, -0.5555095528498177, 0.3239429982070741, -0.7258768991770973, -0.9261661539974302, 0.5611160523629165, -1.3792408529525848, -2.825545670103279, 0.27493797297484407, -0.5321004469147166, -0.6143052576424726, -2.0180202882435245, -1.3954363627502746, -0.8759893988017698, 0.37356556439978833, 0.7160956305449683, 0.06937507216314834, -0.6552479976721832, 0.43343928702505524, 0.2455584618258172, 0.42126667865391876, 1.1619913270267297, -0.8032146674707702, -0.5890226399059743, 0.6458359767000308, 0.4360332745112395, 0.599788673353237, -0.722948223582799, -1.030606401238794, 1.9700941532056162, 0.7791070160905508, -0.6959015496296476, -0.3825212064430439, -0.059171058813391623, -1.9504072192912345, 1.778253100110659, 1.1330032162375292, -0.3703874521409308, 1.4917910877624783, -0.39446169568001704, 1.3224359705441946, 0.9956777417992919, 1.2675161076205903, -1.3566847734767353, 0.40309061690454584, -1.0419272570013405, 0.23569775255301098, -0.02792794107762883, -0.9036568645096051, -0.7357079424723857, -0.36096085535421085, 2.053305244643362, -1.1928816331796919, 2.198658821091295, -1.0327304619564042, -0.8835906856693826, 0.03346181036648316, -2.025627489159471, -0.4081320108627518], \"xaxis\": \"x12\", \"y\": [-0.21097545106115867, -1.010385952727178, 1.2749827146362012, -0.015983506020842593, -1.4746786667388705, 0.179830423867175, -1.7462619033123765, 1.0464112123438396, -1.026390859731597, -1.5943918528495928, 0.27066796628353124, 1.684858393324544, -0.8691937549317699, 1.0663471476085131, -0.27768437726852435, 1.4540051135513614, -0.26883009252392337, -0.9033424846816914, -0.9747627063168453, -0.02899475056819844, -2.1091287389590594, -0.8173521305308596, -0.5458075875412067, 0.1408257779445167, 1.0469267961676325, -0.1274706826923543, -0.4135280276220017, -2.504998932310551, -0.31393716699687946, -0.27885332707301097, -0.10489987978738426, -0.311979337731574, 0.8323164989952668, 1.141533340091098, 0.13831170926493636, 0.4082224185595173, -1.215204703217632, -0.9242699464629253, -0.7808708848307961, -0.4087507562011927, 0.5384793601336588, -0.894570347749724, -1.9064362065808225, 0.4457683343762501, 1.4908864825098789, 1.0693654725823765, -0.7275095732282226, -0.8979976610014719, -0.5568820823956494, -3.120217014727852, -1.0643984188092965, 0.481779811826849, -2.1582565399941807, 0.674790921329094, -0.8034916966642305, -0.18546152762405013, 0.3701522485642225, -0.4268835316362451, 0.7190516944973412, 1.4186235615644138, 0.6233755088238365, 0.451150747092287, 0.09196690808838238, 0.17208166858829033, 0.31266042146240636, 0.19012493289956234, -0.6033882671133812, -0.3528222705784352, -1.029664931473673, -1.789717664094481, 1.729908802810119, 1.8872430463151544, 1.3780986797462649, -0.12991924339436525, -2.6283925699063895, -0.45255088777254926, 0.26223069515618097, 0.47620185627593864, -0.8154834212117086, 0.4518383967003741, 1.680930268015079, -0.6185203445333183, 0.3503940349241752, 0.726458825053681, 0.03463182841395179, -0.16540845309937308, 1.4483176986472721, -1.1154223385895445, -0.09404226600003875, -1.9554368262281228, 0.4048604122456422, 0.07250754014594887, 0.14321259166825573, 0.7358098587718248, -1.6902281014428777, 1.1306991593957962, -0.1099648790423635, -0.22666075417092854, 0.049843414740093135, 1.7189847338915771], \"yaxis\": \"y12\"}, {\"line\": {\"color\": \"rgba(128, 128, 128, 1.0)\", \"dash\": \"solid\", \"shape\": \"linear\", \"width\": 1.3}, \"marker\": {\"size\": 2, \"symbol\": \"circle\"}, \"mode\": \"markers\", \"name\": \"D\", \"text\": \"\", \"type\": \"scatter\", \"x\": [2.456864478612622, -2.2527239798611314, -2.2929421848992426, 0.356852081716104, -0.25027565803004814, -0.4352308180980923, -1.7870622081171643, -0.4231246753923552, 0.9739696613755218, 0.3992265559510478, -0.23910651236066105, 0.23931071399692622, 0.09131078371117889, 0.18231030225450318, -1.6770467131592837, 0.6723336270661157, 0.24807428163009063, -0.7626192979780793, -1.485650151616024, -2.068322142166952, -0.816661798988874, -0.4390293659026417, -0.17638692762077884, 1.3693036243446226, -0.8838873911315334, 1.4781184141206263, 1.0204354409755043, 0.6677895888357839, 1.307300361914305, 0.381526666995544, 0.6990207531066948, -0.19170954656039826, -1.6176627483135664, -1.4378015404747206, -0.3089839408391603, -0.7042330548807497, 0.1686533561355506, -0.2719197995344573, 0.5554967812631001, 0.9774118356605086, -0.5675670254061104, 1.8147360416350493, -0.2076775115236604, 1.396211557548168, -0.2196247534199206, 1.257667737581909, 0.09999079328644785, 0.40953832839299614, 0.5181168335779327, -0.6408375541457859, 0.9059451776285394, 0.6233470810053362, -0.4067115357546892, 0.01083130229600319, 0.5789254579976282, 0.04246809985210584, 1.2652109502899274, 0.05171788485414968, -0.678433959764289, -0.6715016710873373, 1.1674003643390756, 0.6963027212152043, -0.6872552716565266, 0.35043630517555296, 1.697039109276328, -0.16517053629799128, 0.23807020983462962, 1.036859207986987, -1.0626416110243735, -0.5436189635055533, -1.0935424145198833, 0.31040749316377236, -0.19753243030570042, -2.7090402836025933, -1.5646909709019092, 0.521645062440777, -0.5002630539043543, -0.2690104841331373, 1.3310061232297976, -1.5183182964218291, 0.48398557607624765, -1.6832106492361594, -0.40954112536213994, 0.4724488127081655, 2.1196763199373585, 0.19754555336208063, -0.9074605490975094, 0.15313865789208797, 1.351762250817329, -0.396385824284584, 1.1476851047106436, 0.5740494843237829, 1.0697578479613916, -0.046560497298113845, -0.2897030805682362, 0.1679496946692134, -1.3517488543120035, 0.4667484204157006, 0.2629850168256431, -0.6432433834067868], \"xaxis\": \"x13\", \"y\": [1.4117582400459063, 0.5158806040582149, -0.056329725916821824, 3.0331176288045154, 2.251571432677742, -0.7244537895757376, 1.2757216021545035, 0.5245256765181753, -2.167648381947332, -0.4696805838248369, -0.7485430338440984, 1.5433238587038358, -1.1301871150538845, -0.8509439519643706, 0.9802881962901107, 0.5573549233360873, 1.3924631528411737, -0.292843525425006, -0.28957625229621475, -1.2848236294066253, 1.2280302498116678, -1.8612347534410665, -0.7879333821927236, -1.1291458198297768, 0.9209652308913361, 0.26972013558638086, -1.4698105580627052, 0.5186966764631051, -0.25514350367859234, 0.664752381529209, 0.3096208618182506, -0.5039365347815075, -0.4089033909019008, 1.2941177250485878, 0.6166150565287175, -1.1472542509270691, 0.2505258246975447, -0.7584439760541246, -0.23747358583319064, -1.595523305990587, -0.3418769665943945, 0.2818531578350275, -0.5555095528498177, 0.3239429982070741, -0.7258768991770973, -0.9261661539974302, 0.5611160523629165, -1.3792408529525848, -2.825545670103279, 0.27493797297484407, -0.5321004469147166, -0.6143052576424726, -2.0180202882435245, -1.3954363627502746, -0.8759893988017698, 0.37356556439978833, 0.7160956305449683, 0.06937507216314834, -0.6552479976721832, 0.43343928702505524, 0.2455584618258172, 0.42126667865391876, 1.1619913270267297, -0.8032146674707702, -0.5890226399059743, 0.6458359767000308, 0.4360332745112395, 0.599788673353237, -0.722948223582799, -1.030606401238794, 1.9700941532056162, 0.7791070160905508, -0.6959015496296476, -0.3825212064430439, -0.059171058813391623, -1.9504072192912345, 1.778253100110659, 1.1330032162375292, -0.3703874521409308, 1.4917910877624783, -0.39446169568001704, 1.3224359705441946, 0.9956777417992919, 1.2675161076205903, -1.3566847734767353, 0.40309061690454584, -1.0419272570013405, 0.23569775255301098, -0.02792794107762883, -0.9036568645096051, -0.7357079424723857, -0.36096085535421085, 2.053305244643362, -1.1928816331796919, 2.198658821091295, -1.0327304619564042, -0.8835906856693826, 0.03346181036648316, -2.025627489159471, -0.4081320108627518], \"yaxis\": \"y13\"}, {\"line\": {\"color\": \"rgba(128, 128, 128, 1.0)\", \"dash\": \"solid\", \"shape\": \"linear\", \"width\": 1.3}, \"marker\": {\"size\": 2, \"symbol\": \"circle\"}, \"mode\": \"markers\", \"name\": \"D\", \"text\": \"\", \"type\": \"scatter\", \"x\": [0.7585713004881539, 0.9369508008274443, 2.8786377067420803, -0.9753733963764035, -1.973314268207836, -1.1926729745541216, 1.7788975258488893, -2.739702907163809, 0.7818386057295666, 0.5557853197699847, 1.1308138994045913, -0.03394713504751146, -0.24674661567520484, 0.9048576983121975, -0.06399742714620238, -0.29553159925198297, 1.4480226716018347, -0.9287181429895608, -1.1584119641019608, 0.32889625773459297, 0.007753273055508445, -0.05820317171635984, -0.15155706936588884, 0.19472617657474028, -0.7964170541897511, -0.4322192069305809, -0.9445672117722083, 0.014770905297994949, -0.35176557796450886, 1.0195066876159382, 0.784707646326061, -0.3250669031761666, 0.9277017170808991, 0.7600764488098469, 1.758123577307258, 0.1842424508247556, 0.8128516170296418, 1.0898631416458546, 1.2891007860044672, -0.8697391961812799, -0.45653154226280335, -1.0361046760709498, 0.7559270918670371, -2.061501740649847, 1.4092710565201825, -0.256631908090931, -1.5750591677500945, 0.9245690218077082, -0.9061675814715107, 0.37584618766234756, -1.2415901387761887, 1.1957546846050047, 1.959991039843966, -0.8996322472799549, -1.0475054321530737, -0.6490377881974029, 0.3837783651423651, -0.037591221147904176, 0.3264691997676207, 0.8351240175627819, 1.3407659055312469, 0.7664492600505355, 0.34707865407662625, 0.4374355620108727, 0.4206434136296037, 0.11449523490312948, 0.050628931196152235, 1.7227632992759434, -0.02044643276147327, -0.4372433743237419, -1.6823925218882394, 0.059972603940122146, 1.586091742340369, -0.611607758287968, -0.4515418116623536, 0.6764102158345765, -1.5778251431922758, 0.531490498101667, 0.29467461455975935, -0.4096067239508892, -1.928942981094565, -0.10329196872552136, 0.7700000706766272, 0.4424794882193026, -0.3296786777745359, -1.4801841351888587, 0.39132986150267235, 1.187930182494079, -1.2766734843288627, -0.502946174955512, 0.3430738507677682, 0.39802770458241576, -1.6533098903298877, -0.5168646022711108, 0.38758251120651555, -0.291875675770869, -1.164864245517917, 1.3999539696360548, -1.9115176187985556, 0.4970235858917134], \"xaxis\": \"x14\", \"y\": [1.4117582400459063, 0.5158806040582149, -0.056329725916821824, 3.0331176288045154, 2.251571432677742, -0.7244537895757376, 1.2757216021545035, 0.5245256765181753, -2.167648381947332, -0.4696805838248369, -0.7485430338440984, 1.5433238587038358, -1.1301871150538845, -0.8509439519643706, 0.9802881962901107, 0.5573549233360873, 1.3924631528411737, -0.292843525425006, -0.28957625229621475, -1.2848236294066253, 1.2280302498116678, -1.8612347534410665, -0.7879333821927236, -1.1291458198297768, 0.9209652308913361, 0.26972013558638086, -1.4698105580627052, 0.5186966764631051, -0.25514350367859234, 0.664752381529209, 0.3096208618182506, -0.5039365347815075, -0.4089033909019008, 1.2941177250485878, 0.6166150565287175, -1.1472542509270691, 0.2505258246975447, -0.7584439760541246, -0.23747358583319064, -1.595523305990587, -0.3418769665943945, 0.2818531578350275, -0.5555095528498177, 0.3239429982070741, -0.7258768991770973, -0.9261661539974302, 0.5611160523629165, -1.3792408529525848, -2.825545670103279, 0.27493797297484407, -0.5321004469147166, -0.6143052576424726, -2.0180202882435245, -1.3954363627502746, -0.8759893988017698, 0.37356556439978833, 0.7160956305449683, 0.06937507216314834, -0.6552479976721832, 0.43343928702505524, 0.2455584618258172, 0.42126667865391876, 1.1619913270267297, -0.8032146674707702, -0.5890226399059743, 0.6458359767000308, 0.4360332745112395, 0.599788673353237, -0.722948223582799, -1.030606401238794, 1.9700941532056162, 0.7791070160905508, -0.6959015496296476, -0.3825212064430439, -0.059171058813391623, -1.9504072192912345, 1.778253100110659, 1.1330032162375292, -0.3703874521409308, 1.4917910877624783, -0.39446169568001704, 1.3224359705441946, 0.9956777417992919, 1.2675161076205903, -1.3566847734767353, 0.40309061690454584, -1.0419272570013405, 0.23569775255301098, -0.02792794107762883, -0.9036568645096051, -0.7357079424723857, -0.36096085535421085, 2.053305244643362, -1.1928816331796919, 2.198658821091295, -1.0327304619564042, -0.8835906856693826, 0.03346181036648316, -2.025627489159471, -0.4081320108627518], \"yaxis\": \"y14\"}, {\"line\": {\"color\": \"rgba(128, 128, 128, 1.0)\", \"dash\": \"solid\", \"shape\": \"linear\", \"width\": 1.3}, \"marker\": {\"size\": 2, \"symbol\": \"circle\"}, \"mode\": \"markers\", \"name\": \"D\", \"text\": \"\", \"type\": \"scatter\", \"x\": [-0.21097545106115867, -1.010385952727178, 1.2749827146362012, -0.015983506020842593, -1.4746786667388705, 0.179830423867175, -1.7462619033123765, 1.0464112123438396, -1.026390859731597, -1.5943918528495928, 0.27066796628353124, 1.684858393324544, -0.8691937549317699, 1.0663471476085131, -0.27768437726852435, 1.4540051135513614, -0.26883009252392337, -0.9033424846816914, -0.9747627063168453, -0.02899475056819844, -2.1091287389590594, -0.8173521305308596, -0.5458075875412067, 0.1408257779445167, 1.0469267961676325, -0.1274706826923543, -0.4135280276220017, -2.504998932310551, -0.31393716699687946, -0.27885332707301097, -0.10489987978738426, -0.311979337731574, 0.8323164989952668, 1.141533340091098, 0.13831170926493636, 0.4082224185595173, -1.215204703217632, -0.9242699464629253, -0.7808708848307961, -0.4087507562011927, 0.5384793601336588, -0.894570347749724, -1.9064362065808225, 0.4457683343762501, 1.4908864825098789, 1.0693654725823765, -0.7275095732282226, -0.8979976610014719, -0.5568820823956494, -3.120217014727852, -1.0643984188092965, 0.481779811826849, -2.1582565399941807, 0.674790921329094, -0.8034916966642305, -0.18546152762405013, 0.3701522485642225, -0.4268835316362451, 0.7190516944973412, 1.4186235615644138, 0.6233755088238365, 0.451150747092287, 0.09196690808838238, 0.17208166858829033, 0.31266042146240636, 0.19012493289956234, -0.6033882671133812, -0.3528222705784352, -1.029664931473673, -1.789717664094481, 1.729908802810119, 1.8872430463151544, 1.3780986797462649, -0.12991924339436525, -2.6283925699063895, -0.45255088777254926, 0.26223069515618097, 0.47620185627593864, -0.8154834212117086, 0.4518383967003741, 1.680930268015079, -0.6185203445333183, 0.3503940349241752, 0.726458825053681, 0.03463182841395179, -0.16540845309937308, 1.4483176986472721, -1.1154223385895445, -0.09404226600003875, -1.9554368262281228, 0.4048604122456422, 0.07250754014594887, 0.14321259166825573, 0.7358098587718248, -1.6902281014428777, 1.1306991593957962, -0.1099648790423635, -0.22666075417092854, 0.049843414740093135, 1.7189847338915771], \"xaxis\": \"x15\", \"y\": [1.4117582400459063, 0.5158806040582149, -0.056329725916821824, 3.0331176288045154, 2.251571432677742, -0.7244537895757376, 1.2757216021545035, 0.5245256765181753, -2.167648381947332, -0.4696805838248369, -0.7485430338440984, 1.5433238587038358, -1.1301871150538845, -0.8509439519643706, 0.9802881962901107, 0.5573549233360873, 1.3924631528411737, -0.292843525425006, -0.28957625229621475, -1.2848236294066253, 1.2280302498116678, -1.8612347534410665, -0.7879333821927236, -1.1291458198297768, 0.9209652308913361, 0.26972013558638086, -1.4698105580627052, 0.5186966764631051, -0.25514350367859234, 0.664752381529209, 0.3096208618182506, -0.5039365347815075, -0.4089033909019008, 1.2941177250485878, 0.6166150565287175, -1.1472542509270691, 0.2505258246975447, -0.7584439760541246, -0.23747358583319064, -1.595523305990587, -0.3418769665943945, 0.2818531578350275, -0.5555095528498177, 0.3239429982070741, -0.7258768991770973, -0.9261661539974302, 0.5611160523629165, -1.3792408529525848, -2.825545670103279, 0.27493797297484407, -0.5321004469147166, -0.6143052576424726, -2.0180202882435245, -1.3954363627502746, -0.8759893988017698, 0.37356556439978833, 0.7160956305449683, 0.06937507216314834, -0.6552479976721832, 0.43343928702505524, 0.2455584618258172, 0.42126667865391876, 1.1619913270267297, -0.8032146674707702, -0.5890226399059743, 0.6458359767000308, 0.4360332745112395, 0.599788673353237, -0.722948223582799, -1.030606401238794, 1.9700941532056162, 0.7791070160905508, -0.6959015496296476, -0.3825212064430439, -0.059171058813391623, -1.9504072192912345, 1.778253100110659, 1.1330032162375292, -0.3703874521409308, 1.4917910877624783, -0.39446169568001704, 1.3224359705441946, 0.9956777417992919, 1.2675161076205903, -1.3566847734767353, 0.40309061690454584, -1.0419272570013405, 0.23569775255301098, -0.02792794107762883, -0.9036568645096051, -0.7357079424723857, -0.36096085535421085, 2.053305244643362, -1.1928816331796919, 2.198658821091295, -1.0327304619564042, -0.8835906856693826, 0.03346181036648316, -2.025627489159471, -0.4081320108627518], \"yaxis\": \"y15\"}, {\"histfunc\": \"count\", \"histnorm\": \"\", \"marker\": {\"color\": \"rgba(128, 0, 128, 1.0)\", \"line\": {\"color\": \"#4D5663\", \"width\": 1.3}}, \"name\": \"D\", \"nbinsx\": 10, \"opacity\": 0.8, \"orientation\": \"v\", \"type\": \"histogram\", \"x\": [1.4117582400459063, 0.5158806040582149, -0.056329725916821824, 3.0331176288045154, 2.251571432677742, -0.7244537895757376, 1.2757216021545035, 0.5245256765181753, -2.167648381947332, -0.4696805838248369, -0.7485430338440984, 1.5433238587038358, -1.1301871150538845, -0.8509439519643706, 0.9802881962901107, 0.5573549233360873, 1.3924631528411737, -0.292843525425006, -0.28957625229621475, -1.2848236294066253, 1.2280302498116678, -1.8612347534410665, -0.7879333821927236, -1.1291458198297768, 0.9209652308913361, 0.26972013558638086, -1.4698105580627052, 0.5186966764631051, -0.25514350367859234, 0.664752381529209, 0.3096208618182506, -0.5039365347815075, -0.4089033909019008, 1.2941177250485878, 0.6166150565287175, -1.1472542509270691, 0.2505258246975447, -0.7584439760541246, -0.23747358583319064, -1.595523305990587, -0.3418769665943945, 0.2818531578350275, -0.5555095528498177, 0.3239429982070741, -0.7258768991770973, -0.9261661539974302, 0.5611160523629165, -1.3792408529525848, -2.825545670103279, 0.27493797297484407, -0.5321004469147166, -0.6143052576424726, -2.0180202882435245, -1.3954363627502746, -0.8759893988017698, 0.37356556439978833, 0.7160956305449683, 0.06937507216314834, -0.6552479976721832, 0.43343928702505524, 0.2455584618258172, 0.42126667865391876, 1.1619913270267297, -0.8032146674707702, -0.5890226399059743, 0.6458359767000308, 0.4360332745112395, 0.599788673353237, -0.722948223582799, -1.030606401238794, 1.9700941532056162, 0.7791070160905508, -0.6959015496296476, -0.3825212064430439, -0.059171058813391623, -1.9504072192912345, 1.778253100110659, 1.1330032162375292, -0.3703874521409308, 1.4917910877624783, -0.39446169568001704, 1.3224359705441946, 0.9956777417992919, 1.2675161076205903, -1.3566847734767353, 0.40309061690454584, -1.0419272570013405, 0.23569775255301098, -0.02792794107762883, -0.9036568645096051, -0.7357079424723857, -0.36096085535421085, 2.053305244643362, -1.1928816331796919, 2.198658821091295, -1.0327304619564042, -0.8835906856693826, 0.03346181036648316, -2.025627489159471, -0.4081320108627518], \"xaxis\": \"x16\", \"yaxis\": \"y16\"}],                        {\"bargap\": 0.02, \"legend\": {\"bgcolor\": \"#F5F6F9\", \"font\": {\"color\": \"#4D5663\"}}, \"paper_bgcolor\": \"#F5F6F9\", \"plot_bgcolor\": \"#F5F6F9\", \"showlegend\": false, \"template\": {\"data\": {\"bar\": [{\"error_x\": {\"color\": \"#2a3f5f\"}, \"error_y\": {\"color\": \"#2a3f5f\"}, \"marker\": {\"line\": {\"color\": \"#E5ECF6\", \"width\": 0.5}}, \"type\": \"bar\"}], \"barpolar\": [{\"marker\": {\"line\": {\"color\": \"#E5ECF6\", \"width\": 0.5}}, \"type\": \"barpolar\"}], \"carpet\": [{\"aaxis\": {\"endlinecolor\": \"#2a3f5f\", \"gridcolor\": \"white\", \"linecolor\": \"white\", \"minorgridcolor\": \"white\", \"startlinecolor\": \"#2a3f5f\"}, \"baxis\": {\"endlinecolor\": \"#2a3f5f\", \"gridcolor\": \"white\", \"linecolor\": \"white\", \"minorgridcolor\": \"white\", \"startlinecolor\": \"#2a3f5f\"}, \"type\": \"carpet\"}], \"choropleth\": [{\"colorbar\": {\"outlinewidth\": 0, \"ticks\": \"\"}, \"type\": \"choropleth\"}], \"contour\": [{\"colorbar\": {\"outlinewidth\": 0, \"ticks\": \"\"}, \"colorscale\": [[0.0, \"#0d0887\"], [0.1111111111111111, \"#46039f\"], [0.2222222222222222, \"#7201a8\"], [0.3333333333333333, \"#9c179e\"], [0.4444444444444444, \"#bd3786\"], [0.5555555555555556, \"#d8576b\"], [0.6666666666666666, \"#ed7953\"], [0.7777777777777778, \"#fb9f3a\"], [0.8888888888888888, \"#fdca26\"], [1.0, \"#f0f921\"]], \"type\": \"contour\"}], \"contourcarpet\": [{\"colorbar\": {\"outlinewidth\": 0, \"ticks\": \"\"}, \"type\": \"contourcarpet\"}], \"heatmap\": [{\"colorbar\": {\"outlinewidth\": 0, \"ticks\": \"\"}, \"colorscale\": [[0.0, \"#0d0887\"], [0.1111111111111111, \"#46039f\"], [0.2222222222222222, \"#7201a8\"], [0.3333333333333333, \"#9c179e\"], [0.4444444444444444, \"#bd3786\"], [0.5555555555555556, \"#d8576b\"], [0.6666666666666666, \"#ed7953\"], [0.7777777777777778, \"#fb9f3a\"], [0.8888888888888888, \"#fdca26\"], [1.0, \"#f0f921\"]], \"type\": \"heatmap\"}], \"heatmapgl\": [{\"colorbar\": {\"outlinewidth\": 0, \"ticks\": \"\"}, \"colorscale\": [[0.0, \"#0d0887\"], [0.1111111111111111, \"#46039f\"], [0.2222222222222222, \"#7201a8\"], [0.3333333333333333, \"#9c179e\"], [0.4444444444444444, \"#bd3786\"], [0.5555555555555556, \"#d8576b\"], [0.6666666666666666, \"#ed7953\"], [0.7777777777777778, \"#fb9f3a\"], [0.8888888888888888, \"#fdca26\"], [1.0, \"#f0f921\"]], \"type\": \"heatmapgl\"}], \"histogram\": [{\"marker\": {\"colorbar\": {\"outlinewidth\": 0, \"ticks\": \"\"}}, \"type\": \"histogram\"}], \"histogram2d\": [{\"colorbar\": {\"outlinewidth\": 0, \"ticks\": \"\"}, \"colorscale\": [[0.0, \"#0d0887\"], [0.1111111111111111, \"#46039f\"], [0.2222222222222222, \"#7201a8\"], [0.3333333333333333, \"#9c179e\"], [0.4444444444444444, \"#bd3786\"], [0.5555555555555556, \"#d8576b\"], [0.6666666666666666, \"#ed7953\"], [0.7777777777777778, \"#fb9f3a\"], [0.8888888888888888, \"#fdca26\"], [1.0, \"#f0f921\"]], \"type\": \"histogram2d\"}], \"histogram2dcontour\": [{\"colorbar\": {\"outlinewidth\": 0, \"ticks\": \"\"}, \"colorscale\": [[0.0, \"#0d0887\"], [0.1111111111111111, \"#46039f\"], [0.2222222222222222, \"#7201a8\"], [0.3333333333333333, \"#9c179e\"], [0.4444444444444444, \"#bd3786\"], [0.5555555555555556, \"#d8576b\"], [0.6666666666666666, \"#ed7953\"], [0.7777777777777778, \"#fb9f3a\"], [0.8888888888888888, \"#fdca26\"], [1.0, \"#f0f921\"]], \"type\": \"histogram2dcontour\"}], \"mesh3d\": [{\"colorbar\": {\"outlinewidth\": 0, \"ticks\": \"\"}, \"type\": \"mesh3d\"}], \"parcoords\": [{\"line\": {\"colorbar\": {\"outlinewidth\": 0, \"ticks\": \"\"}}, \"type\": \"parcoords\"}], \"pie\": [{\"automargin\": true, \"type\": \"pie\"}], \"scatter\": [{\"marker\": {\"colorbar\": {\"outlinewidth\": 0, \"ticks\": \"\"}}, \"type\": \"scatter\"}], \"scatter3d\": [{\"line\": {\"colorbar\": {\"outlinewidth\": 0, \"ticks\": \"\"}}, \"marker\": {\"colorbar\": {\"outlinewidth\": 0, \"ticks\": \"\"}}, \"type\": \"scatter3d\"}], \"scattercarpet\": [{\"marker\": {\"colorbar\": {\"outlinewidth\": 0, \"ticks\": \"\"}}, \"type\": \"scattercarpet\"}], \"scattergeo\": [{\"marker\": {\"colorbar\": {\"outlinewidth\": 0, \"ticks\": \"\"}}, \"type\": \"scattergeo\"}], \"scattergl\": [{\"marker\": {\"colorbar\": {\"outlinewidth\": 0, \"ticks\": \"\"}}, \"type\": \"scattergl\"}], \"scattermapbox\": [{\"marker\": {\"colorbar\": {\"outlinewidth\": 0, \"ticks\": \"\"}}, \"type\": \"scattermapbox\"}], \"scatterpolar\": [{\"marker\": {\"colorbar\": {\"outlinewidth\": 0, \"ticks\": \"\"}}, \"type\": \"scatterpolar\"}], \"scatterpolargl\": [{\"marker\": {\"colorbar\": {\"outlinewidth\": 0, \"ticks\": \"\"}}, \"type\": \"scatterpolargl\"}], \"scatterternary\": [{\"marker\": {\"colorbar\": {\"outlinewidth\": 0, \"ticks\": \"\"}}, \"type\": \"scatterternary\"}], \"surface\": [{\"colorbar\": {\"outlinewidth\": 0, \"ticks\": \"\"}, \"colorscale\": [[0.0, \"#0d0887\"], [0.1111111111111111, \"#46039f\"], [0.2222222222222222, \"#7201a8\"], [0.3333333333333333, \"#9c179e\"], [0.4444444444444444, \"#bd3786\"], [0.5555555555555556, \"#d8576b\"], [0.6666666666666666, \"#ed7953\"], [0.7777777777777778, \"#fb9f3a\"], [0.8888888888888888, \"#fdca26\"], [1.0, \"#f0f921\"]], \"type\": \"surface\"}], \"table\": [{\"cells\": {\"fill\": {\"color\": \"#EBF0F8\"}, \"line\": {\"color\": \"white\"}}, \"header\": {\"fill\": {\"color\": \"#C8D4E3\"}, \"line\": {\"color\": \"white\"}}, \"type\": \"table\"}]}, \"layout\": {\"annotationdefaults\": {\"arrowcolor\": \"#2a3f5f\", \"arrowhead\": 0, \"arrowwidth\": 1}, \"coloraxis\": {\"colorbar\": {\"outlinewidth\": 0, \"ticks\": \"\"}}, \"colorscale\": {\"diverging\": [[0, \"#8e0152\"], [0.1, \"#c51b7d\"], [0.2, \"#de77ae\"], [0.3, \"#f1b6da\"], [0.4, \"#fde0ef\"], [0.5, \"#f7f7f7\"], [0.6, \"#e6f5d0\"], [0.7, \"#b8e186\"], [0.8, \"#7fbc41\"], [0.9, \"#4d9221\"], [1, \"#276419\"]], \"sequential\": [[0.0, \"#0d0887\"], [0.1111111111111111, \"#46039f\"], [0.2222222222222222, \"#7201a8\"], [0.3333333333333333, \"#9c179e\"], [0.4444444444444444, \"#bd3786\"], [0.5555555555555556, \"#d8576b\"], [0.6666666666666666, \"#ed7953\"], [0.7777777777777778, \"#fb9f3a\"], [0.8888888888888888, \"#fdca26\"], [1.0, \"#f0f921\"]], \"sequentialminus\": [[0.0, \"#0d0887\"], [0.1111111111111111, \"#46039f\"], [0.2222222222222222, \"#7201a8\"], [0.3333333333333333, \"#9c179e\"], [0.4444444444444444, \"#bd3786\"], [0.5555555555555556, \"#d8576b\"], [0.6666666666666666, \"#ed7953\"], [0.7777777777777778, \"#fb9f3a\"], [0.8888888888888888, \"#fdca26\"], [1.0, \"#f0f921\"]]}, \"colorway\": [\"#636efa\", \"#EF553B\", \"#00cc96\", \"#ab63fa\", \"#FFA15A\", \"#19d3f3\", \"#FF6692\", \"#B6E880\", \"#FF97FF\", \"#FECB52\"], \"font\": {\"color\": \"#2a3f5f\"}, \"geo\": {\"bgcolor\": \"white\", \"lakecolor\": \"white\", \"landcolor\": \"#E5ECF6\", \"showlakes\": true, \"showland\": true, \"subunitcolor\": \"white\"}, \"hoverlabel\": {\"align\": \"left\"}, \"hovermode\": \"closest\", \"mapbox\": {\"style\": \"light\"}, \"paper_bgcolor\": \"white\", \"plot_bgcolor\": \"#E5ECF6\", \"polar\": {\"angularaxis\": {\"gridcolor\": \"white\", \"linecolor\": \"white\", \"ticks\": \"\"}, \"bgcolor\": \"#E5ECF6\", \"radialaxis\": {\"gridcolor\": \"white\", \"linecolor\": \"white\", \"ticks\": \"\"}}, \"scene\": {\"xaxis\": {\"backgroundcolor\": \"#E5ECF6\", \"gridcolor\": \"white\", \"gridwidth\": 2, \"linecolor\": \"white\", \"showbackground\": true, \"ticks\": \"\", \"zerolinecolor\": \"white\"}, \"yaxis\": {\"backgroundcolor\": \"#E5ECF6\", \"gridcolor\": \"white\", \"gridwidth\": 2, \"linecolor\": \"white\", \"showbackground\": true, \"ticks\": \"\", \"zerolinecolor\": \"white\"}, \"zaxis\": {\"backgroundcolor\": \"#E5ECF6\", \"gridcolor\": \"white\", \"gridwidth\": 2, \"linecolor\": \"white\", \"showbackground\": true, \"ticks\": \"\", \"zerolinecolor\": \"white\"}}, \"shapedefaults\": {\"line\": {\"color\": \"#2a3f5f\"}}, \"ternary\": {\"aaxis\": {\"gridcolor\": \"white\", \"linecolor\": \"white\", \"ticks\": \"\"}, \"baxis\": {\"gridcolor\": \"white\", \"linecolor\": \"white\", \"ticks\": \"\"}, \"bgcolor\": \"#E5ECF6\", \"caxis\": {\"gridcolor\": \"white\", \"linecolor\": \"white\", \"ticks\": \"\"}}, \"title\": {\"x\": 0.05}, \"xaxis\": {\"automargin\": true, \"gridcolor\": \"white\", \"linecolor\": \"white\", \"ticks\": \"\", \"title\": {\"standoff\": 15}, \"zerolinecolor\": \"white\", \"zerolinewidth\": 2}, \"yaxis\": {\"automargin\": true, \"gridcolor\": \"white\", \"linecolor\": \"white\", \"ticks\": \"\", \"title\": {\"standoff\": 15}, \"zerolinecolor\": \"white\", \"zerolinewidth\": 2}}}, \"title\": {\"font\": {\"color\": \"#4D5663\"}}, \"xaxis\": {\"anchor\": \"y\", \"domain\": [0.0, 0.2125], \"gridcolor\": \"#E1E5ED\", \"showgrid\": false, \"tickfont\": {\"color\": \"#4D5663\"}, \"title\": {\"font\": {\"color\": \"#4D5663\"}, \"text\": \"\"}, \"zerolinecolor\": \"#E1E5ED\"}, \"xaxis10\": {\"anchor\": \"y10\", \"domain\": [0.2625, 0.475], \"gridcolor\": \"#E1E5ED\", \"showgrid\": false, \"tickfont\": {\"color\": \"#4D5663\"}, \"title\": {\"font\": {\"color\": \"#4D5663\"}, \"text\": \"\"}, \"zerolinecolor\": \"#E1E5ED\"}, \"xaxis11\": {\"anchor\": \"y11\", \"domain\": [0.525, 0.7375], \"gridcolor\": \"#E1E5ED\", \"showgrid\": false, \"tickfont\": {\"color\": \"#4D5663\"}, \"title\": {\"font\": {\"color\": \"#4D5663\"}, \"text\": \"\"}, \"zerolinecolor\": \"#E1E5ED\"}, \"xaxis12\": {\"anchor\": \"y12\", \"domain\": [0.7875, 1.0], \"gridcolor\": \"#E1E5ED\", \"showgrid\": false, \"tickfont\": {\"color\": \"#4D5663\"}, \"title\": {\"font\": {\"color\": \"#4D5663\"}, \"text\": \"\"}, \"zerolinecolor\": \"#E1E5ED\"}, \"xaxis13\": {\"anchor\": \"y13\", \"domain\": [0.0, 0.2125], \"gridcolor\": \"#E1E5ED\", \"showgrid\": false, \"tickfont\": {\"color\": \"#4D5663\"}, \"title\": {\"font\": {\"color\": \"#4D5663\"}, \"text\": \"\"}, \"zerolinecolor\": \"#E1E5ED\"}, \"xaxis14\": {\"anchor\": \"y14\", \"domain\": [0.2625, 0.475], \"gridcolor\": \"#E1E5ED\", \"showgrid\": false, \"tickfont\": {\"color\": \"#4D5663\"}, \"title\": {\"font\": {\"color\": \"#4D5663\"}, \"text\": \"\"}, \"zerolinecolor\": \"#E1E5ED\"}, \"xaxis15\": {\"anchor\": \"y15\", \"domain\": [0.525, 0.7375], \"gridcolor\": \"#E1E5ED\", \"showgrid\": false, \"tickfont\": {\"color\": \"#4D5663\"}, \"title\": {\"font\": {\"color\": \"#4D5663\"}, \"text\": \"\"}, \"zerolinecolor\": \"#E1E5ED\"}, \"xaxis16\": {\"anchor\": \"y16\", \"domain\": [0.7875, 1.0], \"gridcolor\": \"#E1E5ED\", \"showgrid\": false, \"tickfont\": {\"color\": \"#4D5663\"}, \"title\": {\"font\": {\"color\": \"#4D5663\"}, \"text\": \"\"}, \"zerolinecolor\": \"#E1E5ED\"}, \"xaxis2\": {\"anchor\": \"y2\", \"domain\": [0.2625, 0.475], \"gridcolor\": \"#E1E5ED\", \"showgrid\": false, \"tickfont\": {\"color\": \"#4D5663\"}, \"title\": {\"font\": {\"color\": \"#4D5663\"}, \"text\": \"\"}, \"zerolinecolor\": \"#E1E5ED\"}, \"xaxis3\": {\"anchor\": \"y3\", \"domain\": [0.525, 0.7375], \"gridcolor\": \"#E1E5ED\", \"showgrid\": false, \"tickfont\": {\"color\": \"#4D5663\"}, \"title\": {\"font\": {\"color\": \"#4D5663\"}, \"text\": \"\"}, \"zerolinecolor\": \"#E1E5ED\"}, \"xaxis4\": {\"anchor\": \"y4\", \"domain\": [0.7875, 1.0], \"gridcolor\": \"#E1E5ED\", \"showgrid\": false, \"tickfont\": {\"color\": \"#4D5663\"}, \"title\": {\"font\": {\"color\": \"#4D5663\"}, \"text\": \"\"}, \"zerolinecolor\": \"#E1E5ED\"}, \"xaxis5\": {\"anchor\": \"y5\", \"domain\": [0.0, 0.2125], \"gridcolor\": \"#E1E5ED\", \"showgrid\": false, \"tickfont\": {\"color\": \"#4D5663\"}, \"title\": {\"font\": {\"color\": \"#4D5663\"}, \"text\": \"\"}, \"zerolinecolor\": \"#E1E5ED\"}, \"xaxis6\": {\"anchor\": \"y6\", \"domain\": [0.2625, 0.475], \"gridcolor\": \"#E1E5ED\", \"showgrid\": false, \"tickfont\": {\"color\": \"#4D5663\"}, \"title\": {\"font\": {\"color\": \"#4D5663\"}, \"text\": \"\"}, \"zerolinecolor\": \"#E1E5ED\"}, \"xaxis7\": {\"anchor\": \"y7\", \"domain\": [0.525, 0.7375], \"gridcolor\": \"#E1E5ED\", \"showgrid\": false, \"tickfont\": {\"color\": \"#4D5663\"}, \"title\": {\"font\": {\"color\": \"#4D5663\"}, \"text\": \"\"}, \"zerolinecolor\": \"#E1E5ED\"}, \"xaxis8\": {\"anchor\": \"y8\", \"domain\": [0.7875, 1.0], \"gridcolor\": \"#E1E5ED\", \"showgrid\": false, \"tickfont\": {\"color\": \"#4D5663\"}, \"title\": {\"font\": {\"color\": \"#4D5663\"}, \"text\": \"\"}, \"zerolinecolor\": \"#E1E5ED\"}, \"xaxis9\": {\"anchor\": \"y9\", \"domain\": [0.0, 0.2125], \"gridcolor\": \"#E1E5ED\", \"showgrid\": false, \"tickfont\": {\"color\": \"#4D5663\"}, \"title\": {\"font\": {\"color\": \"#4D5663\"}, \"text\": \"\"}, \"zerolinecolor\": \"#E1E5ED\"}, \"yaxis\": {\"anchor\": \"x\", \"domain\": [0.8025, 1.0], \"gridcolor\": \"#E1E5ED\", \"showgrid\": false, \"tickfont\": {\"color\": \"#4D5663\"}, \"title\": {\"font\": {\"color\": \"#4D5663\"}, \"text\": \"\"}, \"zerolinecolor\": \"#E1E5ED\"}, \"yaxis10\": {\"anchor\": \"x10\", \"domain\": [0.2675, 0.465], \"gridcolor\": \"#E1E5ED\", \"showgrid\": false, \"tickfont\": {\"color\": \"#4D5663\"}, \"title\": {\"font\": {\"color\": \"#4D5663\"}, \"text\": \"\"}, \"zerolinecolor\": \"#E1E5ED\"}, \"yaxis11\": {\"anchor\": \"x11\", \"domain\": [0.2675, 0.465], \"gridcolor\": \"#E1E5ED\", \"showgrid\": false, \"tickfont\": {\"color\": \"#4D5663\"}, \"title\": {\"font\": {\"color\": \"#4D5663\"}, \"text\": \"\"}, \"zerolinecolor\": \"#E1E5ED\"}, \"yaxis12\": {\"anchor\": \"x12\", \"domain\": [0.2675, 0.465], \"gridcolor\": \"#E1E5ED\", \"showgrid\": false, \"tickfont\": {\"color\": \"#4D5663\"}, \"title\": {\"font\": {\"color\": \"#4D5663\"}, \"text\": \"\"}, \"zerolinecolor\": \"#E1E5ED\"}, \"yaxis13\": {\"anchor\": \"x13\", \"domain\": [0.0, 0.1975], \"gridcolor\": \"#E1E5ED\", \"showgrid\": false, \"tickfont\": {\"color\": \"#4D5663\"}, \"title\": {\"font\": {\"color\": \"#4D5663\"}, \"text\": \"\"}, \"zerolinecolor\": \"#E1E5ED\"}, \"yaxis14\": {\"anchor\": \"x14\", \"domain\": [0.0, 0.1975], \"gridcolor\": \"#E1E5ED\", \"showgrid\": false, \"tickfont\": {\"color\": \"#4D5663\"}, \"title\": {\"font\": {\"color\": \"#4D5663\"}, \"text\": \"\"}, \"zerolinecolor\": \"#E1E5ED\"}, \"yaxis15\": {\"anchor\": \"x15\", \"domain\": [0.0, 0.1975], \"gridcolor\": \"#E1E5ED\", \"showgrid\": false, \"tickfont\": {\"color\": \"#4D5663\"}, \"title\": {\"font\": {\"color\": \"#4D5663\"}, \"text\": \"\"}, \"zerolinecolor\": \"#E1E5ED\"}, \"yaxis16\": {\"anchor\": \"x16\", \"domain\": [0.0, 0.1975], \"gridcolor\": \"#E1E5ED\", \"showgrid\": false, \"tickfont\": {\"color\": \"#4D5663\"}, \"title\": {\"font\": {\"color\": \"#4D5663\"}, \"text\": \"\"}, \"zerolinecolor\": \"#E1E5ED\"}, \"yaxis2\": {\"anchor\": \"x2\", \"domain\": [0.8025, 1.0], \"gridcolor\": \"#E1E5ED\", \"showgrid\": false, \"tickfont\": {\"color\": \"#4D5663\"}, \"title\": {\"font\": {\"color\": \"#4D5663\"}, \"text\": \"\"}, \"zerolinecolor\": \"#E1E5ED\"}, \"yaxis3\": {\"anchor\": \"x3\", \"domain\": [0.8025, 1.0], \"gridcolor\": \"#E1E5ED\", \"showgrid\": false, \"tickfont\": {\"color\": \"#4D5663\"}, \"title\": {\"font\": {\"color\": \"#4D5663\"}, \"text\": \"\"}, \"zerolinecolor\": \"#E1E5ED\"}, \"yaxis4\": {\"anchor\": \"x4\", \"domain\": [0.8025, 1.0], \"gridcolor\": \"#E1E5ED\", \"showgrid\": false, \"tickfont\": {\"color\": \"#4D5663\"}, \"title\": {\"font\": {\"color\": \"#4D5663\"}, \"text\": \"\"}, \"zerolinecolor\": \"#E1E5ED\"}, \"yaxis5\": {\"anchor\": \"x5\", \"domain\": [0.535, 0.7325], \"gridcolor\": \"#E1E5ED\", \"showgrid\": false, \"tickfont\": {\"color\": \"#4D5663\"}, \"title\": {\"font\": {\"color\": \"#4D5663\"}, \"text\": \"\"}, \"zerolinecolor\": \"#E1E5ED\"}, \"yaxis6\": {\"anchor\": \"x6\", \"domain\": [0.535, 0.7325], \"gridcolor\": \"#E1E5ED\", \"showgrid\": false, \"tickfont\": {\"color\": \"#4D5663\"}, \"title\": {\"font\": {\"color\": \"#4D5663\"}, \"text\": \"\"}, \"zerolinecolor\": \"#E1E5ED\"}, \"yaxis7\": {\"anchor\": \"x7\", \"domain\": [0.535, 0.7325], \"gridcolor\": \"#E1E5ED\", \"showgrid\": false, \"tickfont\": {\"color\": \"#4D5663\"}, \"title\": {\"font\": {\"color\": \"#4D5663\"}, \"text\": \"\"}, \"zerolinecolor\": \"#E1E5ED\"}, \"yaxis8\": {\"anchor\": \"x8\", \"domain\": [0.535, 0.7325], \"gridcolor\": \"#E1E5ED\", \"showgrid\": false, \"tickfont\": {\"color\": \"#4D5663\"}, \"title\": {\"font\": {\"color\": \"#4D5663\"}, \"text\": \"\"}, \"zerolinecolor\": \"#E1E5ED\"}, \"yaxis9\": {\"anchor\": \"x9\", \"domain\": [0.2675, 0.465], \"gridcolor\": \"#E1E5ED\", \"showgrid\": false, \"tickfont\": {\"color\": \"#4D5663\"}, \"title\": {\"font\": {\"color\": \"#4D5663\"}, \"text\": \"\"}, \"zerolinecolor\": \"#E1E5ED\"}},                        {\"showLink\": true, \"linkText\": \"Export to plot.ly\", \"plotlyServerURL\": \"https://plot.ly\", \"responsive\": true}                    ).then(function(){\n",
       "                            \n",
       "var gd = document.getElementById('44909762-c42d-452e-862f-33d82ef6f151');\n",
       "var x = new MutationObserver(function (mutations, observer) {{\n",
       "        var display = window.getComputedStyle(gd).display;\n",
       "        if (!display || display === 'none') {{\n",
       "            console.log([gd, 'removed!']);\n",
       "            Plotly.purge(gd);\n",
       "            observer.disconnect();\n",
       "        }}\n",
       "}});\n",
       "\n",
       "// Listen for the removal of the full notebook cells\n",
       "var notebookContainer = gd.closest('#notebook-container');\n",
       "if (notebookContainer) {{\n",
       "    x.observe(notebookContainer, {childList: true});\n",
       "}}\n",
       "\n",
       "// Listen for the clearing of the current output cell\n",
       "var outputEl = gd.closest('.output');\n",
       "if (outputEl) {{\n",
       "    x.observe(outputEl, {childList: true});\n",
       "}}\n",
       "\n",
       "                        })                };                });            </script>        </div>"
      ]
     },
     "metadata": {},
     "output_type": "display_data"
    }
   ],
   "source": [
    "df.scatter_matrix()"
   ]
  },
  {
   "cell_type": "code",
   "execution_count": 79,
   "metadata": {},
   "outputs": [
    {
     "data": {
      "application/vnd.plotly.v1+json": {
       "config": {
        "linkText": "Export to plot.ly",
        "plotlyServerURL": "https://plot.ly",
        "showLink": true
       },
       "data": [
        {
         "marker": {
          "color": [
           "rgb(255, 153, 51)",
           "rgb(55, 128, 191)",
           "rgb(50, 171, 96)",
           "rgb(128, 0, 128)",
           "rgb(219, 64, 82)",
           "rgb(0, 128, 128)",
           "rgb(255, 255, 51)",
           "rgb(128, 128, 0)",
           "rgb(251, 128, 114)",
           "rgb(128, 177, 211)"
          ],
          "line": {
           "width": 1.3
          },
          "size": [
           70,
           54,
           99,
           73,
           44,
           77,
           39,
           95,
           53,
           42,
           79,
           107,
           56,
           95,
           68,
           103,
           68,
           56,
           54,
           73,
           32,
           57,
           63,
           77,
           95,
           71,
           66,
           24,
           68,
           68,
           72,
           68,
           90,
           97,
           77,
           82,
           50,
           55,
           58,
           66,
           85,
           56,
           36,
           83,
           104,
           95,
           59,
           56,
           63,
           12,
           53,
           83,
           31,
           87,
           58,
           70,
           81,
           65,
           88,
           102,
           86,
           83,
           76,
           77,
           80,
           78,
           62,
           67,
           53,
           38,
           108,
           112,
           101,
           71,
           21,
           65,
           79,
           83,
           58,
           83,
           107,
           61,
           81,
           88,
           75,
           71,
           103,
           52,
           72,
           35,
           82,
           75,
           77,
           89,
           40,
           96,
           72,
           69,
           75,
           108
          ],
          "symbol": "circle"
         },
         "mode": "markers",
         "text": "",
         "type": "scatter",
         "x": [
          2.456864478612622,
          -2.2527239798611314,
          -2.2929421848992426,
          0.356852081716104,
          -0.25027565803004814,
          -0.4352308180980923,
          -1.7870622081171643,
          -0.4231246753923552,
          0.9739696613755218,
          0.3992265559510478,
          -0.23910651236066105,
          0.23931071399692622,
          0.09131078371117889,
          0.18231030225450318,
          -1.6770467131592837,
          0.6723336270661157,
          0.24807428163009063,
          -0.7626192979780793,
          -1.485650151616024,
          -2.068322142166952,
          -0.816661798988874,
          -0.4390293659026417,
          -0.17638692762077884,
          1.3693036243446226,
          -0.8838873911315334,
          1.4781184141206263,
          1.0204354409755043,
          0.6677895888357839,
          1.307300361914305,
          0.381526666995544,
          0.6990207531066948,
          -0.19170954656039826,
          -1.6176627483135664,
          -1.4378015404747206,
          -0.3089839408391603,
          -0.7042330548807497,
          0.1686533561355506,
          -0.2719197995344573,
          0.5554967812631001,
          0.9774118356605086,
          -0.5675670254061104,
          1.8147360416350493,
          -0.2076775115236604,
          1.396211557548168,
          -0.2196247534199206,
          1.257667737581909,
          0.09999079328644785,
          0.40953832839299614,
          0.5181168335779327,
          -0.6408375541457859,
          0.9059451776285394,
          0.6233470810053362,
          -0.4067115357546892,
          0.01083130229600319,
          0.5789254579976282,
          0.04246809985210584,
          1.2652109502899274,
          0.05171788485414968,
          -0.678433959764289,
          -0.6715016710873373,
          1.1674003643390756,
          0.6963027212152043,
          -0.6872552716565266,
          0.35043630517555296,
          1.697039109276328,
          -0.16517053629799128,
          0.23807020983462962,
          1.036859207986987,
          -1.0626416110243735,
          -0.5436189635055533,
          -1.0935424145198833,
          0.31040749316377236,
          -0.19753243030570042,
          -2.7090402836025933,
          -1.5646909709019092,
          0.521645062440777,
          -0.5002630539043543,
          -0.2690104841331373,
          1.3310061232297976,
          -1.5183182964218291,
          0.48398557607624765,
          -1.6832106492361594,
          -0.40954112536213994,
          0.4724488127081655,
          2.1196763199373585,
          0.19754555336208063,
          -0.9074605490975094,
          0.15313865789208797,
          1.351762250817329,
          -0.396385824284584,
          1.1476851047106436,
          0.5740494843237829,
          1.0697578479613916,
          -0.046560497298113845,
          -0.2897030805682362,
          0.1679496946692134,
          -1.3517488543120035,
          0.4667484204157006,
          0.2629850168256431,
          -0.6432433834067868
         ],
         "y": [
          0.7585713004881539,
          0.9369508008274443,
          2.8786377067420803,
          -0.9753733963764035,
          -1.973314268207836,
          -1.1926729745541216,
          1.7788975258488893,
          -2.739702907163809,
          0.7818386057295666,
          0.5557853197699847,
          1.1308138994045913,
          -0.03394713504751146,
          -0.24674661567520484,
          0.9048576983121975,
          -0.06399742714620238,
          -0.29553159925198297,
          1.4480226716018347,
          -0.9287181429895608,
          -1.1584119641019608,
          0.32889625773459297,
          0.007753273055508445,
          -0.05820317171635984,
          -0.15155706936588884,
          0.19472617657474028,
          -0.7964170541897511,
          -0.4322192069305809,
          -0.9445672117722083,
          0.014770905297994949,
          -0.35176557796450886,
          1.0195066876159382,
          0.784707646326061,
          -0.3250669031761666,
          0.9277017170808991,
          0.7600764488098469,
          1.758123577307258,
          0.1842424508247556,
          0.8128516170296418,
          1.0898631416458546,
          1.2891007860044672,
          -0.8697391961812799,
          -0.45653154226280335,
          -1.0361046760709498,
          0.7559270918670371,
          -2.061501740649847,
          1.4092710565201825,
          -0.256631908090931,
          -1.5750591677500945,
          0.9245690218077082,
          -0.9061675814715107,
          0.37584618766234756,
          -1.2415901387761887,
          1.1957546846050047,
          1.959991039843966,
          -0.8996322472799549,
          -1.0475054321530737,
          -0.6490377881974029,
          0.3837783651423651,
          -0.037591221147904176,
          0.3264691997676207,
          0.8351240175627819,
          1.3407659055312469,
          0.7664492600505355,
          0.34707865407662625,
          0.4374355620108727,
          0.4206434136296037,
          0.11449523490312948,
          0.050628931196152235,
          1.7227632992759434,
          -0.02044643276147327,
          -0.4372433743237419,
          -1.6823925218882394,
          0.059972603940122146,
          1.586091742340369,
          -0.611607758287968,
          -0.4515418116623536,
          0.6764102158345765,
          -1.5778251431922758,
          0.531490498101667,
          0.29467461455975935,
          -0.4096067239508892,
          -1.928942981094565,
          -0.10329196872552136,
          0.7700000706766272,
          0.4424794882193026,
          -0.3296786777745359,
          -1.4801841351888587,
          0.39132986150267235,
          1.187930182494079,
          -1.2766734843288627,
          -0.502946174955512,
          0.3430738507677682,
          0.39802770458241576,
          -1.6533098903298877,
          -0.5168646022711108,
          0.38758251120651555,
          -0.291875675770869,
          -1.164864245517917,
          1.3999539696360548,
          -1.9115176187985556,
          0.4970235858917134
         ]
        }
       ],
       "layout": {
        "legend": {
         "bgcolor": "#F5F6F9",
         "font": {
          "color": "#4D5663"
         }
        },
        "paper_bgcolor": "#F5F6F9",
        "plot_bgcolor": "#F5F6F9",
        "template": {
         "data": {
          "bar": [
           {
            "error_x": {
             "color": "#2a3f5f"
            },
            "error_y": {
             "color": "#2a3f5f"
            },
            "marker": {
             "line": {
              "color": "#E5ECF6",
              "width": 0.5
             }
            },
            "type": "bar"
           }
          ],
          "barpolar": [
           {
            "marker": {
             "line": {
              "color": "#E5ECF6",
              "width": 0.5
             }
            },
            "type": "barpolar"
           }
          ],
          "carpet": [
           {
            "aaxis": {
             "endlinecolor": "#2a3f5f",
             "gridcolor": "white",
             "linecolor": "white",
             "minorgridcolor": "white",
             "startlinecolor": "#2a3f5f"
            },
            "baxis": {
             "endlinecolor": "#2a3f5f",
             "gridcolor": "white",
             "linecolor": "white",
             "minorgridcolor": "white",
             "startlinecolor": "#2a3f5f"
            },
            "type": "carpet"
           }
          ],
          "choropleth": [
           {
            "colorbar": {
             "outlinewidth": 0,
             "ticks": ""
            },
            "type": "choropleth"
           }
          ],
          "contour": [
           {
            "colorbar": {
             "outlinewidth": 0,
             "ticks": ""
            },
            "colorscale": [
             [
              0,
              "#0d0887"
             ],
             [
              0.1111111111111111,
              "#46039f"
             ],
             [
              0.2222222222222222,
              "#7201a8"
             ],
             [
              0.3333333333333333,
              "#9c179e"
             ],
             [
              0.4444444444444444,
              "#bd3786"
             ],
             [
              0.5555555555555556,
              "#d8576b"
             ],
             [
              0.6666666666666666,
              "#ed7953"
             ],
             [
              0.7777777777777778,
              "#fb9f3a"
             ],
             [
              0.8888888888888888,
              "#fdca26"
             ],
             [
              1,
              "#f0f921"
             ]
            ],
            "type": "contour"
           }
          ],
          "contourcarpet": [
           {
            "colorbar": {
             "outlinewidth": 0,
             "ticks": ""
            },
            "type": "contourcarpet"
           }
          ],
          "heatmap": [
           {
            "colorbar": {
             "outlinewidth": 0,
             "ticks": ""
            },
            "colorscale": [
             [
              0,
              "#0d0887"
             ],
             [
              0.1111111111111111,
              "#46039f"
             ],
             [
              0.2222222222222222,
              "#7201a8"
             ],
             [
              0.3333333333333333,
              "#9c179e"
             ],
             [
              0.4444444444444444,
              "#bd3786"
             ],
             [
              0.5555555555555556,
              "#d8576b"
             ],
             [
              0.6666666666666666,
              "#ed7953"
             ],
             [
              0.7777777777777778,
              "#fb9f3a"
             ],
             [
              0.8888888888888888,
              "#fdca26"
             ],
             [
              1,
              "#f0f921"
             ]
            ],
            "type": "heatmap"
           }
          ],
          "heatmapgl": [
           {
            "colorbar": {
             "outlinewidth": 0,
             "ticks": ""
            },
            "colorscale": [
             [
              0,
              "#0d0887"
             ],
             [
              0.1111111111111111,
              "#46039f"
             ],
             [
              0.2222222222222222,
              "#7201a8"
             ],
             [
              0.3333333333333333,
              "#9c179e"
             ],
             [
              0.4444444444444444,
              "#bd3786"
             ],
             [
              0.5555555555555556,
              "#d8576b"
             ],
             [
              0.6666666666666666,
              "#ed7953"
             ],
             [
              0.7777777777777778,
              "#fb9f3a"
             ],
             [
              0.8888888888888888,
              "#fdca26"
             ],
             [
              1,
              "#f0f921"
             ]
            ],
            "type": "heatmapgl"
           }
          ],
          "histogram": [
           {
            "marker": {
             "colorbar": {
              "outlinewidth": 0,
              "ticks": ""
             }
            },
            "type": "histogram"
           }
          ],
          "histogram2d": [
           {
            "colorbar": {
             "outlinewidth": 0,
             "ticks": ""
            },
            "colorscale": [
             [
              0,
              "#0d0887"
             ],
             [
              0.1111111111111111,
              "#46039f"
             ],
             [
              0.2222222222222222,
              "#7201a8"
             ],
             [
              0.3333333333333333,
              "#9c179e"
             ],
             [
              0.4444444444444444,
              "#bd3786"
             ],
             [
              0.5555555555555556,
              "#d8576b"
             ],
             [
              0.6666666666666666,
              "#ed7953"
             ],
             [
              0.7777777777777778,
              "#fb9f3a"
             ],
             [
              0.8888888888888888,
              "#fdca26"
             ],
             [
              1,
              "#f0f921"
             ]
            ],
            "type": "histogram2d"
           }
          ],
          "histogram2dcontour": [
           {
            "colorbar": {
             "outlinewidth": 0,
             "ticks": ""
            },
            "colorscale": [
             [
              0,
              "#0d0887"
             ],
             [
              0.1111111111111111,
              "#46039f"
             ],
             [
              0.2222222222222222,
              "#7201a8"
             ],
             [
              0.3333333333333333,
              "#9c179e"
             ],
             [
              0.4444444444444444,
              "#bd3786"
             ],
             [
              0.5555555555555556,
              "#d8576b"
             ],
             [
              0.6666666666666666,
              "#ed7953"
             ],
             [
              0.7777777777777778,
              "#fb9f3a"
             ],
             [
              0.8888888888888888,
              "#fdca26"
             ],
             [
              1,
              "#f0f921"
             ]
            ],
            "type": "histogram2dcontour"
           }
          ],
          "mesh3d": [
           {
            "colorbar": {
             "outlinewidth": 0,
             "ticks": ""
            },
            "type": "mesh3d"
           }
          ],
          "parcoords": [
           {
            "line": {
             "colorbar": {
              "outlinewidth": 0,
              "ticks": ""
             }
            },
            "type": "parcoords"
           }
          ],
          "pie": [
           {
            "automargin": true,
            "type": "pie"
           }
          ],
          "scatter": [
           {
            "marker": {
             "colorbar": {
              "outlinewidth": 0,
              "ticks": ""
             }
            },
            "type": "scatter"
           }
          ],
          "scatter3d": [
           {
            "line": {
             "colorbar": {
              "outlinewidth": 0,
              "ticks": ""
             }
            },
            "marker": {
             "colorbar": {
              "outlinewidth": 0,
              "ticks": ""
             }
            },
            "type": "scatter3d"
           }
          ],
          "scattercarpet": [
           {
            "marker": {
             "colorbar": {
              "outlinewidth": 0,
              "ticks": ""
             }
            },
            "type": "scattercarpet"
           }
          ],
          "scattergeo": [
           {
            "marker": {
             "colorbar": {
              "outlinewidth": 0,
              "ticks": ""
             }
            },
            "type": "scattergeo"
           }
          ],
          "scattergl": [
           {
            "marker": {
             "colorbar": {
              "outlinewidth": 0,
              "ticks": ""
             }
            },
            "type": "scattergl"
           }
          ],
          "scattermapbox": [
           {
            "marker": {
             "colorbar": {
              "outlinewidth": 0,
              "ticks": ""
             }
            },
            "type": "scattermapbox"
           }
          ],
          "scatterpolar": [
           {
            "marker": {
             "colorbar": {
              "outlinewidth": 0,
              "ticks": ""
             }
            },
            "type": "scatterpolar"
           }
          ],
          "scatterpolargl": [
           {
            "marker": {
             "colorbar": {
              "outlinewidth": 0,
              "ticks": ""
             }
            },
            "type": "scatterpolargl"
           }
          ],
          "scatterternary": [
           {
            "marker": {
             "colorbar": {
              "outlinewidth": 0,
              "ticks": ""
             }
            },
            "type": "scatterternary"
           }
          ],
          "surface": [
           {
            "colorbar": {
             "outlinewidth": 0,
             "ticks": ""
            },
            "colorscale": [
             [
              0,
              "#0d0887"
             ],
             [
              0.1111111111111111,
              "#46039f"
             ],
             [
              0.2222222222222222,
              "#7201a8"
             ],
             [
              0.3333333333333333,
              "#9c179e"
             ],
             [
              0.4444444444444444,
              "#bd3786"
             ],
             [
              0.5555555555555556,
              "#d8576b"
             ],
             [
              0.6666666666666666,
              "#ed7953"
             ],
             [
              0.7777777777777778,
              "#fb9f3a"
             ],
             [
              0.8888888888888888,
              "#fdca26"
             ],
             [
              1,
              "#f0f921"
             ]
            ],
            "type": "surface"
           }
          ],
          "table": [
           {
            "cells": {
             "fill": {
              "color": "#EBF0F8"
             },
             "line": {
              "color": "white"
             }
            },
            "header": {
             "fill": {
              "color": "#C8D4E3"
             },
             "line": {
              "color": "white"
             }
            },
            "type": "table"
           }
          ]
         },
         "layout": {
          "annotationdefaults": {
           "arrowcolor": "#2a3f5f",
           "arrowhead": 0,
           "arrowwidth": 1
          },
          "coloraxis": {
           "colorbar": {
            "outlinewidth": 0,
            "ticks": ""
           }
          },
          "colorscale": {
           "diverging": [
            [
             0,
             "#8e0152"
            ],
            [
             0.1,
             "#c51b7d"
            ],
            [
             0.2,
             "#de77ae"
            ],
            [
             0.3,
             "#f1b6da"
            ],
            [
             0.4,
             "#fde0ef"
            ],
            [
             0.5,
             "#f7f7f7"
            ],
            [
             0.6,
             "#e6f5d0"
            ],
            [
             0.7,
             "#b8e186"
            ],
            [
             0.8,
             "#7fbc41"
            ],
            [
             0.9,
             "#4d9221"
            ],
            [
             1,
             "#276419"
            ]
           ],
           "sequential": [
            [
             0,
             "#0d0887"
            ],
            [
             0.1111111111111111,
             "#46039f"
            ],
            [
             0.2222222222222222,
             "#7201a8"
            ],
            [
             0.3333333333333333,
             "#9c179e"
            ],
            [
             0.4444444444444444,
             "#bd3786"
            ],
            [
             0.5555555555555556,
             "#d8576b"
            ],
            [
             0.6666666666666666,
             "#ed7953"
            ],
            [
             0.7777777777777778,
             "#fb9f3a"
            ],
            [
             0.8888888888888888,
             "#fdca26"
            ],
            [
             1,
             "#f0f921"
            ]
           ],
           "sequentialminus": [
            [
             0,
             "#0d0887"
            ],
            [
             0.1111111111111111,
             "#46039f"
            ],
            [
             0.2222222222222222,
             "#7201a8"
            ],
            [
             0.3333333333333333,
             "#9c179e"
            ],
            [
             0.4444444444444444,
             "#bd3786"
            ],
            [
             0.5555555555555556,
             "#d8576b"
            ],
            [
             0.6666666666666666,
             "#ed7953"
            ],
            [
             0.7777777777777778,
             "#fb9f3a"
            ],
            [
             0.8888888888888888,
             "#fdca26"
            ],
            [
             1,
             "#f0f921"
            ]
           ]
          },
          "colorway": [
           "#636efa",
           "#EF553B",
           "#00cc96",
           "#ab63fa",
           "#FFA15A",
           "#19d3f3",
           "#FF6692",
           "#B6E880",
           "#FF97FF",
           "#FECB52"
          ],
          "font": {
           "color": "#2a3f5f"
          },
          "geo": {
           "bgcolor": "white",
           "lakecolor": "white",
           "landcolor": "#E5ECF6",
           "showlakes": true,
           "showland": true,
           "subunitcolor": "white"
          },
          "hoverlabel": {
           "align": "left"
          },
          "hovermode": "closest",
          "mapbox": {
           "style": "light"
          },
          "paper_bgcolor": "white",
          "plot_bgcolor": "#E5ECF6",
          "polar": {
           "angularaxis": {
            "gridcolor": "white",
            "linecolor": "white",
            "ticks": ""
           },
           "bgcolor": "#E5ECF6",
           "radialaxis": {
            "gridcolor": "white",
            "linecolor": "white",
            "ticks": ""
           }
          },
          "scene": {
           "xaxis": {
            "backgroundcolor": "#E5ECF6",
            "gridcolor": "white",
            "gridwidth": 2,
            "linecolor": "white",
            "showbackground": true,
            "ticks": "",
            "zerolinecolor": "white"
           },
           "yaxis": {
            "backgroundcolor": "#E5ECF6",
            "gridcolor": "white",
            "gridwidth": 2,
            "linecolor": "white",
            "showbackground": true,
            "ticks": "",
            "zerolinecolor": "white"
           },
           "zaxis": {
            "backgroundcolor": "#E5ECF6",
            "gridcolor": "white",
            "gridwidth": 2,
            "linecolor": "white",
            "showbackground": true,
            "ticks": "",
            "zerolinecolor": "white"
           }
          },
          "shapedefaults": {
           "line": {
            "color": "#2a3f5f"
           }
          },
          "ternary": {
           "aaxis": {
            "gridcolor": "white",
            "linecolor": "white",
            "ticks": ""
           },
           "baxis": {
            "gridcolor": "white",
            "linecolor": "white",
            "ticks": ""
           },
           "bgcolor": "#E5ECF6",
           "caxis": {
            "gridcolor": "white",
            "linecolor": "white",
            "ticks": ""
           }
          },
          "title": {
           "x": 0.05
          },
          "xaxis": {
           "automargin": true,
           "gridcolor": "white",
           "linecolor": "white",
           "ticks": "",
           "title": {
            "standoff": 15
           },
           "zerolinecolor": "white",
           "zerolinewidth": 2
          },
          "yaxis": {
           "automargin": true,
           "gridcolor": "white",
           "linecolor": "white",
           "ticks": "",
           "title": {
            "standoff": 15
           },
           "zerolinecolor": "white",
           "zerolinewidth": 2
          }
         }
        },
        "title": {
         "font": {
          "color": "#4D5663"
         }
        },
        "xaxis": {
         "gridcolor": "#E1E5ED",
         "showgrid": true,
         "tickfont": {
          "color": "#4D5663"
         },
         "title": {
          "font": {
           "color": "#4D5663"
          },
          "text": ""
         },
         "zerolinecolor": "#E1E5ED"
        },
        "yaxis": {
         "gridcolor": "#E1E5ED",
         "showgrid": true,
         "tickfont": {
          "color": "#4D5663"
         },
         "title": {
          "font": {
           "color": "#4D5663"
          },
          "text": ""
         },
         "zerolinecolor": "#E1E5ED"
        }
       }
      },
      "text/html": [
       "<div>                            <div id=\"fdf1522e-aaba-4746-9cd5-765864f747b0\" class=\"plotly-graph-div\" style=\"height:525px; width:100%;\"></div>            <script type=\"text/javascript\">                require([\"plotly\"], function(Plotly) {                    window.PLOTLYENV=window.PLOTLYENV || {};\n",
       "                    window.PLOTLYENV.BASE_URL='https://plot.ly';                                    if (document.getElementById(\"fdf1522e-aaba-4746-9cd5-765864f747b0\")) {                    Plotly.newPlot(                        \"fdf1522e-aaba-4746-9cd5-765864f747b0\",                        [{\"marker\": {\"color\": [\"rgb(255, 153, 51)\", \"rgb(55, 128, 191)\", \"rgb(50, 171, 96)\", \"rgb(128, 0, 128)\", \"rgb(219, 64, 82)\", \"rgb(0, 128, 128)\", \"rgb(255, 255, 51)\", \"rgb(128, 128, 0)\", \"rgb(251, 128, 114)\", \"rgb(128, 177, 211)\"], \"line\": {\"width\": 1.3}, \"size\": [70, 54, 99, 73, 44, 77, 39, 95, 53, 42, 79, 107, 56, 95, 68, 103, 68, 56, 54, 73, 32, 57, 63, 77, 95, 71, 66, 24, 68, 68, 72, 68, 90, 97, 77, 82, 50, 55, 58, 66, 85, 56, 36, 83, 104, 95, 59, 56, 63, 12, 53, 83, 31, 87, 58, 70, 81, 65, 88, 102, 86, 83, 76, 77, 80, 78, 62, 67, 53, 38, 108, 112, 101, 71, 21, 65, 79, 83, 58, 83, 107, 61, 81, 88, 75, 71, 103, 52, 72, 35, 82, 75, 77, 89, 40, 96, 72, 69, 75, 108], \"symbol\": \"circle\"}, \"mode\": \"markers\", \"text\": \"\", \"type\": \"scatter\", \"x\": [2.456864478612622, -2.2527239798611314, -2.2929421848992426, 0.356852081716104, -0.25027565803004814, -0.4352308180980923, -1.7870622081171643, -0.4231246753923552, 0.9739696613755218, 0.3992265559510478, -0.23910651236066105, 0.23931071399692622, 0.09131078371117889, 0.18231030225450318, -1.6770467131592837, 0.6723336270661157, 0.24807428163009063, -0.7626192979780793, -1.485650151616024, -2.068322142166952, -0.816661798988874, -0.4390293659026417, -0.17638692762077884, 1.3693036243446226, -0.8838873911315334, 1.4781184141206263, 1.0204354409755043, 0.6677895888357839, 1.307300361914305, 0.381526666995544, 0.6990207531066948, -0.19170954656039826, -1.6176627483135664, -1.4378015404747206, -0.3089839408391603, -0.7042330548807497, 0.1686533561355506, -0.2719197995344573, 0.5554967812631001, 0.9774118356605086, -0.5675670254061104, 1.8147360416350493, -0.2076775115236604, 1.396211557548168, -0.2196247534199206, 1.257667737581909, 0.09999079328644785, 0.40953832839299614, 0.5181168335779327, -0.6408375541457859, 0.9059451776285394, 0.6233470810053362, -0.4067115357546892, 0.01083130229600319, 0.5789254579976282, 0.04246809985210584, 1.2652109502899274, 0.05171788485414968, -0.678433959764289, -0.6715016710873373, 1.1674003643390756, 0.6963027212152043, -0.6872552716565266, 0.35043630517555296, 1.697039109276328, -0.16517053629799128, 0.23807020983462962, 1.036859207986987, -1.0626416110243735, -0.5436189635055533, -1.0935424145198833, 0.31040749316377236, -0.19753243030570042, -2.7090402836025933, -1.5646909709019092, 0.521645062440777, -0.5002630539043543, -0.2690104841331373, 1.3310061232297976, -1.5183182964218291, 0.48398557607624765, -1.6832106492361594, -0.40954112536213994, 0.4724488127081655, 2.1196763199373585, 0.19754555336208063, -0.9074605490975094, 0.15313865789208797, 1.351762250817329, -0.396385824284584, 1.1476851047106436, 0.5740494843237829, 1.0697578479613916, -0.046560497298113845, -0.2897030805682362, 0.1679496946692134, -1.3517488543120035, 0.4667484204157006, 0.2629850168256431, -0.6432433834067868], \"y\": [0.7585713004881539, 0.9369508008274443, 2.8786377067420803, -0.9753733963764035, -1.973314268207836, -1.1926729745541216, 1.7788975258488893, -2.739702907163809, 0.7818386057295666, 0.5557853197699847, 1.1308138994045913, -0.03394713504751146, -0.24674661567520484, 0.9048576983121975, -0.06399742714620238, -0.29553159925198297, 1.4480226716018347, -0.9287181429895608, -1.1584119641019608, 0.32889625773459297, 0.007753273055508445, -0.05820317171635984, -0.15155706936588884, 0.19472617657474028, -0.7964170541897511, -0.4322192069305809, -0.9445672117722083, 0.014770905297994949, -0.35176557796450886, 1.0195066876159382, 0.784707646326061, -0.3250669031761666, 0.9277017170808991, 0.7600764488098469, 1.758123577307258, 0.1842424508247556, 0.8128516170296418, 1.0898631416458546, 1.2891007860044672, -0.8697391961812799, -0.45653154226280335, -1.0361046760709498, 0.7559270918670371, -2.061501740649847, 1.4092710565201825, -0.256631908090931, -1.5750591677500945, 0.9245690218077082, -0.9061675814715107, 0.37584618766234756, -1.2415901387761887, 1.1957546846050047, 1.959991039843966, -0.8996322472799549, -1.0475054321530737, -0.6490377881974029, 0.3837783651423651, -0.037591221147904176, 0.3264691997676207, 0.8351240175627819, 1.3407659055312469, 0.7664492600505355, 0.34707865407662625, 0.4374355620108727, 0.4206434136296037, 0.11449523490312948, 0.050628931196152235, 1.7227632992759434, -0.02044643276147327, -0.4372433743237419, -1.6823925218882394, 0.059972603940122146, 1.586091742340369, -0.611607758287968, -0.4515418116623536, 0.6764102158345765, -1.5778251431922758, 0.531490498101667, 0.29467461455975935, -0.4096067239508892, -1.928942981094565, -0.10329196872552136, 0.7700000706766272, 0.4424794882193026, -0.3296786777745359, -1.4801841351888587, 0.39132986150267235, 1.187930182494079, -1.2766734843288627, -0.502946174955512, 0.3430738507677682, 0.39802770458241576, -1.6533098903298877, -0.5168646022711108, 0.38758251120651555, -0.291875675770869, -1.164864245517917, 1.3999539696360548, -1.9115176187985556, 0.4970235858917134]}],                        {\"legend\": {\"bgcolor\": \"#F5F6F9\", \"font\": {\"color\": \"#4D5663\"}}, \"paper_bgcolor\": \"#F5F6F9\", \"plot_bgcolor\": \"#F5F6F9\", \"template\": {\"data\": {\"bar\": [{\"error_x\": {\"color\": \"#2a3f5f\"}, \"error_y\": {\"color\": \"#2a3f5f\"}, \"marker\": {\"line\": {\"color\": \"#E5ECF6\", \"width\": 0.5}}, \"type\": \"bar\"}], \"barpolar\": [{\"marker\": {\"line\": {\"color\": \"#E5ECF6\", \"width\": 0.5}}, \"type\": \"barpolar\"}], \"carpet\": [{\"aaxis\": {\"endlinecolor\": \"#2a3f5f\", \"gridcolor\": \"white\", \"linecolor\": \"white\", \"minorgridcolor\": \"white\", \"startlinecolor\": \"#2a3f5f\"}, \"baxis\": {\"endlinecolor\": \"#2a3f5f\", \"gridcolor\": \"white\", \"linecolor\": \"white\", \"minorgridcolor\": \"white\", \"startlinecolor\": \"#2a3f5f\"}, \"type\": \"carpet\"}], \"choropleth\": [{\"colorbar\": {\"outlinewidth\": 0, \"ticks\": \"\"}, \"type\": \"choropleth\"}], \"contour\": [{\"colorbar\": {\"outlinewidth\": 0, \"ticks\": \"\"}, \"colorscale\": [[0.0, \"#0d0887\"], [0.1111111111111111, \"#46039f\"], [0.2222222222222222, \"#7201a8\"], [0.3333333333333333, \"#9c179e\"], [0.4444444444444444, \"#bd3786\"], [0.5555555555555556, \"#d8576b\"], [0.6666666666666666, \"#ed7953\"], [0.7777777777777778, \"#fb9f3a\"], [0.8888888888888888, \"#fdca26\"], [1.0, \"#f0f921\"]], \"type\": \"contour\"}], \"contourcarpet\": [{\"colorbar\": {\"outlinewidth\": 0, \"ticks\": \"\"}, \"type\": \"contourcarpet\"}], \"heatmap\": [{\"colorbar\": {\"outlinewidth\": 0, \"ticks\": \"\"}, \"colorscale\": [[0.0, \"#0d0887\"], [0.1111111111111111, \"#46039f\"], [0.2222222222222222, \"#7201a8\"], [0.3333333333333333, \"#9c179e\"], [0.4444444444444444, \"#bd3786\"], [0.5555555555555556, \"#d8576b\"], [0.6666666666666666, \"#ed7953\"], [0.7777777777777778, \"#fb9f3a\"], [0.8888888888888888, \"#fdca26\"], [1.0, \"#f0f921\"]], \"type\": \"heatmap\"}], \"heatmapgl\": [{\"colorbar\": {\"outlinewidth\": 0, \"ticks\": \"\"}, \"colorscale\": [[0.0, \"#0d0887\"], [0.1111111111111111, \"#46039f\"], [0.2222222222222222, \"#7201a8\"], [0.3333333333333333, \"#9c179e\"], [0.4444444444444444, \"#bd3786\"], [0.5555555555555556, \"#d8576b\"], [0.6666666666666666, \"#ed7953\"], [0.7777777777777778, \"#fb9f3a\"], [0.8888888888888888, \"#fdca26\"], [1.0, \"#f0f921\"]], \"type\": \"heatmapgl\"}], \"histogram\": [{\"marker\": {\"colorbar\": {\"outlinewidth\": 0, \"ticks\": \"\"}}, \"type\": \"histogram\"}], \"histogram2d\": [{\"colorbar\": {\"outlinewidth\": 0, \"ticks\": \"\"}, \"colorscale\": [[0.0, \"#0d0887\"], [0.1111111111111111, \"#46039f\"], [0.2222222222222222, \"#7201a8\"], [0.3333333333333333, \"#9c179e\"], [0.4444444444444444, \"#bd3786\"], [0.5555555555555556, \"#d8576b\"], [0.6666666666666666, \"#ed7953\"], [0.7777777777777778, \"#fb9f3a\"], [0.8888888888888888, \"#fdca26\"], [1.0, \"#f0f921\"]], \"type\": \"histogram2d\"}], \"histogram2dcontour\": [{\"colorbar\": {\"outlinewidth\": 0, \"ticks\": \"\"}, \"colorscale\": [[0.0, \"#0d0887\"], [0.1111111111111111, \"#46039f\"], [0.2222222222222222, \"#7201a8\"], [0.3333333333333333, \"#9c179e\"], [0.4444444444444444, \"#bd3786\"], [0.5555555555555556, \"#d8576b\"], [0.6666666666666666, \"#ed7953\"], [0.7777777777777778, \"#fb9f3a\"], [0.8888888888888888, \"#fdca26\"], [1.0, \"#f0f921\"]], \"type\": \"histogram2dcontour\"}], \"mesh3d\": [{\"colorbar\": {\"outlinewidth\": 0, \"ticks\": \"\"}, \"type\": \"mesh3d\"}], \"parcoords\": [{\"line\": {\"colorbar\": {\"outlinewidth\": 0, \"ticks\": \"\"}}, \"type\": \"parcoords\"}], \"pie\": [{\"automargin\": true, \"type\": \"pie\"}], \"scatter\": [{\"marker\": {\"colorbar\": {\"outlinewidth\": 0, \"ticks\": \"\"}}, \"type\": \"scatter\"}], \"scatter3d\": [{\"line\": {\"colorbar\": {\"outlinewidth\": 0, \"ticks\": \"\"}}, \"marker\": {\"colorbar\": {\"outlinewidth\": 0, \"ticks\": \"\"}}, \"type\": \"scatter3d\"}], \"scattercarpet\": [{\"marker\": {\"colorbar\": {\"outlinewidth\": 0, \"ticks\": \"\"}}, \"type\": \"scattercarpet\"}], \"scattergeo\": [{\"marker\": {\"colorbar\": {\"outlinewidth\": 0, \"ticks\": \"\"}}, \"type\": \"scattergeo\"}], \"scattergl\": [{\"marker\": {\"colorbar\": {\"outlinewidth\": 0, \"ticks\": \"\"}}, \"type\": \"scattergl\"}], \"scattermapbox\": [{\"marker\": {\"colorbar\": {\"outlinewidth\": 0, \"ticks\": \"\"}}, \"type\": \"scattermapbox\"}], \"scatterpolar\": [{\"marker\": {\"colorbar\": {\"outlinewidth\": 0, \"ticks\": \"\"}}, \"type\": \"scatterpolar\"}], \"scatterpolargl\": [{\"marker\": {\"colorbar\": {\"outlinewidth\": 0, \"ticks\": \"\"}}, \"type\": \"scatterpolargl\"}], \"scatterternary\": [{\"marker\": {\"colorbar\": {\"outlinewidth\": 0, \"ticks\": \"\"}}, \"type\": \"scatterternary\"}], \"surface\": [{\"colorbar\": {\"outlinewidth\": 0, \"ticks\": \"\"}, \"colorscale\": [[0.0, \"#0d0887\"], [0.1111111111111111, \"#46039f\"], [0.2222222222222222, \"#7201a8\"], [0.3333333333333333, \"#9c179e\"], [0.4444444444444444, \"#bd3786\"], [0.5555555555555556, \"#d8576b\"], [0.6666666666666666, \"#ed7953\"], [0.7777777777777778, \"#fb9f3a\"], [0.8888888888888888, \"#fdca26\"], [1.0, \"#f0f921\"]], \"type\": \"surface\"}], \"table\": [{\"cells\": {\"fill\": {\"color\": \"#EBF0F8\"}, \"line\": {\"color\": \"white\"}}, \"header\": {\"fill\": {\"color\": \"#C8D4E3\"}, \"line\": {\"color\": \"white\"}}, \"type\": \"table\"}]}, \"layout\": {\"annotationdefaults\": {\"arrowcolor\": \"#2a3f5f\", \"arrowhead\": 0, \"arrowwidth\": 1}, \"coloraxis\": {\"colorbar\": {\"outlinewidth\": 0, \"ticks\": \"\"}}, \"colorscale\": {\"diverging\": [[0, \"#8e0152\"], [0.1, \"#c51b7d\"], [0.2, \"#de77ae\"], [0.3, \"#f1b6da\"], [0.4, \"#fde0ef\"], [0.5, \"#f7f7f7\"], [0.6, \"#e6f5d0\"], [0.7, \"#b8e186\"], [0.8, \"#7fbc41\"], [0.9, \"#4d9221\"], [1, \"#276419\"]], \"sequential\": [[0.0, \"#0d0887\"], [0.1111111111111111, \"#46039f\"], [0.2222222222222222, \"#7201a8\"], [0.3333333333333333, \"#9c179e\"], [0.4444444444444444, \"#bd3786\"], [0.5555555555555556, \"#d8576b\"], [0.6666666666666666, \"#ed7953\"], [0.7777777777777778, \"#fb9f3a\"], [0.8888888888888888, \"#fdca26\"], [1.0, \"#f0f921\"]], \"sequentialminus\": [[0.0, \"#0d0887\"], [0.1111111111111111, \"#46039f\"], [0.2222222222222222, \"#7201a8\"], [0.3333333333333333, \"#9c179e\"], [0.4444444444444444, \"#bd3786\"], [0.5555555555555556, \"#d8576b\"], [0.6666666666666666, \"#ed7953\"], [0.7777777777777778, \"#fb9f3a\"], [0.8888888888888888, \"#fdca26\"], [1.0, \"#f0f921\"]]}, \"colorway\": [\"#636efa\", \"#EF553B\", \"#00cc96\", \"#ab63fa\", \"#FFA15A\", \"#19d3f3\", \"#FF6692\", \"#B6E880\", \"#FF97FF\", \"#FECB52\"], \"font\": {\"color\": \"#2a3f5f\"}, \"geo\": {\"bgcolor\": \"white\", \"lakecolor\": \"white\", \"landcolor\": \"#E5ECF6\", \"showlakes\": true, \"showland\": true, \"subunitcolor\": \"white\"}, \"hoverlabel\": {\"align\": \"left\"}, \"hovermode\": \"closest\", \"mapbox\": {\"style\": \"light\"}, \"paper_bgcolor\": \"white\", \"plot_bgcolor\": \"#E5ECF6\", \"polar\": {\"angularaxis\": {\"gridcolor\": \"white\", \"linecolor\": \"white\", \"ticks\": \"\"}, \"bgcolor\": \"#E5ECF6\", \"radialaxis\": {\"gridcolor\": \"white\", \"linecolor\": \"white\", \"ticks\": \"\"}}, \"scene\": {\"xaxis\": {\"backgroundcolor\": \"#E5ECF6\", \"gridcolor\": \"white\", \"gridwidth\": 2, \"linecolor\": \"white\", \"showbackground\": true, \"ticks\": \"\", \"zerolinecolor\": \"white\"}, \"yaxis\": {\"backgroundcolor\": \"#E5ECF6\", \"gridcolor\": \"white\", \"gridwidth\": 2, \"linecolor\": \"white\", \"showbackground\": true, \"ticks\": \"\", \"zerolinecolor\": \"white\"}, \"zaxis\": {\"backgroundcolor\": \"#E5ECF6\", \"gridcolor\": \"white\", \"gridwidth\": 2, \"linecolor\": \"white\", \"showbackground\": true, \"ticks\": \"\", \"zerolinecolor\": \"white\"}}, \"shapedefaults\": {\"line\": {\"color\": \"#2a3f5f\"}}, \"ternary\": {\"aaxis\": {\"gridcolor\": \"white\", \"linecolor\": \"white\", \"ticks\": \"\"}, \"baxis\": {\"gridcolor\": \"white\", \"linecolor\": \"white\", \"ticks\": \"\"}, \"bgcolor\": \"#E5ECF6\", \"caxis\": {\"gridcolor\": \"white\", \"linecolor\": \"white\", \"ticks\": \"\"}}, \"title\": {\"x\": 0.05}, \"xaxis\": {\"automargin\": true, \"gridcolor\": \"white\", \"linecolor\": \"white\", \"ticks\": \"\", \"title\": {\"standoff\": 15}, \"zerolinecolor\": \"white\", \"zerolinewidth\": 2}, \"yaxis\": {\"automargin\": true, \"gridcolor\": \"white\", \"linecolor\": \"white\", \"ticks\": \"\", \"title\": {\"standoff\": 15}, \"zerolinecolor\": \"white\", \"zerolinewidth\": 2}}}, \"title\": {\"font\": {\"color\": \"#4D5663\"}}, \"xaxis\": {\"gridcolor\": \"#E1E5ED\", \"showgrid\": true, \"tickfont\": {\"color\": \"#4D5663\"}, \"title\": {\"font\": {\"color\": \"#4D5663\"}, \"text\": \"\"}, \"zerolinecolor\": \"#E1E5ED\"}, \"yaxis\": {\"gridcolor\": \"#E1E5ED\", \"showgrid\": true, \"tickfont\": {\"color\": \"#4D5663\"}, \"title\": {\"font\": {\"color\": \"#4D5663\"}, \"text\": \"\"}, \"zerolinecolor\": \"#E1E5ED\"}},                        {\"showLink\": true, \"linkText\": \"Export to plot.ly\", \"plotlyServerURL\": \"https://plot.ly\", \"responsive\": true}                    ).then(function(){\n",
       "                            \n",
       "var gd = document.getElementById('fdf1522e-aaba-4746-9cd5-765864f747b0');\n",
       "var x = new MutationObserver(function (mutations, observer) {{\n",
       "        var display = window.getComputedStyle(gd).display;\n",
       "        if (!display || display === 'none') {{\n",
       "            console.log([gd, 'removed!']);\n",
       "            Plotly.purge(gd);\n",
       "            observer.disconnect();\n",
       "        }}\n",
       "}});\n",
       "\n",
       "// Listen for the removal of the full notebook cells\n",
       "var notebookContainer = gd.closest('#notebook-container');\n",
       "if (notebookContainer) {{\n",
       "    x.observe(notebookContainer, {childList: true});\n",
       "}}\n",
       "\n",
       "// Listen for the clearing of the current output cell\n",
       "var outputEl = gd.closest('.output');\n",
       "if (outputEl) {{\n",
       "    x.observe(outputEl, {childList: true});\n",
       "}}\n",
       "\n",
       "                        })                };                });            </script>        </div>"
      ]
     },
     "metadata": {},
     "output_type": "display_data"
    }
   ],
   "source": [
    "df.iplot(kind = 'bubble',x = 'A',y = 'B' ,size='C')"
   ]
  },
  {
   "cell_type": "code",
   "execution_count": null,
   "metadata": {},
   "outputs": [],
   "source": []
  }
 ],
 "metadata": {
  "kernelspec": {
   "display_name": "Python 3",
   "language": "python",
   "name": "python3"
  },
  "language_info": {
   "codemirror_mode": {
    "name": "ipython",
    "version": 3
   },
   "file_extension": ".py",
   "mimetype": "text/x-python",
   "name": "python",
   "nbconvert_exporter": "python",
   "pygments_lexer": "ipython3",
   "version": "3.7.4"
  }
 },
 "nbformat": 4,
 "nbformat_minor": 2
}
